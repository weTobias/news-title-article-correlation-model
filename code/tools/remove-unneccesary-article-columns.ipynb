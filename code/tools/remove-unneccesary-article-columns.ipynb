{
 "cells": [
  {
   "cell_type": "code",
   "execution_count": 5,
   "id": "7773c8ee-eee9-424f-9ae8-7f7caaf783ce",
   "metadata": {},
   "outputs": [],
   "source": [
    "import pandas as pd"
   ]
  },
  {
   "cell_type": "code",
   "execution_count": 6,
   "id": "13d8d23c-9dca-42fc-b4b1-ede8c901c45b",
   "metadata": {},
   "outputs": [],
   "source": [
    "df = pd.read_csv('../../data/2013-2020_US/all-the-news-2-1.csv', header=0, dtype={'Unnamed: 0': 'str', 'Unnamed: 0.1': 'str', 'date': 'str', 'year': 'str', 'month': 'str', 'day': 'str', 'author': 'str', 'title': 'str', 'article': 'str', 'url': 'str', 'section': 'str', 'publication': 'str'})"
   ]
  },
  {
   "cell_type": "code",
   "execution_count": 10,
   "id": "29637f6b-d3e9-4ed0-af30-8ec1d8248e7b",
   "metadata": {},
   "outputs": [],
   "source": [
    "df = df[['title', 'article']]"
   ]
  },
  {
   "cell_type": "code",
   "execution_count": 23,
   "id": "1081133a-6ab7-4b08-bbb3-395ff97ec7e3",
   "metadata": {},
   "outputs": [
    {
     "data": {
      "text/html": [
       "<div>\n",
       "<style scoped>\n",
       "    .dataframe tbody tr th:only-of-type {\n",
       "        vertical-align: middle;\n",
       "    }\n",
       "\n",
       "    .dataframe tbody tr th {\n",
       "        vertical-align: top;\n",
       "    }\n",
       "\n",
       "    .dataframe thead th {\n",
       "        text-align: right;\n",
       "    }\n",
       "</style>\n",
       "<table border=\"1\" class=\"dataframe\">\n",
       "  <thead>\n",
       "    <tr style=\"text-align: right;\">\n",
       "      <th></th>\n",
       "      <th>title</th>\n",
       "      <th>article</th>\n",
       "    </tr>\n",
       "  </thead>\n",
       "  <tbody>\n",
       "    <tr>\n",
       "      <th>0</th>\n",
       "      <td>We should take concerns about the health of li...</td>\n",
       "      <td>This post is part of Polyarchy, an independent...</td>\n",
       "    </tr>\n",
       "    <tr>\n",
       "      <th>1</th>\n",
       "      <td>Colts GM Ryan Grigson says Andrew Luck's contr...</td>\n",
       "      <td>The Indianapolis Colts made Andrew Luck the h...</td>\n",
       "    </tr>\n",
       "    <tr>\n",
       "      <th>2</th>\n",
       "      <td>Trump denies report he ordered Mueller fired</td>\n",
       "      <td>DAVOS, Switzerland (Reuters) - U.S. President ...</td>\n",
       "    </tr>\n",
       "    <tr>\n",
       "      <th>3</th>\n",
       "      <td>France's Sarkozy reveals his 'Passions' but in...</td>\n",
       "      <td>PARIS (Reuters) - Former French president Nico...</td>\n",
       "    </tr>\n",
       "    <tr>\n",
       "      <th>4</th>\n",
       "      <td>Paris Hilton: Woman In Black For Uncle Monty's...</td>\n",
       "      <td>Paris Hilton arrived at LAX Wednesday dressed ...</td>\n",
       "    </tr>\n",
       "    <tr>\n",
       "      <th>...</th>\n",
       "      <td>...</td>\n",
       "      <td>...</td>\n",
       "    </tr>\n",
       "    <tr>\n",
       "      <th>2688874</th>\n",
       "      <td>Florida Ammo Selling Out On Heels of Stay-At-H...</td>\n",
       "      <td>Florida residents are gunning for all the ammo...</td>\n",
       "    </tr>\n",
       "    <tr>\n",
       "      <th>2688875</th>\n",
       "      <td>Disney Forcing Annual Pass Holders to Continue...</td>\n",
       "      <td>Disney isn't letting its most loyal customers ...</td>\n",
       "    </tr>\n",
       "    <tr>\n",
       "      <th>2688876</th>\n",
       "      <td>Nick Cannon Pimps Out His Impala with Custom N...</td>\n",
       "      <td>Nick Cannon still has Nipsey Hussle in his tho...</td>\n",
       "    </tr>\n",
       "    <tr>\n",
       "      <th>2688877</th>\n",
       "      <td>Pete Buttigieg Says Governors Showing More Lea...</td>\n",
       "      <td>Pete Buttigieg says it's inspiring to see the ...</td>\n",
       "    </tr>\n",
       "    <tr>\n",
       "      <th>2688878</th>\n",
       "      <td>Ruth Bader Ginsburg Still Working Out with Tra...</td>\n",
       "      <td>Here's some good news we can all use ... Ruth ...</td>\n",
       "    </tr>\n",
       "  </tbody>\n",
       "</table>\n",
       "<p>2688879 rows × 2 columns</p>\n",
       "</div>"
      ],
      "text/plain": [
       "                                                     title  \\\n",
       "0        We should take concerns about the health of li...   \n",
       "1        Colts GM Ryan Grigson says Andrew Luck's contr...   \n",
       "2             Trump denies report he ordered Mueller fired   \n",
       "3        France's Sarkozy reveals his 'Passions' but in...   \n",
       "4        Paris Hilton: Woman In Black For Uncle Monty's...   \n",
       "...                                                    ...   \n",
       "2688874  Florida Ammo Selling Out On Heels of Stay-At-H...   \n",
       "2688875  Disney Forcing Annual Pass Holders to Continue...   \n",
       "2688876  Nick Cannon Pimps Out His Impala with Custom N...   \n",
       "2688877  Pete Buttigieg Says Governors Showing More Lea...   \n",
       "2688878  Ruth Bader Ginsburg Still Working Out with Tra...   \n",
       "\n",
       "                                                   article  \n",
       "0        This post is part of Polyarchy, an independent...  \n",
       "1         The Indianapolis Colts made Andrew Luck the h...  \n",
       "2        DAVOS, Switzerland (Reuters) - U.S. President ...  \n",
       "3        PARIS (Reuters) - Former French president Nico...  \n",
       "4        Paris Hilton arrived at LAX Wednesday dressed ...  \n",
       "...                                                    ...  \n",
       "2688874  Florida residents are gunning for all the ammo...  \n",
       "2688875  Disney isn't letting its most loyal customers ...  \n",
       "2688876  Nick Cannon still has Nipsey Hussle in his tho...  \n",
       "2688877  Pete Buttigieg says it's inspiring to see the ...  \n",
       "2688878  Here's some good news we can all use ... Ruth ...  \n",
       "\n",
       "[2688879 rows x 2 columns]"
      ]
     },
     "execution_count": 23,
     "metadata": {},
     "output_type": "execute_result"
    }
   ],
   "source": [
    "df = df.dropna()"
   ]
  },
  {
   "cell_type": "code",
   "execution_count": 24,
   "id": "fc20b92d-54a1-42ef-8753-bdd1f22a62bf",
   "metadata": {},
   "outputs": [],
   "source": [
    "df.to_csv('../../data/2013-2020_US/all-the-news-2-1-cleaned.csv')"
   ]
  },
  {
   "cell_type": "code",
   "execution_count": null,
   "id": "3a29a896-acfa-4dbe-968b-1d3c44a7a79f",
   "metadata": {},
   "outputs": [],
   "source": []
  }
 ],
 "metadata": {
  "kernelspec": {
   "display_name": "Python 3 (ipykernel)",
   "language": "python",
   "name": "python3"
  },
  "language_info": {
   "codemirror_mode": {
    "name": "ipython",
    "version": 3
   },
   "file_extension": ".py",
   "mimetype": "text/x-python",
   "name": "python",
   "nbconvert_exporter": "python",
   "pygments_lexer": "ipython3",
   "version": "3.9.7"
  }
 },
 "nbformat": 4,
 "nbformat_minor": 5
}
