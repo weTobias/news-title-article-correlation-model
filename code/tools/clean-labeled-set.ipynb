{
 "cells": [
  {
   "cell_type": "code",
   "execution_count": 2,
   "id": "628257b2-db0c-41d1-887d-563bb65e1cf4",
   "metadata": {},
   "outputs": [],
   "source": [
    "import pandas as pd"
   ]
  },
  {
   "cell_type": "code",
   "execution_count": 13,
   "id": "1942d1dd-f633-4201-b148-bb974b888e26",
   "metadata": {},
   "outputs": [],
   "source": [
    "df = pd.read_csv('../../data/2013-2020_US/labeled.csv', header=0)"
   ]
  },
  {
   "cell_type": "code",
   "execution_count": 14,
   "id": "89311e82-3941-404f-b614-e2677bf9d6e5",
   "metadata": {},
   "outputs": [],
   "source": [
    "df = df[['Input.index', 'Input.title', 'Input.article', 'Answer.semantic-similarity.label']]"
   ]
  },
  {
   "cell_type": "code",
   "execution_count": 15,
   "id": "d0987d93-3cff-4324-baa8-2043c7ef1fbe",
   "metadata": {},
   "outputs": [],
   "source": [
    "df = df.rename(columns={'Input.index': 'index', 'Input.title': 'title', 'Input.article': 'article', 'Answer.semantic-similarity.label': 'label'})"
   ]
  },
  {
   "cell_type": "code",
   "execution_count": 16,
   "id": "279c49ba-d743-4bcd-835a-ac07feb144be",
   "metadata": {},
   "outputs": [],
   "source": [
    "df = df.dropna()"
   ]
  },
  {
   "cell_type": "code",
   "execution_count": 17,
   "id": "3a10894b-7c40-4beb-be6c-d58686192dc7",
   "metadata": {},
   "outputs": [],
   "source": [
    "df['label'] = df['label'].str.slice(0,1)"
   ]
  },
  {
   "cell_type": "code",
   "execution_count": 18,
   "id": "8ce20b15-80ea-4994-ac21-7b58c7e7124f",
   "metadata": {},
   "outputs": [],
   "source": [
    "df['label'] = df['label'].astype(float)"
   ]
  },
  {
   "cell_type": "code",
   "execution_count": 20,
   "id": "5512a13c-a0f2-46c6-8275-f97c381cdfad",
   "metadata": {},
   "outputs": [],
   "source": [
    "df = df.sort_values(by=['index'])"
   ]
  },
  {
   "cell_type": "code",
   "execution_count": 21,
   "id": "4d954b97-d13a-47fa-a4cf-a7e3c6a576cf",
   "metadata": {},
   "outputs": [
    {
     "data": {
      "text/html": [
       "<div>\n",
       "<style scoped>\n",
       "    .dataframe tbody tr th:only-of-type {\n",
       "        vertical-align: middle;\n",
       "    }\n",
       "\n",
       "    .dataframe tbody tr th {\n",
       "        vertical-align: top;\n",
       "    }\n",
       "\n",
       "    .dataframe thead th {\n",
       "        text-align: right;\n",
       "    }\n",
       "</style>\n",
       "<table border=\"1\" class=\"dataframe\">\n",
       "  <thead>\n",
       "    <tr style=\"text-align: right;\">\n",
       "      <th></th>\n",
       "      <th>index</th>\n",
       "      <th>title</th>\n",
       "      <th>article</th>\n",
       "      <th>label</th>\n",
       "    </tr>\n",
       "  </thead>\n",
       "  <tbody>\n",
       "    <tr>\n",
       "      <th>1986</th>\n",
       "      <td>1305</td>\n",
       "      <td>Nikki Bella Now Believes John Cena Wants Kids,...</td>\n",
       "      <td>John Cena's very public campaign to win back N...</td>\n",
       "      <td>4.0</td>\n",
       "    </tr>\n",
       "    <tr>\n",
       "      <th>1987</th>\n",
       "      <td>1305</td>\n",
       "      <td>Nikki Bella Now Believes John Cena Wants Kids,...</td>\n",
       "      <td>John Cena's very public campaign to win back N...</td>\n",
       "      <td>5.0</td>\n",
       "    </tr>\n",
       "    <tr>\n",
       "      <th>1969</th>\n",
       "      <td>6528</td>\n",
       "      <td>Rouhani says Iran will keep producing missiles...</td>\n",
       "      <td>DUBAI (Reuters) - Iran will continue to produc...</td>\n",
       "      <td>2.0</td>\n",
       "    </tr>\n",
       "    <tr>\n",
       "      <th>1968</th>\n",
       "      <td>6528</td>\n",
       "      <td>Rouhani says Iran will keep producing missiles...</td>\n",
       "      <td>DUBAI (Reuters) - Iran will continue to produc...</td>\n",
       "      <td>4.0</td>\n",
       "    </tr>\n",
       "    <tr>\n",
       "      <th>1982</th>\n",
       "      <td>13823</td>\n",
       "      <td>Jerry Jones: Ezekiel Elliott Won't Be Suspended</td>\n",
       "      <td>Jerry Jones tells TMZ Sports he does not belie...</td>\n",
       "      <td>4.0</td>\n",
       "    </tr>\n",
       "    <tr>\n",
       "      <th>...</th>\n",
       "      <td>...</td>\n",
       "      <td>...</td>\n",
       "      <td>...</td>\n",
       "      <td>...</td>\n",
       "    </tr>\n",
       "    <tr>\n",
       "      <th>712</th>\n",
       "      <td>2683873</td>\n",
       "      <td>$4.3 Million Homes in California</td>\n",
       "      <td>What you Get A French Caribbean-inspired home ...</td>\n",
       "      <td>4.0</td>\n",
       "    </tr>\n",
       "    <tr>\n",
       "      <th>295</th>\n",
       "      <td>2684134</td>\n",
       "      <td>Ventilators and Coronavirus: Amid Desperation,...</td>\n",
       "      <td>President Trump wants the private sector to fi...</td>\n",
       "      <td>3.0</td>\n",
       "    </tr>\n",
       "    <tr>\n",
       "      <th>294</th>\n",
       "      <td>2684134</td>\n",
       "      <td>Ventilators and Coronavirus: Amid Desperation,...</td>\n",
       "      <td>President Trump wants the private sector to fi...</td>\n",
       "      <td>2.0</td>\n",
       "    </tr>\n",
       "    <tr>\n",
       "      <th>1101</th>\n",
       "      <td>2688615</td>\n",
       "      <td>How to choose a free videoconference app</td>\n",
       "      <td>Most people are currently relying on videoconf...</td>\n",
       "      <td>5.0</td>\n",
       "    </tr>\n",
       "    <tr>\n",
       "      <th>1100</th>\n",
       "      <td>2688615</td>\n",
       "      <td>How to choose a free videoconference app</td>\n",
       "      <td>Most people are currently relying on videoconf...</td>\n",
       "      <td>4.0</td>\n",
       "    </tr>\n",
       "  </tbody>\n",
       "</table>\n",
       "<p>1936 rows × 4 columns</p>\n",
       "</div>"
      ],
      "text/plain": [
       "        index                                              title  \\\n",
       "1986     1305  Nikki Bella Now Believes John Cena Wants Kids,...   \n",
       "1987     1305  Nikki Bella Now Believes John Cena Wants Kids,...   \n",
       "1969     6528  Rouhani says Iran will keep producing missiles...   \n",
       "1968     6528  Rouhani says Iran will keep producing missiles...   \n",
       "1982    13823    Jerry Jones: Ezekiel Elliott Won't Be Suspended   \n",
       "...       ...                                                ...   \n",
       "712   2683873                   $4.3 Million Homes in California   \n",
       "295   2684134  Ventilators and Coronavirus: Amid Desperation,...   \n",
       "294   2684134  Ventilators and Coronavirus: Amid Desperation,...   \n",
       "1101  2688615           How to choose a free videoconference app   \n",
       "1100  2688615           How to choose a free videoconference app   \n",
       "\n",
       "                                                article  label  \n",
       "1986  John Cena's very public campaign to win back N...    4.0  \n",
       "1987  John Cena's very public campaign to win back N...    5.0  \n",
       "1969  DUBAI (Reuters) - Iran will continue to produc...    2.0  \n",
       "1968  DUBAI (Reuters) - Iran will continue to produc...    4.0  \n",
       "1982  Jerry Jones tells TMZ Sports he does not belie...    4.0  \n",
       "...                                                 ...    ...  \n",
       "712   What you Get A French Caribbean-inspired home ...    4.0  \n",
       "295   President Trump wants the private sector to fi...    3.0  \n",
       "294   President Trump wants the private sector to fi...    2.0  \n",
       "1101  Most people are currently relying on videoconf...    5.0  \n",
       "1100  Most people are currently relying on videoconf...    4.0  \n",
       "\n",
       "[1936 rows x 4 columns]"
      ]
     },
     "execution_count": 21,
     "metadata": {},
     "output_type": "execute_result"
    }
   ],
   "source": [
    "df"
   ]
  },
  {
   "cell_type": "code",
   "execution_count": 22,
   "id": "0afae0c6-a94b-4383-b866-c9516a980a74",
   "metadata": {},
   "outputs": [],
   "source": [
    "df = df.groupby(df['index']).aggregate({'title': 'first', 'article': 'first', 'label': 'var'})"
   ]
  },
  {
   "cell_type": "code",
   "execution_count": 23,
   "id": "37c10d1f-bcc3-41db-98a2-2592bc5f3d48",
   "metadata": {},
   "outputs": [],
   "source": [
    "#df.to_csv('../../data/2013-2020_US/labeled-cleaned.csv')"
   ]
  },
  {
   "cell_type": "code",
   "execution_count": 24,
   "id": "85ec2438-f061-4e4f-b0f1-da7c5be659a6",
   "metadata": {},
   "outputs": [
    {
     "data": {
      "text/html": [
       "<div>\n",
       "<style scoped>\n",
       "    .dataframe tbody tr th:only-of-type {\n",
       "        vertical-align: middle;\n",
       "    }\n",
       "\n",
       "    .dataframe tbody tr th {\n",
       "        vertical-align: top;\n",
       "    }\n",
       "\n",
       "    .dataframe thead th {\n",
       "        text-align: right;\n",
       "    }\n",
       "</style>\n",
       "<table border=\"1\" class=\"dataframe\">\n",
       "  <thead>\n",
       "    <tr style=\"text-align: right;\">\n",
       "      <th></th>\n",
       "      <th>title</th>\n",
       "      <th>article</th>\n",
       "      <th>label</th>\n",
       "    </tr>\n",
       "    <tr>\n",
       "      <th>index</th>\n",
       "      <th></th>\n",
       "      <th></th>\n",
       "      <th></th>\n",
       "    </tr>\n",
       "  </thead>\n",
       "  <tbody>\n",
       "    <tr>\n",
       "      <th>1305</th>\n",
       "      <td>Nikki Bella Now Believes John Cena Wants Kids,...</td>\n",
       "      <td>John Cena's very public campaign to win back N...</td>\n",
       "      <td>0.5</td>\n",
       "    </tr>\n",
       "    <tr>\n",
       "      <th>6528</th>\n",
       "      <td>Rouhani says Iran will keep producing missiles...</td>\n",
       "      <td>DUBAI (Reuters) - Iran will continue to produc...</td>\n",
       "      <td>2.0</td>\n",
       "    </tr>\n",
       "    <tr>\n",
       "      <th>13823</th>\n",
       "      <td>Jerry Jones: Ezekiel Elliott Won't Be Suspended</td>\n",
       "      <td>Jerry Jones tells TMZ Sports he does not belie...</td>\n",
       "      <td>0.5</td>\n",
       "    </tr>\n",
       "    <tr>\n",
       "      <th>29908</th>\n",
       "      <td>Sen. Marco Rubio just threatened to “take care...</td>\n",
       "      <td>The decorum of the United States Senate was on...</td>\n",
       "      <td>0.5</td>\n",
       "    </tr>\n",
       "    <tr>\n",
       "      <th>31325</th>\n",
       "      <td>Darius McCrary Says Estranged Wife's Out for F...</td>\n",
       "      <td>Former \"Family Matters\" star Darius McCrary to...</td>\n",
       "      <td>2.0</td>\n",
       "    </tr>\n",
       "    <tr>\n",
       "      <th>...</th>\n",
       "      <td>...</td>\n",
       "      <td>...</td>\n",
       "      <td>...</td>\n",
       "    </tr>\n",
       "    <tr>\n",
       "      <th>2678751</th>\n",
       "      <td>Stimulus bill: When will you see money and ben...</td>\n",
       "      <td>(CNN)Congress and President Donald Trump have...</td>\n",
       "      <td>0.5</td>\n",
       "    </tr>\n",
       "    <tr>\n",
       "      <th>2679327</th>\n",
       "      <td>California coronavirus: Doctors 'cautiously ho...</td>\n",
       "      <td>(CNN)Two weeks after San Francisco issued the...</td>\n",
       "      <td>0.0</td>\n",
       "    </tr>\n",
       "    <tr>\n",
       "      <th>2683873</th>\n",
       "      <td>$4.3 Million Homes in California</td>\n",
       "      <td>What you Get A French Caribbean-inspired home ...</td>\n",
       "      <td>0.0</td>\n",
       "    </tr>\n",
       "    <tr>\n",
       "      <th>2684134</th>\n",
       "      <td>Ventilators and Coronavirus: Amid Desperation,...</td>\n",
       "      <td>President Trump wants the private sector to fi...</td>\n",
       "      <td>0.5</td>\n",
       "    </tr>\n",
       "    <tr>\n",
       "      <th>2688615</th>\n",
       "      <td>How to choose a free videoconference app</td>\n",
       "      <td>Most people are currently relying on videoconf...</td>\n",
       "      <td>0.5</td>\n",
       "    </tr>\n",
       "  </tbody>\n",
       "</table>\n",
       "<p>968 rows × 3 columns</p>\n",
       "</div>"
      ],
      "text/plain": [
       "                                                     title  \\\n",
       "index                                                        \n",
       "1305     Nikki Bella Now Believes John Cena Wants Kids,...   \n",
       "6528     Rouhani says Iran will keep producing missiles...   \n",
       "13823      Jerry Jones: Ezekiel Elliott Won't Be Suspended   \n",
       "29908    Sen. Marco Rubio just threatened to “take care...   \n",
       "31325    Darius McCrary Says Estranged Wife's Out for F...   \n",
       "...                                                    ...   \n",
       "2678751  Stimulus bill: When will you see money and ben...   \n",
       "2679327  California coronavirus: Doctors 'cautiously ho...   \n",
       "2683873                   $4.3 Million Homes in California   \n",
       "2684134  Ventilators and Coronavirus: Amid Desperation,...   \n",
       "2688615           How to choose a free videoconference app   \n",
       "\n",
       "                                                   article  label  \n",
       "index                                                              \n",
       "1305     John Cena's very public campaign to win back N...    0.5  \n",
       "6528     DUBAI (Reuters) - Iran will continue to produc...    2.0  \n",
       "13823    Jerry Jones tells TMZ Sports he does not belie...    0.5  \n",
       "29908    The decorum of the United States Senate was on...    0.5  \n",
       "31325    Former \"Family Matters\" star Darius McCrary to...    2.0  \n",
       "...                                                    ...    ...  \n",
       "2678751   (CNN)Congress and President Donald Trump have...    0.5  \n",
       "2679327   (CNN)Two weeks after San Francisco issued the...    0.0  \n",
       "2683873  What you Get A French Caribbean-inspired home ...    0.0  \n",
       "2684134  President Trump wants the private sector to fi...    0.5  \n",
       "2688615  Most people are currently relying on videoconf...    0.5  \n",
       "\n",
       "[968 rows x 3 columns]"
      ]
     },
     "execution_count": 24,
     "metadata": {},
     "output_type": "execute_result"
    }
   ],
   "source": [
    "df"
   ]
  },
  {
   "cell_type": "code",
   "execution_count": 25,
   "id": "b52d16e6-4a47-4c82-a5b2-2be4d20250e9",
   "metadata": {},
   "outputs": [
    {
     "data": {
      "text/plain": [
       "<AxesSubplot:>"
      ]
     },
     "execution_count": 25,
     "metadata": {},
     "output_type": "execute_result"
    },
    {
     "data": {
      "image/png": "[encoded data removed]",
      "text/plain": [
       "<Figure size 432x288 with 1 Axes>"
      ]
     },
     "metadata": {
      "needs_background": "light"
     },
     "output_type": "display_data"
    }
   ],
   "source": [
    "df.label.hist()"
   ]
  },
  {
   "cell_type": "code",
   "execution_count": null,
   "id": "4c499745-f3db-4d80-b085-ecda0a5b4726",
   "metadata": {},
   "outputs": [],
   "source": []
  }
 ],
 "metadata": {
  "kernelspec": {
   "display_name": "Python 3 (ipykernel)",
   "language": "python",
   "name": "python3"
  },
  "language_info": {
   "codemirror_mode": {
    "name": "ipython",
    "version": 3
   },
   "file_extension": ".py",
   "mimetype": "text/x-python",
   "name": "python",
   "nbconvert_exporter": "python",
   "pygments_lexer": "ipython3",
   "version": "3.9.7"
  }
 },
 "nbformat": 4,
 "nbformat_minor": 5
}
