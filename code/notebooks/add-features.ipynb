{
 "cells": [
  {
   "cell_type": "code",
   "execution_count": 240,
   "id": "180f0612-65c0-4918-867a-b00dfe9ebe4f",
   "metadata": {},
   "outputs": [],
   "source": [
    "import pandas as pd"
   ]
  },
  {
   "cell_type": "code",
   "execution_count": 241,
   "id": "4a22e77b-ccaf-4f18-92ff-6a43b63e0395",
   "metadata": {},
   "outputs": [],
   "source": [
    "from textblob import TextBlob"
   ]
  },
  {
   "cell_type": "code",
   "execution_count": 440,
   "id": "8c7556d4-fd6a-49c2-9165-760243d716af",
   "metadata": {},
   "outputs": [],
   "source": [
    "import spacy"
   ]
  },
  {
   "cell_type": "code",
   "execution_count": 461,
   "id": "81449ea5-478b-4616-9605-290e0da32c29",
   "metadata": {},
   "outputs": [],
   "source": [
    "import yake"
   ]
  },
  {
   "cell_type": "code",
   "execution_count": 597,
   "id": "b3d6343f-81c2-40a1-9634-2743f47790cf",
   "metadata": {},
   "outputs": [],
   "source": [
    "df = pd.read_csv('../../data/2013-2020_US/labeled-cleaned.csv', header=0)"
   ]
  },
  {
   "cell_type": "code",
   "execution_count": 598,
   "id": "fdd79f7e-1e54-488f-a846-a59c52a779f0",
   "metadata": {},
   "outputs": [],
   "source": [
    "df = df.drop(df.index[263])"
   ]
  },
  {
   "cell_type": "code",
   "execution_count": 599,
   "id": "4fd7d48a-d451-4fea-b360-3553b934ea3c",
   "metadata": {},
   "outputs": [],
   "source": [
    "df['TL'] = df['title'].str.len()"
   ]
  },
  {
   "cell_type": "code",
   "execution_count": 600,
   "id": "d017ba23-f94a-40d4-b2cf-43e194fdc89a",
   "metadata": {},
   "outputs": [],
   "source": [
    "df['AL'] = df['article'].str.len()"
   ]
  },
  {
   "cell_type": "code",
   "execution_count": 601,
   "id": "3a14b719-e704-40e9-9b5d-e827f54620ea",
   "metadata": {},
   "outputs": [],
   "source": [
    "def getWordCount(text):\n",
    "    return len(TextBlob(text).words)"
   ]
  },
  {
   "cell_type": "code",
   "execution_count": 602,
   "id": "b20857b2-7d09-48e0-af40-45d7fe65017e",
   "metadata": {},
   "outputs": [],
   "source": [
    "df['TWC'] = df['title'].apply(getWordCount)"
   ]
  },
  {
   "cell_type": "code",
   "execution_count": 603,
   "id": "389f2bbb-4ba7-45fb-8376-3aa08903af68",
   "metadata": {},
   "outputs": [],
   "source": [
    "df['AWC'] = df['article'].apply(getWordCount)"
   ]
  },
  {
   "cell_type": "code",
   "execution_count": 604,
   "id": "7b6e110b-9903-417d-ac78-6e8b473bd40c",
   "metadata": {},
   "outputs": [],
   "source": [
    "def getSentenceCount(text):\n",
    "    return len(TextBlob(text).sentences)"
   ]
  },
  {
   "cell_type": "code",
   "execution_count": 605,
   "id": "7b053236-7ef1-4b19-ae94-32d9ae2d9998",
   "metadata": {},
   "outputs": [],
   "source": [
    "df['TSC'] = df['title'].apply(getSentenceCount)"
   ]
  },
  {
   "cell_type": "code",
   "execution_count": 606,
   "id": "2d50d234-c915-4c56-84d2-0f75d1ffb69c",
   "metadata": {},
   "outputs": [],
   "source": [
    "df['ASC'] = df['article'].apply(getSentenceCount)"
   ]
  },
  {
   "cell_type": "code",
   "execution_count": 608,
   "id": "c3574dcf-c274-4fc4-a625-1b920fa8bcbd",
   "metadata": {
    "tags": []
   },
   "outputs": [],
   "source": [
    "df['TALRATIO'] = df['TL'] / df['AL']"
   ]
  },
  {
   "cell_type": "code",
   "execution_count": 609,
   "id": "3b52e6d1-c055-4efc-9c70-8116b9ad12b5",
   "metadata": {},
   "outputs": [],
   "source": [
    "df['TAWCRATIO'] = df['TWC'] / df['AWC']"
   ]
  },
  {
   "cell_type": "code",
   "execution_count": 610,
   "id": "eb62d702-f596-4f14-8c84-956b81e090dd",
   "metadata": {},
   "outputs": [],
   "source": [
    "df['TASCRATIO'] = df['TSC'] / df['ASC']"
   ]
  },
  {
   "cell_type": "code",
   "execution_count": 612,
   "id": "702c2b14-a197-459d-92cb-298e024cec45",
   "metadata": {},
   "outputs": [],
   "source": [
    "def getPolarity(text):\n",
    "    return TextBlob(text).sentiment.polarity"
   ]
  },
  {
   "cell_type": "code",
   "execution_count": 613,
   "id": "4c145307-75bf-4438-b57a-cb80b1d79eb5",
   "metadata": {},
   "outputs": [],
   "source": [
    "def getSubjectivity(text):\n",
    "    return TextBlob(text).sentiment.subjectivity"
   ]
  },
  {
   "cell_type": "code",
   "execution_count": 614,
   "id": "509019db-02b1-451a-a96f-3dabac17c856",
   "metadata": {},
   "outputs": [],
   "source": [
    "def getPartitionPolarity(text, partition_number, partition_index):\n",
    "    start_index = len(text)//partition_number * (partition_index - 1)\n",
    "    end_index = len(text)//partition_number * partition_index\n",
    "\n",
    "    while start_index >= 0 and start_index < len(text) and text[start_index] != ' ':\n",
    "        start_index = start_index + 1\n",
    "    while end_index < len(text) and text[end_index] != ' ':\n",
    "        end_index = end_index + 1\n",
    "        \n",
    "    return TextBlob(text[start_index:end_index]).sentiment.polarity"
   ]
  },
  {
   "cell_type": "code",
   "execution_count": 615,
   "id": "a5751f52-f10f-4191-bffd-cb557418fe57",
   "metadata": {},
   "outputs": [],
   "source": [
    "def getPartitionSubjectivity(text, partition_number, partition_index):\n",
    "    start_index = len(text)//partition_number * (partition_index - 1)\n",
    "    end_index = len(text)//partition_number * partition_index\n",
    "\n",
    "    while start_index >= 0 and start_index < len(text) and text[start_index] != ' ':\n",
    "        start_index = start_index + 1\n",
    "    while end_index < len(text) and text[end_index] != ' ':\n",
    "        end_index = end_index + 1\n",
    "        \n",
    "    return TextBlob(text[start_index:end_index]).sentiment.subjectivity"
   ]
  },
  {
   "cell_type": "code",
   "execution_count": 616,
   "id": "28074d03-4bfa-40bb-a2a2-de7c55d7df2b",
   "metadata": {},
   "outputs": [],
   "source": [
    "df['TP'] = df['title'].apply(getPolarity)"
   ]
  },
  {
   "cell_type": "code",
   "execution_count": 617,
   "id": "73bf0653-729a-41d2-80bc-94bdbbab178b",
   "metadata": {},
   "outputs": [],
   "source": [
    "df['AP'] = df['article'].apply(getPolarity)"
   ]
  },
  {
   "cell_type": "code",
   "execution_count": 618,
   "id": "207b5767-46cd-4c02-896f-8693ea37f02b",
   "metadata": {},
   "outputs": [],
   "source": [
    "df['TAPD'] = df['AP'] - df['TP']"
   ]
  },
  {
   "cell_type": "code",
   "execution_count": 619,
   "id": "4f3a071b-4eb1-43f6-b719-4e6f93a116d7",
   "metadata": {},
   "outputs": [],
   "source": [
    "df['TAPMEAN'] = (df['AP'] + df['TP']) / 2"
   ]
  },
  {
   "cell_type": "code",
   "execution_count": 620,
   "id": "358da31c-f5f8-4f76-8ea7-d2334005d269",
   "metadata": {},
   "outputs": [],
   "source": [
    "df['TS'] = df['title'].apply(getPolarity)"
   ]
  },
  {
   "cell_type": "code",
   "execution_count": 621,
   "id": "5ce292b7-2f1d-4340-a094-59b886de2903",
   "metadata": {},
   "outputs": [],
   "source": [
    "df['AS'] = df['article'].apply(getPolarity)"
   ]
  },
  {
   "cell_type": "code",
   "execution_count": 622,
   "id": "cbe1c989-f5f4-4075-92ca-ccb3966cdd9d",
   "metadata": {},
   "outputs": [],
   "source": [
    "df['TASD'] = df['AS'] - df['TS']"
   ]
  },
  {
   "cell_type": "code",
   "execution_count": 623,
   "id": "471070bb-9efd-462f-b233-1ed71406d00d",
   "metadata": {},
   "outputs": [],
   "source": [
    "df['TASMEAN'] = df['AS'] + df['TS']"
   ]
  },
  {
   "cell_type": "code",
   "execution_count": 624,
   "id": "22c8fe6c-5c67-4f80-860f-d4f6780c8bb3",
   "metadata": {},
   "outputs": [
    {
     "data": {
      "text/html": [
       "<div>\n",
       "<style scoped>\n",
       "    .dataframe tbody tr th:only-of-type {\n",
       "        vertical-align: middle;\n",
       "    }\n",
       "\n",
       "    .dataframe tbody tr th {\n",
       "        vertical-align: top;\n",
       "    }\n",
       "\n",
       "    .dataframe thead th {\n",
       "        text-align: right;\n",
       "    }\n",
       "</style>\n",
       "<table border=\"1\" class=\"dataframe\">\n",
       "  <thead>\n",
       "    <tr style=\"text-align: right;\">\n",
       "      <th></th>\n",
       "      <th>index</th>\n",
       "      <th>title</th>\n",
       "      <th>article</th>\n",
       "      <th>label</th>\n",
       "      <th>TL</th>\n",
       "      <th>AL</th>\n",
       "      <th>TWC</th>\n",
       "      <th>AWC</th>\n",
       "      <th>TSC</th>\n",
       "      <th>ASC</th>\n",
       "      <th>...</th>\n",
       "      <th>TAWCRATIO</th>\n",
       "      <th>TASCRATIO</th>\n",
       "      <th>TP</th>\n",
       "      <th>AP</th>\n",
       "      <th>TAPD</th>\n",
       "      <th>TAPMEAN</th>\n",
       "      <th>TS</th>\n",
       "      <th>AS</th>\n",
       "      <th>TASD</th>\n",
       "      <th>TASMEAN</th>\n",
       "    </tr>\n",
       "  </thead>\n",
       "  <tbody>\n",
       "    <tr>\n",
       "      <th>0</th>\n",
       "      <td>1305</td>\n",
       "      <td>Nikki Bella Now Believes John Cena Wants Kids,...</td>\n",
       "      <td>John Cena's very public campaign to win back N...</td>\n",
       "      <td>4.5</td>\n",
       "      <td>68</td>\n",
       "      <td>1537</td>\n",
       "      <td>12</td>\n",
       "      <td>303</td>\n",
       "      <td>1</td>\n",
       "      <td>16</td>\n",
       "      <td>...</td>\n",
       "      <td>0.039604</td>\n",
       "      <td>0.062500</td>\n",
       "      <td>0.2</td>\n",
       "      <td>0.135563</td>\n",
       "      <td>-0.064437</td>\n",
       "      <td>0.167782</td>\n",
       "      <td>0.2</td>\n",
       "      <td>0.135563</td>\n",
       "      <td>-0.064437</td>\n",
       "      <td>0.335563</td>\n",
       "    </tr>\n",
       "    <tr>\n",
       "      <th>1</th>\n",
       "      <td>6528</td>\n",
       "      <td>Rouhani says Iran will keep producing missiles...</td>\n",
       "      <td>DUBAI (Reuters) - Iran will continue to produc...</td>\n",
       "      <td>3.0</td>\n",
       "      <td>64</td>\n",
       "      <td>3753</td>\n",
       "      <td>10</td>\n",
       "      <td>619</td>\n",
       "      <td>1</td>\n",
       "      <td>19</td>\n",
       "      <td>...</td>\n",
       "      <td>0.016155</td>\n",
       "      <td>0.052632</td>\n",
       "      <td>0.0</td>\n",
       "      <td>-0.020980</td>\n",
       "      <td>-0.020980</td>\n",
       "      <td>-0.010490</td>\n",
       "      <td>0.0</td>\n",
       "      <td>-0.020980</td>\n",
       "      <td>-0.020980</td>\n",
       "      <td>-0.020980</td>\n",
       "    </tr>\n",
       "    <tr>\n",
       "      <th>2</th>\n",
       "      <td>13823</td>\n",
       "      <td>Jerry Jones: Ezekiel Elliott Won't Be Suspended</td>\n",
       "      <td>Jerry Jones tells TMZ Sports he does not belie...</td>\n",
       "      <td>4.5</td>\n",
       "      <td>47</td>\n",
       "      <td>686</td>\n",
       "      <td>8</td>\n",
       "      <td>121</td>\n",
       "      <td>1</td>\n",
       "      <td>7</td>\n",
       "      <td>...</td>\n",
       "      <td>0.066116</td>\n",
       "      <td>0.142857</td>\n",
       "      <td>0.0</td>\n",
       "      <td>-0.028571</td>\n",
       "      <td>-0.028571</td>\n",
       "      <td>-0.014286</td>\n",
       "      <td>0.0</td>\n",
       "      <td>-0.028571</td>\n",
       "      <td>-0.028571</td>\n",
       "      <td>-0.028571</td>\n",
       "    </tr>\n",
       "    <tr>\n",
       "      <th>3</th>\n",
       "      <td>29908</td>\n",
       "      <td>Sen. Marco Rubio just threatened to “take care...</td>\n",
       "      <td>The decorum of the United States Senate was on...</td>\n",
       "      <td>3.5</td>\n",
       "      <td>73</td>\n",
       "      <td>2788</td>\n",
       "      <td>16</td>\n",
       "      <td>504</td>\n",
       "      <td>1</td>\n",
       "      <td>22</td>\n",
       "      <td>...</td>\n",
       "      <td>0.031746</td>\n",
       "      <td>0.045455</td>\n",
       "      <td>0.0</td>\n",
       "      <td>0.073634</td>\n",
       "      <td>0.073634</td>\n",
       "      <td>0.036817</td>\n",
       "      <td>0.0</td>\n",
       "      <td>0.073634</td>\n",
       "      <td>0.073634</td>\n",
       "      <td>0.073634</td>\n",
       "    </tr>\n",
       "    <tr>\n",
       "      <th>4</th>\n",
       "      <td>31325</td>\n",
       "      <td>Darius McCrary Says Estranged Wife's Out for F...</td>\n",
       "      <td>Former \"Family Matters\" star Darius McCrary to...</td>\n",
       "      <td>3.0</td>\n",
       "      <td>67</td>\n",
       "      <td>730</td>\n",
       "      <td>12</td>\n",
       "      <td>130</td>\n",
       "      <td>1</td>\n",
       "      <td>5</td>\n",
       "      <td>...</td>\n",
       "      <td>0.092308</td>\n",
       "      <td>0.200000</td>\n",
       "      <td>0.0</td>\n",
       "      <td>-0.168452</td>\n",
       "      <td>-0.168452</td>\n",
       "      <td>-0.084226</td>\n",
       "      <td>0.0</td>\n",
       "      <td>-0.168452</td>\n",
       "      <td>-0.168452</td>\n",
       "      <td>-0.168452</td>\n",
       "    </tr>\n",
       "    <tr>\n",
       "      <th>...</th>\n",
       "      <td>...</td>\n",
       "      <td>...</td>\n",
       "      <td>...</td>\n",
       "      <td>...</td>\n",
       "      <td>...</td>\n",
       "      <td>...</td>\n",
       "      <td>...</td>\n",
       "      <td>...</td>\n",
       "      <td>...</td>\n",
       "      <td>...</td>\n",
       "      <td>...</td>\n",
       "      <td>...</td>\n",
       "      <td>...</td>\n",
       "      <td>...</td>\n",
       "      <td>...</td>\n",
       "      <td>...</td>\n",
       "      <td>...</td>\n",
       "      <td>...</td>\n",
       "      <td>...</td>\n",
       "      <td>...</td>\n",
       "      <td>...</td>\n",
       "    </tr>\n",
       "    <tr>\n",
       "      <th>963</th>\n",
       "      <td>2678751</td>\n",
       "      <td>Stimulus bill: When will you see money and ben...</td>\n",
       "      <td>(CNN)Congress and President Donald Trump have...</td>\n",
       "      <td>3.5</td>\n",
       "      <td>52</td>\n",
       "      <td>7393</td>\n",
       "      <td>9</td>\n",
       "      <td>1261</td>\n",
       "      <td>1</td>\n",
       "      <td>64</td>\n",
       "      <td>...</td>\n",
       "      <td>0.007137</td>\n",
       "      <td>0.015625</td>\n",
       "      <td>0.0</td>\n",
       "      <td>0.103754</td>\n",
       "      <td>0.103754</td>\n",
       "      <td>0.051877</td>\n",
       "      <td>0.0</td>\n",
       "      <td>0.103754</td>\n",
       "      <td>0.103754</td>\n",
       "      <td>0.103754</td>\n",
       "    </tr>\n",
       "    <tr>\n",
       "      <th>964</th>\n",
       "      <td>2679327</td>\n",
       "      <td>California coronavirus: Doctors 'cautiously ho...</td>\n",
       "      <td>(CNN)Two weeks after San Francisco issued the...</td>\n",
       "      <td>4.0</td>\n",
       "      <td>95</td>\n",
       "      <td>3193</td>\n",
       "      <td>12</td>\n",
       "      <td>546</td>\n",
       "      <td>1</td>\n",
       "      <td>25</td>\n",
       "      <td>...</td>\n",
       "      <td>0.021978</td>\n",
       "      <td>0.040000</td>\n",
       "      <td>0.1</td>\n",
       "      <td>0.115096</td>\n",
       "      <td>0.015096</td>\n",
       "      <td>0.107548</td>\n",
       "      <td>0.1</td>\n",
       "      <td>0.115096</td>\n",
       "      <td>0.015096</td>\n",
       "      <td>0.215096</td>\n",
       "    </tr>\n",
       "    <tr>\n",
       "      <th>965</th>\n",
       "      <td>2683873</td>\n",
       "      <td>$4.3 Million Homes in California</td>\n",
       "      <td>What you Get A French Caribbean-inspired home ...</td>\n",
       "      <td>4.0</td>\n",
       "      <td>32</td>\n",
       "      <td>8775</td>\n",
       "      <td>5</td>\n",
       "      <td>1512</td>\n",
       "      <td>1</td>\n",
       "      <td>72</td>\n",
       "      <td>...</td>\n",
       "      <td>0.003307</td>\n",
       "      <td>0.013889</td>\n",
       "      <td>0.0</td>\n",
       "      <td>0.102989</td>\n",
       "      <td>0.102989</td>\n",
       "      <td>0.051494</td>\n",
       "      <td>0.0</td>\n",
       "      <td>0.102989</td>\n",
       "      <td>0.102989</td>\n",
       "      <td>0.102989</td>\n",
       "    </tr>\n",
       "    <tr>\n",
       "      <th>966</th>\n",
       "      <td>2684134</td>\n",
       "      <td>Ventilators and Coronavirus: Amid Desperation,...</td>\n",
       "      <td>President Trump wants the private sector to fi...</td>\n",
       "      <td>2.5</td>\n",
       "      <td>82</td>\n",
       "      <td>9977</td>\n",
       "      <td>10</td>\n",
       "      <td>1702</td>\n",
       "      <td>1</td>\n",
       "      <td>70</td>\n",
       "      <td>...</td>\n",
       "      <td>0.005875</td>\n",
       "      <td>0.014286</td>\n",
       "      <td>0.0</td>\n",
       "      <td>0.087870</td>\n",
       "      <td>0.087870</td>\n",
       "      <td>0.043935</td>\n",
       "      <td>0.0</td>\n",
       "      <td>0.087870</td>\n",
       "      <td>0.087870</td>\n",
       "      <td>0.087870</td>\n",
       "    </tr>\n",
       "    <tr>\n",
       "      <th>967</th>\n",
       "      <td>2688615</td>\n",
       "      <td>How to choose a free videoconference app</td>\n",
       "      <td>Most people are currently relying on videoconf...</td>\n",
       "      <td>4.5</td>\n",
       "      <td>40</td>\n",
       "      <td>5145</td>\n",
       "      <td>7</td>\n",
       "      <td>931</td>\n",
       "      <td>1</td>\n",
       "      <td>33</td>\n",
       "      <td>...</td>\n",
       "      <td>0.007519</td>\n",
       "      <td>0.030303</td>\n",
       "      <td>0.4</td>\n",
       "      <td>0.301436</td>\n",
       "      <td>-0.098564</td>\n",
       "      <td>0.350718</td>\n",
       "      <td>0.4</td>\n",
       "      <td>0.301436</td>\n",
       "      <td>-0.098564</td>\n",
       "      <td>0.701436</td>\n",
       "    </tr>\n",
       "  </tbody>\n",
       "</table>\n",
       "<p>967 rows × 21 columns</p>\n",
       "</div>"
      ],
      "text/plain": [
       "       index                                              title  \\\n",
       "0       1305  Nikki Bella Now Believes John Cena Wants Kids,...   \n",
       "1       6528  Rouhani says Iran will keep producing missiles...   \n",
       "2      13823    Jerry Jones: Ezekiel Elliott Won't Be Suspended   \n",
       "3      29908  Sen. Marco Rubio just threatened to “take care...   \n",
       "4      31325  Darius McCrary Says Estranged Wife's Out for F...   \n",
       "..       ...                                                ...   \n",
       "963  2678751  Stimulus bill: When will you see money and ben...   \n",
       "964  2679327  California coronavirus: Doctors 'cautiously ho...   \n",
       "965  2683873                   $4.3 Million Homes in California   \n",
       "966  2684134  Ventilators and Coronavirus: Amid Desperation,...   \n",
       "967  2688615           How to choose a free videoconference app   \n",
       "\n",
       "                                               article  label  TL    AL  TWC  \\\n",
       "0    John Cena's very public campaign to win back N...    4.5  68  1537   12   \n",
       "1    DUBAI (Reuters) - Iran will continue to produc...    3.0  64  3753   10   \n",
       "2    Jerry Jones tells TMZ Sports he does not belie...    4.5  47   686    8   \n",
       "3    The decorum of the United States Senate was on...    3.5  73  2788   16   \n",
       "4    Former \"Family Matters\" star Darius McCrary to...    3.0  67   730   12   \n",
       "..                                                 ...    ...  ..   ...  ...   \n",
       "963   (CNN)Congress and President Donald Trump have...    3.5  52  7393    9   \n",
       "964   (CNN)Two weeks after San Francisco issued the...    4.0  95  3193   12   \n",
       "965  What you Get A French Caribbean-inspired home ...    4.0  32  8775    5   \n",
       "966  President Trump wants the private sector to fi...    2.5  82  9977   10   \n",
       "967  Most people are currently relying on videoconf...    4.5  40  5145    7   \n",
       "\n",
       "      AWC  TSC  ASC  ...  TAWCRATIO  TASCRATIO   TP        AP      TAPD  \\\n",
       "0     303    1   16  ...   0.039604   0.062500  0.2  0.135563 -0.064437   \n",
       "1     619    1   19  ...   0.016155   0.052632  0.0 -0.020980 -0.020980   \n",
       "2     121    1    7  ...   0.066116   0.142857  0.0 -0.028571 -0.028571   \n",
       "3     504    1   22  ...   0.031746   0.045455  0.0  0.073634  0.073634   \n",
       "4     130    1    5  ...   0.092308   0.200000  0.0 -0.168452 -0.168452   \n",
       "..    ...  ...  ...  ...        ...        ...  ...       ...       ...   \n",
       "963  1261    1   64  ...   0.007137   0.015625  0.0  0.103754  0.103754   \n",
       "964   546    1   25  ...   0.021978   0.040000  0.1  0.115096  0.015096   \n",
       "965  1512    1   72  ...   0.003307   0.013889  0.0  0.102989  0.102989   \n",
       "966  1702    1   70  ...   0.005875   0.014286  0.0  0.087870  0.087870   \n",
       "967   931    1   33  ...   0.007519   0.030303  0.4  0.301436 -0.098564   \n",
       "\n",
       "      TAPMEAN   TS        AS      TASD   TASMEAN  \n",
       "0    0.167782  0.2  0.135563 -0.064437  0.335563  \n",
       "1   -0.010490  0.0 -0.020980 -0.020980 -0.020980  \n",
       "2   -0.014286  0.0 -0.028571 -0.028571 -0.028571  \n",
       "3    0.036817  0.0  0.073634  0.073634  0.073634  \n",
       "4   -0.084226  0.0 -0.168452 -0.168452 -0.168452  \n",
       "..        ...  ...       ...       ...       ...  \n",
       "963  0.051877  0.0  0.103754  0.103754  0.103754  \n",
       "964  0.107548  0.1  0.115096  0.015096  0.215096  \n",
       "965  0.051494  0.0  0.102989  0.102989  0.102989  \n",
       "966  0.043935  0.0  0.087870  0.087870  0.087870  \n",
       "967  0.350718  0.4  0.301436 -0.098564  0.701436  \n",
       "\n",
       "[967 rows x 21 columns]"
      ]
     },
     "execution_count": 624,
     "metadata": {},
     "output_type": "execute_result"
    }
   ],
   "source": [
    "df"
   ]
  },
  {
   "cell_type": "code",
   "execution_count": 625,
   "id": "f7fe8dd0-ae81-466f-854e-04208cef9844",
   "metadata": {},
   "outputs": [],
   "source": [
    "df.to_csv('../../data/extracted_features_round1.csv')\n",
    "training_set = df.drop(columns=['index', 'title', 'article'])\n",
    "training_set = training_set.rename(columns={'label':'CV'})\n",
    "training_set.to_csv('../../data/extracted_features_round1_training.csv')"
   ]
  },
  {
   "cell_type": "code",
   "execution_count": null,
   "id": "a4769c2f-f861-4667-8fa9-dab5ada09edb",
   "metadata": {},
   "outputs": [],
   "source": []
  },
  {
   "cell_type": "code",
   "execution_count": 629,
   "id": "62886be0-a781-48e0-8a03-02b897b9a8d6",
   "metadata": {},
   "outputs": [],
   "source": [
    "def count_special_character(string, divisor=1, from_start=True): \n",
    "    if from_start:\n",
    "        string = string[:-(len(string)//divisor)]\n",
    "    else:\n",
    "        string = string[len(string)//divisor:]\n",
    "    special_char= 0\n",
    "   \n",
    "    for i in range(0, len(string)):  \n",
    "      \n",
    "        ch = string[i]\n",
    "\n",
    "        if (string[i].isalpha()):  \n",
    "            continue\n",
    "\n",
    "        elif (string[i].isdigit()):\n",
    "            continue\n",
    "            \n",
    "        else: \n",
    "            special_char += 1\n",
    "            \n",
    "    return special_char"
   ]
  },
  {
   "cell_type": "code",
   "execution_count": 630,
   "id": "8e3c74fe-198a-4462-9aa7-632ec387f954",
   "metadata": {},
   "outputs": [],
   "source": [
    "df['TSCCRATIO'] = df['title'].apply(count_special_character, args=(4, False)) / df['TL']"
   ]
  },
  {
   "cell_type": "code",
   "execution_count": 631,
   "id": "ac5fd5b6-688a-44e8-8152-799ed52fbd37",
   "metadata": {},
   "outputs": [],
   "source": [
    "df['ASCCRATIO'] = df['article'].apply(count_special_character, args=(6,)) / df['AL']"
   ]
  },
  {
   "cell_type": "code",
   "execution_count": 632,
   "id": "699b5fbd-90d8-4e47-8040-c6216592fc28",
   "metadata": {},
   "outputs": [],
   "source": [
    "df['TASCCRATIO'] = df['TSCCRATIO'] / df['ASCCRATIO']"
   ]
  },
  {
   "cell_type": "code",
   "execution_count": 633,
   "id": "72f05a79-4708-40b4-aee9-6c82400a4ab9",
   "metadata": {},
   "outputs": [],
   "source": [
    "df['TASCCD'] = df['ASCCRATIO'] - df['TSCCRATIO']"
   ]
  },
  {
   "cell_type": "code",
   "execution_count": 634,
   "id": "00e4ba10-a263-4fa6-a8ec-afc55accfb32",
   "metadata": {},
   "outputs": [],
   "source": [
    "nlp = spacy.load('en_core_web_sm')"
   ]
  },
  {
   "cell_type": "code",
   "execution_count": 635,
   "id": "a3145521-b662-41a3-97f0-2809fa0399ea",
   "metadata": {},
   "outputs": [],
   "source": [
    "kw_extractor = yake.KeywordExtractor()\n",
    "language = 'en'\n",
    "max_ngram_size = 1\n",
    "deduplication_threshold = 0.9\n",
    "custom_kw_extractor = yake.KeywordExtractor(lan=language, n=max_ngram_size, dedupLim=deduplication_threshold, features=None)"
   ]
  },
  {
   "cell_type": "code",
   "execution_count": 637,
   "id": "fd964d37-a100-43eb-918b-1f141e3361b7",
   "metadata": {},
   "outputs": [],
   "source": [
    "df['title_keywords'] = df['title'].apply(lambda x: custom_kw_extractor.extract_keywords(x))"
   ]
  },
  {
   "cell_type": "code",
   "execution_count": 638,
   "id": "0fde0cc6-ea67-42de-bef4-612a07d201c1",
   "metadata": {},
   "outputs": [],
   "source": [
    "df['article_keywords'] = df['article'].apply(lambda x: custom_kw_extractor.extract_keywords(x))"
   ]
  },
  {
   "cell_type": "code",
   "execution_count": 639,
   "id": "a89ca93e-cf17-4bdf-95fa-383e25c79aa6",
   "metadata": {},
   "outputs": [],
   "source": [
    "df['TKWC'] = df['title_keywords'].apply(lambda x: len(x)) / df['TWC']"
   ]
  },
  {
   "cell_type": "code",
   "execution_count": 640,
   "id": "c27d5cce-a1f6-47db-869b-f3d0b5603265",
   "metadata": {},
   "outputs": [],
   "source": [
    "df['AKWC'] = df['article_keywords'].apply(lambda x: len(x)) / df['AWC']"
   ]
  },
  {
   "cell_type": "code",
   "execution_count": 641,
   "id": "b0a2ad15-9926-4c98-b9c9-faea7bf7b723",
   "metadata": {},
   "outputs": [],
   "source": [
    "df['TAKWCRATIO'] = df['TKWC'] / df['AKWC']"
   ]
  },
  {
   "cell_type": "code",
   "execution_count": 642,
   "id": "fef6cdcd-2249-40c5-ac03-85455555bdaf",
   "metadata": {},
   "outputs": [],
   "source": [
    "def get_most_important_keyword_polarity(keywords):\n",
    "    if len(keywords) == 0:\n",
    "        return 0\n",
    "    \n",
    "    max_importance = max(number for word, number in keywords)\n",
    "    max_word = next((word for word, number in keywords if number == max_importance))\n",
    "    return TextBlob(max_word).sentiment.polarity"
   ]
  },
  {
   "cell_type": "code",
   "execution_count": 643,
   "id": "6d9124c5-dd6d-4877-bc20-5e450dfeee8a",
   "metadata": {},
   "outputs": [],
   "source": [
    "df['TMIKWP'] = df['title_keywords'].apply(get_most_important_keyword_polarity)"
   ]
  },
  {
   "cell_type": "code",
   "execution_count": 644,
   "id": "df5799c2-2528-4b84-bb0b-1528968abbf2",
   "metadata": {},
   "outputs": [],
   "source": [
    "df['AMIKWP'] = df['article_keywords'].apply(get_most_important_keyword_polarity)"
   ]
  },
  {
   "cell_type": "code",
   "execution_count": 645,
   "id": "ae36abb5-24d5-4da4-88f8-579b59ba4286",
   "metadata": {},
   "outputs": [],
   "source": [
    "def get_most_important_keyword_subjectivity(keywords):\n",
    "    if len(keywords) == 0:\n",
    "        return 0\n",
    "    \n",
    "    max_importance = max(number for word, number in keywords)\n",
    "    max_word = next((word for word, number in keywords if number == max_importance))\n",
    "    return TextBlob(max_word).sentiment.subjectivity"
   ]
  },
  {
   "cell_type": "code",
   "execution_count": 646,
   "id": "59e15d8d-4ba4-4dbb-95b4-e71f4b10b2e8",
   "metadata": {},
   "outputs": [],
   "source": [
    "df['TMIKWS'] = df['title_keywords'].apply(get_most_important_keyword_subjectivity)"
   ]
  },
  {
   "cell_type": "code",
   "execution_count": 647,
   "id": "a6b41182-14fc-48c1-880c-cb6002d1a3b6",
   "metadata": {},
   "outputs": [],
   "source": [
    "df['AMIKWS'] = df['article_keywords'].apply(get_most_important_keyword_subjectivity)"
   ]
  },
  {
   "cell_type": "code",
   "execution_count": 648,
   "id": "19bfe5f8-080e-49d1-90c3-49ddb90f7a60",
   "metadata": {},
   "outputs": [],
   "source": [
    "def get_first_sentence_polarity(text):\n",
    "    return TextBlob(text).sentences[0].sentiment.polarity"
   ]
  },
  {
   "cell_type": "code",
   "execution_count": 649,
   "id": "47a689a6-0566-479e-9421-a8872a1bfda3",
   "metadata": {},
   "outputs": [],
   "source": [
    "df['AFSP'] = df['article'].apply(get_first_sentence_polarity)"
   ]
  },
  {
   "cell_type": "code",
   "execution_count": 650,
   "id": "fb7ce21e-9af8-4413-8e9f-e04a59f57ca9",
   "metadata": {},
   "outputs": [],
   "source": [
    "df['TAFSPMEAN'] = (df['TP'] + df['AFSP']) / 2"
   ]
  },
  {
   "cell_type": "code",
   "execution_count": 651,
   "id": "ab568c65-5f2b-4d11-b45e-b2035d653fb2",
   "metadata": {},
   "outputs": [],
   "source": [
    "df['TAFSPD'] = df['AFSP'] - df['TP']"
   ]
  },
  {
   "cell_type": "code",
   "execution_count": 652,
   "id": "6ce5a126-5864-472a-adfe-67d527d396bf",
   "metadata": {},
   "outputs": [],
   "source": [
    "def get_first_sentence_subjectivity(text):\n",
    "    return TextBlob(text).sentences[0].sentiment.subjectivity"
   ]
  },
  {
   "cell_type": "code",
   "execution_count": 653,
   "id": "efba898a-8449-4a95-82b7-188e4cc50974",
   "metadata": {},
   "outputs": [],
   "source": [
    "df['AFSS'] = df['article'].apply(get_first_sentence_subjectivity)"
   ]
  },
  {
   "cell_type": "code",
   "execution_count": 654,
   "id": "2bcaf980-b514-45bc-ad16-59ea7bda2472",
   "metadata": {},
   "outputs": [],
   "source": [
    "df['TAFSSMEAN'] = (df['TS'] + df['AFSS']) / 2"
   ]
  },
  {
   "cell_type": "code",
   "execution_count": 655,
   "id": "d0921be0-959e-437e-b9c1-f80ffdb5ee15",
   "metadata": {},
   "outputs": [],
   "source": [
    "df['TAFSSD'] = df['AFSS'] - df['TP']"
   ]
  },
  {
   "cell_type": "code",
   "execution_count": 711,
   "id": "db33fa54-9b3a-4a46-84cf-e12772525696",
   "metadata": {},
   "outputs": [],
   "source": [
    "def get_most_important_keyword_occurrence(row):\n",
    "    title_keywords = row['title_keywords']\n",
    "    article = row['article']\n",
    "    article_tokens = nlp(article)\n",
    "    if len(title_keywords) == 0 or len(article_tokens) == 0:\n",
    "        return 0\n",
    "    \n",
    "    title_max_importance = max(number for word, number in title_keywords)\n",
    "    title_max_word = next((word for word, number in title_keywords if number == title_max_importance))\n",
    "    title_max_lemma = nlp(title_max_word)[0].lemma_\n",
    "    \n",
    "    article_lemmas = []\n",
    "    for token in article_tokens:\n",
    "        article_lemmas.append(token.lemma_)\n",
    "    \n",
    "    occurrences = 0\n",
    "\n",
    "    for lemma in article_lemmas:\n",
    "        if lemma.lower() == title_max_lemma.lower():\n",
    "            occurrences = occurrences + 1\n",
    "    return occurrences / len(article_lemmas)\n",
    "    \n",
    "    \n",
    "    \n",
    "    "
   ]
  },
  {
   "cell_type": "code",
   "execution_count": 658,
   "id": "6e94ad86-0edd-4234-89b7-af4121be6ae9",
   "metadata": {},
   "outputs": [],
   "source": [
    "df['TMIKWAORATIO'] = df.apply(get_most_important_keyword_occurrence, axis=1)"
   ]
  },
  {
   "cell_type": "code",
   "execution_count": 712,
   "id": "2845e829-404d-4762-937c-3126dee5451c",
   "metadata": {},
   "outputs": [],
   "source": [
    "def get_title_keyword_occurrence(row):\n",
    "    title_keywords = row['title_keywords']\n",
    "    article = row['article']\n",
    "    article_tokens = nlp(article)\n",
    "    if len(title_keywords) == 0 or len(article_tokens) == 0:\n",
    "        return 0\n",
    "\n",
    "    title_lemmas = []\n",
    "    for keyword, number in title_keywords:\n",
    "        title_lemmas.append(nlp(keyword)[0].lemma_)\n",
    "    \n",
    "    article_lemmas = []\n",
    "    for token in article_tokens:\n",
    "        article_lemmas.append(token.lemma_)\n",
    "    \n",
    "    occurrences = 0\n",
    "    for title_lemma in title_lemmas:\n",
    "        for article_lemma in article_lemmas:\n",
    "            if article_lemma.lower() == title_lemma.lower():\n",
    "                occurrences = occurrences + 1\n",
    "    return occurrences / len(article_lemmas)\n",
    "    "
   ]
  },
  {
   "cell_type": "code",
   "execution_count": 661,
   "id": "6348b621-e237-47d1-b452-e2e6e5b556af",
   "metadata": {},
   "outputs": [],
   "source": [
    "df['TKWAORATIO'] = df.apply(get_title_keyword_occurrence, axis=1)"
   ]
  },
  {
   "cell_type": "code",
   "execution_count": 713,
   "id": "5d5e9ec0-8ab9-4ba9-9c0f-4d354ec82123",
   "metadata": {},
   "outputs": [],
   "source": [
    "def get_title_keyword_occurrence_weighted(row):\n",
    "    title_keywords = row['title_keywords']\n",
    "    article = row['article']\n",
    "    article_tokens = nlp(article)\n",
    "    if len(title_keywords) == 0 or len(article_tokens) == 0:\n",
    "        return 0\n",
    "\n",
    "    title_lemmas = []\n",
    "    for keyword, number in title_keywords:\n",
    "        title_lemmas.append((nlp(keyword)[0].lemma_, number))\n",
    "    \n",
    "    article_lemmas = []\n",
    "    for token in article_tokens:\n",
    "        article_lemmas.append(token.lemma_)\n",
    "    \n",
    "    occurrences = 0\n",
    "    for title_lemma, title_number in title_lemmas:\n",
    "        for article_lemma in article_lemmas:\n",
    "            if article_lemma.lower() == title_lemma.lower():\n",
    "                occurrences = occurrences + (1 * title_number)\n",
    "    return occurrences / len(article_lemmas)"
   ]
  },
  {
   "cell_type": "code",
   "execution_count": 664,
   "id": "5243503d-d8f1-4480-a0b3-4bde616ee6d1",
   "metadata": {},
   "outputs": [],
   "source": [
    "df['TKWAOWRATIO'] = df.apply(get_title_keyword_occurrence_weighted, axis=1)"
   ]
  },
  {
   "cell_type": "code",
   "execution_count": 665,
   "id": "b0311e0f-f66e-442e-b1f0-72400cf31de6",
   "metadata": {},
   "outputs": [],
   "source": [
    "def get_mean_keyword_polarity(keywords):\n",
    "    count = 0\n",
    "    polarity = 0\n",
    "    for word, number in keywords:\n",
    "        polarity = polarity + TextBlob(word).sentiment.polarity\n",
    "        count = count + 1\n",
    "        \n",
    "    if count != 0:\n",
    "        return polarity / count\n",
    "    \n",
    "    return 0\n",
    "        "
   ]
  },
  {
   "cell_type": "code",
   "execution_count": 666,
   "id": "6ea2a839-cb2d-43ec-b1c3-c67113b6b353",
   "metadata": {},
   "outputs": [],
   "source": [
    "df['TKWPMEAN'] = df['title_keywords'].apply(get_mean_keyword_polarity)"
   ]
  },
  {
   "cell_type": "code",
   "execution_count": 667,
   "id": "718e56b1-d27a-49ed-8f6d-463628f63a10",
   "metadata": {},
   "outputs": [],
   "source": [
    "df['AKWPMEAN'] = df['article_keywords'].apply(get_mean_keyword_polarity)"
   ]
  },
  {
   "cell_type": "code",
   "execution_count": 668,
   "id": "87f86fa8-028f-402a-b583-769059b8153a",
   "metadata": {},
   "outputs": [],
   "source": [
    "df['TAKWPMEAN'] = (df['TKWPMEAN'] + df['AKWPMEAN']) / 2"
   ]
  },
  {
   "cell_type": "code",
   "execution_count": 669,
   "id": "77cc6765-2267-40cc-ab5e-3583884d4708",
   "metadata": {},
   "outputs": [],
   "source": [
    "df['TAKWPD'] = df['AKWPMEAN'] - df['TKWPMEAN']"
   ]
  },
  {
   "cell_type": "code",
   "execution_count": 672,
   "id": "24029c9f-8057-4245-b61e-78bcd8b918dc",
   "metadata": {},
   "outputs": [],
   "source": [
    "def get_mean_keyword_polarity_weighted(keywords):\n",
    "    count = 0\n",
    "    polarity = 0\n",
    "    for word, number in keywords:\n",
    "        polarity = polarity + (TextBlob(word).sentiment.polarity * number)\n",
    "        count = count + 1\n",
    "        \n",
    "    if count != 0:\n",
    "        return polarity / count\n",
    "    \n",
    "    return 0"
   ]
  },
  {
   "cell_type": "code",
   "execution_count": 674,
   "id": "3695e032-0424-4c45-af5d-82188f0c9e0f",
   "metadata": {},
   "outputs": [],
   "source": [
    "df['TKWPWMEAN'] = df['title_keywords'].apply(get_mean_keyword_polarity_weighted)\n",
    "df['AKWPWMEAN'] = df['article_keywords'].apply(get_mean_keyword_polarity_weighted)\n",
    "df['TAKWPWMEAN'] = (df['TKWPWMEAN'] + df['AKWPWMEAN']) / 2\n",
    "df['TAKWPWD'] = df['AKWPWMEAN'] - df['TKWPWMEAN']"
   ]
  },
  {
   "cell_type": "code",
   "execution_count": 714,
   "id": "7bfbc808-7588-410d-a04c-9e47963fa80a",
   "metadata": {},
   "outputs": [],
   "source": [
    "def get_most_important_keyword_first_position(row):\n",
    "    title_keywords = row['title_keywords']\n",
    "    article = row['article']\n",
    "    article_tokens = nlp(article)\n",
    "    if len(title_keywords) == 0 or len(article_tokens) == 0:\n",
    "        return 1\n",
    "    \n",
    "    title_max_importance = max(number for word, number in title_keywords)\n",
    "    title_max_word = next((word for word, number in title_keywords if number == title_max_importance))\n",
    "    title_max_lemma = nlp(title_max_word)[0].lemma_\n",
    "    \n",
    "    article_lemmas = []\n",
    "    for token in article_tokens:\n",
    "        article_lemmas.append(token.lemma_)\n",
    "    \n",
    "    position = 0\n",
    "    for lemma in article_lemmas:\n",
    "        position = position + 1\n",
    "        if lemma.lower() == title_max_lemma.lower():\n",
    "            break\n",
    "            \n",
    "    return position / len(article_lemmas)"
   ]
  },
  {
   "cell_type": "code",
   "execution_count": 680,
   "id": "a8de4068-f0ea-4b91-932f-29facf9142c6",
   "metadata": {},
   "outputs": [],
   "source": [
    "df['TAMIKWFP'] = df.apply(get_most_important_keyword_first_position, axis=1)"
   ]
  },
  {
   "cell_type": "code",
   "execution_count": 716,
   "id": "d1fdd1af-8803-49ee-b932-f5c2ac9cea08",
   "metadata": {},
   "outputs": [],
   "source": [
    "def get_most_important_keyword_distribution(row):\n",
    "    title_keywords = row['title_keywords']\n",
    "    article = row['article']\n",
    "    article_tokens = nlp(article)\n",
    "    if len(title_keywords) == 0 or len(article_tokens) == 0:\n",
    "        return 0\n",
    "    \n",
    "    title_max_importance = max(number for word, number in title_keywords)\n",
    "    title_max_word = next((word for word, number in title_keywords if number == title_max_importance))\n",
    "    title_max_lemma = nlp(title_max_word)[0].lemma_\n",
    "    \n",
    "    article_lemmas = []\n",
    "    for token in article_tokens:\n",
    "        article_lemmas.append(token.lemma_)\n",
    "    \n",
    "    position = 0\n",
    "    occurrences = []\n",
    "    for lemma in article_lemmas:\n",
    "        if lemma.lower() == title_max_lemma.lower():\n",
    "            occurrences.append(position)\n",
    "        position = position + 1\n",
    "    \n",
    "    if len(occurrences) == 0:\n",
    "        return 0\n",
    "    \n",
    "    distribution = 0\n",
    "    for position in occurrences:\n",
    "        distribution = distribution + (position - (len(article_lemmas) - 1) / 2)\n",
    "    \n",
    "    distribution = distribution / len(occurrences)\n",
    "            \n",
    "    return distribution / ((len(article_lemmas) - 1) / 2)"
   ]
  },
  {
   "cell_type": "code",
   "execution_count": 704,
   "id": "3d267929-befd-47f9-8b84-280967e90bea",
   "metadata": {},
   "outputs": [],
   "source": [
    "df['TAMIKWDIST'] = df.apply(get_most_important_keyword_distribution, axis=1)"
   ]
  },
  {
   "cell_type": "code",
   "execution_count": 717,
   "id": "83018e27-c0ca-45f0-ba58-95f2a76082da",
   "metadata": {},
   "outputs": [],
   "source": [
    "def get_keyword_distribution(row):\n",
    "    title_keywords = row['title_keywords']\n",
    "    article = row['article']\n",
    "    article_tokens = nlp(article)\n",
    "    if len(title_keywords) == 0 or len(article_tokens) == 0:\n",
    "        return 0\n",
    "    \n",
    "    title_lemmas = []\n",
    "    for keyword, number in title_keywords:\n",
    "        title_lemmas.append(nlp(keyword)[0].lemma_)\n",
    "    \n",
    "    article_lemmas = []\n",
    "    for token in article_tokens:\n",
    "        article_lemmas.append(token.lemma_)\n",
    "    \n",
    "    occurrences = []\n",
    "    for title_lemma in title_lemmas:\n",
    "        position = 0\n",
    "        for article_lemma in article_lemmas:\n",
    "            if article_lemma.lower() == title_lemma.lower():\n",
    "                occurrences.append(position)\n",
    "            position = position + 1\n",
    "    \n",
    "    if len(occurrences) == 0:\n",
    "        return 0\n",
    "    \n",
    "    distribution = 0\n",
    "    for position in occurrences:\n",
    "        distribution = distribution + (position - (len(article_lemmas) - 1) / 2)\n",
    "    \n",
    "    distribution = distribution / len(occurrences)\n",
    "            \n",
    "    return distribution / ((len(article_lemmas) - 1) / 2)"
   ]
  },
  {
   "cell_type": "code",
   "execution_count": 722,
   "id": "a41e75e1-6a06-43bf-bb33-e7f7fbf50aaa",
   "metadata": {},
   "outputs": [],
   "source": [
    "df['TAKWDIST'] = df.apply(get_keyword_distribution, axis=1)"
   ]
  },
  {
   "cell_type": "code",
   "execution_count": null,
   "id": "97e51b3d-82ec-4737-a272-3dd2559d2b23",
   "metadata": {},
   "outputs": [],
   "source": [
    "df"
   ]
  },
  {
   "cell_type": "code",
   "execution_count": 724,
   "id": "2325a7fc-2e87-4241-9c22-e680a5218932",
   "metadata": {},
   "outputs": [],
   "source": [
    "df.to_csv('../../data/2013-2020_US/extracted_features_round2.csv')\n",
    "training_set = df.drop(columns=['index', 'title', 'article', 'title_keywords', 'article_keywords'])\n",
    "training_set = training_set.rename(columns={'label':'CV'})\n",
    "training_set.to_csv('../../data/2013-2020_US/extracted_features_round2_training.csv')"
   ]
  },
  {
   "cell_type": "code",
   "execution_count": null,
   "id": "622adba8-5c66-4358-b548-5c0b09d5ac2c",
   "metadata": {},
   "outputs": [],
   "source": []
  },
  {
   "cell_type": "code",
   "execution_count": 826,
   "id": "a5055a95-1e05-4e36-aebd-3ebee0f71e88",
   "metadata": {},
   "outputs": [],
   "source": [
    "nlp = spacy.load(\"en_core_web_md\")"
   ]
  },
  {
   "cell_type": "code",
   "execution_count": null,
   "id": "1668f4de-131d-4e75-b2c7-377eb358fc58",
   "metadata": {},
   "outputs": [],
   "source": [
    "df['title_']"
   ]
  },
  {
   "cell_type": "code",
   "execution_count": 827,
   "id": "ecb755e3-8290-42e8-a0c7-4d026f10a824",
   "metadata": {},
   "outputs": [],
   "source": [
    "def get_similarity_score(row):\n",
    "    title = row['title']\n",
    "    article = row ['article']\n",
    "    \n",
    "    title_doc = nlp(title)\n",
    "    article_doc = nlp(article)\n",
    "    \n",
    "    return title_doc.similarity(article_doc)"
   ]
  },
  {
   "cell_type": "code",
   "execution_count": 828,
   "id": "38f21aa7-de72-48d9-b100-85a864b2fd34",
   "metadata": {},
   "outputs": [
    {
     "data": {
      "text/plain": [
       "0.9077101353420243"
      ]
     },
     "execution_count": 828,
     "metadata": {},
     "output_type": "execute_result"
    }
   ],
   "source": [
    "get_similarity_score(df.iloc[3])"
   ]
  },
  {
   "cell_type": "code",
   "execution_count": 829,
   "id": "44e4b9a3-dcdd-40e7-b78f-d9ea87b4b4ea",
   "metadata": {},
   "outputs": [],
   "source": [
    "df['TASIMSPACY'] = df.apply(get_similarity_score, axis=1)"
   ]
  },
  {
   "cell_type": "code",
   "execution_count": 830,
   "id": "15e5a71a-88a3-48b7-8eb1-08a22cd139cb",
   "metadata": {},
   "outputs": [],
   "source": [
    "def get_best_sentence_similarity_score(row):\n",
    "    title = row['title']\n",
    "    article = row ['article']\n",
    "    article_sentences = TextBlob(article).sentences\n",
    "    \n",
    "    title_doc = nlp(title)\n",
    "    article_docs = []\n",
    "    for sentence in article_sentences:\n",
    "        article_docs.append(nlp(str(sentence)))\n",
    "        \n",
    "    scores = []\n",
    "    for doc in article_docs:\n",
    "        scores.append(title_doc.similarity(doc))\n",
    "    \n",
    "    return max(scores)"
   ]
  },
  {
   "cell_type": "code",
   "execution_count": 831,
   "id": "864da813-7378-4cc8-ae8c-bb16836e2e6b",
   "metadata": {},
   "outputs": [
    {
     "data": {
      "text/plain": [
       "0.9122363342424004"
      ]
     },
     "execution_count": 831,
     "metadata": {},
     "output_type": "execute_result"
    }
   ],
   "source": [
    "get_best_sentence_similarity_score(df.iloc[3])"
   ]
  },
  {
   "cell_type": "code",
   "execution_count": 832,
   "id": "16bb7d21-890e-420c-8d97-301cdb2f0b33",
   "metadata": {},
   "outputs": [
    {
     "name": "stderr",
     "output_type": "stream",
     "text": [
      "C:\\Users\\tobia\\AppData\\Local\\Temp/ipykernel_19144/4101925144.py:13: UserWarning: [W008] Evaluating Doc.similarity based on empty vectors.\n",
      "  scores.append(title_doc.similarity(doc))\n"
     ]
    }
   ],
   "source": [
    "df['TABSSIMSPACY'] = df.apply(get_best_sentence_similarity_score, axis=1)"
   ]
  },
  {
   "cell_type": "code",
   "execution_count": 833,
   "id": "b60368f0-82b3-4ad8-9ef8-4ecd69cd1ec3",
   "metadata": {},
   "outputs": [],
   "source": [
    "def get_worst_sentence_similarity_score(row):\n",
    "    title = row['title']\n",
    "    article = row ['article']\n",
    "    article_sentences = TextBlob(article).sentences\n",
    "    \n",
    "    title_doc = nlp(title)\n",
    "    article_docs = []\n",
    "    for sentence in article_sentences:\n",
    "        article_docs.append(nlp(str(sentence)))\n",
    "        \n",
    "    scores = []\n",
    "    for doc in article_docs:\n",
    "        scores.append(title_doc.similarity(doc))\n",
    "    \n",
    "    return min(scores)"
   ]
  },
  {
   "cell_type": "code",
   "execution_count": 834,
   "id": "8135a437-d679-41ad-8a56-4b15ffc5b44a",
   "metadata": {},
   "outputs": [
    {
     "name": "stderr",
     "output_type": "stream",
     "text": [
      "C:\\Users\\tobia\\AppData\\Local\\Temp/ipykernel_19144/914883720.py:13: UserWarning: [W008] Evaluating Doc.similarity based on empty vectors.\n",
      "  scores.append(title_doc.similarity(doc))\n"
     ]
    }
   ],
   "source": [
    "df['TAWSSIMSPACY'] = df.apply(get_worst_sentence_similarity_score, axis=1)"
   ]
  },
  {
   "cell_type": "code",
   "execution_count": 835,
   "id": "221c996d-27b9-4253-8833-9c81c7b3773c",
   "metadata": {},
   "outputs": [],
   "source": [
    "def get_average_sentence_similarity_score(row):\n",
    "    title = row['title']\n",
    "    article = row ['article']\n",
    "    article_sentences = TextBlob(article).sentences\n",
    "    \n",
    "    title_doc = nlp(title)\n",
    "    article_docs = []\n",
    "    for sentence in article_sentences:\n",
    "        article_docs.append(nlp(str(sentence)))\n",
    "        \n",
    "    score = 0\n",
    "    for doc in article_docs:\n",
    "        score = score + (title_doc.similarity(doc))\n",
    "    \n",
    "    return score / len(article_docs)"
   ]
  },
  {
   "cell_type": "code",
   "execution_count": 836,
   "id": "d3de6060-eb73-4eb6-a0b1-0251948345d6",
   "metadata": {},
   "outputs": [
    {
     "name": "stderr",
     "output_type": "stream",
     "text": [
      "C:\\Users\\tobia\\AppData\\Local\\Temp/ipykernel_19144/1376830432.py:13: UserWarning: [W008] Evaluating Doc.similarity based on empty vectors.\n",
      "  score = score + (title_doc.similarity(doc))\n"
     ]
    }
   ],
   "source": [
    "df['TAASSIMSPACY'] = df.apply(get_average_sentence_similarity_score, axis=1)"
   ]
  },
  {
   "cell_type": "code",
   "execution_count": 837,
   "id": "331b1334-4753-4527-95f1-3ba53b42de73",
   "metadata": {},
   "outputs": [],
   "source": [
    "def get_first_sentence_similarity_score(row):\n",
    "    title = row['title']\n",
    "    article = row ['article']\n",
    "    article_sentences = TextBlob(article).sentences\n",
    "    \n",
    "    title_doc = nlp(title)\n",
    "    article_doc = nlp(str(article_sentences[0]))\n",
    "    \n",
    "    return title_doc.similarity(article_doc)"
   ]
  },
  {
   "cell_type": "code",
   "execution_count": 838,
   "id": "f38f5595-11e8-474d-b871-b595a4cfa90e",
   "metadata": {},
   "outputs": [],
   "source": [
    "df['TAFSSIMSPACY'] = df.apply(get_first_sentence_similarity_score, axis=1)"
   ]
  },
  {
   "cell_type": "code",
   "execution_count": 839,
   "id": "22001c77-ded9-4016-af2a-5316f5368c2d",
   "metadata": {},
   "outputs": [],
   "source": [
    "def get_best_sentence_similarity_position(row):\n",
    "    title = row['title']\n",
    "    article = row ['article']\n",
    "    article_sentences = TextBlob(article).sentences\n",
    "    \n",
    "    title_doc = nlp(title)\n",
    "    article_docs = []\n",
    "    for sentence in article_sentences:\n",
    "        article_docs.append(nlp(str(sentence)))\n",
    "        \n",
    "    scores = []\n",
    "    for doc in article_docs:\n",
    "        scores.append(title_doc.similarity(doc))\n",
    "    \n",
    "    max_score = max(scores)\n",
    "    \n",
    "    return (scores.index(max_score) + 1) / len(article_docs)"
   ]
  },
  {
   "cell_type": "code",
   "execution_count": 840,
   "id": "03958cfb-00c6-4c6e-a9dc-84b369a55be0",
   "metadata": {},
   "outputs": [
    {
     "name": "stderr",
     "output_type": "stream",
     "text": [
      "C:\\Users\\tobia\\AppData\\Local\\Temp/ipykernel_19144/2221616623.py:13: UserWarning: [W008] Evaluating Doc.similarity based on empty vectors.\n",
      "  scores.append(title_doc.similarity(doc))\n"
     ]
    }
   ],
   "source": [
    "df['TABSSIMPSPACY'] = df.apply(get_best_sentence_similarity_position, axis=1)"
   ]
  },
  {
   "cell_type": "code",
   "execution_count": 841,
   "id": "22254d66-9fd1-4e40-aca9-361d421a6a9b",
   "metadata": {},
   "outputs": [],
   "source": [
    "def get_worst_sentence_similarity_position(row):\n",
    "    title = row['title']\n",
    "    article = row ['article']\n",
    "    article_sentences = TextBlob(article).sentences\n",
    "    \n",
    "    title_doc = nlp(title)\n",
    "    article_docs = []\n",
    "    for sentence in article_sentences:\n",
    "        article_docs.append(nlp(str(sentence)))\n",
    "        \n",
    "    scores = []\n",
    "    for doc in article_docs:\n",
    "        scores.append(title_doc.similarity(doc))\n",
    "    \n",
    "    min_score = min(scores)\n",
    "    \n",
    "    return (scores.index(min_score) + 1) / len(article_docs)"
   ]
  },
  {
   "cell_type": "code",
   "execution_count": 842,
   "id": "8269b981-152e-4191-9494-09b6b0318f8e",
   "metadata": {},
   "outputs": [
    {
     "name": "stderr",
     "output_type": "stream",
     "text": [
      "C:\\Users\\tobia\\AppData\\Local\\Temp/ipykernel_19144/3238154872.py:13: UserWarning: [W008] Evaluating Doc.similarity based on empty vectors.\n",
      "  scores.append(title_doc.similarity(doc))\n"
     ]
    }
   ],
   "source": [
    "df['TAWSSIMPSPACY'] = df.apply(get_worst_sentence_similarity_position, axis=1)"
   ]
  },
  {
   "cell_type": "code",
   "execution_count": 843,
   "id": "a917e423-17a6-4273-bd1d-0d9c4916e608",
   "metadata": {},
   "outputs": [],
   "source": [
    "def get_good_sentence_similarity_ratio(row):\n",
    "    title = row['title']\n",
    "    article = row ['article']\n",
    "    article_sentences = TextBlob(article).sentences\n",
    "    \n",
    "    title_doc = nlp(title)\n",
    "    article_docs = []\n",
    "    for sentence in article_sentences:\n",
    "        article_docs.append(nlp(str(sentence)))\n",
    "        \n",
    "    scores = []\n",
    "    for doc in article_docs:\n",
    "        scores.append(title_doc.similarity(doc))\n",
    "        \n",
    "    condition = lambda x: x>=0.90\n",
    "    \n",
    "    return sum(condition(x) for x in scores) / len(article_docs)"
   ]
  },
  {
   "cell_type": "code",
   "execution_count": 844,
   "id": "76d62ebb-b215-4df7-8fb2-1d2d318a6d7e",
   "metadata": {},
   "outputs": [
    {
     "name": "stderr",
     "output_type": "stream",
     "text": [
      "C:\\Users\\tobia\\AppData\\Local\\Temp/ipykernel_19144/1512465258.py:13: UserWarning: [W008] Evaluating Doc.similarity based on empty vectors.\n",
      "  scores.append(title_doc.similarity(doc))\n"
     ]
    }
   ],
   "source": [
    "df['TAGSSIMRATIOSPACY'] = df.apply(get_good_sentence_similarity_ratio, axis=1)"
   ]
  },
  {
   "cell_type": "code",
   "execution_count": 845,
   "id": "1c01d1b9-be28-4a33-84a8-80b9da9cb50e",
   "metadata": {},
   "outputs": [],
   "source": [
    "def count_word_types(text, word_type):\n",
    "    doc = nlp(text)\n",
    "    count = 0\n",
    "    \n",
    "    for token in doc:\n",
    "        if token.pos_ == word_type:\n",
    "            count = count + 1\n",
    "    \n",
    "    return count / len(doc)"
   ]
  },
  {
   "cell_type": "code",
   "execution_count": 846,
   "id": "40df4633-383a-462a-adf2-0e6c730ac162",
   "metadata": {},
   "outputs": [
    {
     "data": {
      "text/plain": [
       "0.125"
      ]
     },
     "execution_count": 846,
     "metadata": {},
     "output_type": "execute_result"
    }
   ],
   "source": [
    "count_word_types(df.iloc[3,1], 'VERB')"
   ]
  },
  {
   "cell_type": "code",
   "execution_count": 847,
   "id": "33a88e4b-71f1-46c5-a72f-5ffa43637c35",
   "metadata": {},
   "outputs": [],
   "source": [
    "df['TVC'] = df['title'].apply(count_word_types, args=('VERB',))"
   ]
  },
  {
   "cell_type": "code",
   "execution_count": 848,
   "id": "40fcb13d-86ae-4630-a407-faa9683b3eaa",
   "metadata": {},
   "outputs": [],
   "source": [
    "df['AVC'] = df['article'].apply(count_word_types, args=('VERB',))"
   ]
  },
  {
   "cell_type": "code",
   "execution_count": 849,
   "id": "c26a0cd4-c75e-4d05-823e-c2ac01d76b95",
   "metadata": {},
   "outputs": [],
   "source": [
    "df['TAVCD'] = df['AVC'] - df['TVC']"
   ]
  },
  {
   "cell_type": "code",
   "execution_count": null,
   "id": "ecd47918-c851-4203-a146-9b2257f157a0",
   "metadata": {},
   "outputs": [],
   "source": []
  },
  {
   "cell_type": "code",
   "execution_count": 850,
   "id": "36fa0e02-0454-40f0-9cb9-7c8ca93f2a77",
   "metadata": {},
   "outputs": [],
   "source": [
    "df['TNC'] = df['title'].apply(count_word_types, args=('NOUN',))"
   ]
  },
  {
   "cell_type": "code",
   "execution_count": 851,
   "id": "7ec01ebd-88d4-4fa9-9e8d-36e2ec65a7b5",
   "metadata": {},
   "outputs": [],
   "source": [
    "df['ANC'] = df['article'].apply(count_word_types, args=('NOUN',))"
   ]
  },
  {
   "cell_type": "code",
   "execution_count": 852,
   "id": "935d5fd2-3c0a-4f45-a88f-83b0fbc2e2b2",
   "metadata": {},
   "outputs": [],
   "source": [
    "df['TANCD'] = df['ANC'] - df['TNC']"
   ]
  },
  {
   "cell_type": "code",
   "execution_count": 853,
   "id": "e1695db6-1283-4382-9c29-8ed21f4cdf6b",
   "metadata": {},
   "outputs": [
    {
     "ename": "KeyError",
     "evalue": "\"['TAVCRATIO' 'TANCRATIO'] not found in axis\"",
     "output_type": "error",
     "traceback": [
      "\u001b[1;31m---------------------------------------------------------------------------\u001b[0m",
      "\u001b[1;31mKeyError\u001b[0m                                  Traceback (most recent call last)",
      "\u001b[1;32m~\\AppData\\Local\\Temp/ipykernel_19144/3325850267.py\u001b[0m in \u001b[0;36m<module>\u001b[1;34m\u001b[0m\n\u001b[1;32m----> 1\u001b[1;33m \u001b[0mdf\u001b[0m \u001b[1;33m=\u001b[0m \u001b[0mdf\u001b[0m\u001b[1;33m.\u001b[0m\u001b[0mdrop\u001b[0m\u001b[1;33m(\u001b[0m\u001b[0mcolumns\u001b[0m\u001b[1;33m=\u001b[0m\u001b[1;33m[\u001b[0m\u001b[1;34m'TAVCRATIO'\u001b[0m\u001b[1;33m,\u001b[0m \u001b[1;34m'TANCRATIO'\u001b[0m\u001b[1;33m]\u001b[0m\u001b[1;33m)\u001b[0m\u001b[1;33m\u001b[0m\u001b[1;33m\u001b[0m\u001b[0m\n\u001b[0m",
      "\u001b[1;32mC:\\ProgramData\\Anaconda3\\lib\\site-packages\\pandas\\util\\_decorators.py\u001b[0m in \u001b[0;36mwrapper\u001b[1;34m(*args, **kwargs)\u001b[0m\n\u001b[0;32m    309\u001b[0m                     \u001b[0mstacklevel\u001b[0m\u001b[1;33m=\u001b[0m\u001b[0mstacklevel\u001b[0m\u001b[1;33m,\u001b[0m\u001b[1;33m\u001b[0m\u001b[1;33m\u001b[0m\u001b[0m\n\u001b[0;32m    310\u001b[0m                 )\n\u001b[1;32m--> 311\u001b[1;33m             \u001b[1;32mreturn\u001b[0m \u001b[0mfunc\u001b[0m\u001b[1;33m(\u001b[0m\u001b[1;33m*\u001b[0m\u001b[0margs\u001b[0m\u001b[1;33m,\u001b[0m \u001b[1;33m**\u001b[0m\u001b[0mkwargs\u001b[0m\u001b[1;33m)\u001b[0m\u001b[1;33m\u001b[0m\u001b[1;33m\u001b[0m\u001b[0m\n\u001b[0m\u001b[0;32m    312\u001b[0m \u001b[1;33m\u001b[0m\u001b[0m\n\u001b[0;32m    313\u001b[0m         \u001b[1;32mreturn\u001b[0m \u001b[0mwrapper\u001b[0m\u001b[1;33m\u001b[0m\u001b[1;33m\u001b[0m\u001b[0m\n",
      "\u001b[1;32mC:\\ProgramData\\Anaconda3\\lib\\site-packages\\pandas\\core\\frame.py\u001b[0m in \u001b[0;36mdrop\u001b[1;34m(self, labels, axis, index, columns, level, inplace, errors)\u001b[0m\n\u001b[0;32m   4904\u001b[0m                 \u001b[0mweight\u001b[0m  \u001b[1;36m1.0\u001b[0m     \u001b[1;36m0.8\u001b[0m\u001b[1;33m\u001b[0m\u001b[1;33m\u001b[0m\u001b[0m\n\u001b[0;32m   4905\u001b[0m         \"\"\"\n\u001b[1;32m-> 4906\u001b[1;33m         return super().drop(\n\u001b[0m\u001b[0;32m   4907\u001b[0m             \u001b[0mlabels\u001b[0m\u001b[1;33m=\u001b[0m\u001b[0mlabels\u001b[0m\u001b[1;33m,\u001b[0m\u001b[1;33m\u001b[0m\u001b[1;33m\u001b[0m\u001b[0m\n\u001b[0;32m   4908\u001b[0m             \u001b[0maxis\u001b[0m\u001b[1;33m=\u001b[0m\u001b[0maxis\u001b[0m\u001b[1;33m,\u001b[0m\u001b[1;33m\u001b[0m\u001b[1;33m\u001b[0m\u001b[0m\n",
      "\u001b[1;32mC:\\ProgramData\\Anaconda3\\lib\\site-packages\\pandas\\core\\generic.py\u001b[0m in \u001b[0;36mdrop\u001b[1;34m(self, labels, axis, index, columns, level, inplace, errors)\u001b[0m\n\u001b[0;32m   4148\u001b[0m         \u001b[1;32mfor\u001b[0m \u001b[0maxis\u001b[0m\u001b[1;33m,\u001b[0m \u001b[0mlabels\u001b[0m \u001b[1;32min\u001b[0m \u001b[0maxes\u001b[0m\u001b[1;33m.\u001b[0m\u001b[0mitems\u001b[0m\u001b[1;33m(\u001b[0m\u001b[1;33m)\u001b[0m\u001b[1;33m:\u001b[0m\u001b[1;33m\u001b[0m\u001b[1;33m\u001b[0m\u001b[0m\n\u001b[0;32m   4149\u001b[0m             \u001b[1;32mif\u001b[0m \u001b[0mlabels\u001b[0m \u001b[1;32mis\u001b[0m \u001b[1;32mnot\u001b[0m \u001b[1;32mNone\u001b[0m\u001b[1;33m:\u001b[0m\u001b[1;33m\u001b[0m\u001b[1;33m\u001b[0m\u001b[0m\n\u001b[1;32m-> 4150\u001b[1;33m                 \u001b[0mobj\u001b[0m \u001b[1;33m=\u001b[0m \u001b[0mobj\u001b[0m\u001b[1;33m.\u001b[0m\u001b[0m_drop_axis\u001b[0m\u001b[1;33m(\u001b[0m\u001b[0mlabels\u001b[0m\u001b[1;33m,\u001b[0m \u001b[0maxis\u001b[0m\u001b[1;33m,\u001b[0m \u001b[0mlevel\u001b[0m\u001b[1;33m=\u001b[0m\u001b[0mlevel\u001b[0m\u001b[1;33m,\u001b[0m \u001b[0merrors\u001b[0m\u001b[1;33m=\u001b[0m\u001b[0merrors\u001b[0m\u001b[1;33m)\u001b[0m\u001b[1;33m\u001b[0m\u001b[1;33m\u001b[0m\u001b[0m\n\u001b[0m\u001b[0;32m   4151\u001b[0m \u001b[1;33m\u001b[0m\u001b[0m\n\u001b[0;32m   4152\u001b[0m         \u001b[1;32mif\u001b[0m \u001b[0minplace\u001b[0m\u001b[1;33m:\u001b[0m\u001b[1;33m\u001b[0m\u001b[1;33m\u001b[0m\u001b[0m\n",
      "\u001b[1;32mC:\\ProgramData\\Anaconda3\\lib\\site-packages\\pandas\\core\\generic.py\u001b[0m in \u001b[0;36m_drop_axis\u001b[1;34m(self, labels, axis, level, errors)\u001b[0m\n\u001b[0;32m   4183\u001b[0m                 \u001b[0mnew_axis\u001b[0m \u001b[1;33m=\u001b[0m \u001b[0maxis\u001b[0m\u001b[1;33m.\u001b[0m\u001b[0mdrop\u001b[0m\u001b[1;33m(\u001b[0m\u001b[0mlabels\u001b[0m\u001b[1;33m,\u001b[0m \u001b[0mlevel\u001b[0m\u001b[1;33m=\u001b[0m\u001b[0mlevel\u001b[0m\u001b[1;33m,\u001b[0m \u001b[0merrors\u001b[0m\u001b[1;33m=\u001b[0m\u001b[0merrors\u001b[0m\u001b[1;33m)\u001b[0m\u001b[1;33m\u001b[0m\u001b[1;33m\u001b[0m\u001b[0m\n\u001b[0;32m   4184\u001b[0m             \u001b[1;32melse\u001b[0m\u001b[1;33m:\u001b[0m\u001b[1;33m\u001b[0m\u001b[1;33m\u001b[0m\u001b[0m\n\u001b[1;32m-> 4185\u001b[1;33m                 \u001b[0mnew_axis\u001b[0m \u001b[1;33m=\u001b[0m \u001b[0maxis\u001b[0m\u001b[1;33m.\u001b[0m\u001b[0mdrop\u001b[0m\u001b[1;33m(\u001b[0m\u001b[0mlabels\u001b[0m\u001b[1;33m,\u001b[0m \u001b[0merrors\u001b[0m\u001b[1;33m=\u001b[0m\u001b[0merrors\u001b[0m\u001b[1;33m)\u001b[0m\u001b[1;33m\u001b[0m\u001b[1;33m\u001b[0m\u001b[0m\n\u001b[0m\u001b[0;32m   4186\u001b[0m             \u001b[0mresult\u001b[0m \u001b[1;33m=\u001b[0m \u001b[0mself\u001b[0m\u001b[1;33m.\u001b[0m\u001b[0mreindex\u001b[0m\u001b[1;33m(\u001b[0m\u001b[1;33m**\u001b[0m\u001b[1;33m{\u001b[0m\u001b[0maxis_name\u001b[0m\u001b[1;33m:\u001b[0m \u001b[0mnew_axis\u001b[0m\u001b[1;33m}\u001b[0m\u001b[1;33m)\u001b[0m\u001b[1;33m\u001b[0m\u001b[1;33m\u001b[0m\u001b[0m\n\u001b[0;32m   4187\u001b[0m \u001b[1;33m\u001b[0m\u001b[0m\n",
      "\u001b[1;32mC:\\ProgramData\\Anaconda3\\lib\\site-packages\\pandas\\core\\indexes\\base.py\u001b[0m in \u001b[0;36mdrop\u001b[1;34m(self, labels, errors)\u001b[0m\n\u001b[0;32m   6015\u001b[0m         \u001b[1;32mif\u001b[0m \u001b[0mmask\u001b[0m\u001b[1;33m.\u001b[0m\u001b[0many\u001b[0m\u001b[1;33m(\u001b[0m\u001b[1;33m)\u001b[0m\u001b[1;33m:\u001b[0m\u001b[1;33m\u001b[0m\u001b[1;33m\u001b[0m\u001b[0m\n\u001b[0;32m   6016\u001b[0m             \u001b[1;32mif\u001b[0m \u001b[0merrors\u001b[0m \u001b[1;33m!=\u001b[0m \u001b[1;34m\"ignore\"\u001b[0m\u001b[1;33m:\u001b[0m\u001b[1;33m\u001b[0m\u001b[1;33m\u001b[0m\u001b[0m\n\u001b[1;32m-> 6017\u001b[1;33m                 \u001b[1;32mraise\u001b[0m \u001b[0mKeyError\u001b[0m\u001b[1;33m(\u001b[0m\u001b[1;34mf\"{labels[mask]} not found in axis\"\u001b[0m\u001b[1;33m)\u001b[0m\u001b[1;33m\u001b[0m\u001b[1;33m\u001b[0m\u001b[0m\n\u001b[0m\u001b[0;32m   6018\u001b[0m             \u001b[0mindexer\u001b[0m \u001b[1;33m=\u001b[0m \u001b[0mindexer\u001b[0m\u001b[1;33m[\u001b[0m\u001b[1;33m~\u001b[0m\u001b[0mmask\u001b[0m\u001b[1;33m]\u001b[0m\u001b[1;33m\u001b[0m\u001b[1;33m\u001b[0m\u001b[0m\n\u001b[0;32m   6019\u001b[0m         \u001b[1;32mreturn\u001b[0m \u001b[0mself\u001b[0m\u001b[1;33m.\u001b[0m\u001b[0mdelete\u001b[0m\u001b[1;33m(\u001b[0m\u001b[0mindexer\u001b[0m\u001b[1;33m)\u001b[0m\u001b[1;33m\u001b[0m\u001b[1;33m\u001b[0m\u001b[0m\n",
      "\u001b[1;31mKeyError\u001b[0m: \"['TAVCRATIO' 'TANCRATIO'] not found in axis\""
     ]
    }
   ],
   "source": [
    "df = df.drop(columns=['TAVCRATIO', 'TANCRATIO'])"
   ]
  },
  {
   "cell_type": "code",
   "execution_count": null,
   "id": "c5c40b53-c953-4ef9-a325-e37e2f0f965e",
   "metadata": {},
   "outputs": [],
   "source": [
    "df.to_csv('../../data/2013-2020_US/extracted_features_round3.csv')\n",
    "training_set = df.drop(columns=['index', 'title', 'article', 'title_keywords', 'article_keywords'])\n",
    "training_set = training_set.rename(columns={'label':'CV'})\n",
    "training_set.to_csv('../../data/2013-2020_US/extracted_features_round3_training.csv')"
   ]
  },
  {
   "cell_type": "code",
   "execution_count": null,
   "id": "e7dd6da9-ca72-4a78-8931-333ccf4e4307",
   "metadata": {},
   "outputs": [],
   "source": [
    "df.TABSSIMSPACY.hist()"
   ]
  },
  {
   "cell_type": "code",
   "execution_count": null,
   "id": "39247c43-3410-44a6-b5a2-4a561c9fc728",
   "metadata": {},
   "outputs": [],
   "source": []
  },
  {
   "cell_type": "code",
   "execution_count": null,
   "id": "84caa3ce-f24a-42c4-a40d-2a3cb480b84c",
   "metadata": {},
   "outputs": [],
   "source": []
  }
 ],
 "metadata": {
  "kernelspec": {
   "display_name": "Python 3 (ipykernel)",
   "language": "python",
   "name": "python3"
  },
  "language_info": {
   "codemirror_mode": {
    "name": "ipython",
    "version": 3
   },
   "file_extension": ".py",
   "mimetype": "text/x-python",
   "name": "python",
   "nbconvert_exporter": "python",
   "pygments_lexer": "ipython3",
   "version": "3.9.7"
  }
 },
 "nbformat": 4,
 "nbformat_minor": 5
}
