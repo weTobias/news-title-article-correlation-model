{
 "cells": [
  {
   "cell_type": "code",
   "execution_count": 1,
   "id": "2149e842-094e-4ae2-9154-40ec3999a98a",
   "metadata": {},
   "outputs": [],
   "source": [
    "import pandas as pd"
   ]
  },
  {
   "cell_type": "code",
   "execution_count": 2,
   "id": "13d8d23c-9dca-42fc-b4b1-ede8c901c45b",
   "metadata": {},
   "outputs": [],
   "source": [
    "df = pd.read_csv('../../data/all-the-news-2-1-cleaned.csv', header=0, dtype={'title': 'str', 'article': 'str'})"
   ]
  },
  {
   "cell_type": "code",
   "execution_count": 49,
   "id": "4d943baa-2d33-4efb-a34b-9193c6f820a0",
   "metadata": {},
   "outputs": [],
   "source": [
    "sample = df.sample(1000, random_state=8888)"
   ]
  },
  {
   "cell_type": "code",
   "execution_count": 50,
   "id": "b450544b-bc34-4f18-8e42-3cdaad3103fe",
   "metadata": {},
   "outputs": [],
   "source": [
    "del sample['Unnamed: 0']"
   ]
  },
  {
   "cell_type": "code",
   "execution_count": 51,
   "id": "3a647300-98ba-4a30-841c-1834531b9deb",
   "metadata": {},
   "outputs": [],
   "source": [
    "sample.to_csv('../../data/all-the-news-2-1-cleaned-sample1000.csv')"
   ]
  },
  {
   "cell_type": "code",
   "execution_count": null,
   "id": "d04d35e3-e2b9-4e73-ba02-61a21cb54496",
   "metadata": {},
   "outputs": [],
   "source": []
  }
 ],
 "metadata": {
  "kernelspec": {
   "display_name": "Python 3 (ipykernel)",
   "language": "python",
   "name": "python3"
  },
  "language_info": {
   "codemirror_mode": {
    "name": "ipython",
    "version": 3
   },
   "file_extension": ".py",
   "mimetype": "text/x-python",
   "name": "python",
   "nbconvert_exporter": "python",
   "pygments_lexer": "ipython3",
   "version": "3.9.7"
  }
 },
 "nbformat": 4,
 "nbformat_minor": 5
}
