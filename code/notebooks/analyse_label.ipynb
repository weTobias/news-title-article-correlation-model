{
 "cells": [
  {
   "cell_type": "code",
   "execution_count": 36,
   "id": "628257b2-db0c-41d1-887d-563bb65e1cf4",
   "metadata": {},
   "outputs": [],
   "source": [
    "import pandas as pd\n",
    "import math\n",
    "import matplotlib.pyplot as plt\n",
    "import numpy as np"
   ]
  },
  {
   "cell_type": "code",
   "execution_count": 2,
   "id": "1942d1dd-f633-4201-b148-bb974b888e26",
   "metadata": {},
   "outputs": [],
   "source": [
    "df = pd.read_csv('../../data/labeled-cleaned.csv', header=0)"
   ]
  },
  {
   "cell_type": "code",
   "execution_count": 3,
   "id": "7d1865cb-298c-446f-8094-859dbf0763e2",
   "metadata": {},
   "outputs": [
    {
     "data": {
      "text/html": [
       "<div>\n",
       "<style scoped>\n",
       "    .dataframe tbody tr th:only-of-type {\n",
       "        vertical-align: middle;\n",
       "    }\n",
       "\n",
       "    .dataframe tbody tr th {\n",
       "        vertical-align: top;\n",
       "    }\n",
       "\n",
       "    .dataframe thead th {\n",
       "        text-align: right;\n",
       "    }\n",
       "</style>\n",
       "<table border=\"1\" class=\"dataframe\">\n",
       "  <thead>\n",
       "    <tr style=\"text-align: right;\">\n",
       "      <th></th>\n",
       "      <th>index</th>\n",
       "      <th>title</th>\n",
       "      <th>article</th>\n",
       "      <th>label</th>\n",
       "    </tr>\n",
       "  </thead>\n",
       "  <tbody>\n",
       "    <tr>\n",
       "      <th>0</th>\n",
       "      <td>1305</td>\n",
       "      <td>Nikki Bella Now Believes John Cena Wants Kids,...</td>\n",
       "      <td>John Cena's very public campaign to win back N...</td>\n",
       "      <td>4.5</td>\n",
       "    </tr>\n",
       "    <tr>\n",
       "      <th>1</th>\n",
       "      <td>6528</td>\n",
       "      <td>Rouhani says Iran will keep producing missiles...</td>\n",
       "      <td>DUBAI (Reuters) - Iran will continue to produc...</td>\n",
       "      <td>3.0</td>\n",
       "    </tr>\n",
       "    <tr>\n",
       "      <th>2</th>\n",
       "      <td>13823</td>\n",
       "      <td>Jerry Jones: Ezekiel Elliott Won't Be Suspended</td>\n",
       "      <td>Jerry Jones tells TMZ Sports he does not belie...</td>\n",
       "      <td>4.5</td>\n",
       "    </tr>\n",
       "    <tr>\n",
       "      <th>3</th>\n",
       "      <td>29908</td>\n",
       "      <td>Sen. Marco Rubio just threatened to “take care...</td>\n",
       "      <td>The decorum of the United States Senate was on...</td>\n",
       "      <td>3.5</td>\n",
       "    </tr>\n",
       "    <tr>\n",
       "      <th>4</th>\n",
       "      <td>31325</td>\n",
       "      <td>Darius McCrary Says Estranged Wife's Out for F...</td>\n",
       "      <td>Former \"Family Matters\" star Darius McCrary to...</td>\n",
       "      <td>3.0</td>\n",
       "    </tr>\n",
       "    <tr>\n",
       "      <th>...</th>\n",
       "      <td>...</td>\n",
       "      <td>...</td>\n",
       "      <td>...</td>\n",
       "      <td>...</td>\n",
       "    </tr>\n",
       "    <tr>\n",
       "      <th>962</th>\n",
       "      <td>2678751</td>\n",
       "      <td>Stimulus bill: When will you see money and ben...</td>\n",
       "      <td>(CNN)Congress and President Donald Trump have...</td>\n",
       "      <td>3.5</td>\n",
       "    </tr>\n",
       "    <tr>\n",
       "      <th>963</th>\n",
       "      <td>2679327</td>\n",
       "      <td>California coronavirus: Doctors 'cautiously ho...</td>\n",
       "      <td>(CNN)Two weeks after San Francisco issued the...</td>\n",
       "      <td>4.0</td>\n",
       "    </tr>\n",
       "    <tr>\n",
       "      <th>964</th>\n",
       "      <td>2683873</td>\n",
       "      <td>$4.3 Million Homes in California</td>\n",
       "      <td>What you Get A French Caribbean-inspired home ...</td>\n",
       "      <td>4.0</td>\n",
       "    </tr>\n",
       "    <tr>\n",
       "      <th>965</th>\n",
       "      <td>2684134</td>\n",
       "      <td>Ventilators and Coronavirus: Amid Desperation,...</td>\n",
       "      <td>President Trump wants the private sector to fi...</td>\n",
       "      <td>2.5</td>\n",
       "    </tr>\n",
       "    <tr>\n",
       "      <th>966</th>\n",
       "      <td>2688615</td>\n",
       "      <td>How to choose a free videoconference app</td>\n",
       "      <td>Most people are currently relying on videoconf...</td>\n",
       "      <td>4.5</td>\n",
       "    </tr>\n",
       "  </tbody>\n",
       "</table>\n",
       "<p>967 rows × 4 columns</p>\n",
       "</div>"
      ],
      "text/plain": [
       "       index                                              title  \\\n",
       "0       1305  Nikki Bella Now Believes John Cena Wants Kids,...   \n",
       "1       6528  Rouhani says Iran will keep producing missiles...   \n",
       "2      13823    Jerry Jones: Ezekiel Elliott Won't Be Suspended   \n",
       "3      29908  Sen. Marco Rubio just threatened to “take care...   \n",
       "4      31325  Darius McCrary Says Estranged Wife's Out for F...   \n",
       "..       ...                                                ...   \n",
       "962  2678751  Stimulus bill: When will you see money and ben...   \n",
       "963  2679327  California coronavirus: Doctors 'cautiously ho...   \n",
       "964  2683873                   $4.3 Million Homes in California   \n",
       "965  2684134  Ventilators and Coronavirus: Amid Desperation,...   \n",
       "966  2688615           How to choose a free videoconference app   \n",
       "\n",
       "                                               article  label  \n",
       "0    John Cena's very public campaign to win back N...    4.5  \n",
       "1    DUBAI (Reuters) - Iran will continue to produc...    3.0  \n",
       "2    Jerry Jones tells TMZ Sports he does not belie...    4.5  \n",
       "3    The decorum of the United States Senate was on...    3.5  \n",
       "4    Former \"Family Matters\" star Darius McCrary to...    3.0  \n",
       "..                                                 ...    ...  \n",
       "962   (CNN)Congress and President Donald Trump have...    3.5  \n",
       "963   (CNN)Two weeks after San Francisco issued the...    4.0  \n",
       "964  What you Get A French Caribbean-inspired home ...    4.0  \n",
       "965  President Trump wants the private sector to fi...    2.5  \n",
       "966  Most people are currently relying on videoconf...    4.5  \n",
       "\n",
       "[967 rows x 4 columns]"
      ]
     },
     "execution_count": 3,
     "metadata": {},
     "output_type": "execute_result"
    }
   ],
   "source": [
    "df"
   ]
  },
  {
   "cell_type": "code",
   "execution_count": 5,
   "id": "8ae44eb5-b15c-4fde-8593-432a7743e813",
   "metadata": {},
   "outputs": [],
   "source": [
    "df_equal = df[df['title'] == df['article']]"
   ]
  },
  {
   "cell_type": "code",
   "execution_count": 6,
   "id": "3f16ac7c-1086-4546-8ec9-6a67c9819e05",
   "metadata": {},
   "outputs": [
    {
     "data": {
      "text/html": [
       "<div>\n",
       "<style scoped>\n",
       "    .dataframe tbody tr th:only-of-type {\n",
       "        vertical-align: middle;\n",
       "    }\n",
       "\n",
       "    .dataframe tbody tr th {\n",
       "        vertical-align: top;\n",
       "    }\n",
       "\n",
       "    .dataframe thead th {\n",
       "        text-align: right;\n",
       "    }\n",
       "</style>\n",
       "<table border=\"1\" class=\"dataframe\">\n",
       "  <thead>\n",
       "    <tr style=\"text-align: right;\">\n",
       "      <th></th>\n",
       "      <th>index</th>\n",
       "      <th>title</th>\n",
       "      <th>article</th>\n",
       "      <th>label</th>\n",
       "    </tr>\n",
       "  </thead>\n",
       "  <tbody>\n",
       "    <tr>\n",
       "      <th>590</th>\n",
       "      <td>1605034</td>\n",
       "      <td>JPMORGAN CHASE CFO - BANK FUTURE EXPENSES NOT ...</td>\n",
       "      <td>JPMORGAN CHASE CFO - BANK FUTURE EXPENSES NOT ...</td>\n",
       "      <td>5.0</td>\n",
       "    </tr>\n",
       "    <tr>\n",
       "      <th>606</th>\n",
       "      <td>1633272</td>\n",
       "      <td>U.S. IMPOSING 17.5 PERCENT TARIFF ON MEXICAN T...</td>\n",
       "      <td>U.S. IMPOSING 17.5 PERCENT TARIFF ON MEXICAN T...</td>\n",
       "      <td>3.5</td>\n",
       "    </tr>\n",
       "    <tr>\n",
       "      <th>836</th>\n",
       "      <td>2309597</td>\n",
       "      <td>U.S. FEDERAL AVIATION ADMINISTRATION SAYS DOWN...</td>\n",
       "      <td>U.S. FEDERAL AVIATION ADMINISTRATION SAYS DOWN...</td>\n",
       "      <td>3.5</td>\n",
       "    </tr>\n",
       "    <tr>\n",
       "      <th>848</th>\n",
       "      <td>2356707</td>\n",
       "      <td>MEDIOBANCA SAYS CONSUMER BANKING TO ACCOUNT FO...</td>\n",
       "      <td>MEDIOBANCA SAYS CONSUMER BANKING TO ACCOUNT FO...</td>\n",
       "      <td>4.5</td>\n",
       "    </tr>\n",
       "    <tr>\n",
       "      <th>855</th>\n",
       "      <td>2371517</td>\n",
       "      <td>SHANGHAI'S MOST ACTIVE NICKEL CONTRACT FALLS 2...</td>\n",
       "      <td>SHANGHAI'S MOST ACTIVE NICKEL CONTRACT FALLS 2...</td>\n",
       "      <td>4.0</td>\n",
       "    </tr>\n",
       "    <tr>\n",
       "      <th>948</th>\n",
       "      <td>2636680</td>\n",
       "      <td>ITALIAN GOVERNMENT CONSIDERS SHUTTING DOWN MIL...</td>\n",
       "      <td>ITALIAN GOVERNMENT CONSIDERS SHUTTING DOWN MIL...</td>\n",
       "      <td>3.5</td>\n",
       "    </tr>\n",
       "  </tbody>\n",
       "</table>\n",
       "</div>"
      ],
      "text/plain": [
       "       index                                              title  \\\n",
       "590  1605034  JPMORGAN CHASE CFO - BANK FUTURE EXPENSES NOT ...   \n",
       "606  1633272  U.S. IMPOSING 17.5 PERCENT TARIFF ON MEXICAN T...   \n",
       "836  2309597  U.S. FEDERAL AVIATION ADMINISTRATION SAYS DOWN...   \n",
       "848  2356707  MEDIOBANCA SAYS CONSUMER BANKING TO ACCOUNT FO...   \n",
       "855  2371517  SHANGHAI'S MOST ACTIVE NICKEL CONTRACT FALLS 2...   \n",
       "948  2636680  ITALIAN GOVERNMENT CONSIDERS SHUTTING DOWN MIL...   \n",
       "\n",
       "                                               article  label  \n",
       "590  JPMORGAN CHASE CFO - BANK FUTURE EXPENSES NOT ...    5.0  \n",
       "606  U.S. IMPOSING 17.5 PERCENT TARIFF ON MEXICAN T...    3.5  \n",
       "836  U.S. FEDERAL AVIATION ADMINISTRATION SAYS DOWN...    3.5  \n",
       "848  MEDIOBANCA SAYS CONSUMER BANKING TO ACCOUNT FO...    4.5  \n",
       "855  SHANGHAI'S MOST ACTIVE NICKEL CONTRACT FALLS 2...    4.0  \n",
       "948  ITALIAN GOVERNMENT CONSIDERS SHUTTING DOWN MIL...    3.5  "
      ]
     },
     "execution_count": 6,
     "metadata": {},
     "output_type": "execute_result"
    }
   ],
   "source": [
    "df_equal"
   ]
  },
  {
   "cell_type": "code",
   "execution_count": null,
   "id": "31daf772-aa3c-4d71-ad96-8c43c892ff08",
   "metadata": {},
   "outputs": [],
   "source": []
  },
  {
   "cell_type": "code",
   "execution_count": null,
   "id": "4c64971b-f846-4a2c-b195-d48a181e35be",
   "metadata": {},
   "outputs": [],
   "source": []
  },
  {
   "cell_type": "code",
   "execution_count": null,
   "id": "0b7f5d27-dddd-457d-b503-d039af869fee",
   "metadata": {},
   "outputs": [],
   "source": []
  },
  {
   "cell_type": "code",
   "execution_count": 52,
   "id": "cd67e381-4d9e-4777-914e-b57763f7207f",
   "metadata": {},
   "outputs": [
    {
     "data": {
      "image/png": "[encoded data removed]",
      "text/plain": [
       "<Figure size 432x288 with 1 Axes>"
      ]
     },
     "metadata": {},
     "output_type": "display_data"
    }
   ],
   "source": [
    "bins = [0.75,1.25,1.75,2.25,2.75,3.25,3.75,4.25,4.75,5.25]\n",
    "ax = df.label.hist(bins=bins)\n",
    "ax.xaxis.label.set_color('white')\n",
    "ax.yaxis.label.set_color('white')\n",
    "ax.patch.set_alpha(0)\n",
    "\n",
    "ax.tick_params(axis='x', colors='white')\n",
    "ax.tick_params(axis='y', colors='white')\n",
    "\n",
    "plt.xticks(np.arange(1, 5.5, 0.5))\n",
    "\n",
    "ax.spines['left'].set_color('white')\n",
    "ax.spines['top'].set_color('white')\n",
    "ax.spines['right'].set_color('white')\n",
    "ax.spines['bottom'].set_color('white')\n",
    "plt.gcf().subplots_adjust(left=0.25)\n",
    "fig = ax.get_figure()\n",
    "ax.set_facecolor((0.1, 0.1, 0.1))\n",
    "fig.patch.set_facecolor((0.1, 0.1, 0.1))\n",
    "plt.title(label=\"Label distribution\",\n",
    "          fontsize=20,\n",
    "          color=\"white\")\n",
    "plt.grid(c='gray')\n",
    "fig.savefig('../../images/label_distribution.png', transparent=False)"
   ]
  },
  {
   "cell_type": "code",
   "execution_count": 11,
   "id": "47a6230e-1ec7-4ea5-8f0d-dd0e5fb77f1d",
   "metadata": {},
   "outputs": [
    {
     "data": {
      "image/png": "[encoded data removed]",
      "text/plain": [
       "<Figure size 432x288 with 1 Axes>"
      ]
     },
     "metadata": {
      "needs_background": "dark"
     },
     "output_type": "display_data"
    }
   ],
   "source": [
    "ax = df.label.hist()\n",
    "plt.xlabel(\"Correlation value\")\n",
    "plt.ylabel(\"Count\")\n",
    "ax.xaxis.label.set_color('white')\n",
    "ax.yaxis.label.set_color('white')\n",
    "ax.patch.set_alpha(0)\n",
    "\n",
    "ax.tick_params(axis='x', colors='white')\n",
    "ax.tick_params(axis='y', colors='white')\n",
    "\n",
    "ax.spines['left'].set_color('white')\n",
    "ax.spines['top'].set_color('white')"
   ]
  },
  {
   "cell_type": "code",
   "execution_count": 26,
   "id": "f1c2f701-5c66-4a66-9272-a498497a4ab1",
   "metadata": {},
   "outputs": [],
   "source": [
    "fig = ax.get_figure()\n",
    "fig.savefig('../../images/label_hist.png', transparent=True)"
   ]
  },
  {
   "cell_type": "code",
   "execution_count": 7,
   "id": "f28388a8-36d7-48cb-ac34-840137669828",
   "metadata": {},
   "outputs": [
    {
     "data": {
      "text/plain": [
       "0.4538614870434518"
      ]
     },
     "execution_count": 7,
     "metadata": {},
     "output_type": "execute_result"
    }
   ],
   "source": [
    "df.label.var()"
   ]
  },
  {
   "cell_type": "code",
   "execution_count": 43,
   "id": "b52d16e6-4a47-4c82-a5b2-2be4d20250e9",
   "metadata": {},
   "outputs": [],
   "source": [
    "min_label = df.groupby(df['index']).aggregate({'title': 'first', 'article': 'first', 'label': 'min'})"
   ]
  },
  {
   "cell_type": "code",
   "execution_count": 44,
   "id": "8a9b5618-8fd9-4b64-b51b-8a5ba9a8df7e",
   "metadata": {},
   "outputs": [],
   "source": [
    "max_label = df.groupby(df['index']).aggregate({'title': 'first', 'article': 'first', 'label': 'max'})"
   ]
  },
  {
   "cell_type": "code",
   "execution_count": 45,
   "id": "3af307e9-6c7f-49ed-a83e-cd873b804ee5",
   "metadata": {},
   "outputs": [],
   "source": [
    "dist_df = pd.DataFrame()"
   ]
  },
  {
   "cell_type": "code",
   "execution_count": 46,
   "id": "970e5269-effe-4d4d-b8a0-446acbb25012",
   "metadata": {},
   "outputs": [],
   "source": [
    "dist_df['dist'] = max_label['label'] - min_label['label']"
   ]
  },
  {
   "cell_type": "code",
   "execution_count": 47,
   "id": "1be5008e-1231-4d67-9843-390846ef1703",
   "metadata": {},
   "outputs": [
    {
     "data": {
      "text/html": [
       "<div>\n",
       "<style scoped>\n",
       "    .dataframe tbody tr th:only-of-type {\n",
       "        vertical-align: middle;\n",
       "    }\n",
       "\n",
       "    .dataframe tbody tr th {\n",
       "        vertical-align: top;\n",
       "    }\n",
       "\n",
       "    .dataframe thead th {\n",
       "        text-align: right;\n",
       "    }\n",
       "</style>\n",
       "<table border=\"1\" class=\"dataframe\">\n",
       "  <thead>\n",
       "    <tr style=\"text-align: right;\">\n",
       "      <th></th>\n",
       "      <th>dist</th>\n",
       "    </tr>\n",
       "    <tr>\n",
       "      <th>index</th>\n",
       "      <th></th>\n",
       "    </tr>\n",
       "  </thead>\n",
       "  <tbody>\n",
       "    <tr>\n",
       "      <th>1305</th>\n",
       "      <td>0.0</td>\n",
       "    </tr>\n",
       "    <tr>\n",
       "      <th>6528</th>\n",
       "      <td>0.0</td>\n",
       "    </tr>\n",
       "    <tr>\n",
       "      <th>13823</th>\n",
       "      <td>0.0</td>\n",
       "    </tr>\n",
       "    <tr>\n",
       "      <th>29908</th>\n",
       "      <td>0.0</td>\n",
       "    </tr>\n",
       "    <tr>\n",
       "      <th>31325</th>\n",
       "      <td>0.0</td>\n",
       "    </tr>\n",
       "    <tr>\n",
       "      <th>...</th>\n",
       "      <td>...</td>\n",
       "    </tr>\n",
       "    <tr>\n",
       "      <th>2678751</th>\n",
       "      <td>0.0</td>\n",
       "    </tr>\n",
       "    <tr>\n",
       "      <th>2679327</th>\n",
       "      <td>0.0</td>\n",
       "    </tr>\n",
       "    <tr>\n",
       "      <th>2683873</th>\n",
       "      <td>0.0</td>\n",
       "    </tr>\n",
       "    <tr>\n",
       "      <th>2684134</th>\n",
       "      <td>0.0</td>\n",
       "    </tr>\n",
       "    <tr>\n",
       "      <th>2688615</th>\n",
       "      <td>0.0</td>\n",
       "    </tr>\n",
       "  </tbody>\n",
       "</table>\n",
       "<p>967 rows × 1 columns</p>\n",
       "</div>"
      ],
      "text/plain": [
       "         dist\n",
       "index        \n",
       "1305      0.0\n",
       "6528      0.0\n",
       "13823     0.0\n",
       "29908     0.0\n",
       "31325     0.0\n",
       "...       ...\n",
       "2678751   0.0\n",
       "2679327   0.0\n",
       "2683873   0.0\n",
       "2684134   0.0\n",
       "2688615   0.0\n",
       "\n",
       "[967 rows x 1 columns]"
      ]
     },
     "execution_count": 47,
     "metadata": {},
     "output_type": "execute_result"
    }
   ],
   "source": [
    "dist_df"
   ]
  },
  {
   "cell_type": "code",
   "execution_count": null,
   "id": "ba2b0f0a-b7f8-4988-b0c7-93c874768f81",
   "metadata": {},
   "outputs": [],
   "source": [
    "bins = [0.75,1.25,1.75,2.25,2.75,3.25,3.75,4.25,4.75,5.25]\n",
    "ax = df.label.hist(bins=bins)\n",
    "ax.xaxis.label.set_color('white')\n",
    "ax.yaxis.label.set_color('white')\n",
    "ax.patch.set_alpha(0)\n",
    "\n",
    "ax.tick_params(axis='x', colors='white')\n",
    "ax.tick_params(axis='y', colors='white')\n",
    "\n",
    "plt.xticks(np.arange(0, 5, 0.5))\n",
    "\n",
    "ax.spines['left'].set_color('white')\n",
    "ax.spines['top'].set_color('white')\n",
    "ax.spines['right'].set_color('white')\n",
    "ax.spines['bottom'].set_color('white')\n",
    "plt.gcf().subplots_adjust(left=0.25)\n",
    "fig = ax.get_figure()\n",
    "ax.set_facecolor((0.1, 0.1, 0.1))\n",
    "fig.patch.set_facecolor((0.1, 0.1, 0.1))\n",
    "plt.title(label=\"Label distribution\",\n",
    "          fontsize=20,\n",
    "          color=\"white\")\n",
    "plt.grid(c='gray')\n",
    "fig.savefig('../../images/label_distribution.png', transparent=False)"
   ]
  },
  {
   "cell_type": "code",
   "execution_count": 48,
   "id": "4c499745-f3db-4d80-b085-ecda0a5b4726",
   "metadata": {},
   "outputs": [
    {
     "data": {
      "image/png": "[encoded data removed]",
      "text/plain": [
       "<Figure size 432x288 with 1 Axes>"
      ]
     },
     "metadata": {
      "needs_background": "dark"
     },
     "output_type": "display_data"
    }
   ],
   "source": [
    "ax = dist_df.dist.hist()\n",
    "plt.xlabel(\"Correlation distance\")\n",
    "plt.ylabel(\"Count\")\n",
    "ax.xaxis.label.set_color('white')\n",
    "ax.yaxis.label.set_color('white')\n",
    "ax.patch.set_alpha(0)\n",
    "\n",
    "ax.tick_params(axis='x', colors='white')\n",
    "ax.tick_params(axis='y', colors='white')\n",
    "\n",
    "ax.spines['left'].set_color('white')\n",
    "ax.spines['top'].set_color('white')"
   ]
  },
  {
   "cell_type": "code",
   "execution_count": 33,
   "id": "5b3fe1cb-6b47-4aab-b62f-07e058445780",
   "metadata": {},
   "outputs": [],
   "source": [
    "fig = ax.get_figure()\n",
    "fig.savefig('../../images/label_distance_hist.png', transparent=True)"
   ]
  },
  {
   "cell_type": "code",
   "execution_count": 35,
   "id": "5526602b-72e4-4736-9a9d-25e4a2ddf61c",
   "metadata": {},
   "outputs": [
    {
     "data": {
      "text/plain": [
       "0.781486786522539"
      ]
     },
     "execution_count": 35,
     "metadata": {},
     "output_type": "execute_result"
    }
   ],
   "source": [
    "dist_df.dist.var()"
   ]
  },
  {
   "cell_type": "code",
   "execution_count": null,
   "id": "f9505d35-7395-4c56-8dea-1d33c1f56aea",
   "metadata": {},
   "outputs": [],
   "source": []
  },
  {
   "cell_type": "code",
   "execution_count": null,
   "id": "5c13b6a3-1ef7-453d-beae-8cba64d19f72",
   "metadata": {},
   "outputs": [],
   "source": []
  },
  {
   "cell_type": "code",
   "execution_count": null,
   "id": "fabe85b8-6f74-4ebb-bb3b-d40b8376ff16",
   "metadata": {},
   "outputs": [],
   "source": []
  },
  {
   "cell_type": "code",
   "execution_count": null,
   "id": "fbf0e45c-b741-448d-ac76-9a1286e3a955",
   "metadata": {},
   "outputs": [],
   "source": []
  },
  {
   "cell_type": "code",
   "execution_count": null,
   "id": "f2ee40e6-f0de-4a95-8df1-262f95718bdc",
   "metadata": {},
   "outputs": [],
   "source": []
  },
  {
   "cell_type": "code",
   "execution_count": null,
   "id": "37309c23-0cef-4067-a655-94432695c0e7",
   "metadata": {},
   "outputs": [],
   "source": []
  },
  {
   "cell_type": "code",
   "execution_count": null,
   "id": "7816fd65-d7cf-4222-a8cc-4696ab80fb81",
   "metadata": {},
   "outputs": [],
   "source": []
  }
 ],
 "metadata": {
  "kernelspec": {
   "display_name": "Python 3 (ipykernel)",
   "language": "python",
   "name": "python3"
  },
  "language_info": {
   "codemirror_mode": {
    "name": "ipython",
    "version": 3
   },
   "file_extension": ".py",
   "mimetype": "text/x-python",
   "name": "python",
   "nbconvert_exporter": "python",
   "pygments_lexer": "ipython3",
   "version": "3.9.7"
  }
 },
 "nbformat": 4,
 "nbformat_minor": 5
}
