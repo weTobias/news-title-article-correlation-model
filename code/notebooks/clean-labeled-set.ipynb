{
 "cells": [
  {
   "cell_type": "code",
   "execution_count": 1,
   "id": "628257b2-db0c-41d1-887d-563bb65e1cf4",
   "metadata": {},
   "outputs": [],
   "source": [
    "import pandas as pd\n",
    "import math\n",
    "import matplotlib.pyplot as plt"
   ]
  },
  {
   "cell_type": "code",
   "execution_count": 2,
   "id": "1942d1dd-f633-4201-b148-bb974b888e26",
   "metadata": {},
   "outputs": [],
   "source": [
    "df = pd.read_csv('../../data/labeled.csv', header=0)"
   ]
  },
  {
   "cell_type": "code",
   "execution_count": 3,
   "id": "89311e82-3941-404f-b614-e2677bf9d6e5",
   "metadata": {},
   "outputs": [],
   "source": [
    "df = df[['Input.index', 'Input.title', 'Input.article', 'Answer.semantic-similarity.label']]"
   ]
  },
  {
   "cell_type": "code",
   "execution_count": 4,
   "id": "d0987d93-3cff-4324-baa8-2043c7ef1fbe",
   "metadata": {},
   "outputs": [],
   "source": [
    "df = df.rename(columns={'Input.index': 'index', 'Input.title': 'title', 'Input.article': 'article', 'Answer.semantic-similarity.label': 'label'})"
   ]
  },
  {
   "cell_type": "code",
   "execution_count": 5,
   "id": "279c49ba-d743-4bcd-835a-ac07feb144be",
   "metadata": {},
   "outputs": [],
   "source": [
    "df = df.dropna()"
   ]
  },
  {
   "cell_type": "code",
   "execution_count": 6,
   "id": "7d1865cb-298c-446f-8094-859dbf0763e2",
   "metadata": {},
   "outputs": [
    {
     "data": {
      "text/html": [
       "<div>\n",
       "<style scoped>\n",
       "    .dataframe tbody tr th:only-of-type {\n",
       "        vertical-align: middle;\n",
       "    }\n",
       "\n",
       "    .dataframe tbody tr th {\n",
       "        vertical-align: top;\n",
       "    }\n",
       "\n",
       "    .dataframe thead th {\n",
       "        text-align: right;\n",
       "    }\n",
       "</style>\n",
       "<table border=\"1\" class=\"dataframe\">\n",
       "  <thead>\n",
       "    <tr style=\"text-align: right;\">\n",
       "      <th></th>\n",
       "      <th>index</th>\n",
       "      <th>title</th>\n",
       "      <th>article</th>\n",
       "      <th>label</th>\n",
       "    </tr>\n",
       "  </thead>\n",
       "  <tbody>\n",
       "    <tr>\n",
       "      <th>0</th>\n",
       "      <td>1925621</td>\n",
       "      <td>People Have Feelings About How Taylor Swift Is...</td>\n",
       "      <td>An event is essentially sold out immediately, ...</td>\n",
       "      <td>5 - Perfectly fitting title</td>\n",
       "    </tr>\n",
       "    <tr>\n",
       "      <th>1</th>\n",
       "      <td>1925621</td>\n",
       "      <td>People Have Feelings About How Taylor Swift Is...</td>\n",
       "      <td>An event is essentially sold out immediately, ...</td>\n",
       "      <td>3 - Fits well enough</td>\n",
       "    </tr>\n",
       "    <tr>\n",
       "      <th>2</th>\n",
       "      <td>2534949</td>\n",
       "      <td>China's Wuhan opens another makeshift hospital...</td>\n",
       "      <td>BEIJING (Reuters) - The Chinese city at the ce...</td>\n",
       "      <td>4 - Good fit</td>\n",
       "    </tr>\n",
       "    <tr>\n",
       "      <th>3</th>\n",
       "      <td>2534949</td>\n",
       "      <td>China's Wuhan opens another makeshift hospital...</td>\n",
       "      <td>BEIJING (Reuters) - The Chinese city at the ce...</td>\n",
       "      <td>3 - Fits well enough</td>\n",
       "    </tr>\n",
       "    <tr>\n",
       "      <th>4</th>\n",
       "      <td>893419</td>\n",
       "      <td>BRIEF-Cemex Sab De Cv announces launch of Ceme...</td>\n",
       "      <td>March 15 (Reuters) - Cemex Sab De Cv * Cemex S...</td>\n",
       "      <td>3 - Fits well enough</td>\n",
       "    </tr>\n",
       "    <tr>\n",
       "      <th>...</th>\n",
       "      <td>...</td>\n",
       "      <td>...</td>\n",
       "      <td>...</td>\n",
       "      <td>...</td>\n",
       "    </tr>\n",
       "    <tr>\n",
       "      <th>1993</th>\n",
       "      <td>1514257</td>\n",
       "      <td>BRIEF-Esr-REIT Says Distribution For Quarter E...</td>\n",
       "      <td>Jan 26 (Reuters) - Esr-Reit: * DISTRIBUTION FO...</td>\n",
       "      <td>4 - Good fit</td>\n",
       "    </tr>\n",
       "    <tr>\n",
       "      <th>1994</th>\n",
       "      <td>803564</td>\n",
       "      <td>Ariana Grande, Pete Davidson 'Tired of Being A...</td>\n",
       "      <td>After Pete Davidson wiped his Instagram accoun...</td>\n",
       "      <td>3 - Fits well enough</td>\n",
       "    </tr>\n",
       "    <tr>\n",
       "      <th>1995</th>\n",
       "      <td>803564</td>\n",
       "      <td>Ariana Grande, Pete Davidson 'Tired of Being A...</td>\n",
       "      <td>After Pete Davidson wiped his Instagram accoun...</td>\n",
       "      <td>3 - Fits well enough</td>\n",
       "    </tr>\n",
       "    <tr>\n",
       "      <th>1996</th>\n",
       "      <td>759140</td>\n",
       "      <td>Japan calls S.Korea ruling on forced labourers...</td>\n",
       "      <td>TOKYO, Nov 29 (Reuters) - South Korea’s top co...</td>\n",
       "      <td>5 - Perfectly fitting title</td>\n",
       "    </tr>\n",
       "    <tr>\n",
       "      <th>1997</th>\n",
       "      <td>759140</td>\n",
       "      <td>Japan calls S.Korea ruling on forced labourers...</td>\n",
       "      <td>TOKYO, Nov 29 (Reuters) - South Korea’s top co...</td>\n",
       "      <td>3 - Fits well enough</td>\n",
       "    </tr>\n",
       "  </tbody>\n",
       "</table>\n",
       "<p>1936 rows × 4 columns</p>\n",
       "</div>"
      ],
      "text/plain": [
       "        index                                              title  \\\n",
       "0     1925621  People Have Feelings About How Taylor Swift Is...   \n",
       "1     1925621  People Have Feelings About How Taylor Swift Is...   \n",
       "2     2534949  China's Wuhan opens another makeshift hospital...   \n",
       "3     2534949  China's Wuhan opens another makeshift hospital...   \n",
       "4      893419  BRIEF-Cemex Sab De Cv announces launch of Ceme...   \n",
       "...       ...                                                ...   \n",
       "1993  1514257  BRIEF-Esr-REIT Says Distribution For Quarter E...   \n",
       "1994   803564  Ariana Grande, Pete Davidson 'Tired of Being A...   \n",
       "1995   803564  Ariana Grande, Pete Davidson 'Tired of Being A...   \n",
       "1996   759140  Japan calls S.Korea ruling on forced labourers...   \n",
       "1997   759140  Japan calls S.Korea ruling on forced labourers...   \n",
       "\n",
       "                                                article  \\\n",
       "0     An event is essentially sold out immediately, ...   \n",
       "1     An event is essentially sold out immediately, ...   \n",
       "2     BEIJING (Reuters) - The Chinese city at the ce...   \n",
       "3     BEIJING (Reuters) - The Chinese city at the ce...   \n",
       "4     March 15 (Reuters) - Cemex Sab De Cv * Cemex S...   \n",
       "...                                                 ...   \n",
       "1993  Jan 26 (Reuters) - Esr-Reit: * DISTRIBUTION FO...   \n",
       "1994  After Pete Davidson wiped his Instagram accoun...   \n",
       "1995  After Pete Davidson wiped his Instagram accoun...   \n",
       "1996  TOKYO, Nov 29 (Reuters) - South Korea’s top co...   \n",
       "1997  TOKYO, Nov 29 (Reuters) - South Korea’s top co...   \n",
       "\n",
       "                            label  \n",
       "0     5 - Perfectly fitting title  \n",
       "1            3 - Fits well enough  \n",
       "2                    4 - Good fit  \n",
       "3            3 - Fits well enough  \n",
       "4            3 - Fits well enough  \n",
       "...                           ...  \n",
       "1993                 4 - Good fit  \n",
       "1994         3 - Fits well enough  \n",
       "1995         3 - Fits well enough  \n",
       "1996  5 - Perfectly fitting title  \n",
       "1997         3 - Fits well enough  \n",
       "\n",
       "[1936 rows x 4 columns]"
      ]
     },
     "execution_count": 6,
     "metadata": {},
     "output_type": "execute_result"
    }
   ],
   "source": [
    "df"
   ]
  },
  {
   "cell_type": "code",
   "execution_count": 7,
   "id": "a80276df-6bca-430e-bedb-f0d9211470bc",
   "metadata": {},
   "outputs": [],
   "source": [
    "df = df[df['article'].str.len() > 30]"
   ]
  },
  {
   "cell_type": "code",
   "execution_count": 8,
   "id": "3a10894b-7c40-4beb-be6c-d58686192dc7",
   "metadata": {},
   "outputs": [
    {
     "name": "stderr",
     "output_type": "stream",
     "text": [
      "C:\\Users\\tobia\\AppData\\Local\\Temp/ipykernel_25696/2149471574.py:1: SettingWithCopyWarning: \n",
      "A value is trying to be set on a copy of a slice from a DataFrame.\n",
      "Try using .loc[row_indexer,col_indexer] = value instead\n",
      "\n",
      "See the caveats in the documentation: https://pandas.pydata.org/pandas-docs/stable/user_guide/indexing.html#returning-a-view-versus-a-copy\n",
      "  df['label'] = df['label'].str.slice(0,1)\n"
     ]
    }
   ],
   "source": [
    "df['label'] = df['label'].str.slice(0,1)"
   ]
  },
  {
   "cell_type": "code",
   "execution_count": 9,
   "id": "8ce20b15-80ea-4994-ac21-7b58c7e7124f",
   "metadata": {},
   "outputs": [
    {
     "name": "stderr",
     "output_type": "stream",
     "text": [
      "C:\\Users\\tobia\\AppData\\Local\\Temp/ipykernel_25696/2152270890.py:1: SettingWithCopyWarning: \n",
      "A value is trying to be set on a copy of a slice from a DataFrame.\n",
      "Try using .loc[row_indexer,col_indexer] = value instead\n",
      "\n",
      "See the caveats in the documentation: https://pandas.pydata.org/pandas-docs/stable/user_guide/indexing.html#returning-a-view-versus-a-copy\n",
      "  df['label'] = df['label'].astype(float)\n"
     ]
    }
   ],
   "source": [
    "df['label'] = df['label'].astype(float)"
   ]
  },
  {
   "cell_type": "code",
   "execution_count": 10,
   "id": "5512a13c-a0f2-46c6-8275-f97c381cdfad",
   "metadata": {},
   "outputs": [],
   "source": [
    "df = df.sort_values(by=['index'])"
   ]
  },
  {
   "cell_type": "code",
   "execution_count": 11,
   "id": "4d954b97-d13a-47fa-a4cf-a7e3c6a576cf",
   "metadata": {},
   "outputs": [
    {
     "data": {
      "text/html": [
       "<div>\n",
       "<style scoped>\n",
       "    .dataframe tbody tr th:only-of-type {\n",
       "        vertical-align: middle;\n",
       "    }\n",
       "\n",
       "    .dataframe tbody tr th {\n",
       "        vertical-align: top;\n",
       "    }\n",
       "\n",
       "    .dataframe thead th {\n",
       "        text-align: right;\n",
       "    }\n",
       "</style>\n",
       "<table border=\"1\" class=\"dataframe\">\n",
       "  <thead>\n",
       "    <tr style=\"text-align: right;\">\n",
       "      <th></th>\n",
       "      <th>index</th>\n",
       "      <th>title</th>\n",
       "      <th>article</th>\n",
       "      <th>label</th>\n",
       "    </tr>\n",
       "  </thead>\n",
       "  <tbody>\n",
       "    <tr>\n",
       "      <th>1986</th>\n",
       "      <td>1305</td>\n",
       "      <td>Nikki Bella Now Believes John Cena Wants Kids,...</td>\n",
       "      <td>John Cena's very public campaign to win back N...</td>\n",
       "      <td>4.0</td>\n",
       "    </tr>\n",
       "    <tr>\n",
       "      <th>1987</th>\n",
       "      <td>1305</td>\n",
       "      <td>Nikki Bella Now Believes John Cena Wants Kids,...</td>\n",
       "      <td>John Cena's very public campaign to win back N...</td>\n",
       "      <td>5.0</td>\n",
       "    </tr>\n",
       "    <tr>\n",
       "      <th>1969</th>\n",
       "      <td>6528</td>\n",
       "      <td>Rouhani says Iran will keep producing missiles...</td>\n",
       "      <td>DUBAI (Reuters) - Iran will continue to produc...</td>\n",
       "      <td>2.0</td>\n",
       "    </tr>\n",
       "    <tr>\n",
       "      <th>1968</th>\n",
       "      <td>6528</td>\n",
       "      <td>Rouhani says Iran will keep producing missiles...</td>\n",
       "      <td>DUBAI (Reuters) - Iran will continue to produc...</td>\n",
       "      <td>4.0</td>\n",
       "    </tr>\n",
       "    <tr>\n",
       "      <th>1982</th>\n",
       "      <td>13823</td>\n",
       "      <td>Jerry Jones: Ezekiel Elliott Won't Be Suspended</td>\n",
       "      <td>Jerry Jones tells TMZ Sports he does not belie...</td>\n",
       "      <td>4.0</td>\n",
       "    </tr>\n",
       "    <tr>\n",
       "      <th>...</th>\n",
       "      <td>...</td>\n",
       "      <td>...</td>\n",
       "      <td>...</td>\n",
       "      <td>...</td>\n",
       "    </tr>\n",
       "    <tr>\n",
       "      <th>712</th>\n",
       "      <td>2683873</td>\n",
       "      <td>$4.3 Million Homes in California</td>\n",
       "      <td>What you Get A French Caribbean-inspired home ...</td>\n",
       "      <td>4.0</td>\n",
       "    </tr>\n",
       "    <tr>\n",
       "      <th>295</th>\n",
       "      <td>2684134</td>\n",
       "      <td>Ventilators and Coronavirus: Amid Desperation,...</td>\n",
       "      <td>President Trump wants the private sector to fi...</td>\n",
       "      <td>3.0</td>\n",
       "    </tr>\n",
       "    <tr>\n",
       "      <th>294</th>\n",
       "      <td>2684134</td>\n",
       "      <td>Ventilators and Coronavirus: Amid Desperation,...</td>\n",
       "      <td>President Trump wants the private sector to fi...</td>\n",
       "      <td>2.0</td>\n",
       "    </tr>\n",
       "    <tr>\n",
       "      <th>1101</th>\n",
       "      <td>2688615</td>\n",
       "      <td>How to choose a free videoconference app</td>\n",
       "      <td>Most people are currently relying on videoconf...</td>\n",
       "      <td>5.0</td>\n",
       "    </tr>\n",
       "    <tr>\n",
       "      <th>1100</th>\n",
       "      <td>2688615</td>\n",
       "      <td>How to choose a free videoconference app</td>\n",
       "      <td>Most people are currently relying on videoconf...</td>\n",
       "      <td>4.0</td>\n",
       "    </tr>\n",
       "  </tbody>\n",
       "</table>\n",
       "<p>1934 rows × 4 columns</p>\n",
       "</div>"
      ],
      "text/plain": [
       "        index                                              title  \\\n",
       "1986     1305  Nikki Bella Now Believes John Cena Wants Kids,...   \n",
       "1987     1305  Nikki Bella Now Believes John Cena Wants Kids,...   \n",
       "1969     6528  Rouhani says Iran will keep producing missiles...   \n",
       "1968     6528  Rouhani says Iran will keep producing missiles...   \n",
       "1982    13823    Jerry Jones: Ezekiel Elliott Won't Be Suspended   \n",
       "...       ...                                                ...   \n",
       "712   2683873                   $4.3 Million Homes in California   \n",
       "295   2684134  Ventilators and Coronavirus: Amid Desperation,...   \n",
       "294   2684134  Ventilators and Coronavirus: Amid Desperation,...   \n",
       "1101  2688615           How to choose a free videoconference app   \n",
       "1100  2688615           How to choose a free videoconference app   \n",
       "\n",
       "                                                article  label  \n",
       "1986  John Cena's very public campaign to win back N...    4.0  \n",
       "1987  John Cena's very public campaign to win back N...    5.0  \n",
       "1969  DUBAI (Reuters) - Iran will continue to produc...    2.0  \n",
       "1968  DUBAI (Reuters) - Iran will continue to produc...    4.0  \n",
       "1982  Jerry Jones tells TMZ Sports he does not belie...    4.0  \n",
       "...                                                 ...    ...  \n",
       "712   What you Get A French Caribbean-inspired home ...    4.0  \n",
       "295   President Trump wants the private sector to fi...    3.0  \n",
       "294   President Trump wants the private sector to fi...    2.0  \n",
       "1101  Most people are currently relying on videoconf...    5.0  \n",
       "1100  Most people are currently relying on videoconf...    4.0  \n",
       "\n",
       "[1934 rows x 4 columns]"
      ]
     },
     "execution_count": 11,
     "metadata": {},
     "output_type": "execute_result"
    }
   ],
   "source": [
    "df"
   ]
  },
  {
   "cell_type": "code",
   "execution_count": 12,
   "id": "0afae0c6-a94b-4383-b866-c9516a980a74",
   "metadata": {},
   "outputs": [],
   "source": [
    "mean = df.groupby(df['index']).aggregate({'title': 'first', 'article': 'first', 'label': 'mean'})"
   ]
  },
  {
   "cell_type": "code",
   "execution_count": 13,
   "id": "58180a42-9198-4b93-aa05-006f12fa5ed5",
   "metadata": {},
   "outputs": [
    {
     "data": {
      "text/html": [
       "<div>\n",
       "<style scoped>\n",
       "    .dataframe tbody tr th:only-of-type {\n",
       "        vertical-align: middle;\n",
       "    }\n",
       "\n",
       "    .dataframe tbody tr th {\n",
       "        vertical-align: top;\n",
       "    }\n",
       "\n",
       "    .dataframe thead th {\n",
       "        text-align: right;\n",
       "    }\n",
       "</style>\n",
       "<table border=\"1\" class=\"dataframe\">\n",
       "  <thead>\n",
       "    <tr style=\"text-align: right;\">\n",
       "      <th></th>\n",
       "      <th>title</th>\n",
       "      <th>article</th>\n",
       "      <th>label</th>\n",
       "    </tr>\n",
       "    <tr>\n",
       "      <th>index</th>\n",
       "      <th></th>\n",
       "      <th></th>\n",
       "      <th></th>\n",
       "    </tr>\n",
       "  </thead>\n",
       "  <tbody>\n",
       "    <tr>\n",
       "      <th>1305</th>\n",
       "      <td>Nikki Bella Now Believes John Cena Wants Kids,...</td>\n",
       "      <td>John Cena's very public campaign to win back N...</td>\n",
       "      <td>4.5</td>\n",
       "    </tr>\n",
       "    <tr>\n",
       "      <th>6528</th>\n",
       "      <td>Rouhani says Iran will keep producing missiles...</td>\n",
       "      <td>DUBAI (Reuters) - Iran will continue to produc...</td>\n",
       "      <td>3.0</td>\n",
       "    </tr>\n",
       "    <tr>\n",
       "      <th>13823</th>\n",
       "      <td>Jerry Jones: Ezekiel Elliott Won't Be Suspended</td>\n",
       "      <td>Jerry Jones tells TMZ Sports he does not belie...</td>\n",
       "      <td>4.5</td>\n",
       "    </tr>\n",
       "    <tr>\n",
       "      <th>29908</th>\n",
       "      <td>Sen. Marco Rubio just threatened to “take care...</td>\n",
       "      <td>The decorum of the United States Senate was on...</td>\n",
       "      <td>3.5</td>\n",
       "    </tr>\n",
       "    <tr>\n",
       "      <th>31325</th>\n",
       "      <td>Darius McCrary Says Estranged Wife's Out for F...</td>\n",
       "      <td>Former \"Family Matters\" star Darius McCrary to...</td>\n",
       "      <td>3.0</td>\n",
       "    </tr>\n",
       "    <tr>\n",
       "      <th>...</th>\n",
       "      <td>...</td>\n",
       "      <td>...</td>\n",
       "      <td>...</td>\n",
       "    </tr>\n",
       "    <tr>\n",
       "      <th>2678751</th>\n",
       "      <td>Stimulus bill: When will you see money and ben...</td>\n",
       "      <td>(CNN)Congress and President Donald Trump have...</td>\n",
       "      <td>3.5</td>\n",
       "    </tr>\n",
       "    <tr>\n",
       "      <th>2679327</th>\n",
       "      <td>California coronavirus: Doctors 'cautiously ho...</td>\n",
       "      <td>(CNN)Two weeks after San Francisco issued the...</td>\n",
       "      <td>4.0</td>\n",
       "    </tr>\n",
       "    <tr>\n",
       "      <th>2683873</th>\n",
       "      <td>$4.3 Million Homes in California</td>\n",
       "      <td>What you Get A French Caribbean-inspired home ...</td>\n",
       "      <td>4.0</td>\n",
       "    </tr>\n",
       "    <tr>\n",
       "      <th>2684134</th>\n",
       "      <td>Ventilators and Coronavirus: Amid Desperation,...</td>\n",
       "      <td>President Trump wants the private sector to fi...</td>\n",
       "      <td>2.5</td>\n",
       "    </tr>\n",
       "    <tr>\n",
       "      <th>2688615</th>\n",
       "      <td>How to choose a free videoconference app</td>\n",
       "      <td>Most people are currently relying on videoconf...</td>\n",
       "      <td>4.5</td>\n",
       "    </tr>\n",
       "  </tbody>\n",
       "</table>\n",
       "<p>967 rows × 3 columns</p>\n",
       "</div>"
      ],
      "text/plain": [
       "                                                     title  \\\n",
       "index                                                        \n",
       "1305     Nikki Bella Now Believes John Cena Wants Kids,...   \n",
       "6528     Rouhani says Iran will keep producing missiles...   \n",
       "13823      Jerry Jones: Ezekiel Elliott Won't Be Suspended   \n",
       "29908    Sen. Marco Rubio just threatened to “take care...   \n",
       "31325    Darius McCrary Says Estranged Wife's Out for F...   \n",
       "...                                                    ...   \n",
       "2678751  Stimulus bill: When will you see money and ben...   \n",
       "2679327  California coronavirus: Doctors 'cautiously ho...   \n",
       "2683873                   $4.3 Million Homes in California   \n",
       "2684134  Ventilators and Coronavirus: Amid Desperation,...   \n",
       "2688615           How to choose a free videoconference app   \n",
       "\n",
       "                                                   article  label  \n",
       "index                                                              \n",
       "1305     John Cena's very public campaign to win back N...    4.5  \n",
       "6528     DUBAI (Reuters) - Iran will continue to produc...    3.0  \n",
       "13823    Jerry Jones tells TMZ Sports he does not belie...    4.5  \n",
       "29908    The decorum of the United States Senate was on...    3.5  \n",
       "31325    Former \"Family Matters\" star Darius McCrary to...    3.0  \n",
       "...                                                    ...    ...  \n",
       "2678751   (CNN)Congress and President Donald Trump have...    3.5  \n",
       "2679327   (CNN)Two weeks after San Francisco issued the...    4.0  \n",
       "2683873  What you Get A French Caribbean-inspired home ...    4.0  \n",
       "2684134  President Trump wants the private sector to fi...    2.5  \n",
       "2688615  Most people are currently relying on videoconf...    4.5  \n",
       "\n",
       "[967 rows x 3 columns]"
      ]
     },
     "execution_count": 13,
     "metadata": {},
     "output_type": "execute_result"
    }
   ],
   "source": [
    "mean"
   ]
  },
  {
   "cell_type": "code",
   "execution_count": 93,
   "id": "37c10d1f-bcc3-41db-98a2-2592bc5f3d48",
   "metadata": {},
   "outputs": [],
   "source": [
    "mean.to_csv('../../data/labeled-cleaned.csv')"
   ]
  },
  {
   "cell_type": "code",
   "execution_count": null,
   "id": "8ae44eb5-b15c-4fde-8593-432a7743e813",
   "metadata": {},
   "outputs": [],
   "source": []
  },
  {
   "cell_type": "code",
   "execution_count": 25,
   "id": "47a6230e-1ec7-4ea5-8f0d-dd0e5fb77f1d",
   "metadata": {},
   "outputs": [
    {
     "data": {
      "image/png": "[encoded data removed]",
      "text/plain": [
       "<Figure size 432x288 with 1 Axes>"
      ]
     },
     "metadata": {
      "needs_background": "dark"
     },
     "output_type": "display_data"
    }
   ],
   "source": [
    "ax = mean.label.hist()\n",
    "plt.xlabel(\"Correlation value\")\n",
    "plt.ylabel(\"Count\")\n",
    "ax.xaxis.label.set_color('white')\n",
    "ax.yaxis.label.set_color('white')\n",
    "ax.patch.set_alpha(0)\n",
    "\n",
    "ax.tick_params(axis='x', colors='white')\n",
    "ax.tick_params(axis='y', colors='white')\n",
    "\n",
    "ax.spines['left'].set_color('white')\n",
    "ax.spines['top'].set_color('white')"
   ]
  },
  {
   "cell_type": "code",
   "execution_count": 26,
   "id": "f1c2f701-5c66-4a66-9272-a498497a4ab1",
   "metadata": {},
   "outputs": [],
   "source": [
    "fig = ax.get_figure()\n",
    "fig.savefig('../../images/label_hist.png', transparent=True)"
   ]
  },
  {
   "cell_type": "code",
   "execution_count": 36,
   "id": "f28388a8-36d7-48cb-ac34-840137669828",
   "metadata": {},
   "outputs": [
    {
     "data": {
      "text/plain": [
       "0.4538614870434518"
      ]
     },
     "execution_count": 36,
     "metadata": {},
     "output_type": "execute_result"
    }
   ],
   "source": [
    "mean.label.var()"
   ]
  },
  {
   "cell_type": "code",
   "execution_count": 28,
   "id": "b52d16e6-4a47-4c82-a5b2-2be4d20250e9",
   "metadata": {},
   "outputs": [],
   "source": [
    "min_label = df.groupby(df['index']).aggregate({'title': 'first', 'article': 'first', 'label': 'min'})"
   ]
  },
  {
   "cell_type": "code",
   "execution_count": 29,
   "id": "8a9b5618-8fd9-4b64-b51b-8a5ba9a8df7e",
   "metadata": {},
   "outputs": [],
   "source": [
    "max_label = df.groupby(df['index']).aggregate({'title': 'first', 'article': 'first', 'label': 'max'})"
   ]
  },
  {
   "cell_type": "code",
   "execution_count": 30,
   "id": "3af307e9-6c7f-49ed-a83e-cd873b804ee5",
   "metadata": {},
   "outputs": [],
   "source": [
    "dist_df = pd.DataFrame()"
   ]
  },
  {
   "cell_type": "code",
   "execution_count": 31,
   "id": "970e5269-effe-4d4d-b8a0-446acbb25012",
   "metadata": {},
   "outputs": [],
   "source": [
    "dist_df['dist'] = max_label['label'] - min_label['label']"
   ]
  },
  {
   "cell_type": "code",
   "execution_count": 32,
   "id": "4c499745-f3db-4d80-b085-ecda0a5b4726",
   "metadata": {},
   "outputs": [
    {
     "data": {
      "image/png": "[encoded data removed]",
      "text/plain": [
       "<Figure size 432x288 with 1 Axes>"
      ]
     },
     "metadata": {
      "needs_background": "dark"
     },
     "output_type": "display_data"
    }
   ],
   "source": [
    "ax = dist_df.dist.hist()\n",
    "plt.xlabel(\"Correlation distance\")\n",
    "plt.ylabel(\"Count\")\n",
    "ax.xaxis.label.set_color('white')\n",
    "ax.yaxis.label.set_color('white')\n",
    "ax.patch.set_alpha(0)\n",
    "\n",
    "ax.tick_params(axis='x', colors='white')\n",
    "ax.tick_params(axis='y', colors='white')\n",
    "\n",
    "ax.spines['left'].set_color('white')\n",
    "ax.spines['top'].set_color('white')"
   ]
  },
  {
   "cell_type": "code",
   "execution_count": 33,
   "id": "5b3fe1cb-6b47-4aab-b62f-07e058445780",
   "metadata": {},
   "outputs": [],
   "source": [
    "fig = ax.get_figure()\n",
    "fig.savefig('../../images/label_distance_hist.png', transparent=True)"
   ]
  },
  {
   "cell_type": "code",
   "execution_count": 35,
   "id": "5526602b-72e4-4736-9a9d-25e4a2ddf61c",
   "metadata": {},
   "outputs": [
    {
     "data": {
      "text/plain": [
       "0.781486786522539"
      ]
     },
     "execution_count": 35,
     "metadata": {},
     "output_type": "execute_result"
    }
   ],
   "source": [
    "dist_df.dist.var()"
   ]
  },
  {
   "cell_type": "code",
   "execution_count": null,
   "id": "f9505d35-7395-4c56-8dea-1d33c1f56aea",
   "metadata": {},
   "outputs": [],
   "source": []
  }
 ],
 "metadata": {
  "kernelspec": {
   "display_name": "Python 3 (ipykernel)",
   "language": "python",
   "name": "python3"
  },
  "language_info": {
   "codemirror_mode": {
    "name": "ipython",
    "version": 3
   },
   "file_extension": ".py",
   "mimetype": "text/x-python",
   "name": "python",
   "nbconvert_exporter": "python",
   "pygments_lexer": "ipython3",
   "version": "3.9.7"
  }
 },
 "nbformat": 4,
 "nbformat_minor": 5
}
