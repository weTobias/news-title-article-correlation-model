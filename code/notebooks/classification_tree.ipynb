{
 "cells": [
  {
   "cell_type": "code",
   "execution_count": 1,
   "id": "7de18544-e350-4431-a6c7-2db37a167e7b",
   "metadata": {},
   "outputs": [],
   "source": [
    "import pandas as pd"
   ]
  },
  {
   "cell_type": "code",
   "execution_count": 2,
   "id": "99ce8728-a6df-439f-ab40-e327c9d9ae00",
   "metadata": {},
   "outputs": [],
   "source": [
    "import numpy as np"
   ]
  },
  {
   "cell_type": "code",
   "execution_count": 3,
   "id": "c5d3e41b-0399-4a1a-a4cd-97d9de3b8422",
   "metadata": {},
   "outputs": [],
   "source": [
    "import matplotlib"
   ]
  },
  {
   "cell_type": "code",
   "execution_count": 4,
   "id": "d68ce35b-768f-4e3f-985e-f06348070366",
   "metadata": {},
   "outputs": [],
   "source": [
    "import matplotlib.pyplot as plt"
   ]
  },
  {
   "cell_type": "code",
   "execution_count": 5,
   "id": "2d4bf982-0a86-44c2-9401-41a4b9fe4563",
   "metadata": {},
   "outputs": [],
   "source": [
    "import seaborn as sns"
   ]
  },
  {
   "cell_type": "code",
   "execution_count": 6,
   "id": "39e39c10-574c-408d-9b6b-8fd9bba6d1a0",
   "metadata": {},
   "outputs": [],
   "source": [
    "import statsmodels.api as sm"
   ]
  },
  {
   "cell_type": "code",
   "execution_count": 7,
   "id": "af4b882c-5d5a-4e40-b4fb-fa1fc9a94a8d",
   "metadata": {},
   "outputs": [],
   "source": [
    "%matplotlib inline"
   ]
  },
  {
   "cell_type": "code",
   "execution_count": 8,
   "id": "e172ad68-ccfb-4358-a1fb-eaa1b62fc6c5",
   "metadata": {},
   "outputs": [],
   "source": [
    "from sklearn.model_selection import train_test_split"
   ]
  },
  {
   "cell_type": "code",
   "execution_count": 9,
   "id": "b301cb3b-5986-4c30-9519-b1d7bd19f2e6",
   "metadata": {},
   "outputs": [],
   "source": [
    "from sklearn.linear_model import LinearRegression"
   ]
  },
  {
   "cell_type": "code",
   "execution_count": 10,
   "id": "bec8586f-f810-4b59-a3d5-b80813229f62",
   "metadata": {},
   "outputs": [],
   "source": [
    "from sklearn.feature_selection import RFE"
   ]
  },
  {
   "cell_type": "code",
   "execution_count": 11,
   "id": "b043b245-b63b-4ffa-9dfa-83e9ee646dbc",
   "metadata": {},
   "outputs": [],
   "source": [
    "from sklearn.linear_model import RidgeCV, LassoCV, Ridge, Lasso"
   ]
  },
  {
   "cell_type": "code",
   "execution_count": 12,
   "id": "d2028ab3-2000-4312-997e-45f3824ae39e",
   "metadata": {},
   "outputs": [],
   "source": [
    "from sklearn.svm import LinearSVC"
   ]
  },
  {
   "cell_type": "code",
   "execution_count": 13,
   "id": "8a993044-0bbb-47d2-a2e7-3f4438ba7d86",
   "metadata": {},
   "outputs": [],
   "source": [
    "from sklearn.feature_selection import SelectFromModel"
   ]
  },
  {
   "cell_type": "code",
   "execution_count": 14,
   "id": "01653031-1cd6-4c1c-9239-872ed0b43ab4",
   "metadata": {},
   "outputs": [],
   "source": [
    "from sklearn import metrics"
   ]
  },
  {
   "cell_type": "code",
   "execution_count": 15,
   "id": "82fb880b-d538-4931-8c1d-71253756ab8a",
   "metadata": {},
   "outputs": [],
   "source": [
    "from sklearn.linear_model import Lasso\n",
    "from sklearn.linear_model import ElasticNet\n",
    "from sklearn.tree import DecisionTreeRegressor\n",
    "from sklearn.neighbors import KNeighborsRegressor\n",
    "from sklearn.ensemble import GradientBoostingRegressor\n",
    "from sklearn.pipeline import Pipeline\n",
    "from sklearn.preprocessing import StandardScaler\n",
    "from sklearn.model_selection import cross_val_score\n",
    "from sklearn.model_selection import KFold\n",
    "from sklearn.feature_selection import RFE"
   ]
  },
  {
   "cell_type": "code",
   "execution_count": 16,
   "id": "7c7f2465-acb0-4cb4-bc59-aada2507ad7f",
   "metadata": {},
   "outputs": [],
   "source": [
    "from sklearn.preprocessing import StandardScaler"
   ]
  },
  {
   "cell_type": "code",
   "execution_count": 17,
   "id": "444ac508-e066-469d-9593-3901e2518313",
   "metadata": {},
   "outputs": [],
   "source": [
    "import math"
   ]
  },
  {
   "cell_type": "code",
   "execution_count": 18,
   "id": "0aa7bed1-eca9-4492-8db2-f87a3fe66526",
   "metadata": {},
   "outputs": [],
   "source": [
    "from sklearn.ensemble import RandomForestClassifier"
   ]
  },
  {
   "cell_type": "code",
   "execution_count": 19,
   "id": "fee485eb-c813-47d2-98ca-66835f2ec33c",
   "metadata": {},
   "outputs": [],
   "source": [
    "from sklearn.metrics import r2_score"
   ]
  },
  {
   "cell_type": "code",
   "execution_count": 20,
   "id": "0876ba91-f643-4262-9446-561d858f38d7",
   "metadata": {},
   "outputs": [],
   "source": [
    "from sklearn import preprocessing\n",
    "from sklearn import utils"
   ]
  },
  {
   "cell_type": "code",
   "execution_count": 21,
   "id": "b78773f0-fd6d-445f-ac58-be061c7f33ee",
   "metadata": {},
   "outputs": [],
   "source": [
    "from sklearn.metrics import r2_score"
   ]
  },
  {
   "cell_type": "code",
   "execution_count": 22,
   "id": "cb1235e8-3be4-4537-ac58-4c5c229bd7fa",
   "metadata": {},
   "outputs": [],
   "source": [
    "from sklearn.feature_selection import RFECV"
   ]
  },
  {
   "cell_type": "code",
   "execution_count": 23,
   "id": "ccb50670-fd0e-4dcb-9d96-d93cfc81622c",
   "metadata": {},
   "outputs": [],
   "source": [
    "from sklearn.model_selection import RepeatedKFold"
   ]
  },
  {
   "cell_type": "code",
   "execution_count": 24,
   "id": "bc7b8c2f-279c-421f-90fd-a1c3443e73e4",
   "metadata": {},
   "outputs": [],
   "source": [
    "from numpy import mean\n",
    "from numpy import std\n",
    "from numpy import amin\n",
    "from numpy import amax"
   ]
  },
  {
   "cell_type": "code",
   "execution_count": 25,
   "id": "b93ca339-2504-4c3f-9ac8-1a97334d1554",
   "metadata": {},
   "outputs": [],
   "source": [
    "df = pd.read_csv('../../data/extracted_features_round4_training.csv', header=0)"
   ]
  },
  {
   "cell_type": "code",
   "execution_count": 26,
   "id": "9cb90bff-be5b-490b-9044-991f26c24c55",
   "metadata": {},
   "outputs": [],
   "source": [
    "df = df.drop(columns='Unnamed: 0')"
   ]
  },
  {
   "cell_type": "code",
   "execution_count": 27,
   "id": "06202534-1257-4606-84b3-327b0b135502",
   "metadata": {},
   "outputs": [],
   "source": [
    "#df = df[['CV', 'TABSSIMPSPACY', 'TAWSSIMSPACY', 'TAKWDIST', 'TABSSIMBERT', 'AKWPWMEAN',\n",
    "#       'TAWSSIMPSPACY', 'TKWAORATIO', 'TAKWSIMSPACY', 'TMIKWP', 'TABSSIMSPACY',\n",
    "#       'TAFSSIMSPACY', 'TAMIKWWSSIMSPACY', 'TKWAOWRATIO', 'TAFSSD']]"
   ]
  },
  {
   "cell_type": "code",
   "execution_count": 28,
   "id": "4dbf900d-6264-499f-9b75-9835ec2b3ea1",
   "metadata": {},
   "outputs": [],
   "source": [
    "scaler = StandardScaler()"
   ]
  },
  {
   "cell_type": "code",
   "execution_count": null,
   "id": "8b4c00ae-9610-44be-ad55-8c25e2f3c440",
   "metadata": {},
   "outputs": [],
   "source": []
  },
  {
   "cell_type": "code",
   "execution_count": 29,
   "id": "b2d98b24-534c-4918-b1c3-a4de630814fa",
   "metadata": {},
   "outputs": [],
   "source": [
    "X = df.drop(columns='CV')"
   ]
  },
  {
   "cell_type": "code",
   "execution_count": 30,
   "id": "1ab81c02-cd75-4390-8284-c4ea87f2ef6d",
   "metadata": {},
   "outputs": [],
   "source": [
    "X = pd.DataFrame(scaler.fit_transform(X),columns = X.columns,index = df.index)"
   ]
  },
  {
   "cell_type": "code",
   "execution_count": 31,
   "id": "9867e187-7f4f-4478-a8df-240e6c3343e6",
   "metadata": {},
   "outputs": [],
   "source": [
    "float_labels = np.array(df['CV'])"
   ]
  },
  {
   "cell_type": "code",
   "execution_count": 32,
   "id": "d27ebcb8-9faa-4f1a-bf6c-bdfb8990f512",
   "metadata": {},
   "outputs": [],
   "source": [
    "lab_enc = preprocessing.LabelEncoder()\n",
    "labels = lab_enc.fit_transform(float_labels)"
   ]
  },
  {
   "cell_type": "code",
   "execution_count": 33,
   "id": "90ee8222-7990-4ccc-9292-79fde1cc9a5c",
   "metadata": {},
   "outputs": [
    {
     "data": {
      "text/plain": [
       "Index(['CV', 'TL', 'AL', 'TWC', 'AWC', 'TSC', 'ASC', 'TALRATIO', 'TAWCRATIO',\n",
       "       'TASCRATIO', 'TP', 'AP', 'TAPD', 'TAPMEAN', 'TS', 'AS', 'TASD',\n",
       "       'TASMEAN', 'TASCCRATIO', 'TASCCD', 'TKWC', 'AKWC', 'TAKWCRATIO',\n",
       "       'AMIKWP', 'TMIKWS', 'AMIKWS', 'AFSP', 'TAFSPMEAN', 'TAFSPD', 'AFSS',\n",
       "       'TAFSSMEAN', 'TAFSSD', 'TMIKWAORATIO', 'TKWAORATIO', 'TKWAOWRATIO',\n",
       "       'TKWPMEAN', 'AKWPMEAN', 'TAKWPMEAN', 'TAKWPD', 'TKWPWMEAN', 'AKWPWMEAN',\n",
       "       'TAKWPWMEAN', 'TAKWPWD', 'TAMIKWFP', 'TAMIKWDIST', 'TAKWDIST',\n",
       "       'TASIMSPACY', 'TABSSIMSPACY', 'TAWSSIMSPACY', 'TAASSIMSPACY',\n",
       "       'TAFSSIMSPACY', 'TABSSIMPSPACY', 'TAWSSIMPSPACY', 'TAGSSIMRATIOSPACY',\n",
       "       'TVC', 'AVC', 'TAVCD', 'TNC', 'ANC', 'TANCD', 'TABSSIMBERT',\n",
       "       'TAWSSIMBERT', 'TAASSIMSBERT', 'TAFSSIMBERT', 'TABSSIMPBERT',\n",
       "       'TAWSSIMPBERT', 'TAGSSIMRATIOBERT', 'TAMIKWASSIMSPACY',\n",
       "       'TAMIKWBSSIMSPACY', 'TAMIKWWSSIMSPACY', 'TMIKWP', 'TAMKWSSIMSPACY',\n",
       "       'TAMKWSP', 'TAMKWSPD', 'TAMKWSS', 'TAMKWSSD', 'TAMKWFP', 'TAKWSIMSPACY',\n",
       "       'TAKWSP', 'TAKWSPD', 'TAKWSS', 'TAKWSSD', 'TAGSSIMDISTSPACY', 'TSCC',\n",
       "       'ASCC', 'TKWCRATIO', 'AKWCRATIO', 'TAKWCRATIORATIO', 'TMIKWAO', 'TKWAO',\n",
       "       'TKWAOW', 'TVCRATIO', 'AVCRATIO', 'TAVCRATIOD', 'TNCRATIO', 'ANCRATIO',\n",
       "       'TANCRATIOD', 'TAGSSIMCSPACY', 'TAGSSIMCBERT', 'TAKWSSIMVARSPACY'],\n",
       "      dtype='object')"
      ]
     },
     "execution_count": 33,
     "metadata": {},
     "output_type": "execute_result"
    }
   ],
   "source": [
    "df.columns"
   ]
  },
  {
   "cell_type": "code",
   "execution_count": 34,
   "id": "8c1ca2a2-9808-48a4-9a47-df842b0fcd0b",
   "metadata": {},
   "outputs": [],
   "source": [
    "feature_list = list(X.columns)"
   ]
  },
  {
   "cell_type": "code",
   "execution_count": 35,
   "id": "15a52013-5de3-45c0-8b76-052bb8e10f1e",
   "metadata": {},
   "outputs": [],
   "source": [
    "features = np.array(X)"
   ]
  },
  {
   "cell_type": "code",
   "execution_count": 36,
   "id": "220bfb42-8eac-41cf-9700-b4933e11b829",
   "metadata": {},
   "outputs": [],
   "source": [
    "train_features, test_features, train_labels, test_labels = train_test_split(features, labels, test_size = 0.25, random_state = 42)"
   ]
  },
  {
   "cell_type": "code",
   "execution_count": 158,
   "id": "fd8f6ee2-ce26-40ee-b43e-cc0d7bbc1df0",
   "metadata": {},
   "outputs": [
    {
     "name": "stdout",
     "output_type": "stream",
     "text": [
      "Training Features Shape: (725, 99)\n",
      "Training Labels Shape: (725,)\n",
      "Testing Features Shape: (242, 99)\n",
      "Testing Labels Shape: (242,)\n"
     ]
    }
   ],
   "source": [
    "print('Training Features Shape:', train_features.shape)\n",
    "print('Training Labels Shape:', train_labels.shape)\n",
    "print('Testing Features Shape:', test_features.shape)\n",
    "print('Testing Labels Shape:', test_labels.shape)"
   ]
  },
  {
   "cell_type": "code",
   "execution_count": 37,
   "id": "35265c89-42b2-48e4-b92f-a1de123e1c48",
   "metadata": {},
   "outputs": [],
   "source": [
    "cv = RepeatedKFold(n_splits=10, n_repeats=3, random_state=42)"
   ]
  },
  {
   "cell_type": "code",
   "execution_count": null,
   "id": "6bb79e09-28c7-4508-9582-c84d3510a61f",
   "metadata": {},
   "outputs": [],
   "source": []
  },
  {
   "cell_type": "code",
   "execution_count": null,
   "id": "5e246944-fcf2-4847-8389-9df38f72a730",
   "metadata": {},
   "outputs": [],
   "source": []
  },
  {
   "cell_type": "code",
   "execution_count": 39,
   "id": "9bb09de5-cd48-4216-ac47-6327342d759f",
   "metadata": {},
   "outputs": [
    {
     "data": {
      "text/plain": [
       "RFECV(cv=RepeatedKFold(n_repeats=3, n_splits=10, random_state=42),\n",
       "      estimator=RandomForestClassifier(), scoring='f1_macro')"
      ]
     },
     "execution_count": 39,
     "metadata": {},
     "output_type": "execute_result"
    }
   ],
   "source": [
    "default_random_forest_classifier = RandomForestClassifier()\n",
    "rfe = RFECV(default_random_forest_classifier,cv=cv,scoring=\"f1_macro\")\n",
    "\n",
    "rfe.fit(X,labels)"
   ]
  },
  {
   "cell_type": "code",
   "execution_count": 41,
   "id": "bbdf5d84-2380-4164-be8a-c9be59408aad",
   "metadata": {},
   "outputs": [],
   "source": [
    "selected_features = np.array(feature_list)[rfe.get_support()]"
   ]
  },
  {
   "cell_type": "code",
   "execution_count": 42,
   "id": "a88200c2-df0b-4487-a706-22bcbb84ccc0",
   "metadata": {},
   "outputs": [
    {
     "data": {
      "text/plain": [
       "(2,)"
      ]
     },
     "execution_count": 42,
     "metadata": {},
     "output_type": "execute_result"
    }
   ],
   "source": [
    "selected_features.shape"
   ]
  },
  {
   "cell_type": "code",
   "execution_count": 43,
   "id": "b3c3b0ee-d5e7-4526-8fa3-5d426b806e16",
   "metadata": {},
   "outputs": [
    {
     "data": {
      "text/plain": [
       "array(['TAVCD', 'TANCRATIOD'], dtype='<U17')"
      ]
     },
     "execution_count": 43,
     "metadata": {},
     "output_type": "execute_result"
    }
   ],
   "source": [
    "selected_features"
   ]
  },
  {
   "cell_type": "code",
   "execution_count": 38,
   "id": "39e6d733-7ea8-45a7-9f19-bb53a590d285",
   "metadata": {},
   "outputs": [],
   "source": [
    "X_selected = X[['TAVCD', 'TANCRATIOD']]"
   ]
  },
  {
   "cell_type": "code",
   "execution_count": 39,
   "id": "74f56e74-2e5f-43a8-a6dd-93bc479d4305",
   "metadata": {},
   "outputs": [],
   "source": [
    "features_selected = np.array(X_selected)"
   ]
  },
  {
   "cell_type": "code",
   "execution_count": null,
   "id": "fbcc1769-d555-4381-b409-3757e20de4ae",
   "metadata": {},
   "outputs": [],
   "source": []
  },
  {
   "cell_type": "code",
   "execution_count": 39,
   "id": "b9b6772a-2893-4dc4-9c8a-e91fc05f8958",
   "metadata": {},
   "outputs": [],
   "source": [
    "from sklearn.model_selection import RandomizedSearchCV\n",
    "\n",
    "# Number of trees in random forest\n",
    "n_estimators = [int(x) for x in np.linspace(start = 200, stop = 2000, num = 10)]\n",
    "# Number of features to consider at every split\n",
    "max_features = ['auto', 'sqrt']\n",
    "# Maximum number of levels in tree\n",
    "max_depth = [int(x) for x in np.linspace(10, 110, num = 11)]\n",
    "max_depth.append(None)\n",
    "# Minimum number of samples required to split a node\n",
    "min_samples_split = [2, 5, 10]\n",
    "# Minimum number of samples required at each leaf node\n",
    "min_samples_leaf = [1, 2, 4]\n",
    "# Method of selecting samples for training each tree\n",
    "bootstrap = [True, False]\n",
    "\n",
    "# Create the random grid\n",
    "random_grid = {'n_estimators': n_estimators,\n",
    "               'max_features': max_features,\n",
    "               'max_depth': max_depth,\n",
    "               'min_samples_split': min_samples_split,\n",
    "               'min_samples_leaf': min_samples_leaf,\n",
    "               'bootstrap': bootstrap}"
   ]
  },
  {
   "cell_type": "code",
   "execution_count": null,
   "id": "bb62b0af-a40f-4593-bbd7-9aaf4476f34e",
   "metadata": {},
   "outputs": [
    {
     "name": "stdout",
     "output_type": "stream",
     "text": [
      "Fitting 30 folds for each of 100 candidates, totalling 3000 fits\n"
     ]
    }
   ],
   "source": [
    "# Use the random grid to search for best hyperparameters\n",
    "# First create the base model to tune\n",
    "rf = RandomForestClassifier(random_state = 42)\n",
    "# Random search of parameters, using 3 fold cross validation, \n",
    "# search across 100 different combinations, and use all available cores\n",
    "rf_random = RandomizedSearchCV(estimator=rf, param_distributions=random_grid,\n",
    "                              n_iter = 100, scoring='f1_macro', \n",
    "                              cv = cv, verbose=2, random_state=42, n_jobs=-1,\n",
    "                              return_train_score=True)\n",
    "\n",
    "# Fit the random search model\n",
    "rf_random.fit(features_selected, labels);"
   ]
  },
  {
   "cell_type": "code",
   "execution_count": null,
   "id": "53c0eccb-0ea2-440d-aa8f-aa63fcd6474d",
   "metadata": {},
   "outputs": [
    {
     "data": {
      "text/plain": [
       "{'n_estimators': 200,\n",
       " 'min_samples_split': 2,\n",
       " 'min_samples_leaf': 1,\n",
       " 'max_features': 'sqrt',\n",
       " 'max_depth': 50,\n",
       " 'bootstrap': True}"
      ]
     },
     "execution_count": 41,
     "metadata": {},
     "output_type": "execute_result"
    }
   ],
   "source": [
    "rf_random.best_params_"
   ]
  },
  {
   "cell_type": "code",
   "execution_count": 97,
   "id": "7439f2b1-92c0-44d4-a8f8-4a94ffabbb13",
   "metadata": {},
   "outputs": [
    {
     "name": "stdout",
     "output_type": "stream",
     "text": [
      "F1: 0.14633.\n"
     ]
    }
   ],
   "source": [
    "\n",
    "base_model = RandomForestClassifier(random_state = 42)\n",
    "base_model.fit(X_selected, labels)\n",
    "base_accuracy = mean(cross_val_score(base_model, features_selected, labels, scoring='f1_macro', cv=cv))\n",
    "print('F1: {:0.5f}.'.format(base_accuracy))"
   ]
  },
  {
   "cell_type": "code",
   "execution_count": 98,
   "id": "47aea40c-b4f7-42b5-b3f2-3c3a203f61e7",
   "metadata": {},
   "outputs": [
    {
     "name": "stdout",
     "output_type": "stream",
     "text": [
      "F1: 0.15064.\n"
     ]
    }
   ],
   "source": [
    "\n",
    "best_random = rf_random.best_estimator_\n",
    "random_accuracy = mean(cross_val_score(best_random, features_selected, labels, scoring='f1_macro', cv=cv))\n",
    "print('F1: {:0.5f}.'.format(random_accuracy))"
   ]
  },
  {
   "cell_type": "code",
   "execution_count": 99,
   "id": "1117ea8a-c140-4229-8b0a-cf9cbc243dd6",
   "metadata": {},
   "outputs": [
    {
     "name": "stdout",
     "output_type": "stream",
     "text": [
      "Improvement of 2.95%.\n"
     ]
    }
   ],
   "source": [
    "\n",
    "print('Improvement of {:0.2f}%.'.format( 100 * (random_accuracy - base_accuracy) / base_accuracy))"
   ]
  },
  {
   "cell_type": "code",
   "execution_count": 92,
   "id": "4e08e300-8376-465b-82b2-9093d8ede606",
   "metadata": {},
   "outputs": [],
   "source": [
    "from sklearn.model_selection import GridSearchCV\n",
    "\n",
    "# Create the parameter grid based on the results of random search \n",
    "param_grid = {\n",
    "    'bootstrap': [True],\n",
    "    'max_depth': [40, 50, 60, 70],\n",
    "    'max_features': ['sqrt', 'auto'],\n",
    "    'min_samples_leaf': [1, 2, 3],\n",
    "    'min_samples_split': [1, 2, 3],\n",
    "    'n_estimators': [100, 200, 300, 400]\n",
    "}\n",
    "\n",
    "# Create a base model\n",
    "rf = RandomForestClassifier(random_state = 42)\n",
    "\n",
    "# Instantiate the grid search model\n",
    "grid_search = GridSearchCV(estimator = rf, param_grid = param_grid, scoring = 'f1_macro',\n",
    "                          cv = cv, n_jobs = -1, verbose = 2, return_train_score=True)"
   ]
  },
  {
   "cell_type": "code",
   "execution_count": 93,
   "id": "db69ca38-5350-486b-8381-03ec857a011b",
   "metadata": {},
   "outputs": [
    {
     "name": "stdout",
     "output_type": "stream",
     "text": [
      "Fitting 30 folds for each of 288 candidates, totalling 8640 fits\n"
     ]
    },
    {
     "name": "stderr",
     "output_type": "stream",
     "text": [
      "C:\\ProgramData\\Anaconda3\\lib\\site-packages\\sklearn\\model_selection\\_search.py:922: UserWarning: One or more of the test scores are non-finite: [       nan        nan        nan        nan 0.14619119 0.15062391\n",
      " 0.14851397 0.14790906 0.14227721 0.1459     0.14577871 0.14631124\n",
      "        nan        nan        nan        nan 0.1352131  0.13875941\n",
      " 0.13551211 0.13770628 0.1352131  0.13875941 0.13551211 0.13770628\n",
      "        nan        nan        nan        nan 0.13459954 0.13313481\n",
      " 0.13296395 0.13394594 0.13459954 0.13313481 0.13296395 0.13394594\n",
      "        nan        nan        nan        nan 0.14619119 0.15062391\n",
      " 0.14851397 0.14790906 0.14227721 0.1459     0.14577871 0.14631124\n",
      "        nan        nan        nan        nan 0.1352131  0.13875941\n",
      " 0.13551211 0.13770628 0.1352131  0.13875941 0.13551211 0.13770628\n",
      "        nan        nan        nan        nan 0.13459954 0.13313481\n",
      " 0.13296395 0.13394594 0.13459954 0.13313481 0.13296395 0.13394594\n",
      "        nan        nan        nan        nan 0.14632606 0.15064429\n",
      " 0.14849828 0.14781501 0.14241741 0.14588694 0.14577871 0.14632311\n",
      "        nan        nan        nan        nan 0.1352131  0.13875941\n",
      " 0.13551211 0.13770628 0.1352131  0.13875941 0.13551211 0.13770628\n",
      "        nan        nan        nan        nan 0.13459954 0.13313481\n",
      " 0.13296395 0.13394594 0.13459954 0.13313481 0.13296395 0.13394594\n",
      "        nan        nan        nan        nan 0.14632606 0.15064429\n",
      " 0.14849828 0.14781501 0.14241741 0.14588694 0.14577871 0.14632311\n",
      "        nan        nan        nan        nan 0.1352131  0.13875941\n",
      " 0.13551211 0.13770628 0.1352131  0.13875941 0.13551211 0.13770628\n",
      "        nan        nan        nan        nan 0.13459954 0.13313481\n",
      " 0.13296395 0.13394594 0.13459954 0.13313481 0.13296395 0.13394594\n",
      "        nan        nan        nan        nan 0.14632606 0.15064429\n",
      " 0.14849828 0.14781501 0.14241741 0.14588694 0.14577871 0.14632311\n",
      "        nan        nan        nan        nan 0.1352131  0.13875941\n",
      " 0.13551211 0.13770628 0.1352131  0.13875941 0.13551211 0.13770628\n",
      "        nan        nan        nan        nan 0.13459954 0.13313481\n",
      " 0.13296395 0.13394594 0.13459954 0.13313481 0.13296395 0.13394594\n",
      "        nan        nan        nan        nan 0.14632606 0.15064429\n",
      " 0.14849828 0.14781501 0.14241741 0.14588694 0.14577871 0.14632311\n",
      "        nan        nan        nan        nan 0.1352131  0.13875941\n",
      " 0.13551211 0.13770628 0.1352131  0.13875941 0.13551211 0.13770628\n",
      "        nan        nan        nan        nan 0.13459954 0.13313481\n",
      " 0.13296395 0.13394594 0.13459954 0.13313481 0.13296395 0.13394594\n",
      "        nan        nan        nan        nan 0.14632606 0.15064429\n",
      " 0.14849828 0.14781501 0.14241741 0.14588694 0.14577871 0.14632311\n",
      "        nan        nan        nan        nan 0.1352131  0.13875941\n",
      " 0.13551211 0.13770628 0.1352131  0.13875941 0.13551211 0.13770628\n",
      "        nan        nan        nan        nan 0.13459954 0.13313481\n",
      " 0.13296395 0.13394594 0.13459954 0.13313481 0.13296395 0.13394594\n",
      "        nan        nan        nan        nan 0.14632606 0.15064429\n",
      " 0.14849828 0.14781501 0.14241741 0.14588694 0.14577871 0.14632311\n",
      "        nan        nan        nan        nan 0.1352131  0.13875941\n",
      " 0.13551211 0.13770628 0.1352131  0.13875941 0.13551211 0.13770628\n",
      "        nan        nan        nan        nan 0.13459954 0.13313481\n",
      " 0.13296395 0.13394594 0.13459954 0.13313481 0.13296395 0.13394594]\n",
      "  warnings.warn(\n",
      "C:\\ProgramData\\Anaconda3\\lib\\site-packages\\sklearn\\model_selection\\_search.py:922: UserWarning: One or more of the train scores are non-finite: [       nan        nan        nan        nan 0.99498785 0.99507015\n",
      " 0.99514751 0.99510903 0.99355228 0.99503372 0.99513238 0.99510903\n",
      "        nan        nan        nan        nan 0.80323093 0.82732169\n",
      " 0.83927895 0.84688337 0.80323093 0.82732169 0.83927895 0.84688337\n",
      "        nan        nan        nan        nan 0.45124657 0.45827703\n",
      " 0.45828917 0.45588469 0.45124657 0.45827703 0.45828917 0.45588469\n",
      "        nan        nan        nan        nan 0.99498785 0.99507015\n",
      " 0.99514751 0.99510903 0.99355228 0.99503372 0.99513238 0.99510903\n",
      "        nan        nan        nan        nan 0.80323093 0.82732169\n",
      " 0.83927895 0.84688337 0.80323093 0.82732169 0.83927895 0.84688337\n",
      "        nan        nan        nan        nan 0.45124657 0.45827703\n",
      " 0.45828917 0.45588469 0.45124657 0.45827703 0.45828917 0.45588469\n",
      "        nan        nan        nan        nan 0.99498785 0.99507015\n",
      " 0.99514751 0.99510903 0.99355228 0.99503372 0.99513238 0.99510903\n",
      "        nan        nan        nan        nan 0.80323093 0.82732169\n",
      " 0.83927895 0.84688337 0.80323093 0.82732169 0.83927895 0.84688337\n",
      "        nan        nan        nan        nan 0.45124657 0.45827703\n",
      " 0.45828917 0.45588469 0.45124657 0.45827703 0.45828917 0.45588469\n",
      "        nan        nan        nan        nan 0.99498785 0.99507015\n",
      " 0.99514751 0.99510903 0.99355228 0.99503372 0.99513238 0.99510903\n",
      "        nan        nan        nan        nan 0.80323093 0.82732169\n",
      " 0.83927895 0.84688337 0.80323093 0.82732169 0.83927895 0.84688337\n",
      "        nan        nan        nan        nan 0.45124657 0.45827703\n",
      " 0.45828917 0.45588469 0.45124657 0.45827703 0.45828917 0.45588469\n",
      "        nan        nan        nan        nan 0.99498785 0.99507015\n",
      " 0.99514751 0.99510903 0.99355228 0.99503372 0.99513238 0.99510903\n",
      "        nan        nan        nan        nan 0.80323093 0.82732169\n",
      " 0.83927895 0.84688337 0.80323093 0.82732169 0.83927895 0.84688337\n",
      "        nan        nan        nan        nan 0.45124657 0.45827703\n",
      " 0.45828917 0.45588469 0.45124657 0.45827703 0.45828917 0.45588469\n",
      "        nan        nan        nan        nan 0.99498785 0.99507015\n",
      " 0.99514751 0.99510903 0.99355228 0.99503372 0.99513238 0.99510903\n",
      "        nan        nan        nan        nan 0.80323093 0.82732169\n",
      " 0.83927895 0.84688337 0.80323093 0.82732169 0.83927895 0.84688337\n",
      "        nan        nan        nan        nan 0.45124657 0.45827703\n",
      " 0.45828917 0.45588469 0.45124657 0.45827703 0.45828917 0.45588469\n",
      "        nan        nan        nan        nan 0.99498785 0.99507015\n",
      " 0.99514751 0.99510903 0.99355228 0.99503372 0.99513238 0.99510903\n",
      "        nan        nan        nan        nan 0.80323093 0.82732169\n",
      " 0.83927895 0.84688337 0.80323093 0.82732169 0.83927895 0.84688337\n",
      "        nan        nan        nan        nan 0.45124657 0.45827703\n",
      " 0.45828917 0.45588469 0.45124657 0.45827703 0.45828917 0.45588469\n",
      "        nan        nan        nan        nan 0.99498785 0.99507015\n",
      " 0.99514751 0.99510903 0.99355228 0.99503372 0.99513238 0.99510903\n",
      "        nan        nan        nan        nan 0.80323093 0.82732169\n",
      " 0.83927895 0.84688337 0.80323093 0.82732169 0.83927895 0.84688337\n",
      "        nan        nan        nan        nan 0.45124657 0.45827703\n",
      " 0.45828917 0.45588469 0.45124657 0.45827703 0.45828917 0.45588469]\n",
      "  warnings.warn(\n"
     ]
    }
   ],
   "source": [
    "# Fit the grid search to the data\n",
    "grid_search.fit(features_selected, labels);"
   ]
  },
  {
   "cell_type": "code",
   "execution_count": 94,
   "id": "fc661563-5710-4525-a72f-df0d9059cc37",
   "metadata": {},
   "outputs": [
    {
     "data": {
      "text/plain": [
       "{'bootstrap': True,\n",
       " 'max_depth': 50,\n",
       " 'max_features': 'sqrt',\n",
       " 'min_samples_leaf': 1,\n",
       " 'min_samples_split': 2,\n",
       " 'n_estimators': 200}"
      ]
     },
     "execution_count": 94,
     "metadata": {},
     "output_type": "execute_result"
    }
   ],
   "source": [
    "grid_search.best_params_"
   ]
  },
  {
   "cell_type": "code",
   "execution_count": 100,
   "id": "50b20c66-d2ac-401a-aee7-96c8103fe02d",
   "metadata": {},
   "outputs": [
    {
     "name": "stdout",
     "output_type": "stream",
     "text": [
      "Accuracy: 0.15064.\n"
     ]
    }
   ],
   "source": [
    "best_grid = grid_search.best_estimator_\n",
    "grid_accuracy = mean(cross_val_score(best_grid, features_selected, labels, scoring='f1_macro', cv=cv))\n",
    "print('Accuracy: {:0.5f}.'.format(grid_accuracy))"
   ]
  },
  {
   "cell_type": "code",
   "execution_count": 101,
   "id": "a9e34ad4-725d-43a9-a718-181eb214bb95",
   "metadata": {},
   "outputs": [
    {
     "name": "stdout",
     "output_type": "stream",
     "text": [
      "Improvement of 2.95%.\n"
     ]
    }
   ],
   "source": [
    "print('Improvement of {:0.2f}%.'.format( 100 * (grid_accuracy - base_accuracy) / base_accuracy))"
   ]
  },
  {
   "cell_type": "code",
   "execution_count": null,
   "id": "752fa3ed-5381-44e7-8859-99895b1ae58c",
   "metadata": {},
   "outputs": [],
   "source": [
    "{'n_estimators': 200,\n",
    " 'min_samples_split': 2,\n",
    " 'min_samples_leaf': 1,\n",
    " 'max_features': 'sqrt',\n",
    " 'max_depth': 50,\n",
    " 'bootstrap': True}"
   ]
  },
  {
   "cell_type": "code",
   "execution_count": 40,
   "id": "c806e86e-4f4f-459d-85b1-c76a9d7c2760",
   "metadata": {},
   "outputs": [],
   "source": [
    "rf_final = RandomForestClassifier(n_estimators = 200, min_samples_split = 2, min_samples_leaf = 1, max_features = 'sqrt', max_depth = 50, bootstrap = True)"
   ]
  },
  {
   "cell_type": "code",
   "execution_count": 42,
   "id": "8164ed4e-fd07-470c-b579-9f3684cbaa7a",
   "metadata": {},
   "outputs": [
    {
     "ename": "ValueError",
     "evalue": "'roc_auc_macro' is not a valid scoring value. Use sorted(sklearn.metrics.SCORERS.keys()) to get valid options.",
     "output_type": "error",
     "traceback": [
      "\u001b[1;31m---------------------------------------------------------------------------\u001b[0m",
      "\u001b[1;31mKeyError\u001b[0m                                  Traceback (most recent call last)",
      "\u001b[1;32mC:\\ProgramData\\Anaconda3\\lib\\site-packages\\sklearn\\metrics\\_scorer.py\u001b[0m in \u001b[0;36mget_scorer\u001b[1;34m(scoring)\u001b[0m\n\u001b[0;32m    384\u001b[0m         \u001b[1;32mtry\u001b[0m\u001b[1;33m:\u001b[0m\u001b[1;33m\u001b[0m\u001b[1;33m\u001b[0m\u001b[0m\n\u001b[1;32m--> 385\u001b[1;33m             \u001b[0mscorer\u001b[0m \u001b[1;33m=\u001b[0m \u001b[0mSCORERS\u001b[0m\u001b[1;33m[\u001b[0m\u001b[0mscoring\u001b[0m\u001b[1;33m]\u001b[0m\u001b[1;33m\u001b[0m\u001b[1;33m\u001b[0m\u001b[0m\n\u001b[0m\u001b[0;32m    386\u001b[0m         \u001b[1;32mexcept\u001b[0m \u001b[0mKeyError\u001b[0m\u001b[1;33m:\u001b[0m\u001b[1;33m\u001b[0m\u001b[1;33m\u001b[0m\u001b[0m\n",
      "\u001b[1;31mKeyError\u001b[0m: 'roc_auc_macro'",
      "\nDuring handling of the above exception, another exception occurred:\n",
      "\u001b[1;31mValueError\u001b[0m                                Traceback (most recent call last)",
      "\u001b[1;32m~\\AppData\\Local\\Temp/ipykernel_52520/3985453308.py\u001b[0m in \u001b[0;36m<module>\u001b[1;34m\u001b[0m\n\u001b[1;32m----> 1\u001b[1;33m \u001b[0mroc\u001b[0m \u001b[1;33m=\u001b[0m \u001b[0mcross_val_score\u001b[0m\u001b[1;33m(\u001b[0m\u001b[0mrf_final\u001b[0m\u001b[1;33m,\u001b[0m \u001b[0mfeatures_selected\u001b[0m\u001b[1;33m,\u001b[0m \u001b[0mlabels\u001b[0m\u001b[1;33m,\u001b[0m \u001b[0mscoring\u001b[0m\u001b[1;33m=\u001b[0m\u001b[1;34m'roc_auc_macro'\u001b[0m\u001b[1;33m,\u001b[0m \u001b[0mcv\u001b[0m\u001b[1;33m=\u001b[0m\u001b[0mcv\u001b[0m\u001b[1;33m)\u001b[0m \u001b[1;33m*\u001b[0m \u001b[1;36m100\u001b[0m\u001b[1;33m\u001b[0m\u001b[1;33m\u001b[0m\u001b[0m\n\u001b[0m",
      "\u001b[1;32mC:\\ProgramData\\Anaconda3\\lib\\site-packages\\sklearn\\utils\\validation.py\u001b[0m in \u001b[0;36minner_f\u001b[1;34m(*args, **kwargs)\u001b[0m\n\u001b[0;32m     61\u001b[0m             \u001b[0mextra_args\u001b[0m \u001b[1;33m=\u001b[0m \u001b[0mlen\u001b[0m\u001b[1;33m(\u001b[0m\u001b[0margs\u001b[0m\u001b[1;33m)\u001b[0m \u001b[1;33m-\u001b[0m \u001b[0mlen\u001b[0m\u001b[1;33m(\u001b[0m\u001b[0mall_args\u001b[0m\u001b[1;33m)\u001b[0m\u001b[1;33m\u001b[0m\u001b[1;33m\u001b[0m\u001b[0m\n\u001b[0;32m     62\u001b[0m             \u001b[1;32mif\u001b[0m \u001b[0mextra_args\u001b[0m \u001b[1;33m<=\u001b[0m \u001b[1;36m0\u001b[0m\u001b[1;33m:\u001b[0m\u001b[1;33m\u001b[0m\u001b[1;33m\u001b[0m\u001b[0m\n\u001b[1;32m---> 63\u001b[1;33m                 \u001b[1;32mreturn\u001b[0m \u001b[0mf\u001b[0m\u001b[1;33m(\u001b[0m\u001b[1;33m*\u001b[0m\u001b[0margs\u001b[0m\u001b[1;33m,\u001b[0m \u001b[1;33m**\u001b[0m\u001b[0mkwargs\u001b[0m\u001b[1;33m)\u001b[0m\u001b[1;33m\u001b[0m\u001b[1;33m\u001b[0m\u001b[0m\n\u001b[0m\u001b[0;32m     64\u001b[0m \u001b[1;33m\u001b[0m\u001b[0m\n\u001b[0;32m     65\u001b[0m             \u001b[1;31m# extra_args > 0\u001b[0m\u001b[1;33m\u001b[0m\u001b[1;33m\u001b[0m\u001b[0m\n",
      "\u001b[1;32mC:\\ProgramData\\Anaconda3\\lib\\site-packages\\sklearn\\model_selection\\_validation.py\u001b[0m in \u001b[0;36mcross_val_score\u001b[1;34m(estimator, X, y, groups, scoring, cv, n_jobs, verbose, fit_params, pre_dispatch, error_score)\u001b[0m\n\u001b[0;32m    441\u001b[0m     \"\"\"\n\u001b[0;32m    442\u001b[0m     \u001b[1;31m# To ensure multimetric format is not supported\u001b[0m\u001b[1;33m\u001b[0m\u001b[1;33m\u001b[0m\u001b[0m\n\u001b[1;32m--> 443\u001b[1;33m     \u001b[0mscorer\u001b[0m \u001b[1;33m=\u001b[0m \u001b[0mcheck_scoring\u001b[0m\u001b[1;33m(\u001b[0m\u001b[0mestimator\u001b[0m\u001b[1;33m,\u001b[0m \u001b[0mscoring\u001b[0m\u001b[1;33m=\u001b[0m\u001b[0mscoring\u001b[0m\u001b[1;33m)\u001b[0m\u001b[1;33m\u001b[0m\u001b[1;33m\u001b[0m\u001b[0m\n\u001b[0m\u001b[0;32m    444\u001b[0m \u001b[1;33m\u001b[0m\u001b[0m\n\u001b[0;32m    445\u001b[0m     cv_results = cross_validate(estimator=estimator, X=X, y=y, groups=groups,\n",
      "\u001b[1;32mC:\\ProgramData\\Anaconda3\\lib\\site-packages\\sklearn\\utils\\validation.py\u001b[0m in \u001b[0;36minner_f\u001b[1;34m(*args, **kwargs)\u001b[0m\n\u001b[0;32m     61\u001b[0m             \u001b[0mextra_args\u001b[0m \u001b[1;33m=\u001b[0m \u001b[0mlen\u001b[0m\u001b[1;33m(\u001b[0m\u001b[0margs\u001b[0m\u001b[1;33m)\u001b[0m \u001b[1;33m-\u001b[0m \u001b[0mlen\u001b[0m\u001b[1;33m(\u001b[0m\u001b[0mall_args\u001b[0m\u001b[1;33m)\u001b[0m\u001b[1;33m\u001b[0m\u001b[1;33m\u001b[0m\u001b[0m\n\u001b[0;32m     62\u001b[0m             \u001b[1;32mif\u001b[0m \u001b[0mextra_args\u001b[0m \u001b[1;33m<=\u001b[0m \u001b[1;36m0\u001b[0m\u001b[1;33m:\u001b[0m\u001b[1;33m\u001b[0m\u001b[1;33m\u001b[0m\u001b[0m\n\u001b[1;32m---> 63\u001b[1;33m                 \u001b[1;32mreturn\u001b[0m \u001b[0mf\u001b[0m\u001b[1;33m(\u001b[0m\u001b[1;33m*\u001b[0m\u001b[0margs\u001b[0m\u001b[1;33m,\u001b[0m \u001b[1;33m**\u001b[0m\u001b[0mkwargs\u001b[0m\u001b[1;33m)\u001b[0m\u001b[1;33m\u001b[0m\u001b[1;33m\u001b[0m\u001b[0m\n\u001b[0m\u001b[0;32m     64\u001b[0m \u001b[1;33m\u001b[0m\u001b[0m\n\u001b[0;32m     65\u001b[0m             \u001b[1;31m# extra_args > 0\u001b[0m\u001b[1;33m\u001b[0m\u001b[1;33m\u001b[0m\u001b[0m\n",
      "\u001b[1;32mC:\\ProgramData\\Anaconda3\\lib\\site-packages\\sklearn\\metrics\\_scorer.py\u001b[0m in \u001b[0;36mcheck_scoring\u001b[1;34m(estimator, scoring, allow_none)\u001b[0m\n\u001b[0;32m    428\u001b[0m                         \"'fit' method, %r was passed\" % estimator)\n\u001b[0;32m    429\u001b[0m     \u001b[1;32mif\u001b[0m \u001b[0misinstance\u001b[0m\u001b[1;33m(\u001b[0m\u001b[0mscoring\u001b[0m\u001b[1;33m,\u001b[0m \u001b[0mstr\u001b[0m\u001b[1;33m)\u001b[0m\u001b[1;33m:\u001b[0m\u001b[1;33m\u001b[0m\u001b[1;33m\u001b[0m\u001b[0m\n\u001b[1;32m--> 430\u001b[1;33m         \u001b[1;32mreturn\u001b[0m \u001b[0mget_scorer\u001b[0m\u001b[1;33m(\u001b[0m\u001b[0mscoring\u001b[0m\u001b[1;33m)\u001b[0m\u001b[1;33m\u001b[0m\u001b[1;33m\u001b[0m\u001b[0m\n\u001b[0m\u001b[0;32m    431\u001b[0m     \u001b[1;32melif\u001b[0m \u001b[0mcallable\u001b[0m\u001b[1;33m(\u001b[0m\u001b[0mscoring\u001b[0m\u001b[1;33m)\u001b[0m\u001b[1;33m:\u001b[0m\u001b[1;33m\u001b[0m\u001b[1;33m\u001b[0m\u001b[0m\n\u001b[0;32m    432\u001b[0m         \u001b[1;31m# Heuristic to ensure user has not passed a metric\u001b[0m\u001b[1;33m\u001b[0m\u001b[1;33m\u001b[0m\u001b[0m\n",
      "\u001b[1;32mC:\\ProgramData\\Anaconda3\\lib\\site-packages\\sklearn\\metrics\\_scorer.py\u001b[0m in \u001b[0;36mget_scorer\u001b[1;34m(scoring)\u001b[0m\n\u001b[0;32m    385\u001b[0m             \u001b[0mscorer\u001b[0m \u001b[1;33m=\u001b[0m \u001b[0mSCORERS\u001b[0m\u001b[1;33m[\u001b[0m\u001b[0mscoring\u001b[0m\u001b[1;33m]\u001b[0m\u001b[1;33m\u001b[0m\u001b[1;33m\u001b[0m\u001b[0m\n\u001b[0;32m    386\u001b[0m         \u001b[1;32mexcept\u001b[0m \u001b[0mKeyError\u001b[0m\u001b[1;33m:\u001b[0m\u001b[1;33m\u001b[0m\u001b[1;33m\u001b[0m\u001b[0m\n\u001b[1;32m--> 387\u001b[1;33m             raise ValueError('%r is not a valid scoring value. '\n\u001b[0m\u001b[0;32m    388\u001b[0m                              \u001b[1;34m'Use sorted(sklearn.metrics.SCORERS.keys()) '\u001b[0m\u001b[1;33m\u001b[0m\u001b[1;33m\u001b[0m\u001b[0m\n\u001b[0;32m    389\u001b[0m                              'to get valid options.' % scoring)\n",
      "\u001b[1;31mValueError\u001b[0m: 'roc_auc_macro' is not a valid scoring value. Use sorted(sklearn.metrics.SCORERS.keys()) to get valid options."
     ]
    }
   ],
   "source": [
    "roc = cross_val_score(rf_final, features_selected, labels, scoring='roc_auc_macro', cv=cv) * 100"
   ]
  },
  {
   "cell_type": "code",
   "execution_count": 63,
   "id": "6435f904-7307-4d38-a1c3-351fc19f8c53",
   "metadata": {},
   "outputs": [
    {
     "data": {
      "text/plain": [
       "array([14.43298969, 23.71134021, 30.92783505, 22.68041237, 27.83505155,\n",
       "       24.74226804, 30.92783505, 27.08333333, 22.91666667, 30.20833333,\n",
       "       26.80412371, 23.71134021, 25.77319588, 34.02061856, 23.71134021,\n",
       "       25.77319588, 26.80412371, 26.04166667, 30.20833333, 26.04166667,\n",
       "       21.64948454, 19.58762887, 25.77319588, 30.92783505, 28.86597938,\n",
       "       26.80412371, 24.74226804, 27.08333333, 20.83333333, 34.375     ])"
      ]
     },
     "execution_count": 63,
     "metadata": {},
     "output_type": "execute_result"
    }
   ],
   "source": [
    "accuracy = cross_val_score(rf_final, features_selected, labels, scoring='accuracy', cv=cv) * 100\n",
    "accuracy"
   ]
  },
  {
   "cell_type": "code",
   "execution_count": 64,
   "id": "8a3656d9-1796-485d-ba4d-c8c4cdfa4cbc",
   "metadata": {},
   "outputs": [
    {
     "name": "stdout",
     "output_type": "stream",
     "text": [
      "Mean: 26.166595\n",
      "SD: 4.154817\n",
      "Max: 34.375000\n",
      "Min: 14.432990\n"
     ]
    }
   ],
   "source": [
    "print(\"Mean: %f\" % mean(accuracy))\n",
    "print(\"SD: %f\" % std(accuracy))\n",
    "print(\"Max: %f\" % amax(accuracy))\n",
    "print(\"Min: %f\" % amin(accuracy))"
   ]
  },
  {
   "cell_type": "code",
   "execution_count": 65,
   "id": "43250092-2d96-4ac5-82a8-f6cc62c55da0",
   "metadata": {},
   "outputs": [
    {
     "name": "stderr",
     "output_type": "stream",
     "text": [
      "C:\\ProgramData\\Anaconda3\\lib\\site-packages\\sklearn\\metrics\\_classification.py:1248: UndefinedMetricWarning: Precision is ill-defined and being set to 0.0 in labels with no predicted samples. Use `zero_division` parameter to control this behavior.\n",
      "  _warn_prf(average, modifier, msg_start, len(result))\n",
      "C:\\ProgramData\\Anaconda3\\lib\\site-packages\\sklearn\\metrics\\_classification.py:1248: UndefinedMetricWarning: Precision is ill-defined and being set to 0.0 in labels with no predicted samples. Use `zero_division` parameter to control this behavior.\n",
      "  _warn_prf(average, modifier, msg_start, len(result))\n",
      "C:\\ProgramData\\Anaconda3\\lib\\site-packages\\sklearn\\metrics\\_classification.py:1248: UndefinedMetricWarning: Precision is ill-defined and being set to 0.0 in labels with no predicted samples. Use `zero_division` parameter to control this behavior.\n",
      "  _warn_prf(average, modifier, msg_start, len(result))\n",
      "C:\\ProgramData\\Anaconda3\\lib\\site-packages\\sklearn\\metrics\\_classification.py:1248: UndefinedMetricWarning: Precision is ill-defined and being set to 0.0 in labels with no predicted samples. Use `zero_division` parameter to control this behavior.\n",
      "  _warn_prf(average, modifier, msg_start, len(result))\n",
      "C:\\ProgramData\\Anaconda3\\lib\\site-packages\\sklearn\\metrics\\_classification.py:1248: UndefinedMetricWarning: Precision is ill-defined and being set to 0.0 in labels with no predicted samples. Use `zero_division` parameter to control this behavior.\n",
      "  _warn_prf(average, modifier, msg_start, len(result))\n",
      "C:\\ProgramData\\Anaconda3\\lib\\site-packages\\sklearn\\metrics\\_classification.py:1248: UndefinedMetricWarning: Precision is ill-defined and being set to 0.0 in labels with no predicted samples. Use `zero_division` parameter to control this behavior.\n",
      "  _warn_prf(average, modifier, msg_start, len(result))\n",
      "C:\\ProgramData\\Anaconda3\\lib\\site-packages\\sklearn\\metrics\\_classification.py:1248: UndefinedMetricWarning: Precision is ill-defined and being set to 0.0 in labels with no predicted samples. Use `zero_division` parameter to control this behavior.\n",
      "  _warn_prf(average, modifier, msg_start, len(result))\n",
      "C:\\ProgramData\\Anaconda3\\lib\\site-packages\\sklearn\\metrics\\_classification.py:1248: UndefinedMetricWarning: Precision is ill-defined and being set to 0.0 in labels with no predicted samples. Use `zero_division` parameter to control this behavior.\n",
      "  _warn_prf(average, modifier, msg_start, len(result))\n",
      "C:\\ProgramData\\Anaconda3\\lib\\site-packages\\sklearn\\metrics\\_classification.py:1248: UndefinedMetricWarning: Precision is ill-defined and being set to 0.0 in labels with no predicted samples. Use `zero_division` parameter to control this behavior.\n",
      "  _warn_prf(average, modifier, msg_start, len(result))\n",
      "C:\\ProgramData\\Anaconda3\\lib\\site-packages\\sklearn\\metrics\\_classification.py:1248: UndefinedMetricWarning: Precision is ill-defined and being set to 0.0 in labels with no predicted samples. Use `zero_division` parameter to control this behavior.\n",
      "  _warn_prf(average, modifier, msg_start, len(result))\n",
      "C:\\ProgramData\\Anaconda3\\lib\\site-packages\\sklearn\\metrics\\_classification.py:1248: UndefinedMetricWarning: Precision is ill-defined and being set to 0.0 in labels with no predicted samples. Use `zero_division` parameter to control this behavior.\n",
      "  _warn_prf(average, modifier, msg_start, len(result))\n",
      "C:\\ProgramData\\Anaconda3\\lib\\site-packages\\sklearn\\metrics\\_classification.py:1248: UndefinedMetricWarning: Precision is ill-defined and being set to 0.0 in labels with no predicted samples. Use `zero_division` parameter to control this behavior.\n",
      "  _warn_prf(average, modifier, msg_start, len(result))\n",
      "C:\\ProgramData\\Anaconda3\\lib\\site-packages\\sklearn\\metrics\\_classification.py:1248: UndefinedMetricWarning: Precision is ill-defined and being set to 0.0 in labels with no predicted samples. Use `zero_division` parameter to control this behavior.\n",
      "  _warn_prf(average, modifier, msg_start, len(result))\n",
      "C:\\ProgramData\\Anaconda3\\lib\\site-packages\\sklearn\\metrics\\_classification.py:1248: UndefinedMetricWarning: Precision is ill-defined and being set to 0.0 in labels with no predicted samples. Use `zero_division` parameter to control this behavior.\n",
      "  _warn_prf(average, modifier, msg_start, len(result))\n",
      "C:\\ProgramData\\Anaconda3\\lib\\site-packages\\sklearn\\metrics\\_classification.py:1248: UndefinedMetricWarning: Precision is ill-defined and being set to 0.0 in labels with no predicted samples. Use `zero_division` parameter to control this behavior.\n",
      "  _warn_prf(average, modifier, msg_start, len(result))\n",
      "C:\\ProgramData\\Anaconda3\\lib\\site-packages\\sklearn\\metrics\\_classification.py:1248: UndefinedMetricWarning: Precision is ill-defined and being set to 0.0 in labels with no predicted samples. Use `zero_division` parameter to control this behavior.\n",
      "  _warn_prf(average, modifier, msg_start, len(result))\n",
      "C:\\ProgramData\\Anaconda3\\lib\\site-packages\\sklearn\\metrics\\_classification.py:1248: UndefinedMetricWarning: Precision is ill-defined and being set to 0.0 in labels with no predicted samples. Use `zero_division` parameter to control this behavior.\n",
      "  _warn_prf(average, modifier, msg_start, len(result))\n",
      "C:\\ProgramData\\Anaconda3\\lib\\site-packages\\sklearn\\metrics\\_classification.py:1248: UndefinedMetricWarning: Precision is ill-defined and being set to 0.0 in labels with no predicted samples. Use `zero_division` parameter to control this behavior.\n",
      "  _warn_prf(average, modifier, msg_start, len(result))\n",
      "C:\\ProgramData\\Anaconda3\\lib\\site-packages\\sklearn\\metrics\\_classification.py:1248: UndefinedMetricWarning: Precision is ill-defined and being set to 0.0 in labels with no predicted samples. Use `zero_division` parameter to control this behavior.\n",
      "  _warn_prf(average, modifier, msg_start, len(result))\n",
      "C:\\ProgramData\\Anaconda3\\lib\\site-packages\\sklearn\\metrics\\_classification.py:1248: UndefinedMetricWarning: Precision is ill-defined and being set to 0.0 in labels with no predicted samples. Use `zero_division` parameter to control this behavior.\n",
      "  _warn_prf(average, modifier, msg_start, len(result))\n"
     ]
    },
    {
     "data": {
      "text/plain": [
       "array([0.0732493 , 0.10500364, 0.16670043, 0.17645202, 0.15164117,\n",
       "       0.13663004, 0.14751905, 0.20729644, 0.11973827, 0.22978836,\n",
       "       0.11606979, 0.1253887 , 0.20520881, 0.19703784, 0.14162874,\n",
       "       0.17166412, 0.12290428, 0.14814726, 0.15579262, 0.11698638,\n",
       "       0.10905682, 0.11395731, 0.12467487, 0.19463802, 0.13661859,\n",
       "       0.12734912, 0.12469878, 0.12630156, 0.13131721, 0.26370851])"
      ]
     },
     "execution_count": 65,
     "metadata": {},
     "output_type": "execute_result"
    }
   ],
   "source": [
    "precision = cross_val_score(rf_final, features_selected, labels, scoring='precision_macro', cv=cv)\n",
    "precision"
   ]
  },
  {
   "cell_type": "code",
   "execution_count": 66,
   "id": "8b66753f-114e-4b3b-8cde-f8e887305712",
   "metadata": {},
   "outputs": [
    {
     "name": "stdout",
     "output_type": "stream",
     "text": [
      "Mean: 0.148906\n",
      "SD: 0.040747\n",
      "Max: 0.263709\n",
      "Min: 0.073249\n"
     ]
    }
   ],
   "source": [
    "print(\"Mean: %f\" % mean(precision))\n",
    "print(\"SD: %f\" % std(precision))\n",
    "print(\"Max: %f\" % amax(precision))\n",
    "print(\"Min: %f\" % amin(precision))"
   ]
  },
  {
   "cell_type": "code",
   "execution_count": 67,
   "id": "ced561bf-a00a-4c3a-8cd2-1b35cc697b86",
   "metadata": {},
   "outputs": [
    {
     "name": "stderr",
     "output_type": "stream",
     "text": [
      "C:\\ProgramData\\Anaconda3\\lib\\site-packages\\sklearn\\metrics\\_classification.py:1248: UndefinedMetricWarning: Recall is ill-defined and being set to 0.0 in labels with no true samples. Use `zero_division` parameter to control this behavior.\n",
      "  _warn_prf(average, modifier, msg_start, len(result))\n",
      "C:\\ProgramData\\Anaconda3\\lib\\site-packages\\sklearn\\metrics\\_classification.py:1248: UndefinedMetricWarning: Recall is ill-defined and being set to 0.0 in labels with no true samples. Use `zero_division` parameter to control this behavior.\n",
      "  _warn_prf(average, modifier, msg_start, len(result))\n",
      "C:\\ProgramData\\Anaconda3\\lib\\site-packages\\sklearn\\metrics\\_classification.py:1248: UndefinedMetricWarning: Recall is ill-defined and being set to 0.0 in labels with no true samples. Use `zero_division` parameter to control this behavior.\n",
      "  _warn_prf(average, modifier, msg_start, len(result))\n",
      "C:\\ProgramData\\Anaconda3\\lib\\site-packages\\sklearn\\metrics\\_classification.py:1248: UndefinedMetricWarning: Recall is ill-defined and being set to 0.0 in labels with no true samples. Use `zero_division` parameter to control this behavior.\n",
      "  _warn_prf(average, modifier, msg_start, len(result))\n",
      "C:\\ProgramData\\Anaconda3\\lib\\site-packages\\sklearn\\metrics\\_classification.py:1248: UndefinedMetricWarning: Recall is ill-defined and being set to 0.0 in labels with no true samples. Use `zero_division` parameter to control this behavior.\n",
      "  _warn_prf(average, modifier, msg_start, len(result))\n"
     ]
    },
    {
     "data": {
      "text/plain": [
       "array([0.09640805, 0.10893817, 0.16767354, 0.14161445, 0.18872827,\n",
       "       0.15646772, 0.15338065, 0.24319473, 0.13879441, 0.20166325,\n",
       "       0.13303571, 0.14758199, 0.17709373, 0.20866311, 0.14658009,\n",
       "       0.15455122, 0.11331598, 0.13456543, 0.19105181, 0.13953981,\n",
       "       0.10711881, 0.12277047, 0.15901506, 0.18310061, 0.16389803,\n",
       "       0.14375   , 0.12606838, 0.15416667, 0.11694595, 0.21592796])"
      ]
     },
     "execution_count": 67,
     "metadata": {},
     "output_type": "execute_result"
    }
   ],
   "source": [
    "recall = cross_val_score(rf_final, features_selected, labels, scoring='recall_macro', cv=cv)\n",
    "recall"
   ]
  },
  {
   "cell_type": "code",
   "execution_count": 68,
   "id": "81a2714f-6271-4b63-aa99-61bf372f301e",
   "metadata": {},
   "outputs": [
    {
     "name": "stdout",
     "output_type": "stream",
     "text": [
      "Mean: 0.154520\n",
      "SD: 0.034283\n",
      "Max: 0.243195\n",
      "Min: 0.096408\n"
     ]
    }
   ],
   "source": [
    "print(\"Mean: %f\" % mean(recall))\n",
    "print(\"SD: %f\" % std(recall))\n",
    "print(\"Max: %f\" % amax(recall))\n",
    "print(\"Min: %f\" % amin(recall))"
   ]
  },
  {
   "cell_type": "code",
   "execution_count": 69,
   "id": "07573ca3-0ddc-43f0-b570-6cff47967983",
   "metadata": {},
   "outputs": [
    {
     "data": {
      "text/plain": [
       "array([0.07261835, 0.11211869, 0.16143285, 0.14186302, 0.15538083,\n",
       "       0.12755102, 0.12862077, 0.21868481, 0.13687714, 0.21292191,\n",
       "       0.11446216, 0.11943876, 0.18105144, 0.21128057, 0.13956044,\n",
       "       0.14948418, 0.11812864, 0.11338844, 0.1500033 , 0.1330139 ,\n",
       "       0.1012219 , 0.10261209, 0.14366348, 0.18019497, 0.14354893,\n",
       "       0.13613374, 0.13711685, 0.12103233, 0.12555963, 0.21031079])"
      ]
     },
     "execution_count": 69,
     "metadata": {},
     "output_type": "execute_result"
    }
   ],
   "source": [
    "f1 = cross_val_score(rf_final, features_selected, labels, scoring='f1_macro', cv=cv)\n",
    "f1"
   ]
  },
  {
   "cell_type": "code",
   "execution_count": 70,
   "id": "a12d6ea3-cf60-4bb7-b623-94587eddab24",
   "metadata": {},
   "outputs": [
    {
     "name": "stdout",
     "output_type": "stream",
     "text": [
      "Mean: 0.143309\n",
      "SD: 0.035041\n",
      "Max: 0.218685\n",
      "Min: 0.072618\n"
     ]
    }
   ],
   "source": [
    "print(\"Mean: %f\" % mean(f1))\n",
    "print(\"SD: %f\" % std(f1))\n",
    "print(\"Max: %f\" % amax(f1))\n",
    "print(\"Min: %f\" % amin(f1))"
   ]
  },
  {
   "cell_type": "code",
   "execution_count": 71,
   "id": "7b947cd3-6510-414d-9bf1-e6b909e222bc",
   "metadata": {},
   "outputs": [
    {
     "data": {
      "text/plain": [
       "array([0.04222844, 0.06366582, 0.09704082, 0.10289918, 0.09539805,\n",
       "       0.08227032, 0.08360697, 0.12622498, 0.06377142, 0.11576354,\n",
       "       0.06901613, 0.062093  , 0.09051643, 0.12022273, 0.0877551 ,\n",
       "       0.09911125, 0.06756798, 0.07606283, 0.11798754, 0.07041207,\n",
       "       0.07305308, 0.06301042, 0.07808827, 0.11440476, 0.09602934,\n",
       "       0.07923582, 0.0802005 , 0.08899183, 0.080287  , 0.14292019])"
      ]
     },
     "execution_count": 71,
     "metadata": {},
     "output_type": "execute_result"
    }
   ],
   "source": [
    "jaccard = cross_val_score(rf_final, features_selected, labels, scoring='jaccard_macro', cv=cv)\n",
    "jaccard"
   ]
  },
  {
   "cell_type": "code",
   "execution_count": 72,
   "id": "043cf6a7-44a9-4923-85b0-1c4a5bfdaee3",
   "metadata": {},
   "outputs": [
    {
     "name": "stdout",
     "output_type": "stream",
     "text": [
      "Mean: 0.087661\n",
      "SD: 0.022214\n",
      "Max: 0.142920\n",
      "Min: 0.042228\n"
     ]
    }
   ],
   "source": [
    "print(\"Mean: %f\" % mean(jaccard))\n",
    "print(\"SD: %f\" % std(jaccard))\n",
    "print(\"Max: %f\" % amax(jaccard))\n",
    "print(\"Min: %f\" % amin(jaccard))"
   ]
  },
  {
   "cell_type": "code",
   "execution_count": null,
   "id": "caca56ed-3cb1-4761-9b64-f119308ecfb5",
   "metadata": {},
   "outputs": [],
   "source": []
  },
  {
   "cell_type": "code",
   "execution_count": 73,
   "id": "8f06df14-5027-4369-b044-cad908c7415e",
   "metadata": {},
   "outputs": [],
   "source": [
    "feature_importances = []"
   ]
  },
  {
   "cell_type": "code",
   "execution_count": 74,
   "id": "1de53847-6fb6-4f2d-9b94-4d70b1a765fc",
   "metadata": {},
   "outputs": [],
   "source": [
    "feature_list_selected = list(X_selected.columns)"
   ]
  },
  {
   "cell_type": "code",
   "execution_count": 75,
   "id": "cc6c0948-175e-4ac1-a388-0dec894972e8",
   "metadata": {},
   "outputs": [],
   "source": [
    "for i in range(len(feature_list_selected)):\n",
    "    feature_importances.append([])"
   ]
  },
  {
   "cell_type": "code",
   "execution_count": 76,
   "id": "384fcc82-4ffb-400f-813e-a74c03273aad",
   "metadata": {},
   "outputs": [],
   "source": [
    "for train_index , test_index in cv.split(X_selected):\n",
    "    X_train , X_test = X_selected.iloc[train_index,:],X_selected.iloc[test_index,:]\n",
    "    y_train , y_test = labels[train_index] , labels[test_index]\n",
    "     \n",
    "    rf_final.fit(X_train,y_train)\n",
    "    pred_values = rf_final.predict(X_test)\n",
    "    \n",
    "    importances = list(rf_final.feature_importances_)\n",
    "     \n",
    "    for i in range(len(importances)):\n",
    "        feature_importances[i].append(importances[i])"
   ]
  },
  {
   "cell_type": "code",
   "execution_count": 77,
   "id": "b6830e8f-c29f-4422-8c2b-74db835ea359",
   "metadata": {},
   "outputs": [],
   "source": [
    "mean_feature_importances = []\n",
    "for importances in feature_importances:\n",
    "    mean_feature_importances.append(mean(importances))"
   ]
  },
  {
   "cell_type": "code",
   "execution_count": 78,
   "id": "41d708e5-2c35-4fcf-ba54-0c148561b3d8",
   "metadata": {},
   "outputs": [
    {
     "name": "stdout",
     "output_type": "stream",
     "text": [
      "Variable: TANCRATIOD           Importance: 0.50164\n",
      "Variable: TAVCD                Importance: 0.49836\n"
     ]
    }
   ],
   "source": [
    "# List of tuples with variable and importance\n",
    "feature_importances_tuples = [(feature, round(importance, 5)) for feature, importance in zip(feature_list_selected, mean_feature_importances)]\n",
    "# Sort the feature importances by most important first\n",
    "feature_importances_tuples = sorted(feature_importances_tuples, key = lambda x: x[1], reverse = True)\n",
    "# Print out the feature and importances \n",
    "[print('Variable: {:20} Importance: {}'.format(*pair)) for pair in feature_importances_tuples];"
   ]
  },
  {
   "cell_type": "code",
   "execution_count": 79,
   "id": "f73a32fd-c807-4451-98a6-81852e5aa6b5",
   "metadata": {},
   "outputs": [],
   "source": [
    "f = [feature for feature, importance in feature_importances_tuples]\n",
    "imp = [importance for feature, importance in feature_importances_tuples]"
   ]
  },
  {
   "cell_type": "code",
   "execution_count": 80,
   "id": "6c85598d-7463-4ed9-990a-e76c857e643a",
   "metadata": {},
   "outputs": [],
   "source": [
    "imp_coef = pd.Series(imp, index = f)\n",
    "imp_coef = imp_coef.iloc[::-1]"
   ]
  },
  {
   "cell_type": "code",
   "execution_count": 81,
   "id": "c96d820e-a791-4435-8278-5af247c60cea",
   "metadata": {},
   "outputs": [
    {
     "data": {
      "text/plain": [
       "TAVCD         0.49836\n",
       "TANCRATIOD    0.50164\n",
       "dtype: float64"
      ]
     },
     "execution_count": 81,
     "metadata": {},
     "output_type": "execute_result"
    }
   ],
   "source": [
    "imp_coef"
   ]
  },
  {
   "cell_type": "code",
   "execution_count": 82,
   "id": "8f735c6a-073e-4ac2-b4e9-f1e038d6e38c",
   "metadata": {},
   "outputs": [
    {
     "data": {
      "image/png": "[encoded data removed]",
      "text/plain": [
       "<Figure size 720x360 with 1 Axes>"
      ]
     },
     "metadata": {},
     "output_type": "display_data"
    }
   ],
   "source": [
    "matplotlib.rcParams['figure.figsize'] = (10.0, 5.0)\n",
    "ax = imp_coef.plot(kind = \"barh\")\n",
    "ax.xaxis.label.set_color('white')\n",
    "ax.yaxis.label.set_color('white')\n",
    "ax.patch.set_alpha(0)\n",
    "\n",
    "ax.tick_params(axis='x', colors='white')\n",
    "ax.tick_params(axis='y', colors='white')\n",
    "\n",
    "ax.spines['left'].set_color('white')\n",
    "ax.spines['top'].set_color('white')\n",
    "ax.spines['right'].set_color('white')\n",
    "ax.spines['bottom'].set_color('white')\n",
    "plt.gcf().subplots_adjust(left=0.25)\n",
    "fig = ax.get_figure()\n",
    "ax.set_facecolor((0.1, 0.1, 0.1))\n",
    "fig.patch.set_facecolor((0.1, 0.1, 0.1))\n",
    "plt.title(label=\"Random Forest Classification Selected Features\",\n",
    "          fontsize=20,\n",
    "          color=\"white\")\n",
    "plt.grid(c='gray')\n",
    "fig.savefig('../../images/rf_classification_features.png', transparent=False)"
   ]
  },
  {
   "cell_type": "code",
   "execution_count": null,
   "id": "3acf61c7-7eda-485f-a17c-5821edafa64f",
   "metadata": {},
   "outputs": [],
   "source": []
  },
  {
   "cell_type": "code",
   "execution_count": 83,
   "id": "b06dfd48-b059-44d3-998a-df64650b79f2",
   "metadata": {},
   "outputs": [],
   "source": [
    "train_features, test_features, train_labels, test_labels = train_test_split(features_selected, labels, test_size = 0.25, random_state = 42)"
   ]
  },
  {
   "cell_type": "code",
   "execution_count": 84,
   "id": "8d562657-3dab-415b-895c-cddfffe36202",
   "metadata": {},
   "outputs": [
    {
     "data": {
      "text/plain": [
       "RandomForestClassifier(max_depth=50, max_features='sqrt', n_estimators=200)"
      ]
     },
     "execution_count": 84,
     "metadata": {},
     "output_type": "execute_result"
    }
   ],
   "source": [
    "rf_final.fit(train_features, train_labels)"
   ]
  },
  {
   "cell_type": "code",
   "execution_count": 85,
   "id": "55407c1a-9186-4489-a247-8af6f813996e",
   "metadata": {},
   "outputs": [],
   "source": [
    "predictions = rf_final.predict(test_features)"
   ]
  },
  {
   "cell_type": "code",
   "execution_count": 89,
   "id": "f9e927be-ef1f-4487-a085-93e7234d4dd6",
   "metadata": {},
   "outputs": [],
   "source": [
    "test_labels_real = np.array([(label/2)+1 for label in test_labels])\n",
    "predictions_real = np.array([(prediction/2)+1 for prediction in predictions])"
   ]
  },
  {
   "cell_type": "code",
   "execution_count": 90,
   "id": "d9fcd77c-1e69-4686-8cb2-fc67ca02135e",
   "metadata": {},
   "outputs": [
    {
     "data": {
      "text/plain": [
       "array([3, 5, 5, 6, 3, 5, 6, 5, 3, 5, 5, 5, 5, 6, 2, 7, 6, 7, 4, 4, 6, 5,\n",
       "       6, 6, 6, 7, 5, 3, 6, 6, 6, 4, 5, 6, 5, 6, 5, 6, 5, 5, 5, 6, 5, 6,\n",
       "       5, 5, 7, 6, 4, 3, 6, 6, 7, 5, 7, 6, 2, 7, 5, 4, 6, 6, 4, 7, 6, 6,\n",
       "       8, 1, 7, 5, 7, 5, 3, 2, 7, 5, 6, 7, 4, 7, 7, 6, 4, 2, 5, 6, 6, 5,\n",
       "       4, 6, 5, 5, 4, 5, 4, 4, 5, 6, 3, 6, 6, 6, 6, 6, 5, 5, 7, 5, 5, 4,\n",
       "       6, 6, 6, 5, 5, 5, 1, 7, 4, 4, 3, 6, 7, 4, 5, 6, 4, 7, 6, 5, 6, 6,\n",
       "       4, 4, 7, 6, 6, 3, 4, 6, 7, 5, 6, 6, 4, 4, 6, 7, 8, 8, 5, 4, 6, 2,\n",
       "       6, 5, 3, 5, 5, 3, 6, 4, 5, 5, 6, 4, 5, 6, 4, 5, 7, 3, 6, 6, 6, 8,\n",
       "       6, 4, 5, 6, 6, 7, 4, 5, 5, 5, 7, 8, 8, 5, 8, 5, 4, 4, 5, 5, 5, 5,\n",
       "       4, 4, 5, 5, 3, 6, 7, 5, 5, 3, 6, 7, 6, 6, 6, 7, 5, 4, 2, 5, 7, 5,\n",
       "       6, 5, 5, 5, 7, 7, 4, 5, 5, 5, 6, 4, 7, 4, 6, 5, 7, 6, 8, 5, 5, 6],\n",
       "      dtype=int64)"
      ]
     },
     "execution_count": 90,
     "metadata": {},
     "output_type": "execute_result"
    }
   ],
   "source": [
    "test_labels"
   ]
  },
  {
   "cell_type": "code",
   "execution_count": 91,
   "id": "65e31b3c-d107-4126-bfea-187ad12118d1",
   "metadata": {},
   "outputs": [
    {
     "data": {
      "image/png": "[encoded data removed]",
      "text/plain": [
       "<Figure size 720x720 with 1 Axes>"
      ]
     },
     "metadata": {},
     "output_type": "display_data"
    }
   ],
   "source": [
    "fig = plt.figure(figsize=(10,10))\n",
    "ax = fig.add_subplot(111)\n",
    "ax.scatter(test_labels_real, predictions_real,  color='white', alpha=0.3, s=100)\n",
    "m, b = np.polyfit(test_labels_real, predictions_real, 1)\n",
    "ax.plot(test_labels_real, m*test_labels_real+b, color='red', linewidth=3, label=\"Prediction regression line\")\n",
    "ax.legend()\n",
    "ax.plot(test_labels_real, test_labels_real, color='green', linewidth=3, label=\"Optimal regression line\")\n",
    "ax.legend()\n",
    "plt.xlabel(\"Actual\")\n",
    "plt.ylabel(\"Prediction\")\n",
    "\n",
    "ax.xaxis.label.set_color('white')\n",
    "ax.yaxis.label.set_color('white')\n",
    "\n",
    "ax.tick_params(axis='x', colors='white')\n",
    "ax.tick_params(axis='y', colors='white')\n",
    "\n",
    "ax.spines['left'].set_color('white')\n",
    "ax.spines['top'].set_color('white')\n",
    "ax.spines['right'].set_color('white')\n",
    "ax.spines['bottom'].set_color('white')\n",
    "\n",
    "ax.set_facecolor((0.1, 0.1, 0.1))\n",
    "fig.patch.set_facecolor((0.1, 0.1, 0.1))\n",
    "plt.title(label=\"Random Forest Classification (Prediction vs Actual)\",\n",
    "          fontsize=20,\n",
    "          color=\"white\")\n",
    "plt.grid(c='gray')\n",
    "plt.savefig('../../images/random_forest_classification.png', transparent=False)"
   ]
  },
  {
   "cell_type": "code",
   "execution_count": null,
   "id": "a50c1c17-b052-4499-bddc-4840d0b1b669",
   "metadata": {},
   "outputs": [],
   "source": []
  },
  {
   "cell_type": "code",
   "execution_count": null,
   "id": "8134f6be-035b-46ad-9955-ac89c424d600",
   "metadata": {},
   "outputs": [],
   "source": []
  },
  {
   "cell_type": "code",
   "execution_count": null,
   "id": "1a65d8f0-ba24-47a3-90a7-c9877c811135",
   "metadata": {},
   "outputs": [],
   "source": []
  },
  {
   "cell_type": "code",
   "execution_count": null,
   "id": "3169f7b6-d5af-4f13-aac2-1f6bce58ca78",
   "metadata": {},
   "outputs": [],
   "source": []
  }
 ],
 "metadata": {
  "kernelspec": {
   "display_name": "Python 3 (ipykernel)",
   "language": "python",
   "name": "python3"
  },
  "language_info": {
   "codemirror_mode": {
    "name": "ipython",
    "version": 3
   },
   "file_extension": ".py",
   "mimetype": "text/x-python",
   "name": "python",
   "nbconvert_exporter": "python",
   "pygments_lexer": "ipython3",
   "version": "3.9.7"
  }
 },
 "nbformat": 4,
 "nbformat_minor": 5
}
