{
 "cells": [
  {
   "cell_type": "code",
   "execution_count": 1,
   "id": "7de18544-e350-4431-a6c7-2db37a167e7b",
   "metadata": {},
   "outputs": [],
   "source": [
    "import pandas as pd"
   ]
  },
  {
   "cell_type": "code",
   "execution_count": 2,
   "id": "99ce8728-a6df-439f-ab40-e327c9d9ae00",
   "metadata": {},
   "outputs": [],
   "source": [
    "import numpy as np"
   ]
  },
  {
   "cell_type": "code",
   "execution_count": 3,
   "id": "c5d3e41b-0399-4a1a-a4cd-97d9de3b8422",
   "metadata": {},
   "outputs": [],
   "source": [
    "import matplotlib"
   ]
  },
  {
   "cell_type": "code",
   "execution_count": 4,
   "id": "d68ce35b-768f-4e3f-985e-f06348070366",
   "metadata": {},
   "outputs": [],
   "source": [
    "import matplotlib.pyplot as plt"
   ]
  },
  {
   "cell_type": "code",
   "execution_count": 5,
   "id": "2d4bf982-0a86-44c2-9401-41a4b9fe4563",
   "metadata": {},
   "outputs": [],
   "source": [
    "import seaborn as sns"
   ]
  },
  {
   "cell_type": "code",
   "execution_count": 6,
   "id": "39e39c10-574c-408d-9b6b-8fd9bba6d1a0",
   "metadata": {},
   "outputs": [],
   "source": [
    "import statsmodels.api as sm"
   ]
  },
  {
   "cell_type": "code",
   "execution_count": 7,
   "id": "af4b882c-5d5a-4e40-b4fb-fa1fc9a94a8d",
   "metadata": {},
   "outputs": [],
   "source": [
    "%matplotlib inline"
   ]
  },
  {
   "cell_type": "code",
   "execution_count": 8,
   "id": "e172ad68-ccfb-4358-a1fb-eaa1b62fc6c5",
   "metadata": {},
   "outputs": [],
   "source": [
    "from sklearn.model_selection import train_test_split"
   ]
  },
  {
   "cell_type": "code",
   "execution_count": 9,
   "id": "b301cb3b-5986-4c30-9519-b1d7bd19f2e6",
   "metadata": {},
   "outputs": [],
   "source": [
    "from sklearn.linear_model import LinearRegression"
   ]
  },
  {
   "cell_type": "code",
   "execution_count": 10,
   "id": "bec8586f-f810-4b59-a3d5-b80813229f62",
   "metadata": {},
   "outputs": [],
   "source": [
    "from sklearn.feature_selection import RFE"
   ]
  },
  {
   "cell_type": "code",
   "execution_count": 11,
   "id": "b043b245-b63b-4ffa-9dfa-83e9ee646dbc",
   "metadata": {},
   "outputs": [],
   "source": [
    "from sklearn.linear_model import RidgeCV, LassoCV, Ridge, Lasso"
   ]
  },
  {
   "cell_type": "code",
   "execution_count": 12,
   "id": "d2028ab3-2000-4312-997e-45f3824ae39e",
   "metadata": {},
   "outputs": [],
   "source": [
    "from sklearn.svm import LinearSVC"
   ]
  },
  {
   "cell_type": "code",
   "execution_count": 13,
   "id": "8a993044-0bbb-47d2-a2e7-3f4438ba7d86",
   "metadata": {},
   "outputs": [],
   "source": [
    "from sklearn.feature_selection import SelectFromModel"
   ]
  },
  {
   "cell_type": "code",
   "execution_count": 14,
   "id": "01653031-1cd6-4c1c-9239-872ed0b43ab4",
   "metadata": {},
   "outputs": [],
   "source": [
    "from sklearn import metrics"
   ]
  },
  {
   "cell_type": "code",
   "execution_count": 15,
   "id": "82fb880b-d538-4931-8c1d-71253756ab8a",
   "metadata": {},
   "outputs": [],
   "source": [
    "from sklearn.linear_model import Lasso\n",
    "from sklearn.linear_model import ElasticNet\n",
    "from sklearn.tree import DecisionTreeRegressor\n",
    "from sklearn.neighbors import KNeighborsRegressor\n",
    "from sklearn.ensemble import GradientBoostingRegressor\n",
    "from sklearn.pipeline import Pipeline\n",
    "from sklearn.preprocessing import StandardScaler\n",
    "from sklearn.model_selection import cross_val_score\n",
    "from sklearn.model_selection import KFold\n",
    "from sklearn.feature_selection import RFE"
   ]
  },
  {
   "cell_type": "code",
   "execution_count": 16,
   "id": "7c7f2465-acb0-4cb4-bc59-aada2507ad7f",
   "metadata": {},
   "outputs": [],
   "source": [
    "from sklearn.preprocessing import StandardScaler"
   ]
  },
  {
   "cell_type": "code",
   "execution_count": 17,
   "id": "444ac508-e066-469d-9593-3901e2518313",
   "metadata": {},
   "outputs": [],
   "source": [
    "import math"
   ]
  },
  {
   "cell_type": "code",
   "execution_count": 18,
   "id": "0aa7bed1-eca9-4492-8db2-f87a3fe66526",
   "metadata": {},
   "outputs": [],
   "source": [
    "from sklearn import svm"
   ]
  },
  {
   "cell_type": "code",
   "execution_count": 19,
   "id": "fee485eb-c813-47d2-98ca-66835f2ec33c",
   "metadata": {},
   "outputs": [],
   "source": [
    "from sklearn.metrics import r2_score"
   ]
  },
  {
   "cell_type": "code",
   "execution_count": 20,
   "id": "0876ba91-f643-4262-9446-561d858f38d7",
   "metadata": {},
   "outputs": [],
   "source": [
    "from sklearn import preprocessing\n",
    "from sklearn import utils"
   ]
  },
  {
   "cell_type": "code",
   "execution_count": 21,
   "id": "3c037848-c9d9-464d-924a-94bfdc5fc1c8",
   "metadata": {},
   "outputs": [],
   "source": [
    "from sklearn.model_selection import RepeatedKFold\n",
    "from sklearn.feature_selection import RFECV"
   ]
  },
  {
   "cell_type": "code",
   "execution_count": 22,
   "id": "d5d135aa-a3ae-467f-9610-b755d4e98987",
   "metadata": {},
   "outputs": [],
   "source": [
    "from numpy import mean\n",
    "from numpy import std\n",
    "from numpy import amin\n",
    "from numpy import amax"
   ]
  },
  {
   "cell_type": "code",
   "execution_count": 23,
   "id": "b93ca339-2504-4c3f-9ac8-1a97334d1554",
   "metadata": {},
   "outputs": [],
   "source": [
    "df = pd.read_csv('../../data/extracted_features_round4_training.csv', header=0)"
   ]
  },
  {
   "cell_type": "code",
   "execution_count": 24,
   "id": "9cb90bff-be5b-490b-9044-991f26c24c55",
   "metadata": {},
   "outputs": [],
   "source": [
    "df = df.drop(columns='Unnamed: 0')"
   ]
  },
  {
   "cell_type": "code",
   "execution_count": 25,
   "id": "06202534-1257-4606-84b3-327b0b135502",
   "metadata": {},
   "outputs": [],
   "source": [
    "#df = df[['CV', 'TABSSIMPSPACY', 'TAWSSIMSPACY', 'TAKWDIST', 'TABSSIMBERT', 'AKWPWMEAN',\n",
    "#       'TAWSSIMPSPACY', 'TKWAORATIO', 'TAKWSIMSPACY', 'TMIKWP', 'TABSSIMSPACY',\n",
    "#       'TAFSSIMSPACY', 'TAMIKWWSSIMSPACY', 'TKWAOWRATIO', 'TAFSSD']]"
   ]
  },
  {
   "cell_type": "code",
   "execution_count": 26,
   "id": "4dbf900d-6264-499f-9b75-9835ec2b3ea1",
   "metadata": {},
   "outputs": [],
   "source": [
    "scaler = StandardScaler()"
   ]
  },
  {
   "cell_type": "code",
   "execution_count": null,
   "id": "8b4c00ae-9610-44be-ad55-8c25e2f3c440",
   "metadata": {},
   "outputs": [],
   "source": []
  },
  {
   "cell_type": "code",
   "execution_count": 27,
   "id": "b2d98b24-534c-4918-b1c3-a4de630814fa",
   "metadata": {},
   "outputs": [],
   "source": [
    "X = df.drop(columns='CV')"
   ]
  },
  {
   "cell_type": "code",
   "execution_count": 28,
   "id": "1ab81c02-cd75-4390-8284-c4ea87f2ef6d",
   "metadata": {},
   "outputs": [],
   "source": [
    "X = pd.DataFrame(scaler.fit_transform(X),columns = X.columns,index = df.index)"
   ]
  },
  {
   "cell_type": "code",
   "execution_count": 29,
   "id": "9867e187-7f4f-4478-a8df-240e6c3343e6",
   "metadata": {},
   "outputs": [],
   "source": [
    "float_labels = np.array(df['CV'])"
   ]
  },
  {
   "cell_type": "code",
   "execution_count": 30,
   "id": "d27ebcb8-9faa-4f1a-bf6c-bdfb8990f512",
   "metadata": {},
   "outputs": [],
   "source": [
    "lab_enc = preprocessing.LabelEncoder()\n",
    "labels = lab_enc.fit_transform(float_labels)"
   ]
  },
  {
   "cell_type": "code",
   "execution_count": 31,
   "id": "90ee8222-7990-4ccc-9292-79fde1cc9a5c",
   "metadata": {},
   "outputs": [
    {
     "data": {
      "text/plain": [
       "Index(['CV', 'TL', 'AL', 'TWC', 'AWC', 'TSC', 'ASC', 'TALRATIO', 'TAWCRATIO',\n",
       "       'TASCRATIO', 'TP', 'AP', 'TAPD', 'TAPMEAN', 'TS', 'AS', 'TASD',\n",
       "       'TASMEAN', 'TASCCRATIO', 'TASCCD', 'TKWC', 'AKWC', 'TAKWCRATIO',\n",
       "       'AMIKWP', 'TMIKWS', 'AMIKWS', 'AFSP', 'TAFSPMEAN', 'TAFSPD', 'AFSS',\n",
       "       'TAFSSMEAN', 'TAFSSD', 'TMIKWAORATIO', 'TKWAORATIO', 'TKWAOWRATIO',\n",
       "       'TKWPMEAN', 'AKWPMEAN', 'TAKWPMEAN', 'TAKWPD', 'TKWPWMEAN', 'AKWPWMEAN',\n",
       "       'TAKWPWMEAN', 'TAKWPWD', 'TAMIKWFP', 'TAMIKWDIST', 'TAKWDIST',\n",
       "       'TASIMSPACY', 'TABSSIMSPACY', 'TAWSSIMSPACY', 'TAASSIMSPACY',\n",
       "       'TAFSSIMSPACY', 'TABSSIMPSPACY', 'TAWSSIMPSPACY', 'TAGSSIMRATIOSPACY',\n",
       "       'TVC', 'AVC', 'TAVCD', 'TNC', 'ANC', 'TANCD', 'TABSSIMBERT',\n",
       "       'TAWSSIMBERT', 'TAASSIMSBERT', 'TAFSSIMBERT', 'TABSSIMPBERT',\n",
       "       'TAWSSIMPBERT', 'TAGSSIMRATIOBERT', 'TAMIKWASSIMSPACY',\n",
       "       'TAMIKWBSSIMSPACY', 'TAMIKWWSSIMSPACY', 'TMIKWP', 'TAMKWSSIMSPACY',\n",
       "       'TAMKWSP', 'TAMKWSPD', 'TAMKWSS', 'TAMKWSSD', 'TAMKWFP', 'TAKWSIMSPACY',\n",
       "       'TAKWSP', 'TAKWSPD', 'TAKWSS', 'TAKWSSD', 'TAGSSIMDISTSPACY', 'TSCC',\n",
       "       'ASCC', 'TKWCRATIO', 'AKWCRATIO', 'TAKWCRATIORATIO', 'TMIKWAO', 'TKWAO',\n",
       "       'TKWAOW', 'TVCRATIO', 'AVCRATIO', 'TAVCRATIOD', 'TNCRATIO', 'ANCRATIO',\n",
       "       'TANCRATIOD', 'TAGSSIMCSPACY', 'TAGSSIMCBERT', 'TAKWSSIMVARSPACY'],\n",
       "      dtype='object')"
      ]
     },
     "execution_count": 31,
     "metadata": {},
     "output_type": "execute_result"
    }
   ],
   "source": [
    "df.columns"
   ]
  },
  {
   "cell_type": "code",
   "execution_count": 30,
   "id": "8c1ca2a2-9808-48a4-9a47-df842b0fcd0b",
   "metadata": {},
   "outputs": [],
   "source": [
    "feature_list = list(X.columns)"
   ]
  },
  {
   "cell_type": "code",
   "execution_count": 31,
   "id": "15a52013-5de3-45c0-8b76-052bb8e10f1e",
   "metadata": {},
   "outputs": [],
   "source": [
    "features = np.array(X)"
   ]
  },
  {
   "cell_type": "code",
   "execution_count": null,
   "id": "0b5e1850-d091-4c65-80dd-2c25c5ce30f2",
   "metadata": {},
   "outputs": [],
   "source": []
  },
  {
   "cell_type": "code",
   "execution_count": null,
   "id": "f62e7023-546f-4ba1-b459-c961a95d8c30",
   "metadata": {},
   "outputs": [],
   "source": []
  },
  {
   "cell_type": "code",
   "execution_count": 32,
   "id": "35265c89-42b2-48e4-b92f-a1de123e1c48",
   "metadata": {},
   "outputs": [],
   "source": [
    "cv = RepeatedKFold(n_splits=10, n_repeats=3, random_state=42)"
   ]
  },
  {
   "cell_type": "code",
   "execution_count": null,
   "id": "6bb79e09-28c7-4508-9582-c84d3510a61f",
   "metadata": {},
   "outputs": [],
   "source": []
  },
  {
   "cell_type": "code",
   "execution_count": null,
   "id": "5e246944-fcf2-4847-8389-9df38f72a730",
   "metadata": {},
   "outputs": [],
   "source": []
  },
  {
   "cell_type": "code",
   "execution_count": 43,
   "id": "9bb09de5-cd48-4216-ac47-6327342d759f",
   "metadata": {},
   "outputs": [
    {
     "data": {
      "text/plain": [
       "RFECV(cv=RepeatedKFold(n_repeats=3, n_splits=10, random_state=42),\n",
       "      estimator=SVC(kernel='linear'), scoring='f1_macro')"
      ]
     },
     "execution_count": 43,
     "metadata": {},
     "output_type": "execute_result"
    }
   ],
   "source": [
    "default_svm = svm.SVC(kernel='linear')\n",
    "rfe = RFECV(default_svm,cv=cv,scoring=\"f1_macro\")\n",
    "\n",
    "rfe.fit(X,labels)"
   ]
  },
  {
   "cell_type": "code",
   "execution_count": 44,
   "id": "bbdf5d84-2380-4164-be8a-c9be59408aad",
   "metadata": {},
   "outputs": [],
   "source": [
    "selected_features = np.array(feature_list)[rfe.get_support()]"
   ]
  },
  {
   "cell_type": "code",
   "execution_count": 45,
   "id": "a88200c2-df0b-4487-a706-22bcbb84ccc0",
   "metadata": {},
   "outputs": [
    {
     "data": {
      "text/plain": [
       "(94,)"
      ]
     },
     "execution_count": 45,
     "metadata": {},
     "output_type": "execute_result"
    }
   ],
   "source": [
    "selected_features.shape"
   ]
  },
  {
   "cell_type": "code",
   "execution_count": 46,
   "id": "b3c3b0ee-d5e7-4526-8fa3-5d426b806e16",
   "metadata": {},
   "outputs": [
    {
     "data": {
      "text/plain": [
       "array(['TL', 'AL', 'TWC', 'AWC', 'TSC', 'ASC', 'TALRATIO', 'TAWCRATIO',\n",
       "       'TASCRATIO', 'AP', 'TAPD', 'TAPMEAN', 'AS', 'TASD', 'TASMEAN',\n",
       "       'TASCCRATIO', 'TASCCD', 'TKWC', 'AKWC', 'TAKWCRATIO', 'AMIKWP',\n",
       "       'TMIKWS', 'AMIKWS', 'AFSP', 'TAFSPMEAN', 'TAFSPD', 'AFSS',\n",
       "       'TAFSSMEAN', 'TAFSSD', 'TMIKWAORATIO', 'TKWAORATIO', 'TKWAOWRATIO',\n",
       "       'TKWPMEAN', 'AKWPMEAN', 'TAKWPMEAN', 'TAKWPD', 'TKWPWMEAN',\n",
       "       'AKWPWMEAN', 'TAKWPWMEAN', 'TAKWPWD', 'TAMIKWFP', 'TAMIKWDIST',\n",
       "       'TAKWDIST', 'TASIMSPACY', 'TABSSIMSPACY', 'TAWSSIMSPACY',\n",
       "       'TAASSIMSPACY', 'TAFSSIMSPACY', 'TABSSIMPSPACY', 'TAWSSIMPSPACY',\n",
       "       'TAGSSIMRATIOSPACY', 'TVC', 'AVC', 'TAVCD', 'ANC', 'TANCD',\n",
       "       'TABSSIMBERT', 'TAWSSIMBERT', 'TAASSIMSBERT', 'TAFSSIMBERT',\n",
       "       'TABSSIMPBERT', 'TAWSSIMPBERT', 'TAGSSIMRATIOBERT',\n",
       "       'TAMIKWASSIMSPACY', 'TAMIKWBSSIMSPACY', 'TAMIKWWSSIMSPACY',\n",
       "       'TMIKWP', 'TAMKWSSIMSPACY', 'TAMKWSP', 'TAMKWSPD', 'TAMKWSS',\n",
       "       'TAMKWSSD', 'TAMKWFP', 'TAKWSIMSPACY', 'TAKWSP', 'TAKWSPD',\n",
       "       'TAKWSS', 'TAKWSSD', 'TAGSSIMDISTSPACY', 'TSCC', 'ASCC',\n",
       "       'TKWCRATIO', 'AKWCRATIO', 'TAKWCRATIORATIO', 'TMIKWAO', 'TKWAO',\n",
       "       'TKWAOW', 'AVCRATIO', 'TAVCRATIOD', 'ANCRATIO', 'TANCRATIOD',\n",
       "       'TAGSSIMCSPACY', 'TAGSSIMCBERT', 'TAKWSSIMVARSPACY'], dtype='<U17')"
      ]
     },
     "execution_count": 46,
     "metadata": {},
     "output_type": "execute_result"
    }
   ],
   "source": [
    "selected_features"
   ]
  },
  {
   "cell_type": "code",
   "execution_count": 33,
   "id": "39e6d733-7ea8-45a7-9f19-bb53a590d285",
   "metadata": {},
   "outputs": [],
   "source": [
    "X_selected = X[['TL', 'AL', 'TWC', 'AWC', 'TSC', 'ASC', 'TALRATIO', 'TAWCRATIO',\n",
    "       'TASCRATIO', 'AP', 'TAPD', 'TAPMEAN', 'AS', 'TASD', 'TASMEAN',\n",
    "       'TASCCRATIO', 'TASCCD', 'TKWC', 'AKWC', 'TAKWCRATIO', 'AMIKWP',\n",
    "       'TMIKWS', 'AMIKWS', 'AFSP', 'TAFSPMEAN', 'TAFSPD', 'AFSS',\n",
    "       'TAFSSMEAN', 'TAFSSD', 'TMIKWAORATIO', 'TKWAORATIO', 'TKWAOWRATIO',\n",
    "       'TKWPMEAN', 'AKWPMEAN', 'TAKWPMEAN', 'TAKWPD', 'TKWPWMEAN',\n",
    "       'AKWPWMEAN', 'TAKWPWMEAN', 'TAKWPWD', 'TAMIKWFP', 'TAMIKWDIST',\n",
    "       'TAKWDIST', 'TASIMSPACY', 'TABSSIMSPACY', 'TAWSSIMSPACY',\n",
    "       'TAASSIMSPACY', 'TAFSSIMSPACY', 'TABSSIMPSPACY', 'TAWSSIMPSPACY',\n",
    "       'TAGSSIMRATIOSPACY', 'TVC', 'AVC', 'TAVCD', 'ANC', 'TANCD',\n",
    "       'TABSSIMBERT', 'TAWSSIMBERT', 'TAASSIMSBERT', 'TAFSSIMBERT',\n",
    "       'TABSSIMPBERT', 'TAWSSIMPBERT', 'TAGSSIMRATIOBERT',\n",
    "       'TAMIKWASSIMSPACY', 'TAMIKWBSSIMSPACY', 'TAMIKWWSSIMSPACY',\n",
    "       'TMIKWP', 'TAMKWSSIMSPACY', 'TAMKWSP', 'TAMKWSPD', 'TAMKWSS',\n",
    "       'TAMKWSSD', 'TAMKWFP', 'TAKWSIMSPACY', 'TAKWSP', 'TAKWSPD',\n",
    "       'TAKWSS', 'TAKWSSD', 'TAGSSIMDISTSPACY', 'TSCC', 'ASCC',\n",
    "       'TKWCRATIO', 'AKWCRATIO', 'TAKWCRATIORATIO', 'TMIKWAO', 'TKWAO',\n",
    "       'TKWAOW', 'AVCRATIO', 'TAVCRATIOD', 'ANCRATIO', 'TANCRATIOD',\n",
    "       'TAGSSIMCSPACY', 'TAGSSIMCBERT', 'TAKWSSIMVARSPACY']]"
   ]
  },
  {
   "cell_type": "code",
   "execution_count": 34,
   "id": "74f56e74-2e5f-43a8-a6dd-93bc479d4305",
   "metadata": {},
   "outputs": [],
   "source": [
    "features_selected = np.array(X_selected)"
   ]
  },
  {
   "cell_type": "code",
   "execution_count": null,
   "id": "fbcc1769-d555-4381-b409-3757e20de4ae",
   "metadata": {},
   "outputs": [],
   "source": []
  },
  {
   "cell_type": "code",
   "execution_count": 49,
   "id": "b9b6772a-2893-4dc4-9c8a-e91fc05f8958",
   "metadata": {},
   "outputs": [],
   "source": [
    "from sklearn.model_selection import RandomizedSearchCV\n",
    "\n",
    "# Create the random grid\n",
    "random_grid = {\n",
    "    'C': [0.1, 1, 10, 100, 1000],\n",
    "    'gamma': [1, 0.1, 0.01, 0.001, 0.0001],\n",
    "    'kernel': ['poly','rbf', 'sigmoid','linear']\n",
    "}"
   ]
  },
  {
   "cell_type": "code",
   "execution_count": 51,
   "id": "bb62b0af-a40f-4593-bbd7-9aaf4476f34e",
   "metadata": {},
   "outputs": [
    {
     "name": "stdout",
     "output_type": "stream",
     "text": [
      "Fitting 30 folds for each of 100 candidates, totalling 3000 fits\n"
     ]
    }
   ],
   "source": [
    "# Use the random grid to search for best hyperparameters\n",
    "# First create the base model to tune\n",
    "svm_d = svm.SVC(random_state = 42)\n",
    "# Random search of parameters, using 3 fold cross validation, \n",
    "# search across 100 different combinations, and use all available cores\n",
    "svm_random = RandomizedSearchCV(estimator=svm_d, param_distributions=random_grid,\n",
    "                              n_iter = 100, scoring='f1_macro', \n",
    "                              cv = cv, verbose=2, random_state=42, n_jobs=-1,\n",
    "                              return_train_score=True)\n",
    "\n",
    "# Fit the random search model\n",
    "svm_random.fit(features_selected, labels);"
   ]
  },
  {
   "cell_type": "code",
   "execution_count": 52,
   "id": "53c0eccb-0ea2-440d-aa8f-aa63fcd6474d",
   "metadata": {},
   "outputs": [
    {
     "data": {
      "text/plain": [
       "{'kernel': 'rbf', 'gamma': 0.001, 'C': 100}"
      ]
     },
     "execution_count": 52,
     "metadata": {},
     "output_type": "execute_result"
    }
   ],
   "source": [
    "svm_random.best_params_"
   ]
  },
  {
   "cell_type": "code",
   "execution_count": 55,
   "id": "7439f2b1-92c0-44d4-a8f8-4a94ffabbb13",
   "metadata": {},
   "outputs": [
    {
     "name": "stdout",
     "output_type": "stream",
     "text": [
      "F1: 0.09771.\n"
     ]
    }
   ],
   "source": [
    "\n",
    "base_model = svm.SVC(random_state = 42)\n",
    "base_model.fit(X_selected, labels)\n",
    "base_accuracy = mean(cross_val_score(base_model, features_selected, labels, scoring='f1_macro', cv=cv))\n",
    "print('F1: {:0.5f}.'.format(base_accuracy))"
   ]
  },
  {
   "cell_type": "code",
   "execution_count": 56,
   "id": "47aea40c-b4f7-42b5-b3f2-3c3a203f61e7",
   "metadata": {},
   "outputs": [
    {
     "name": "stdout",
     "output_type": "stream",
     "text": [
      "F1: 0.14536.\n"
     ]
    }
   ],
   "source": [
    "\n",
    "best_random = svm_random.best_estimator_\n",
    "random_accuracy = mean(cross_val_score(best_random, features_selected, labels, scoring='f1_macro', cv=cv))\n",
    "print('F1: {:0.5f}.'.format(random_accuracy))"
   ]
  },
  {
   "cell_type": "code",
   "execution_count": 57,
   "id": "1117ea8a-c140-4229-8b0a-cf9cbc243dd6",
   "metadata": {},
   "outputs": [
    {
     "name": "stdout",
     "output_type": "stream",
     "text": [
      "Improvement of 48.78%.\n"
     ]
    }
   ],
   "source": [
    "\n",
    "print('Improvement of {:0.2f}%.'.format( 100 * (random_accuracy - base_accuracy) / base_accuracy))"
   ]
  },
  {
   "cell_type": "code",
   "execution_count": 58,
   "id": "4e08e300-8376-465b-82b2-9093d8ede606",
   "metadata": {},
   "outputs": [],
   "source": [
    "from sklearn.model_selection import GridSearchCV\n",
    "\n",
    "# Create the parameter grid based on the results of random search \n",
    "param_grid = {\n",
    "    'C': [50, 100, 200, 300],\n",
    "    'gamma': [0.0005, 0.001, 0.002, 0.003],\n",
    "    'kernel': ['rbf']\n",
    "}\n",
    "\n",
    "# Instantiate the grid search model\n",
    "grid_search = GridSearchCV(estimator = svm_d, param_grid = param_grid, scoring = 'f1_macro',\n",
    "                          cv = cv, n_jobs = -1, verbose = 2, return_train_score=True)"
   ]
  },
  {
   "cell_type": "code",
   "execution_count": 59,
   "id": "db69ca38-5350-486b-8381-03ec857a011b",
   "metadata": {},
   "outputs": [
    {
     "name": "stdout",
     "output_type": "stream",
     "text": [
      "Fitting 30 folds for each of 16 candidates, totalling 480 fits\n"
     ]
    }
   ],
   "source": [
    "# Fit the grid search to the data\n",
    "grid_search.fit(features_selected, labels);"
   ]
  },
  {
   "cell_type": "code",
   "execution_count": 60,
   "id": "fc661563-5710-4525-a72f-df0d9059cc37",
   "metadata": {},
   "outputs": [
    {
     "data": {
      "text/plain": [
       "{'C': 100, 'gamma': 0.001, 'kernel': 'rbf'}"
      ]
     },
     "execution_count": 60,
     "metadata": {},
     "output_type": "execute_result"
    }
   ],
   "source": [
    "grid_search.best_params_"
   ]
  },
  {
   "cell_type": "code",
   "execution_count": 61,
   "id": "50b20c66-d2ac-401a-aee7-96c8103fe02d",
   "metadata": {},
   "outputs": [
    {
     "name": "stdout",
     "output_type": "stream",
     "text": [
      "Accuracy: 0.14536.\n"
     ]
    }
   ],
   "source": [
    "best_grid = grid_search.best_estimator_\n",
    "grid_accuracy = mean(cross_val_score(best_grid, features_selected, labels, scoring='f1_macro', cv=cv))\n",
    "print('Accuracy: {:0.5f}.'.format(grid_accuracy))"
   ]
  },
  {
   "cell_type": "code",
   "execution_count": 62,
   "id": "a9e34ad4-725d-43a9-a718-181eb214bb95",
   "metadata": {},
   "outputs": [
    {
     "name": "stdout",
     "output_type": "stream",
     "text": [
      "Improvement of 48.78%.\n"
     ]
    }
   ],
   "source": [
    "print('Improvement of {:0.2f}%.'.format( 100 * (grid_accuracy - base_accuracy) / base_accuracy))"
   ]
  },
  {
   "cell_type": "code",
   "execution_count": null,
   "id": "752fa3ed-5381-44e7-8859-99895b1ae58c",
   "metadata": {},
   "outputs": [],
   "source": [
    "{'n_estimators': 200,\n",
    " 'min_samples_split': 2,\n",
    " 'min_samples_leaf': 1,\n",
    " 'max_features': 'sqrt',\n",
    " 'max_depth': 50,\n",
    " 'bootstrap': True}"
   ]
  },
  {
   "cell_type": "code",
   "execution_count": 40,
   "id": "c806e86e-4f4f-459d-85b1-c76a9d7c2760",
   "metadata": {},
   "outputs": [],
   "source": [
    "svm_final = svm.SVC(C = 100, gamma = 0.001, kernel = 'rbf', random_state = 42)"
   ]
  },
  {
   "cell_type": "code",
   "execution_count": 64,
   "id": "6435f904-7307-4d38-a1c3-351fc19f8c53",
   "metadata": {},
   "outputs": [
    {
     "data": {
      "text/plain": [
       "array([31.95876289, 26.80412371, 30.92783505, 30.92783505, 23.71134021,\n",
       "       30.92783505, 27.83505155, 30.20833333, 26.04166667, 23.95833333,\n",
       "       26.80412371, 25.77319588, 30.92783505, 28.86597938, 30.92783505,\n",
       "       26.80412371, 24.74226804, 26.04166667, 33.33333333, 29.16666667,\n",
       "       18.55670103, 19.58762887, 24.74226804, 29.89690722, 27.83505155,\n",
       "       28.86597938, 29.89690722, 31.25      , 14.58333333, 32.29166667])"
      ]
     },
     "execution_count": 64,
     "metadata": {},
     "output_type": "execute_result"
    }
   ],
   "source": [
    "accuracy = cross_val_score(svm_final, features_selected, labels, scoring='accuracy', cv=cv) * 100\n",
    "accuracy"
   ]
  },
  {
   "cell_type": "code",
   "execution_count": 65,
   "id": "8a3656d9-1796-485d-ba4d-c8c4cdfa4cbc",
   "metadata": {},
   "outputs": [
    {
     "name": "stdout",
     "output_type": "stream",
     "text": [
      "Mean: 27.473153\n",
      "SD: 4.224702\n",
      "Max: 33.333333\n",
      "Min: 14.583333\n"
     ]
    }
   ],
   "source": [
    "print(\"Mean: %f\" % mean(accuracy))\n",
    "print(\"SD: %f\" % std(accuracy))\n",
    "print(\"Max: %f\" % amax(accuracy))\n",
    "print(\"Min: %f\" % amin(accuracy))"
   ]
  },
  {
   "cell_type": "code",
   "execution_count": 66,
   "id": "43250092-2d96-4ac5-82a8-f6cc62c55da0",
   "metadata": {},
   "outputs": [
    {
     "name": "stderr",
     "output_type": "stream",
     "text": [
      "C:\\ProgramData\\Anaconda3\\lib\\site-packages\\sklearn\\metrics\\_classification.py:1248: UndefinedMetricWarning: Precision is ill-defined and being set to 0.0 in labels with no predicted samples. Use `zero_division` parameter to control this behavior.\n",
      "  _warn_prf(average, modifier, msg_start, len(result))\n",
      "C:\\ProgramData\\Anaconda3\\lib\\site-packages\\sklearn\\metrics\\_classification.py:1248: UndefinedMetricWarning: Precision is ill-defined and being set to 0.0 in labels with no predicted samples. Use `zero_division` parameter to control this behavior.\n",
      "  _warn_prf(average, modifier, msg_start, len(result))\n",
      "C:\\ProgramData\\Anaconda3\\lib\\site-packages\\sklearn\\metrics\\_classification.py:1248: UndefinedMetricWarning: Precision is ill-defined and being set to 0.0 in labels with no predicted samples. Use `zero_division` parameter to control this behavior.\n",
      "  _warn_prf(average, modifier, msg_start, len(result))\n",
      "C:\\ProgramData\\Anaconda3\\lib\\site-packages\\sklearn\\metrics\\_classification.py:1248: UndefinedMetricWarning: Precision is ill-defined and being set to 0.0 in labels with no predicted samples. Use `zero_division` parameter to control this behavior.\n",
      "  _warn_prf(average, modifier, msg_start, len(result))\n",
      "C:\\ProgramData\\Anaconda3\\lib\\site-packages\\sklearn\\metrics\\_classification.py:1248: UndefinedMetricWarning: Precision is ill-defined and being set to 0.0 in labels with no predicted samples. Use `zero_division` parameter to control this behavior.\n",
      "  _warn_prf(average, modifier, msg_start, len(result))\n",
      "C:\\ProgramData\\Anaconda3\\lib\\site-packages\\sklearn\\metrics\\_classification.py:1248: UndefinedMetricWarning: Precision is ill-defined and being set to 0.0 in labels with no predicted samples. Use `zero_division` parameter to control this behavior.\n",
      "  _warn_prf(average, modifier, msg_start, len(result))\n",
      "C:\\ProgramData\\Anaconda3\\lib\\site-packages\\sklearn\\metrics\\_classification.py:1248: UndefinedMetricWarning: Precision is ill-defined and being set to 0.0 in labels with no predicted samples. Use `zero_division` parameter to control this behavior.\n",
      "  _warn_prf(average, modifier, msg_start, len(result))\n",
      "C:\\ProgramData\\Anaconda3\\lib\\site-packages\\sklearn\\metrics\\_classification.py:1248: UndefinedMetricWarning: Precision is ill-defined and being set to 0.0 in labels with no predicted samples. Use `zero_division` parameter to control this behavior.\n",
      "  _warn_prf(average, modifier, msg_start, len(result))\n",
      "C:\\ProgramData\\Anaconda3\\lib\\site-packages\\sklearn\\metrics\\_classification.py:1248: UndefinedMetricWarning: Precision is ill-defined and being set to 0.0 in labels with no predicted samples. Use `zero_division` parameter to control this behavior.\n",
      "  _warn_prf(average, modifier, msg_start, len(result))\n",
      "C:\\ProgramData\\Anaconda3\\lib\\site-packages\\sklearn\\metrics\\_classification.py:1248: UndefinedMetricWarning: Precision is ill-defined and being set to 0.0 in labels with no predicted samples. Use `zero_division` parameter to control this behavior.\n",
      "  _warn_prf(average, modifier, msg_start, len(result))\n",
      "C:\\ProgramData\\Anaconda3\\lib\\site-packages\\sklearn\\metrics\\_classification.py:1248: UndefinedMetricWarning: Precision is ill-defined and being set to 0.0 in labels with no predicted samples. Use `zero_division` parameter to control this behavior.\n",
      "  _warn_prf(average, modifier, msg_start, len(result))\n",
      "C:\\ProgramData\\Anaconda3\\lib\\site-packages\\sklearn\\metrics\\_classification.py:1248: UndefinedMetricWarning: Precision is ill-defined and being set to 0.0 in labels with no predicted samples. Use `zero_division` parameter to control this behavior.\n",
      "  _warn_prf(average, modifier, msg_start, len(result))\n",
      "C:\\ProgramData\\Anaconda3\\lib\\site-packages\\sklearn\\metrics\\_classification.py:1248: UndefinedMetricWarning: Precision is ill-defined and being set to 0.0 in labels with no predicted samples. Use `zero_division` parameter to control this behavior.\n",
      "  _warn_prf(average, modifier, msg_start, len(result))\n",
      "C:\\ProgramData\\Anaconda3\\lib\\site-packages\\sklearn\\metrics\\_classification.py:1248: UndefinedMetricWarning: Precision is ill-defined and being set to 0.0 in labels with no predicted samples. Use `zero_division` parameter to control this behavior.\n",
      "  _warn_prf(average, modifier, msg_start, len(result))\n",
      "C:\\ProgramData\\Anaconda3\\lib\\site-packages\\sklearn\\metrics\\_classification.py:1248: UndefinedMetricWarning: Precision is ill-defined and being set to 0.0 in labels with no predicted samples. Use `zero_division` parameter to control this behavior.\n",
      "  _warn_prf(average, modifier, msg_start, len(result))\n",
      "C:\\ProgramData\\Anaconda3\\lib\\site-packages\\sklearn\\metrics\\_classification.py:1248: UndefinedMetricWarning: Precision is ill-defined and being set to 0.0 in labels with no predicted samples. Use `zero_division` parameter to control this behavior.\n",
      "  _warn_prf(average, modifier, msg_start, len(result))\n",
      "C:\\ProgramData\\Anaconda3\\lib\\site-packages\\sklearn\\metrics\\_classification.py:1248: UndefinedMetricWarning: Precision is ill-defined and being set to 0.0 in labels with no predicted samples. Use `zero_division` parameter to control this behavior.\n",
      "  _warn_prf(average, modifier, msg_start, len(result))\n",
      "C:\\ProgramData\\Anaconda3\\lib\\site-packages\\sklearn\\metrics\\_classification.py:1248: UndefinedMetricWarning: Precision is ill-defined and being set to 0.0 in labels with no predicted samples. Use `zero_division` parameter to control this behavior.\n",
      "  _warn_prf(average, modifier, msg_start, len(result))\n",
      "C:\\ProgramData\\Anaconda3\\lib\\site-packages\\sklearn\\metrics\\_classification.py:1248: UndefinedMetricWarning: Precision is ill-defined and being set to 0.0 in labels with no predicted samples. Use `zero_division` parameter to control this behavior.\n",
      "  _warn_prf(average, modifier, msg_start, len(result))\n",
      "C:\\ProgramData\\Anaconda3\\lib\\site-packages\\sklearn\\metrics\\_classification.py:1248: UndefinedMetricWarning: Precision is ill-defined and being set to 0.0 in labels with no predicted samples. Use `zero_division` parameter to control this behavior.\n",
      "  _warn_prf(average, modifier, msg_start, len(result))\n",
      "C:\\ProgramData\\Anaconda3\\lib\\site-packages\\sklearn\\metrics\\_classification.py:1248: UndefinedMetricWarning: Precision is ill-defined and being set to 0.0 in labels with no predicted samples. Use `zero_division` parameter to control this behavior.\n",
      "  _warn_prf(average, modifier, msg_start, len(result))\n"
     ]
    },
    {
     "data": {
      "text/plain": [
       "array([0.1514382 , 0.20377493, 0.19786642, 0.21570079, 0.11069251,\n",
       "       0.25832684, 0.13100649, 0.15587003, 0.12623513, 0.12413386,\n",
       "       0.14662829, 0.23253676, 0.19650901, 0.10831516, 0.19495061,\n",
       "       0.13125   , 0.11368979, 0.16314187, 0.21275808, 0.11849374,\n",
       "       0.12982456, 0.09935345, 0.16739247, 0.14290936, 0.12679924,\n",
       "       0.12313988, 0.16103896, 0.13596491, 0.05429579, 0.17635872])"
      ]
     },
     "execution_count": 66,
     "metadata": {},
     "output_type": "execute_result"
    }
   ],
   "source": [
    "precision = cross_val_score(svm_final, features_selected, labels, scoring='precision_macro', cv=cv)\n",
    "precision"
   ]
  },
  {
   "cell_type": "code",
   "execution_count": 67,
   "id": "8b66753f-114e-4b3b-8cde-f8e887305712",
   "metadata": {},
   "outputs": [
    {
     "name": "stdout",
     "output_type": "stream",
     "text": [
      "Mean: 0.153680\n",
      "SD: 0.044076\n",
      "Max: 0.258327\n",
      "Min: 0.054296\n"
     ]
    }
   ],
   "source": [
    "print(\"Mean: %f\" % mean(precision))\n",
    "print(\"SD: %f\" % std(precision))\n",
    "print(\"Max: %f\" % amax(precision))\n",
    "print(\"Min: %f\" % amin(precision))"
   ]
  },
  {
   "cell_type": "code",
   "execution_count": 68,
   "id": "ced561bf-a00a-4c3a-8cd2-1b35cc697b86",
   "metadata": {},
   "outputs": [
    {
     "name": "stderr",
     "output_type": "stream",
     "text": [
      "C:\\ProgramData\\Anaconda3\\lib\\site-packages\\sklearn\\metrics\\_classification.py:1248: UndefinedMetricWarning: Recall is ill-defined and being set to 0.0 in labels with no true samples. Use `zero_division` parameter to control this behavior.\n",
      "  _warn_prf(average, modifier, msg_start, len(result))\n",
      "C:\\ProgramData\\Anaconda3\\lib\\site-packages\\sklearn\\metrics\\_classification.py:1248: UndefinedMetricWarning: Recall is ill-defined and being set to 0.0 in labels with no true samples. Use `zero_division` parameter to control this behavior.\n",
      "  _warn_prf(average, modifier, msg_start, len(result))\n",
      "C:\\ProgramData\\Anaconda3\\lib\\site-packages\\sklearn\\metrics\\_classification.py:1248: UndefinedMetricWarning: Recall is ill-defined and being set to 0.0 in labels with no true samples. Use `zero_division` parameter to control this behavior.\n",
      "  _warn_prf(average, modifier, msg_start, len(result))\n",
      "C:\\ProgramData\\Anaconda3\\lib\\site-packages\\sklearn\\metrics\\_classification.py:1248: UndefinedMetricWarning: Recall is ill-defined and being set to 0.0 in labels with no true samples. Use `zero_division` parameter to control this behavior.\n",
      "  _warn_prf(average, modifier, msg_start, len(result))\n",
      "C:\\ProgramData\\Anaconda3\\lib\\site-packages\\sklearn\\metrics\\_classification.py:1248: UndefinedMetricWarning: Recall is ill-defined and being set to 0.0 in labels with no true samples. Use `zero_division` parameter to control this behavior.\n",
      "  _warn_prf(average, modifier, msg_start, len(result))\n",
      "C:\\ProgramData\\Anaconda3\\lib\\site-packages\\sklearn\\metrics\\_classification.py:1248: UndefinedMetricWarning: Recall is ill-defined and being set to 0.0 in labels with no true samples. Use `zero_division` parameter to control this behavior.\n",
      "  _warn_prf(average, modifier, msg_start, len(result))\n",
      "C:\\ProgramData\\Anaconda3\\lib\\site-packages\\sklearn\\metrics\\_classification.py:1248: UndefinedMetricWarning: Recall is ill-defined and being set to 0.0 in labels with no true samples. Use `zero_division` parameter to control this behavior.\n",
      "  _warn_prf(average, modifier, msg_start, len(result))\n",
      "C:\\ProgramData\\Anaconda3\\lib\\site-packages\\sklearn\\metrics\\_classification.py:1248: UndefinedMetricWarning: Recall is ill-defined and being set to 0.0 in labels with no true samples. Use `zero_division` parameter to control this behavior.\n",
      "  _warn_prf(average, modifier, msg_start, len(result))\n",
      "C:\\ProgramData\\Anaconda3\\lib\\site-packages\\sklearn\\metrics\\_classification.py:1248: UndefinedMetricWarning: Recall is ill-defined and being set to 0.0 in labels with no true samples. Use `zero_division` parameter to control this behavior.\n",
      "  _warn_prf(average, modifier, msg_start, len(result))\n"
     ]
    },
    {
     "data": {
      "text/plain": [
       "array([0.15810755, 0.12271008, 0.19842653, 0.18043024, 0.1328125 ,\n",
       "       0.27684827, 0.13631245, 0.15964339, 0.14573885, 0.11995899,\n",
       "       0.13779762, 0.15493493, 0.27629835, 0.12258065, 0.18849373,\n",
       "       0.13927974, 0.12637519, 0.1526759 , 0.21222527, 0.13932806,\n",
       "       0.13300866, 0.09393275, 0.14726751, 0.16407382, 0.15130946,\n",
       "       0.13854167, 0.14874411, 0.15260417, 0.06852343, 0.21008547])"
      ]
     },
     "execution_count": 68,
     "metadata": {},
     "output_type": "execute_result"
    }
   ],
   "source": [
    "recall = cross_val_score(svm_final, features_selected, labels, scoring='recall_macro', cv=cv)\n",
    "recall"
   ]
  },
  {
   "cell_type": "code",
   "execution_count": 69,
   "id": "81a2714f-6271-4b63-aa99-61bf372f301e",
   "metadata": {},
   "outputs": [
    {
     "name": "stdout",
     "output_type": "stream",
     "text": [
      "Mean: 0.156302\n",
      "SD: 0.043791\n",
      "Max: 0.276848\n",
      "Min: 0.068523\n"
     ]
    }
   ],
   "source": [
    "print(\"Mean: %f\" % mean(recall))\n",
    "print(\"SD: %f\" % std(recall))\n",
    "print(\"Max: %f\" % amax(recall))\n",
    "print(\"Min: %f\" % amin(recall))"
   ]
  },
  {
   "cell_type": "code",
   "execution_count": 70,
   "id": "07573ca3-0ddc-43f0-b570-6cff47967983",
   "metadata": {},
   "outputs": [
    {
     "data": {
      "text/plain": [
       "array([0.15306687, 0.12453449, 0.19504153, 0.17422279, 0.11564898,\n",
       "       0.2600907 , 0.13189904, 0.15350379, 0.13135026, 0.11619216,\n",
       "       0.12663335, 0.1491932 , 0.22436303, 0.11085117, 0.18259568,\n",
       "       0.12695272, 0.11570946, 0.15413528, 0.20316878, 0.12451021,\n",
       "       0.13054837, 0.08974734, 0.1270536 , 0.14798535, 0.13144344,\n",
       "       0.12698869, 0.15175688, 0.14096639, 0.059945  , 0.18079965])"
      ]
     },
     "execution_count": 70,
     "metadata": {},
     "output_type": "execute_result"
    }
   ],
   "source": [
    "f1 = cross_val_score(svm_final, features_selected, labels, scoring='f1_macro', cv=cv)\n",
    "f1"
   ]
  },
  {
   "cell_type": "code",
   "execution_count": 71,
   "id": "a12d6ea3-cf60-4bb7-b623-94587eddab24",
   "metadata": {},
   "outputs": [
    {
     "name": "stdout",
     "output_type": "stream",
     "text": [
      "Mean: 0.145363\n",
      "SD: 0.039238\n",
      "Max: 0.260091\n",
      "Min: 0.059945\n"
     ]
    }
   ],
   "source": [
    "print(\"Mean: %f\" % mean(f1))\n",
    "print(\"SD: %f\" % std(f1))\n",
    "print(\"Max: %f\" % amax(f1))\n",
    "print(\"Min: %f\" % amin(f1))"
   ]
  },
  {
   "cell_type": "code",
   "execution_count": 72,
   "id": "7b947cd3-6510-414d-9bf1-e6b909e222bc",
   "metadata": {},
   "outputs": [
    {
     "data": {
      "text/plain": [
       "array([0.09320676, 0.07373737, 0.11513013, 0.10418969, 0.06699134,\n",
       "       0.16156772, 0.07777787, 0.09321705, 0.07727273, 0.07033816,\n",
       "       0.07593682, 0.08778288, 0.14797491, 0.06892857, 0.11053441,\n",
       "       0.0752468 , 0.06741536, 0.08929243, 0.1253429 , 0.07721331,\n",
       "       0.07447917, 0.05130129, 0.07410546, 0.09101848, 0.07954781,\n",
       "       0.07669366, 0.09145005, 0.08769428, 0.03332706, 0.11163338])"
      ]
     },
     "execution_count": 72,
     "metadata": {},
     "output_type": "execute_result"
    }
   ],
   "source": [
    "jaccard = cross_val_score(svm_final, features_selected, labels, scoring='jaccard_macro', cv=cv)\n",
    "jaccard"
   ]
  },
  {
   "cell_type": "code",
   "execution_count": 73,
   "id": "043cf6a7-44a9-4923-85b0-1c4a5bfdaee3",
   "metadata": {},
   "outputs": [
    {
     "name": "stdout",
     "output_type": "stream",
     "text": [
      "Mean: 0.087678\n",
      "SD: 0.025717\n",
      "Max: 0.161568\n",
      "Min: 0.033327\n"
     ]
    }
   ],
   "source": [
    "print(\"Mean: %f\" % mean(jaccard))\n",
    "print(\"SD: %f\" % std(jaccard))\n",
    "print(\"Max: %f\" % amax(jaccard))\n",
    "print(\"Min: %f\" % amin(jaccard))"
   ]
  },
  {
   "cell_type": "code",
   "execution_count": 41,
   "id": "caca56ed-3cb1-4761-9b64-f119308ecfb5",
   "metadata": {},
   "outputs": [],
   "source": [
    "from sklearn.inspection import permutation_importance"
   ]
  },
  {
   "cell_type": "code",
   "execution_count": 42,
   "id": "8f06df14-5027-4369-b044-cad908c7415e",
   "metadata": {},
   "outputs": [],
   "source": [
    "feature_importances = []"
   ]
  },
  {
   "cell_type": "code",
   "execution_count": 43,
   "id": "1de53847-6fb6-4f2d-9b94-4d70b1a765fc",
   "metadata": {},
   "outputs": [],
   "source": [
    "feature_list_selected = list(X_selected.columns)"
   ]
  },
  {
   "cell_type": "code",
   "execution_count": 44,
   "id": "cc6c0948-175e-4ac1-a388-0dec894972e8",
   "metadata": {},
   "outputs": [],
   "source": [
    "for i in range(len(feature_list_selected)):\n",
    "    feature_importances.append([])"
   ]
  },
  {
   "cell_type": "code",
   "execution_count": 45,
   "id": "384fcc82-4ffb-400f-813e-a74c03273aad",
   "metadata": {},
   "outputs": [],
   "source": [
    "for train_index , test_index in cv.split(X_selected):\n",
    "    X_train , X_test = X_selected.iloc[train_index,:],X_selected.iloc[test_index,:]\n",
    "    y_train , y_test = labels[train_index] , labels[test_index]\n",
    "     \n",
    "    svm_final.fit(X_train,y_train)\n",
    "    pred_values = svm_final.predict(X_test)\n",
    "    \n",
    "    perm_importance = permutation_importance(svm_final, X_test, y_test)\n",
    "    importances = list(perm_importance.importances_mean)\n",
    "     \n",
    "    for i in range(len(importances)):\n",
    "        feature_importances[i].append(importances[i])"
   ]
  },
  {
   "cell_type": "code",
   "execution_count": 46,
   "id": "b6830e8f-c29f-4422-8c2b-74db835ea359",
   "metadata": {},
   "outputs": [],
   "source": [
    "mean_feature_importances = []\n",
    "for importances in feature_importances:\n",
    "    mean_feature_importances.append(mean(importances))"
   ]
  },
  {
   "cell_type": "code",
   "execution_count": 47,
   "id": "41d708e5-2c35-4fcf-ba54-0c148561b3d8",
   "metadata": {},
   "outputs": [
    {
     "name": "stdout",
     "output_type": "stream",
     "text": [
      "Variable: TASCRATIO            Importance: 0.01749\n",
      "Variable: TAWSSIMBERT          Importance: 0.01695\n",
      "Variable: TAMIKWFP             Importance: 0.01593\n",
      "Variable: TABSSIMSPACY         Importance: 0.01329\n",
      "Variable: TAMKWSP              Importance: 0.01139\n",
      "Variable: TABSSIMBERT          Importance: 0.01119\n",
      "Variable: TAWSSIMSPACY         Importance: 0.01083\n",
      "Variable: ASC                  Importance: 0.01068\n",
      "Variable: TAMKWFP              Importance: 0.00978\n",
      "Variable: TMIKWAORATIO         Importance: 0.00861\n",
      "Variable: TAMIKWWSSIMSPACY     Importance: 0.00835\n",
      "Variable: TAFSSD               Importance: 0.00827\n",
      "Variable: AFSS                 Importance: 0.00814\n",
      "Variable: TWC                  Importance: 0.00786\n",
      "Variable: TAKWCRATIORATIO      Importance: 0.00716\n",
      "Variable: TAFSSIMBERT          Importance: 0.00695\n",
      "Variable: TAFSSMEAN            Importance: 0.00654\n",
      "Variable: TAFSSIMSPACY         Importance: 0.00641\n",
      "Variable: TAMIKWDIST           Importance: 0.00608\n",
      "Variable: TASCCRATIO           Importance: 0.00546\n",
      "Variable: TKWAO                Importance: 0.00546\n",
      "Variable: AL                   Importance: 0.00541\n",
      "Variable: AWC                  Importance: 0.00502\n",
      "Variable: AKWPMEAN             Importance: 0.00483\n",
      "Variable: TKWCRATIO            Importance: 0.0047\n",
      "Variable: TKWAOWRATIO          Importance: 0.00462\n",
      "Variable: TKWC                 Importance: 0.00454\n",
      "Variable: TASD                 Importance: 0.00427\n",
      "Variable: TAGSSIMCSPACY        Importance: 0.00426\n",
      "Variable: AKWCRATIO            Importance: 0.00412\n",
      "Variable: TAKWDIST             Importance: 0.00407\n",
      "Variable: AKWC                 Importance: 0.00379\n",
      "Variable: TAASSIMSPACY         Importance: 0.00372\n",
      "Variable: TAMKWSSIMSPACY       Importance: 0.00372\n",
      "Variable: TAWSSIMPBERT         Importance: 0.00366\n",
      "Variable: TL                   Importance: 0.00359\n",
      "Variable: AKWPWMEAN            Importance: 0.00358\n",
      "Variable: TKWAOW               Importance: 0.00323\n",
      "Variable: TAPMEAN              Importance: 0.00303\n",
      "Variable: TAKWPWMEAN           Importance: 0.00296\n",
      "Variable: TASCCD               Importance: 0.0029\n",
      "Variable: TABSSIMPSPACY        Importance: 0.00275\n",
      "Variable: TASIMSPACY           Importance: 0.00269\n",
      "Variable: TAPD                 Importance: 0.00268\n",
      "Variable: TAMKWSS              Importance: 0.00262\n",
      "Variable: TAGSSIMDISTSPACY     Importance: 0.0026\n",
      "Variable: TALRATIO             Importance: 0.00256\n",
      "Variable: AVC                  Importance: 0.00255\n",
      "Variable: AVCRATIO             Importance: 0.00255\n",
      "Variable: TAMIKWBSSIMSPACY     Importance: 0.00249\n",
      "Variable: TMIKWAO              Importance: 0.00247\n",
      "Variable: ANC                  Importance: 0.00228\n",
      "Variable: ANCRATIO             Importance: 0.00228\n",
      "Variable: TAGSSIMCBERT         Importance: 0.0022\n",
      "Variable: TVC                  Importance: 0.00214\n",
      "Variable: TAFSPD               Importance: 0.00213\n",
      "Variable: TAKWSS               Importance: 0.00213\n",
      "Variable: TAWCRATIO            Importance: 0.00206\n",
      "Variable: TMIKWP               Importance: 0.00199\n",
      "Variable: TAASSIMSBERT         Importance: 0.00187\n",
      "Variable: TAKWSSIMVARSPACY     Importance: 0.00173\n",
      "Variable: AMIKWP               Importance: 0.00172\n",
      "Variable: TSC                  Importance: 0.00166\n",
      "Variable: TMIKWS               Importance: 0.00165\n",
      "Variable: TAKWSPD              Importance: 0.00151\n",
      "Variable: TABSSIMPBERT         Importance: 0.00145\n",
      "Variable: TAKWSP               Importance: 0.00144\n",
      "Variable: AP                   Importance: 0.00139\n",
      "Variable: TAKWPD               Importance: 0.00123\n",
      "Variable: TAKWSIMSPACY         Importance: 0.00116\n",
      "Variable: TKWAORATIO           Importance: 0.00098\n",
      "Variable: TAGSSIMRATIOBERT     Importance: 0.00096\n",
      "Variable: TAKWSSD              Importance: 0.00091\n",
      "Variable: TSCC                 Importance: 0.00084\n",
      "Variable: AMIKWS               Importance: 0.00083\n",
      "Variable: TAKWCRATIO           Importance: 0.00069\n",
      "Variable: AS                   Importance: 0.00047\n",
      "Variable: TAWSSIMPSPACY        Importance: 0.00047\n",
      "Variable: TKWPWMEAN            Importance: 0.00034\n",
      "Variable: ASCC                 Importance: 0.0002\n",
      "Variable: TAVCD                Importance: 8e-05\n",
      "Variable: TAVCRATIOD           Importance: 8e-05\n",
      "Variable: AFSP                 Importance: -8e-05\n",
      "Variable: TAKWPWD              Importance: -0.00083\n",
      "Variable: TAKWPMEAN            Importance: -0.00089\n",
      "Variable: TAMIKWASSIMSPACY     Importance: -0.00097\n",
      "Variable: TAFSPMEAN            Importance: -0.00103\n",
      "Variable: TAGSSIMRATIOSPACY    Importance: -0.0011\n",
      "Variable: TANCD                Importance: -0.00118\n",
      "Variable: TANCRATIOD           Importance: -0.00118\n",
      "Variable: TAMKWSSD             Importance: -0.00124\n",
      "Variable: TASMEAN              Importance: -0.0024\n",
      "Variable: TAMKWSPD             Importance: -0.00243\n",
      "Variable: TKWPMEAN             Importance: -0.00303\n"
     ]
    }
   ],
   "source": [
    "# List of tuples with variable and importance\n",
    "feature_importances_tuples = [(feature, round(importance, 5)) for feature, importance in zip(feature_list_selected, mean_feature_importances)]\n",
    "# Sort the feature importances by most important first\n",
    "feature_importances_tuples = sorted(feature_importances_tuples, key = lambda x: x[1], reverse = True)\n",
    "# Print out the feature and importances \n",
    "[print('Variable: {:20} Importance: {}'.format(*pair)) for pair in feature_importances_tuples];"
   ]
  },
  {
   "cell_type": "code",
   "execution_count": 48,
   "id": "f73a32fd-c807-4451-98a6-81852e5aa6b5",
   "metadata": {},
   "outputs": [],
   "source": [
    "f = [feature for feature, importance in feature_importances_tuples]\n",
    "imp = [importance for feature, importance in feature_importances_tuples]"
   ]
  },
  {
   "cell_type": "code",
   "execution_count": 49,
   "id": "6c85598d-7463-4ed9-990a-e76c857e643a",
   "metadata": {},
   "outputs": [],
   "source": [
    "imp_coef = pd.Series(imp, index = f)\n",
    "imp_coef = imp_coef.iloc[::-1]"
   ]
  },
  {
   "cell_type": "code",
   "execution_count": 50,
   "id": "c96d820e-a791-4435-8278-5af247c60cea",
   "metadata": {},
   "outputs": [
    {
     "data": {
      "text/plain": [
       "TKWPMEAN       -0.00303\n",
       "TAMKWSPD       -0.00243\n",
       "TASMEAN        -0.00240\n",
       "TAMKWSSD       -0.00124\n",
       "TANCRATIOD     -0.00118\n",
       "                 ...   \n",
       "TAMKWSP         0.01139\n",
       "TABSSIMSPACY    0.01329\n",
       "TAMIKWFP        0.01593\n",
       "TAWSSIMBERT     0.01695\n",
       "TASCRATIO       0.01749\n",
       "Length: 94, dtype: float64"
      ]
     },
     "execution_count": 50,
     "metadata": {},
     "output_type": "execute_result"
    }
   ],
   "source": [
    "imp_coef"
   ]
  },
  {
   "cell_type": "code",
   "execution_count": 52,
   "id": "8f735c6a-073e-4ac2-b4e9-f1e038d6e38c",
   "metadata": {},
   "outputs": [
    {
     "data": {
      "image/png": "[encoded data removed]",
      "text/plain": [
       "<Figure size 720x1440 with 1 Axes>"
      ]
     },
     "metadata": {},
     "output_type": "display_data"
    }
   ],
   "source": [
    "matplotlib.rcParams['figure.figsize'] = (10.0, 20.0)\n",
    "ax = imp_coef.plot(kind = \"barh\")\n",
    "ax.xaxis.label.set_color('white')\n",
    "ax.yaxis.label.set_color('white')\n",
    "ax.patch.set_alpha(0)\n",
    "\n",
    "ax.tick_params(axis='x', colors='white')\n",
    "ax.tick_params(axis='y', colors='white')\n",
    "\n",
    "ax.spines['left'].set_color('white')\n",
    "ax.spines['top'].set_color('white')\n",
    "ax.spines['right'].set_color('white')\n",
    "ax.spines['bottom'].set_color('white')\n",
    "plt.gcf().subplots_adjust(left=0.25)\n",
    "fig = ax.get_figure()\n",
    "ax.set_facecolor((0.1, 0.1, 0.1))\n",
    "fig.patch.set_facecolor((0.1, 0.1, 0.1))\n",
    "plt.title(label=\"Support Vector Machine Selected Features\",\n",
    "          fontsize=20,\n",
    "          color=\"white\")\n",
    "plt.grid(c='gray')\n",
    "fig.savefig('../../images/svm_features.png', transparent=False)"
   ]
  },
  {
   "cell_type": "code",
   "execution_count": null,
   "id": "3acf61c7-7eda-485f-a17c-5821edafa64f",
   "metadata": {},
   "outputs": [],
   "source": []
  },
  {
   "cell_type": "code",
   "execution_count": 86,
   "id": "b06dfd48-b059-44d3-998a-df64650b79f2",
   "metadata": {},
   "outputs": [],
   "source": [
    "train_features, test_features, train_labels, test_labels = train_test_split(features_selected, labels, test_size = 0.25, random_state = 42)"
   ]
  },
  {
   "cell_type": "code",
   "execution_count": 87,
   "id": "8d562657-3dab-415b-895c-cddfffe36202",
   "metadata": {},
   "outputs": [
    {
     "data": {
      "text/plain": [
       "SVC(C=100, gamma=0.001, random_state=42)"
      ]
     },
     "execution_count": 87,
     "metadata": {},
     "output_type": "execute_result"
    }
   ],
   "source": [
    "svm_final.fit(train_features, train_labels)"
   ]
  },
  {
   "cell_type": "code",
   "execution_count": 88,
   "id": "55407c1a-9186-4489-a247-8af6f813996e",
   "metadata": {},
   "outputs": [],
   "source": [
    "predictions = svm_final.predict(test_features)"
   ]
  },
  {
   "cell_type": "code",
   "execution_count": 89,
   "id": "f9e927be-ef1f-4487-a085-93e7234d4dd6",
   "metadata": {},
   "outputs": [],
   "source": [
    "test_labels_real = np.array([(label/2)+1 for label in test_labels])\n",
    "predictions_real = np.array([(prediction/2)+1 for prediction in predictions])"
   ]
  },
  {
   "cell_type": "code",
   "execution_count": 90,
   "id": "d9fcd77c-1e69-4686-8cb2-fc67ca02135e",
   "metadata": {},
   "outputs": [
    {
     "data": {
      "text/plain": [
       "array([3, 5, 5, 6, 3, 5, 6, 5, 3, 5, 5, 5, 5, 6, 2, 7, 6, 7, 4, 4, 6, 5,\n",
       "       6, 6, 6, 7, 5, 3, 6, 6, 6, 4, 5, 6, 5, 6, 5, 6, 5, 5, 5, 6, 5, 6,\n",
       "       5, 5, 7, 6, 4, 3, 6, 6, 7, 5, 7, 6, 2, 7, 5, 4, 6, 6, 4, 7, 6, 6,\n",
       "       8, 1, 7, 5, 7, 5, 3, 2, 7, 5, 6, 7, 4, 7, 7, 6, 4, 2, 5, 6, 6, 5,\n",
       "       4, 6, 5, 5, 4, 5, 4, 4, 5, 6, 3, 6, 6, 6, 6, 6, 5, 5, 7, 5, 5, 4,\n",
       "       6, 6, 6, 5, 5, 5, 1, 7, 4, 4, 3, 6, 7, 4, 5, 6, 4, 7, 6, 5, 6, 6,\n",
       "       4, 4, 7, 6, 6, 3, 4, 6, 7, 5, 6, 6, 4, 4, 6, 7, 8, 8, 5, 4, 6, 2,\n",
       "       6, 5, 3, 5, 5, 3, 6, 4, 5, 5, 6, 4, 5, 6, 4, 5, 7, 3, 6, 6, 6, 8,\n",
       "       6, 4, 5, 6, 6, 7, 4, 5, 5, 5, 7, 8, 8, 5, 8, 5, 4, 4, 5, 5, 5, 5,\n",
       "       4, 4, 5, 5, 3, 6, 7, 5, 5, 3, 6, 7, 6, 6, 6, 7, 5, 4, 2, 5, 7, 5,\n",
       "       6, 5, 5, 5, 7, 7, 4, 5, 5, 5, 6, 4, 7, 4, 6, 5, 7, 6, 8, 5, 5, 6],\n",
       "      dtype=int64)"
      ]
     },
     "execution_count": 90,
     "metadata": {},
     "output_type": "execute_result"
    }
   ],
   "source": [
    "test_labels"
   ]
  },
  {
   "cell_type": "code",
   "execution_count": 91,
   "id": "65e31b3c-d107-4126-bfea-187ad12118d1",
   "metadata": {},
   "outputs": [
    {
     "data": {
      "image/png": "[encoded data removed]",
      "text/plain": [
       "<Figure size 720x720 with 1 Axes>"
      ]
     },
     "metadata": {},
     "output_type": "display_data"
    }
   ],
   "source": [
    "fig = plt.figure(figsize=(10,10))\n",
    "ax = fig.add_subplot(111)\n",
    "ax.scatter(test_labels_real, predictions_real,  color='white', alpha=0.3, s=100)\n",
    "m, b = np.polyfit(test_labels_real, predictions_real, 1)\n",
    "ax.plot(test_labels_real, m*test_labels_real+b, color='red', linewidth=3, label=\"Prediction regression line\")\n",
    "ax.legend()\n",
    "ax.plot(test_labels_real, test_labels_real, color='green', linewidth=3, label=\"Optimal regression line\")\n",
    "ax.legend()\n",
    "plt.xlabel(\"Actual\")\n",
    "plt.ylabel(\"Prediction\")\n",
    "\n",
    "ax.xaxis.label.set_color('white')\n",
    "ax.yaxis.label.set_color('white')\n",
    "\n",
    "ax.tick_params(axis='x', colors='white')\n",
    "ax.tick_params(axis='y', colors='white')\n",
    "\n",
    "ax.spines['left'].set_color('white')\n",
    "ax.spines['top'].set_color('white')\n",
    "ax.spines['right'].set_color('white')\n",
    "ax.spines['bottom'].set_color('white')\n",
    "\n",
    "ax.set_facecolor((0.1, 0.1, 0.1))\n",
    "fig.patch.set_facecolor((0.1, 0.1, 0.1))\n",
    "plt.title(label=\"Support Vector Machine (Prediction vs Actual)\",\n",
    "          fontsize=20,\n",
    "          color=\"white\")\n",
    "plt.grid(c='gray')\n",
    "plt.savefig('../../images/svm.png', transparent=False)"
   ]
  },
  {
   "cell_type": "code",
   "execution_count": null,
   "id": "cfb8f606-0e17-4eb0-a970-69fe23370cfc",
   "metadata": {},
   "outputs": [],
   "source": []
  },
  {
   "cell_type": "code",
   "execution_count": null,
   "id": "89bfe9b0-26f8-472d-8eb2-0f456558ff55",
   "metadata": {},
   "outputs": [],
   "source": []
  },
  {
   "cell_type": "code",
   "execution_count": null,
   "id": "d008e176-07b5-4e5c-b2dc-d349be7acd7b",
   "metadata": {},
   "outputs": [],
   "source": []
  },
  {
   "cell_type": "code",
   "execution_count": null,
   "id": "d5568a41-20a0-414b-b801-6262fa4b5fca",
   "metadata": {},
   "outputs": [],
   "source": []
  },
  {
   "cell_type": "code",
   "execution_count": null,
   "id": "7987950d-9396-43b5-bf4f-fe94cfbda535",
   "metadata": {},
   "outputs": [],
   "source": []
  },
  {
   "cell_type": "code",
   "execution_count": null,
   "id": "45005bdf-9979-4015-be64-604a9ad534ba",
   "metadata": {},
   "outputs": [],
   "source": []
  },
  {
   "cell_type": "code",
   "execution_count": null,
   "id": "1477c128-8d20-4689-b1aa-909e996b1122",
   "metadata": {},
   "outputs": [],
   "source": []
  },
  {
   "cell_type": "code",
   "execution_count": null,
   "id": "eb158a2a-0e11-4611-9974-d414aa519939",
   "metadata": {},
   "outputs": [],
   "source": []
  },
  {
   "cell_type": "code",
   "execution_count": null,
   "id": "5c81ccbd-5fc6-4646-a864-10e348a3a372",
   "metadata": {},
   "outputs": [],
   "source": []
  },
  {
   "cell_type": "code",
   "execution_count": null,
   "id": "037e8d86-cb11-4cfb-bbc0-87462ead1aa9",
   "metadata": {},
   "outputs": [],
   "source": []
  }
 ],
 "metadata": {
  "kernelspec": {
   "display_name": "Python 3 (ipykernel)",
   "language": "python",
   "name": "python3"
  },
  "language_info": {
   "codemirror_mode": {
    "name": "ipython",
    "version": 3
   },
   "file_extension": ".py",
   "mimetype": "text/x-python",
   "name": "python",
   "nbconvert_exporter": "python",
   "pygments_lexer": "ipython3",
   "version": "3.9.7"
  }
 },
 "nbformat": 4,
 "nbformat_minor": 5
}
