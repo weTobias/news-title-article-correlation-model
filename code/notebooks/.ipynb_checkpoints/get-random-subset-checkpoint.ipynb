{
 "cells": [
  {
   "cell_type": "code",
   "execution_count": 1,
   "id": "2149e842-094e-4ae2-9154-40ec3999a98a",
   "metadata": {},
   "outputs": [],
   "source": [
    "import pandas as pd"
   ]
  },
  {
   "cell_type": "code",
   "execution_count": 2,
   "id": "13d8d23c-9dca-42fc-b4b1-ede8c901c45b",
   "metadata": {},
   "outputs": [],
   "source": [
    "df = pd.read_csv('../../data/2013-2020_US/all-the-news-2-1-cleaned.csv', header=0, dtype={'title': 'str', 'article': 'str'})"
   ]
  },
  {
   "cell_type": "code",
   "execution_count": 15,
   "id": "eb742f3f-c2a2-4900-ba63-90d8fb104f9d",
   "metadata": {},
   "outputs": [
    {
     "data": {
      "text/plain": [
       "\"Kim Kardashian did good fighting for Alice Johnson's clemency, but at least one U.S. congressman thinks President Trump played celeb favorites and that has no place in the prison reform discussion. We got Rep. Steve Cohen of Tennessee Wednesday on Capitol Hill, and he says there's a downside to Kim successfully lobbying Trump ... in the big picture. Cohen's afraid it will set a bad precedent for other harshly or wrongly convicted prisoners. In other words, what happens if you're rotting in prison ... and don't have a celebrity who can get the President's ear fighting for your freedom? Cohen's working on legislation to help more people like Alice and while he seems to applaud Kim's efforts ... he's not giving Trump an ounce of credit.\""
      ]
     },
     "execution_count": 15,
     "metadata": {},
     "output_type": "execute_result"
    }
   ],
   "source": [
    "df.iloc[2222,2]"
   ]
  },
  {
   "cell_type": "code",
   "execution_count": 21,
   "id": "4d943baa-2d33-4efb-a34b-9193c6f820a0",
   "metadata": {},
   "outputs": [],
   "source": [
    "sample = df.sample(1000, random_state=101)"
   ]
  },
  {
   "cell_type": "code",
   "execution_count": 23,
   "id": "b450544b-bc34-4f18-8e42-3cdaad3103fe",
   "metadata": {},
   "outputs": [],
   "source": [
    "del sample['Unnamed: 0']"
   ]
  },
  {
   "cell_type": "code",
   "execution_count": 33,
   "id": "ff9bb9fd-5011-48d7-b1b2-8affebebf4af",
   "metadata": {},
   "outputs": [
    {
     "data": {
      "text/plain": [
       "'(Adds details) JOHANNESBURG, Nov 19 (Reuters) - South African investment firm RMB Holdings (RMH) said on Tuesday it planned to distribute among shareholders its stake in lender FirstRand , worth about 130 billion rand ($8.8 billion), as part of a restructuring. RMH has an almost three-decade history of investing in financial services, and FirstRand was born out of the group. It is the bank’s largest shareholder with a 34% stake. RMH’s largest investor, Remgro Ltd, has an almost 4% stake in FirstRand. RMH said in a statement it had reviewed its investment portfolio and also decided to sell its 3.35 billion rand in property assets. “The board’s intention is to distribute the FirstRand shareholding to RMH shareholders and to monetise the property assets in an orderly manner over time,” the company said, without giving detailed reasons for the restructuring. The distribution of the FirstRand stake will take place before the property transactions, it said, and will be net of the settlement of the FirstRand debt and associated costs, as well as “an appropriate capitalisation of RMH”. RMH could not be reached outside of usual business hours. A detailed announcement on the restructuring, including the approvals it would require and a timetable, is expected to be made before the end of the first quarter of 2020, its statement said. In a separate statement, Remgro, said it would also distribute to shareholders its 28% holding in RMH - worth just over $2 billion, according to Eikon data - and its stake in FirstRand, though how this would work was subject to further consideration. “The boards of RMH and Remgro have further agreed to work together to determine the most practical and effective way to implement (the distributions),” its statement said, with it also expecting to make a more detailed announcement before the end of the first quarter of 2020. RMH, FirstRand and Remgro all advised shareholders to exercise caution when dealing in their shares. The announcements were made after market close in South Africa. $1 = 14.7798 rand\\nReporting by Emma Rumney; Editing by Edmund Blair and Mark\\nPotter'"
      ]
     },
     "execution_count": 33,
     "metadata": {},
     "output_type": "execute_result"
    }
   ],
   "source": [
    "sample.iloc[782,1]"
   ]
  },
  {
   "cell_type": "code",
   "execution_count": 27,
   "id": "3a647300-98ba-4a30-841c-1834531b9deb",
   "metadata": {},
   "outputs": [],
   "source": [
    "sample.to_csv('all-the-news-2-1-cleaned-sample1000.csv')"
   ]
  },
  {
   "cell_type": "code",
   "execution_count": null,
   "id": "d04d35e3-e2b9-4e73-ba02-61a21cb54496",
   "metadata": {},
   "outputs": [],
   "source": []
  }
 ],
 "metadata": {
  "kernelspec": {
   "display_name": "Python 3 (ipykernel)",
   "language": "python",
   "name": "python3"
  },
  "language_info": {
   "codemirror_mode": {
    "name": "ipython",
    "version": 3
   },
   "file_extension": ".py",
   "mimetype": "text/x-python",
   "name": "python",
   "nbconvert_exporter": "python",
   "pygments_lexer": "ipython3",
   "version": "3.9.7"
  }
 },
 "nbformat": 4,
 "nbformat_minor": 5
}
