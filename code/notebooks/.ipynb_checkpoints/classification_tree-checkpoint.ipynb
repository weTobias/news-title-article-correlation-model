{
 "cells": [
  {
   "cell_type": "code",
   "execution_count": 1,
   "id": "7de18544-e350-4431-a6c7-2db37a167e7b",
   "metadata": {},
   "outputs": [],
   "source": [
    "import pandas as pd"
   ]
  },
  {
   "cell_type": "code",
   "execution_count": 2,
   "id": "99ce8728-a6df-439f-ab40-e327c9d9ae00",
   "metadata": {},
   "outputs": [],
   "source": [
    "import numpy as np"
   ]
  },
  {
   "cell_type": "code",
   "execution_count": 3,
   "id": "c5d3e41b-0399-4a1a-a4cd-97d9de3b8422",
   "metadata": {},
   "outputs": [],
   "source": [
    "import matplotlib"
   ]
  },
  {
   "cell_type": "code",
   "execution_count": 4,
   "id": "d68ce35b-768f-4e3f-985e-f06348070366",
   "metadata": {},
   "outputs": [],
   "source": [
    "import matplotlib.pyplot as plt"
   ]
  },
  {
   "cell_type": "code",
   "execution_count": 5,
   "id": "2d4bf982-0a86-44c2-9401-41a4b9fe4563",
   "metadata": {},
   "outputs": [],
   "source": [
    "import seaborn as sns"
   ]
  },
  {
   "cell_type": "code",
   "execution_count": 6,
   "id": "39e39c10-574c-408d-9b6b-8fd9bba6d1a0",
   "metadata": {},
   "outputs": [],
   "source": [
    "import statsmodels.api as sm"
   ]
  },
  {
   "cell_type": "code",
   "execution_count": 7,
   "id": "af4b882c-5d5a-4e40-b4fb-fa1fc9a94a8d",
   "metadata": {},
   "outputs": [],
   "source": [
    "%matplotlib inline"
   ]
  },
  {
   "cell_type": "code",
   "execution_count": 8,
   "id": "e172ad68-ccfb-4358-a1fb-eaa1b62fc6c5",
   "metadata": {},
   "outputs": [],
   "source": [
    "from sklearn.model_selection import train_test_split"
   ]
  },
  {
   "cell_type": "code",
   "execution_count": 9,
   "id": "b301cb3b-5986-4c30-9519-b1d7bd19f2e6",
   "metadata": {},
   "outputs": [],
   "source": [
    "from sklearn.linear_model import LinearRegression"
   ]
  },
  {
   "cell_type": "code",
   "execution_count": 10,
   "id": "bec8586f-f810-4b59-a3d5-b80813229f62",
   "metadata": {},
   "outputs": [],
   "source": [
    "from sklearn.feature_selection import RFE"
   ]
  },
  {
   "cell_type": "code",
   "execution_count": 11,
   "id": "b043b245-b63b-4ffa-9dfa-83e9ee646dbc",
   "metadata": {},
   "outputs": [],
   "source": [
    "from sklearn.linear_model import RidgeCV, LassoCV, Ridge, Lasso"
   ]
  },
  {
   "cell_type": "code",
   "execution_count": 12,
   "id": "d2028ab3-2000-4312-997e-45f3824ae39e",
   "metadata": {},
   "outputs": [],
   "source": [
    "from sklearn.svm import LinearSVC"
   ]
  },
  {
   "cell_type": "code",
   "execution_count": 13,
   "id": "8a993044-0bbb-47d2-a2e7-3f4438ba7d86",
   "metadata": {},
   "outputs": [],
   "source": [
    "from sklearn.feature_selection import SelectFromModel"
   ]
  },
  {
   "cell_type": "code",
   "execution_count": 14,
   "id": "01653031-1cd6-4c1c-9239-872ed0b43ab4",
   "metadata": {},
   "outputs": [],
   "source": [
    "from sklearn import metrics"
   ]
  },
  {
   "cell_type": "code",
   "execution_count": 15,
   "id": "82fb880b-d538-4931-8c1d-71253756ab8a",
   "metadata": {},
   "outputs": [],
   "source": [
    "from sklearn.linear_model import Lasso\n",
    "from sklearn.linear_model import ElasticNet\n",
    "from sklearn.tree import DecisionTreeRegressor\n",
    "from sklearn.neighbors import KNeighborsRegressor\n",
    "from sklearn.ensemble import GradientBoostingRegressor\n",
    "from sklearn.pipeline import Pipeline\n",
    "from sklearn.preprocessing import StandardScaler\n",
    "from sklearn.model_selection import cross_val_score\n",
    "from sklearn.model_selection import KFold\n",
    "from sklearn.feature_selection import RFE"
   ]
  },
  {
   "cell_type": "code",
   "execution_count": 16,
   "id": "7c7f2465-acb0-4cb4-bc59-aada2507ad7f",
   "metadata": {},
   "outputs": [],
   "source": [
    "from sklearn.preprocessing import StandardScaler"
   ]
  },
  {
   "cell_type": "code",
   "execution_count": 17,
   "id": "444ac508-e066-469d-9593-3901e2518313",
   "metadata": {},
   "outputs": [],
   "source": [
    "import math"
   ]
  },
  {
   "cell_type": "code",
   "execution_count": 18,
   "id": "0aa7bed1-eca9-4492-8db2-f87a3fe66526",
   "metadata": {},
   "outputs": [],
   "source": [
    "from sklearn.ensemble import RandomForestClassifier"
   ]
  },
  {
   "cell_type": "code",
   "execution_count": 19,
   "id": "fee485eb-c813-47d2-98ca-66835f2ec33c",
   "metadata": {},
   "outputs": [],
   "source": [
    "from sklearn.metrics import r2_score"
   ]
  },
  {
   "cell_type": "code",
   "execution_count": 20,
   "id": "0876ba91-f643-4262-9446-561d858f38d7",
   "metadata": {},
   "outputs": [],
   "source": [
    "from sklearn import preprocessing\n",
    "from sklearn import utils"
   ]
  },
  {
   "cell_type": "code",
   "execution_count": 21,
   "id": "b78773f0-fd6d-445f-ac58-be061c7f33ee",
   "metadata": {},
   "outputs": [],
   "source": [
    "from sklearn.metrics import r2_score"
   ]
  },
  {
   "cell_type": "code",
   "execution_count": 22,
   "id": "cb1235e8-3be4-4537-ac58-4c5c229bd7fa",
   "metadata": {},
   "outputs": [],
   "source": [
    "from sklearn.feature_selection import RFECV"
   ]
  },
  {
   "cell_type": "code",
   "execution_count": 23,
   "id": "ccb50670-fd0e-4dcb-9d96-d93cfc81622c",
   "metadata": {},
   "outputs": [],
   "source": [
    "from sklearn.model_selection import RepeatedKFold"
   ]
  },
  {
   "cell_type": "code",
   "execution_count": 24,
   "id": "bc7b8c2f-279c-421f-90fd-a1c3443e73e4",
   "metadata": {},
   "outputs": [],
   "source": [
    "from numpy import mean\n",
    "from numpy import std\n",
    "from numpy import amin\n",
    "from numpy import amax"
   ]
  },
  {
   "cell_type": "code",
   "execution_count": 25,
   "id": "b93ca339-2504-4c3f-9ac8-1a97334d1554",
   "metadata": {},
   "outputs": [],
   "source": [
    "df = pd.read_csv('../../data/extracted_features_round4_training.csv', header=0)"
   ]
  },
  {
   "cell_type": "code",
   "execution_count": 26,
   "id": "9cb90bff-be5b-490b-9044-991f26c24c55",
   "metadata": {},
   "outputs": [],
   "source": [
    "df = df.drop(columns='Unnamed: 0')"
   ]
  },
  {
   "cell_type": "code",
   "execution_count": 27,
   "id": "06202534-1257-4606-84b3-327b0b135502",
   "metadata": {},
   "outputs": [],
   "source": [
    "#df = df[['CV', 'TABSSIMPSPACY', 'TAWSSIMSPACY', 'TAKWDIST', 'TABSSIMBERT', 'AKWPWMEAN',\n",
    "#       'TAWSSIMPSPACY', 'TKWAORATIO', 'TAKWSIMSPACY', 'TMIKWP', 'TABSSIMSPACY',\n",
    "#       'TAFSSIMSPACY', 'TAMIKWWSSIMSPACY', 'TKWAOWRATIO', 'TAFSSD']]"
   ]
  },
  {
   "cell_type": "code",
   "execution_count": 28,
   "id": "4dbf900d-6264-499f-9b75-9835ec2b3ea1",
   "metadata": {},
   "outputs": [],
   "source": [
    "scaler = StandardScaler()"
   ]
  },
  {
   "cell_type": "code",
   "execution_count": null,
   "id": "8b4c00ae-9610-44be-ad55-8c25e2f3c440",
   "metadata": {},
   "outputs": [],
   "source": []
  },
  {
   "cell_type": "code",
   "execution_count": 29,
   "id": "b2d98b24-534c-4918-b1c3-a4de630814fa",
   "metadata": {},
   "outputs": [],
   "source": [
    "X = df.drop(columns='CV')"
   ]
  },
  {
   "cell_type": "code",
   "execution_count": 30,
   "id": "1ab81c02-cd75-4390-8284-c4ea87f2ef6d",
   "metadata": {},
   "outputs": [],
   "source": [
    "X = pd.DataFrame(scaler.fit_transform(X),columns = X.columns,index = df.index)"
   ]
  },
  {
   "cell_type": "code",
   "execution_count": 31,
   "id": "9867e187-7f4f-4478-a8df-240e6c3343e6",
   "metadata": {},
   "outputs": [],
   "source": [
    "float_labels = np.array(df['CV'])"
   ]
  },
  {
   "cell_type": "code",
   "execution_count": 32,
   "id": "d27ebcb8-9faa-4f1a-bf6c-bdfb8990f512",
   "metadata": {},
   "outputs": [],
   "source": [
    "lab_enc = preprocessing.LabelEncoder()\n",
    "labels = lab_enc.fit_transform(float_labels)"
   ]
  },
  {
   "cell_type": "code",
   "execution_count": 33,
   "id": "90ee8222-7990-4ccc-9292-79fde1cc9a5c",
   "metadata": {},
   "outputs": [
    {
     "data": {
      "text/plain": [
       "Index(['CV', 'TL', 'AL', 'TWC', 'AWC', 'TSC', 'ASC', 'TALRATIO', 'TAWCRATIO',\n",
       "       'TASCRATIO', 'TP', 'AP', 'TAPD', 'TAPMEAN', 'TS', 'AS', 'TASD',\n",
       "       'TASMEAN', 'TASCCRATIO', 'TASCCD', 'TKWC', 'AKWC', 'TAKWCRATIO',\n",
       "       'AMIKWP', 'TMIKWS', 'AMIKWS', 'AFSP', 'TAFSPMEAN', 'TAFSPD', 'AFSS',\n",
       "       'TAFSSMEAN', 'TAFSSD', 'TMIKWAORATIO', 'TKWAORATIO', 'TKWAOWRATIO',\n",
       "       'TKWPMEAN', 'AKWPMEAN', 'TAKWPMEAN', 'TAKWPD', 'TKWPWMEAN', 'AKWPWMEAN',\n",
       "       'TAKWPWMEAN', 'TAKWPWD', 'TAMIKWFP', 'TAMIKWDIST', 'TAKWDIST',\n",
       "       'TASIMSPACY', 'TABSSIMSPACY', 'TAWSSIMSPACY', 'TAASSIMSPACY',\n",
       "       'TAFSSIMSPACY', 'TABSSIMPSPACY', 'TAWSSIMPSPACY', 'TAGSSIMRATIOSPACY',\n",
       "       'TVC', 'AVC', 'TAVCD', 'TNC', 'ANC', 'TANCD', 'TABSSIMBERT',\n",
       "       'TAWSSIMBERT', 'TAASSIMSBERT', 'TAFSSIMBERT', 'TABSSIMPBERT',\n",
       "       'TAWSSIMPBERT', 'TAGSSIMRATIOBERT', 'TAMIKWASSIMSPACY',\n",
       "       'TAMIKWBSSIMSPACY', 'TAMIKWWSSIMSPACY', 'TMIKWP', 'TAMKWSSIMSPACY',\n",
       "       'TAMKWSP', 'TAMKWSPD', 'TAMKWSS', 'TAMKWSSD', 'TAMKWFP', 'TAKWSIMSPACY',\n",
       "       'TAKWSP', 'TAKWSPD', 'TAKWSS', 'TAKWSSD', 'TAGSSIMDISTSPACY', 'TSCC',\n",
       "       'ASCC', 'TKWCRATIO', 'AKWCRATIO', 'TAKWCRATIORATIO', 'TMIKWAO', 'TKWAO',\n",
       "       'TKWAOW', 'TVCRATIO', 'AVCRATIO', 'TAVCRATIOD', 'TNCRATIO', 'ANCRATIO',\n",
       "       'TANCRATIOD', 'TAGSSIMCSPACY', 'TAGSSIMCBERT', 'TAKWSSIMVARSPACY'],\n",
       "      dtype='object')"
      ]
     },
     "execution_count": 33,
     "metadata": {},
     "output_type": "execute_result"
    }
   ],
   "source": [
    "df.columns"
   ]
  },
  {
   "cell_type": "code",
   "execution_count": 34,
   "id": "8c1ca2a2-9808-48a4-9a47-df842b0fcd0b",
   "metadata": {},
   "outputs": [],
   "source": [
    "feature_list = list(X.columns)"
   ]
  },
  {
   "cell_type": "code",
   "execution_count": 35,
   "id": "15a52013-5de3-45c0-8b76-052bb8e10f1e",
   "metadata": {},
   "outputs": [],
   "source": [
    "features = np.array(X)"
   ]
  },
  {
   "cell_type": "code",
   "execution_count": 157,
   "id": "220bfb42-8eac-41cf-9700-b4933e11b829",
   "metadata": {},
   "outputs": [],
   "source": [
    "train_features, test_features, train_labels, test_labels = train_test_split(features, labels, test_size = 0.25, random_state = 42)"
   ]
  },
  {
   "cell_type": "code",
   "execution_count": 158,
   "id": "fd8f6ee2-ce26-40ee-b43e-cc0d7bbc1df0",
   "metadata": {},
   "outputs": [
    {
     "name": "stdout",
     "output_type": "stream",
     "text": [
      "Training Features Shape: (725, 99)\n",
      "Training Labels Shape: (725,)\n",
      "Testing Features Shape: (242, 99)\n",
      "Testing Labels Shape: (242,)\n"
     ]
    }
   ],
   "source": [
    "print('Training Features Shape:', train_features.shape)\n",
    "print('Training Labels Shape:', train_labels.shape)\n",
    "print('Testing Features Shape:', test_features.shape)\n",
    "print('Testing Labels Shape:', test_labels.shape)"
   ]
  },
  {
   "cell_type": "code",
   "execution_count": 36,
   "id": "35265c89-42b2-48e4-b92f-a1de123e1c48",
   "metadata": {},
   "outputs": [],
   "source": [
    "cv = RepeatedKFold(n_splits=10, n_repeats=3, random_state=42)"
   ]
  },
  {
   "cell_type": "code",
   "execution_count": null,
   "id": "6bb79e09-28c7-4508-9582-c84d3510a61f",
   "metadata": {},
   "outputs": [],
   "source": []
  },
  {
   "cell_type": "code",
   "execution_count": null,
   "id": "5e246944-fcf2-4847-8389-9df38f72a730",
   "metadata": {},
   "outputs": [],
   "source": []
  },
  {
   "cell_type": "code",
   "execution_count": 39,
   "id": "9bb09de5-cd48-4216-ac47-6327342d759f",
   "metadata": {},
   "outputs": [
    {
     "data": {
      "text/plain": [
       "RFECV(cv=RepeatedKFold(n_repeats=3, n_splits=10, random_state=42),\n",
       "      estimator=RandomForestClassifier(), scoring='f1_macro')"
      ]
     },
     "execution_count": 39,
     "metadata": {},
     "output_type": "execute_result"
    }
   ],
   "source": [
    "default_random_forest_classifier = RandomForestClassifier()\n",
    "rfe = RFECV(default_random_forest_classifier,cv=cv,scoring=\"f1_macro\")\n",
    "\n",
    "rfe.fit(X,labels)"
   ]
  },
  {
   "cell_type": "code",
   "execution_count": 41,
   "id": "bbdf5d84-2380-4164-be8a-c9be59408aad",
   "metadata": {},
   "outputs": [],
   "source": [
    "selected_features = np.array(feature_list)[rfe.get_support()]"
   ]
  },
  {
   "cell_type": "code",
   "execution_count": 42,
   "id": "a88200c2-df0b-4487-a706-22bcbb84ccc0",
   "metadata": {},
   "outputs": [
    {
     "data": {
      "text/plain": [
       "(2,)"
      ]
     },
     "execution_count": 42,
     "metadata": {},
     "output_type": "execute_result"
    }
   ],
   "source": [
    "selected_features.shape"
   ]
  },
  {
   "cell_type": "code",
   "execution_count": 43,
   "id": "b3c3b0ee-d5e7-4526-8fa3-5d426b806e16",
   "metadata": {},
   "outputs": [
    {
     "data": {
      "text/plain": [
       "array(['TAVCD', 'TANCRATIOD'], dtype='<U17')"
      ]
     },
     "execution_count": 43,
     "metadata": {},
     "output_type": "execute_result"
    }
   ],
   "source": [
    "selected_features"
   ]
  },
  {
   "cell_type": "code",
   "execution_count": 37,
   "id": "39e6d733-7ea8-45a7-9f19-bb53a590d285",
   "metadata": {},
   "outputs": [],
   "source": [
    "X_selected = X[['TAVCD', 'TANCRATIOD']]"
   ]
  },
  {
   "cell_type": "code",
   "execution_count": 38,
   "id": "74f56e74-2e5f-43a8-a6dd-93bc479d4305",
   "metadata": {},
   "outputs": [],
   "source": [
    "features_selected = np.array(X_selected)"
   ]
  },
  {
   "cell_type": "code",
   "execution_count": null,
   "id": "fbcc1769-d555-4381-b409-3757e20de4ae",
   "metadata": {},
   "outputs": [],
   "source": []
  },
  {
   "cell_type": "code",
   "execution_count": 39,
   "id": "b9b6772a-2893-4dc4-9c8a-e91fc05f8958",
   "metadata": {},
   "outputs": [],
   "source": [
    "from sklearn.model_selection import RandomizedSearchCV\n",
    "\n",
    "# Number of trees in random forest\n",
    "n_estimators = [int(x) for x in np.linspace(start = 200, stop = 2000, num = 10)]\n",
    "# Number of features to consider at every split\n",
    "max_features = ['auto', 'sqrt']\n",
    "# Maximum number of levels in tree\n",
    "max_depth = [int(x) for x in np.linspace(10, 110, num = 11)]\n",
    "max_depth.append(None)\n",
    "# Minimum number of samples required to split a node\n",
    "min_samples_split = [2, 5, 10]\n",
    "# Minimum number of samples required at each leaf node\n",
    "min_samples_leaf = [1, 2, 4]\n",
    "# Method of selecting samples for training each tree\n",
    "bootstrap = [True, False]\n",
    "\n",
    "# Create the random grid\n",
    "random_grid = {'n_estimators': n_estimators,\n",
    "               'max_features': max_features,\n",
    "               'max_depth': max_depth,\n",
    "               'min_samples_split': min_samples_split,\n",
    "               'min_samples_leaf': min_samples_leaf,\n",
    "               'bootstrap': bootstrap}"
   ]
  },
  {
   "cell_type": "code",
   "execution_count": null,
   "id": "bb62b0af-a40f-4593-bbd7-9aaf4476f34e",
   "metadata": {},
   "outputs": [
    {
     "name": "stdout",
     "output_type": "stream",
     "text": [
      "Fitting 30 folds for each of 100 candidates, totalling 3000 fits\n"
     ]
    }
   ],
   "source": [
    "# Use the random grid to search for best hyperparameters\n",
    "# First create the base model to tune\n",
    "rf = RandomForestClassifier(random_state = 42)\n",
    "# Random search of parameters, using 3 fold cross validation, \n",
    "# search across 100 different combinations, and use all available cores\n",
    "rf_random = RandomizedSearchCV(estimator=rf, param_distributions=random_grid,\n",
    "                              n_iter = 100, scoring='f1_macro', \n",
    "                              cv = cv, verbose=2, random_state=42, n_jobs=-1,\n",
    "                              return_train_score=True)\n",
    "\n",
    "# Fit the random search model\n",
    "rf_random.fit(features_selected, labels);"
   ]
  },
  {
   "cell_type": "code",
   "execution_count": null,
   "id": "53c0eccb-0ea2-440d-aa8f-aa63fcd6474d",
   "metadata": {},
   "outputs": [
    {
     "data": {
      "text/plain": [
       "{'n_estimators': 200,\n",
       " 'min_samples_split': 2,\n",
       " 'min_samples_leaf': 1,\n",
       " 'max_features': 'sqrt',\n",
       " 'max_depth': 50,\n",
       " 'bootstrap': True}"
      ]
     },
     "execution_count": 41,
     "metadata": {},
     "output_type": "execute_result"
    }
   ],
   "source": [
    "rf_random.best_params_"
   ]
  },
  {
   "cell_type": "code",
   "execution_count": null,
   "id": "7439f2b1-92c0-44d4-a8f8-4a94ffabbb13",
   "metadata": {},
   "outputs": [
    {
     "name": "stdout",
     "output_type": "stream",
     "text": [
      "Accuracy: 26.34%.\n"
     ]
    }
   ],
   "source": [
    "\n",
    "base_model = RandomForestClassifier(n_estimators = 10, random_state = 42)\n",
    "base_model.fit(X_selected, labels)\n",
    "base_accuracy = mean(cross_val_score(base_model, features_selected, labels, scoring='f1_macro', cv=cv))\n",
    "print('F1: {:0.2f}.'.format(base_accuracy))"
   ]
  },
  {
   "cell_type": "code",
   "execution_count": null,
   "id": "47aea40c-b4f7-42b5-b3f2-3c3a203f61e7",
   "metadata": {},
   "outputs": [
    {
     "name": "stdout",
     "output_type": "stream",
     "text": [
      "Accuracy: 26.75%.\n"
     ]
    }
   ],
   "source": [
    "\n",
    "best_random = rf_random.best_estimator_\n",
    "random_accuracy = mean(cross_val_score(best_random, features_selected, labels, scoring='f1_macro', cv=cv))\n",
    "print('F1: {:0.2f}.'.format(random_accuracy))"
   ]
  },
  {
   "cell_type": "code",
   "execution_count": null,
   "id": "1117ea8a-c140-4229-8b0a-cf9cbc243dd6",
   "metadata": {},
   "outputs": [
    {
     "name": "stdout",
     "output_type": "stream",
     "text": [
      "Improvement of 1.57%.\n"
     ]
    }
   ],
   "source": [
    "\n",
    "print('Improvement of {:0.2f}%.'.format( 100 * (random_accuracy - base_accuracy) / base_accuracy))"
   ]
  },
  {
   "cell_type": "code",
   "execution_count": null,
   "id": "4e08e300-8376-465b-82b2-9093d8ede606",
   "metadata": {},
   "outputs": [],
   "source": [
    "from sklearn.model_selection import GridSearchCV\n",
    "\n",
    "# Create the parameter grid based on the results of random search \n",
    "param_grid = {\n",
    "    'bootstrap': [True],\n",
    "    'max_depth': [40, 50, 60, 70],\n",
    "    'max_features': ['sqrt', 'auto'],\n",
    "    'min_samples_leaf': [1, 2, 3],\n",
    "    'min_samples_split': [1, 2, 3],\n",
    "    'n_estimators': [100, 200, 300, 400]\n",
    "}\n",
    "\n",
    "# Create a base model\n",
    "rf = RandomForestClassifier(random_state = 42)\n",
    "\n",
    "# Instantiate the grid search model\n",
    "grid_search = GridSearchCV(estimator = rf, param_grid = param_grid, \n",
    "                          cv = cv, n_jobs = -1, verbose = 2, return_train_score=True)"
   ]
  },
  {
   "cell_type": "code",
   "execution_count": null,
   "id": "db69ca38-5350-486b-8381-03ec857a011b",
   "metadata": {},
   "outputs": [
    {
     "name": "stdout",
     "output_type": "stream",
     "text": [
      "Fitting 30 folds for each of 288 candidates, totalling 8640 fits\n"
     ]
    },
    {
     "name": "stderr",
     "output_type": "stream",
     "text": [
      "C:\\ProgramData\\Anaconda3\\lib\\site-packages\\sklearn\\model_selection\\_search.py:922: UserWarning: One or more of the test scores are non-finite: [       nan        nan        nan        nan 0.26303694 0.26752577\n",
      " 0.26442583 0.26510954 0.26647337 0.26991337 0.26924041 0.27061856\n",
      "        nan        nan        nan        nan 0.26407145 0.26926188\n",
      " 0.26476231 0.2654496  0.26407145 0.26926188 0.26476231 0.2654496\n",
      "        nan        nan        nan        nan 0.27062572 0.26922967\n",
      " 0.26921535 0.26958763 0.27062572 0.26922967 0.26921535 0.26958763\n",
      "        nan        nan        nan        nan 0.26303694 0.26752577\n",
      " 0.26442583 0.26510954 0.26647337 0.26991337 0.26924041 0.27061856\n",
      "        nan        nan        nan        nan 0.26407145 0.26926188\n",
      " 0.26476231 0.2654496  0.26407145 0.26926188 0.26476231 0.2654496\n",
      "        nan        nan        nan        nan 0.27062572 0.26922967\n",
      " 0.26921535 0.26958763 0.27062572 0.26922967 0.26921535 0.26958763\n",
      "        nan        nan        nan        nan 0.26338058 0.26752577\n",
      " 0.26442583 0.26476589 0.26681701 0.26991337 0.26924041 0.27061856\n",
      "        nan        nan        nan        nan 0.26407145 0.26926188\n",
      " 0.26476231 0.2654496  0.26407145 0.26926188 0.26476231 0.2654496\n",
      "        nan        nan        nan        nan 0.27062572 0.26922967\n",
      " 0.26921535 0.26958763 0.27062572 0.26922967 0.26921535 0.26958763\n",
      "        nan        nan        nan        nan 0.26338058 0.26752577\n",
      " 0.26442583 0.26476589 0.26681701 0.26991337 0.26924041 0.27061856\n",
      "        nan        nan        nan        nan 0.26407145 0.26926188\n",
      " 0.26476231 0.2654496  0.26407145 0.26926188 0.26476231 0.2654496\n",
      "        nan        nan        nan        nan 0.27062572 0.26922967\n",
      " 0.26921535 0.26958763 0.27062572 0.26922967 0.26921535 0.26958763\n",
      "        nan        nan        nan        nan 0.26338058 0.26752577\n",
      " 0.26442583 0.26476589 0.26681701 0.26991337 0.26924041 0.27061856\n",
      "        nan        nan        nan        nan 0.26407145 0.26926188\n",
      " 0.26476231 0.2654496  0.26407145 0.26926188 0.26476231 0.2654496\n",
      "        nan        nan        nan        nan 0.27062572 0.26922967\n",
      " 0.26921535 0.26958763 0.27062572 0.26922967 0.26921535 0.26958763\n",
      "        nan        nan        nan        nan 0.26338058 0.26752577\n",
      " 0.26442583 0.26476589 0.26681701 0.26991337 0.26924041 0.27061856\n",
      "        nan        nan        nan        nan 0.26407145 0.26926188\n",
      " 0.26476231 0.2654496  0.26407145 0.26926188 0.26476231 0.2654496\n",
      "        nan        nan        nan        nan 0.27062572 0.26922967\n",
      " 0.26921535 0.26958763 0.27062572 0.26922967 0.26921535 0.26958763\n",
      "        nan        nan        nan        nan 0.26338058 0.26752577\n",
      " 0.26442583 0.26476589 0.26681701 0.26991337 0.26924041 0.27061856\n",
      "        nan        nan        nan        nan 0.26407145 0.26926188\n",
      " 0.26476231 0.2654496  0.26407145 0.26926188 0.26476231 0.2654496\n",
      "        nan        nan        nan        nan 0.27062572 0.26922967\n",
      " 0.26921535 0.26958763 0.27062572 0.26922967 0.26921535 0.26958763\n",
      "        nan        nan        nan        nan 0.26338058 0.26752577\n",
      " 0.26442583 0.26476589 0.26681701 0.26991337 0.26924041 0.27061856\n",
      "        nan        nan        nan        nan 0.26407145 0.26926188\n",
      " 0.26476231 0.2654496  0.26407145 0.26926188 0.26476231 0.2654496\n",
      "        nan        nan        nan        nan 0.27062572 0.26922967\n",
      " 0.26921535 0.26958763 0.27062572 0.26922967 0.26921535 0.26958763]\n",
      "  warnings.warn(\n",
      "C:\\ProgramData\\Anaconda3\\lib\\site-packages\\sklearn\\model_selection\\_search.py:922: UserWarning: One or more of the train scores are non-finite: [       nan        nan        nan        nan 0.99586361 0.99586361\n",
      " 0.99586361 0.99586361 0.9949826  0.99578702 0.99582529 0.99586361\n",
      "        nan        nan        nan        nan 0.91650532 0.92355314\n",
      " 0.92638655 0.92665466 0.91650532 0.92355314 0.92638655 0.92665466\n",
      "        nan        nan        nan        nan 0.76996463 0.78022975\n",
      " 0.78122583 0.7804599  0.76996463 0.78022975 0.78122583 0.7804599\n",
      "        nan        nan        nan        nan 0.99586361 0.99586361\n",
      " 0.99586361 0.99586361 0.9949826  0.99578702 0.99582529 0.99586361\n",
      "        nan        nan        nan        nan 0.91650532 0.92355314\n",
      " 0.92638655 0.92665466 0.91650532 0.92355314 0.92638655 0.92665466\n",
      "        nan        nan        nan        nan 0.76996463 0.78022975\n",
      " 0.78122583 0.7804599  0.76996463 0.78022975 0.78122583 0.7804599\n",
      "        nan        nan        nan        nan 0.99586361 0.99586361\n",
      " 0.99586361 0.99586361 0.9949826  0.99578702 0.99582529 0.99586361\n",
      "        nan        nan        nan        nan 0.91650532 0.92355314\n",
      " 0.92638655 0.92665466 0.91650532 0.92355314 0.92638655 0.92665466\n",
      "        nan        nan        nan        nan 0.76996463 0.78022975\n",
      " 0.78122583 0.7804599  0.76996463 0.78022975 0.78122583 0.7804599\n",
      "        nan        nan        nan        nan 0.99586361 0.99586361\n",
      " 0.99586361 0.99586361 0.9949826  0.99578702 0.99582529 0.99586361\n",
      "        nan        nan        nan        nan 0.91650532 0.92355314\n",
      " 0.92638655 0.92665466 0.91650532 0.92355314 0.92638655 0.92665466\n",
      "        nan        nan        nan        nan 0.76996463 0.78022975\n",
      " 0.78122583 0.7804599  0.76996463 0.78022975 0.78122583 0.7804599\n",
      "        nan        nan        nan        nan 0.99586361 0.99586361\n",
      " 0.99586361 0.99586361 0.9949826  0.99578702 0.99582529 0.99586361\n",
      "        nan        nan        nan        nan 0.91650532 0.92355314\n",
      " 0.92638655 0.92665466 0.91650532 0.92355314 0.92638655 0.92665466\n",
      "        nan        nan        nan        nan 0.76996463 0.78022975\n",
      " 0.78122583 0.7804599  0.76996463 0.78022975 0.78122583 0.7804599\n",
      "        nan        nan        nan        nan 0.99586361 0.99586361\n",
      " 0.99586361 0.99586361 0.9949826  0.99578702 0.99582529 0.99586361\n",
      "        nan        nan        nan        nan 0.91650532 0.92355314\n",
      " 0.92638655 0.92665466 0.91650532 0.92355314 0.92638655 0.92665466\n",
      "        nan        nan        nan        nan 0.76996463 0.78022975\n",
      " 0.78122583 0.7804599  0.76996463 0.78022975 0.78122583 0.7804599\n",
      "        nan        nan        nan        nan 0.99586361 0.99586361\n",
      " 0.99586361 0.99586361 0.9949826  0.99578702 0.99582529 0.99586361\n",
      "        nan        nan        nan        nan 0.91650532 0.92355314\n",
      " 0.92638655 0.92665466 0.91650532 0.92355314 0.92638655 0.92665466\n",
      "        nan        nan        nan        nan 0.76996463 0.78022975\n",
      " 0.78122583 0.7804599  0.76996463 0.78022975 0.78122583 0.7804599\n",
      "        nan        nan        nan        nan 0.99586361 0.99586361\n",
      " 0.99586361 0.99586361 0.9949826  0.99578702 0.99582529 0.99586361\n",
      "        nan        nan        nan        nan 0.91650532 0.92355314\n",
      " 0.92638655 0.92665466 0.91650532 0.92355314 0.92638655 0.92665466\n",
      "        nan        nan        nan        nan 0.76996463 0.78022975\n",
      " 0.78122583 0.7804599  0.76996463 0.78022975 0.78122583 0.7804599 ]\n",
      "  warnings.warn(\n"
     ]
    }
   ],
   "source": [
    "# Fit the grid search to the data\n",
    "grid_search.fit(features_selected, labels);"
   ]
  },
  {
   "cell_type": "code",
   "execution_count": null,
   "id": "fc661563-5710-4525-a72f-df0d9059cc37",
   "metadata": {},
   "outputs": [
    {
     "data": {
      "text/plain": [
       "{'bootstrap': True,\n",
       " 'max_depth': 40,\n",
       " 'max_features': 'sqrt',\n",
       " 'min_samples_leaf': 3,\n",
       " 'min_samples_split': 2,\n",
       " 'n_estimators': 100}"
      ]
     },
     "execution_count": 47,
     "metadata": {},
     "output_type": "execute_result"
    }
   ],
   "source": [
    "grid_search.best_params_"
   ]
  },
  {
   "cell_type": "code",
   "execution_count": null,
   "id": "50b20c66-d2ac-401a-aee7-96c8103fe02d",
   "metadata": {},
   "outputs": [
    {
     "name": "stdout",
     "output_type": "stream",
     "text": [
      "Accuracy: 27.06%.\n"
     ]
    }
   ],
   "source": [
    "best_grid = grid_search.best_estimator_\n",
    "grid_accuracy = mean(cross_val_score(best_grid, features_selected, labels, scoring='accuracy', cv=cv)) * 100\n",
    "print('Accuracy: {:0.2f}%.'.format(grid_accuracy))"
   ]
  },
  {
   "cell_type": "code",
   "execution_count": null,
   "id": "a9e34ad4-725d-43a9-a718-181eb214bb95",
   "metadata": {},
   "outputs": [
    {
     "name": "stdout",
     "output_type": "stream",
     "text": [
      "Improvement of 2.75%.\n"
     ]
    }
   ],
   "source": [
    "print('Improvement of {:0.2f}%.'.format( 100 * (grid_accuracy - base_accuracy) / base_accuracy))"
   ]
  },
  {
   "cell_type": "code",
   "execution_count": null,
   "id": "752fa3ed-5381-44e7-8859-99895b1ae58c",
   "metadata": {},
   "outputs": [],
   "source": [
    "{'n_estimators': 400,\n",
    " 'min_samples_split': 2,\n",
    " 'min_samples_leaf': 4,\n",
    " 'max_features': 'sqrt',\n",
    " 'max_depth': 10,\n",
    " 'bootstrap': True}"
   ]
  },
  {
   "cell_type": "code",
   "execution_count": 162,
   "id": "c806e86e-4f4f-459d-85b1-c76a9d7c2760",
   "metadata": {},
   "outputs": [],
   "source": [
    "rf_final = RandomForestClassifier(n_estimators = 400, min_samples_split = 2, min_samples_leaf = 4, max_features = 'sqrt', max_depth = 10, bootstrap = True)"
   ]
  },
  {
   "cell_type": "code",
   "execution_count": null,
   "id": "8164ed4e-fd07-470c-b579-9f3684cbaa7a",
   "metadata": {},
   "outputs": [],
   "source": []
  },
  {
   "cell_type": "code",
   "execution_count": 95,
   "id": "6435f904-7307-4d38-a1c3-351fc19f8c53",
   "metadata": {},
   "outputs": [
    {
     "data": {
      "text/plain": [
       "array([26.80412371, 26.80412371, 30.92783505, 26.80412371, 30.92783505,\n",
       "       28.86597938, 31.95876289, 29.16666667, 25.        , 31.25      ,\n",
       "       28.86597938, 27.83505155, 31.95876289, 32.98969072, 29.89690722,\n",
       "       26.80412371, 25.77319588, 32.29166667, 26.04166667, 26.04166667,\n",
       "       24.74226804, 23.71134021, 29.89690722, 28.86597938, 34.02061856,\n",
       "       28.86597938, 30.92783505, 29.16666667, 26.04166667, 31.25      ])"
      ]
     },
     "execution_count": 95,
     "metadata": {},
     "output_type": "execute_result"
    }
   ],
   "source": [
    "accuracy = cross_val_score(rf_final, features_selected, labels, scoring='accuracy', cv=cv) * 100\n",
    "accuracy"
   ]
  },
  {
   "cell_type": "code",
   "execution_count": 96,
   "id": "8a3656d9-1796-485d-ba4d-c8c4cdfa4cbc",
   "metadata": {},
   "outputs": [
    {
     "name": "stdout",
     "output_type": "stream",
     "text": [
      "Mean: 28.816581\n",
      "SD: 2.651288\n",
      "Max: 34.020619\n",
      "Min: 23.711340\n"
     ]
    }
   ],
   "source": [
    "print(\"Mean: %f\" % mean(accuracy))\n",
    "print(\"SD: %f\" % std(accuracy))\n",
    "print(\"Max: %f\" % amax(accuracy))\n",
    "print(\"Min: %f\" % amin(accuracy))"
   ]
  },
  {
   "cell_type": "code",
   "execution_count": 109,
   "id": "43250092-2d96-4ac5-82a8-f6cc62c55da0",
   "metadata": {},
   "outputs": [
    {
     "name": "stderr",
     "output_type": "stream",
     "text": [
      "C:\\ProgramData\\Anaconda3\\lib\\site-packages\\sklearn\\metrics\\_classification.py:1248: UndefinedMetricWarning: Precision is ill-defined and being set to 0.0 in labels with no predicted samples. Use `zero_division` parameter to control this behavior.\n",
      "  _warn_prf(average, modifier, msg_start, len(result))\n",
      "C:\\ProgramData\\Anaconda3\\lib\\site-packages\\sklearn\\metrics\\_classification.py:1248: UndefinedMetricWarning: Precision is ill-defined and being set to 0.0 in labels with no predicted samples. Use `zero_division` parameter to control this behavior.\n",
      "  _warn_prf(average, modifier, msg_start, len(result))\n",
      "C:\\ProgramData\\Anaconda3\\lib\\site-packages\\sklearn\\metrics\\_classification.py:1248: UndefinedMetricWarning: Precision is ill-defined and being set to 0.0 in labels with no predicted samples. Use `zero_division` parameter to control this behavior.\n",
      "  _warn_prf(average, modifier, msg_start, len(result))\n",
      "C:\\ProgramData\\Anaconda3\\lib\\site-packages\\sklearn\\metrics\\_classification.py:1248: UndefinedMetricWarning: Precision is ill-defined and being set to 0.0 in labels with no predicted samples. Use `zero_division` parameter to control this behavior.\n",
      "  _warn_prf(average, modifier, msg_start, len(result))\n",
      "C:\\ProgramData\\Anaconda3\\lib\\site-packages\\sklearn\\metrics\\_classification.py:1248: UndefinedMetricWarning: Precision is ill-defined and being set to 0.0 in labels with no predicted samples. Use `zero_division` parameter to control this behavior.\n",
      "  _warn_prf(average, modifier, msg_start, len(result))\n",
      "C:\\ProgramData\\Anaconda3\\lib\\site-packages\\sklearn\\metrics\\_classification.py:1248: UndefinedMetricWarning: Precision is ill-defined and being set to 0.0 in labels with no predicted samples. Use `zero_division` parameter to control this behavior.\n",
      "  _warn_prf(average, modifier, msg_start, len(result))\n",
      "C:\\ProgramData\\Anaconda3\\lib\\site-packages\\sklearn\\metrics\\_classification.py:1248: UndefinedMetricWarning: Precision is ill-defined and being set to 0.0 in labels with no predicted samples. Use `zero_division` parameter to control this behavior.\n",
      "  _warn_prf(average, modifier, msg_start, len(result))\n",
      "C:\\ProgramData\\Anaconda3\\lib\\site-packages\\sklearn\\metrics\\_classification.py:1248: UndefinedMetricWarning: Precision is ill-defined and being set to 0.0 in labels with no predicted samples. Use `zero_division` parameter to control this behavior.\n",
      "  _warn_prf(average, modifier, msg_start, len(result))\n",
      "C:\\ProgramData\\Anaconda3\\lib\\site-packages\\sklearn\\metrics\\_classification.py:1248: UndefinedMetricWarning: Precision is ill-defined and being set to 0.0 in labels with no predicted samples. Use `zero_division` parameter to control this behavior.\n",
      "  _warn_prf(average, modifier, msg_start, len(result))\n",
      "C:\\ProgramData\\Anaconda3\\lib\\site-packages\\sklearn\\metrics\\_classification.py:1248: UndefinedMetricWarning: Precision is ill-defined and being set to 0.0 in labels with no predicted samples. Use `zero_division` parameter to control this behavior.\n",
      "  _warn_prf(average, modifier, msg_start, len(result))\n",
      "C:\\ProgramData\\Anaconda3\\lib\\site-packages\\sklearn\\metrics\\_classification.py:1248: UndefinedMetricWarning: Precision is ill-defined and being set to 0.0 in labels with no predicted samples. Use `zero_division` parameter to control this behavior.\n",
      "  _warn_prf(average, modifier, msg_start, len(result))\n",
      "C:\\ProgramData\\Anaconda3\\lib\\site-packages\\sklearn\\metrics\\_classification.py:1248: UndefinedMetricWarning: Precision is ill-defined and being set to 0.0 in labels with no predicted samples. Use `zero_division` parameter to control this behavior.\n",
      "  _warn_prf(average, modifier, msg_start, len(result))\n",
      "C:\\ProgramData\\Anaconda3\\lib\\site-packages\\sklearn\\metrics\\_classification.py:1248: UndefinedMetricWarning: Precision is ill-defined and being set to 0.0 in labels with no predicted samples. Use `zero_division` parameter to control this behavior.\n",
      "  _warn_prf(average, modifier, msg_start, len(result))\n",
      "C:\\ProgramData\\Anaconda3\\lib\\site-packages\\sklearn\\metrics\\_classification.py:1248: UndefinedMetricWarning: Precision is ill-defined and being set to 0.0 in labels with no predicted samples. Use `zero_division` parameter to control this behavior.\n",
      "  _warn_prf(average, modifier, msg_start, len(result))\n",
      "C:\\ProgramData\\Anaconda3\\lib\\site-packages\\sklearn\\metrics\\_classification.py:1248: UndefinedMetricWarning: Precision is ill-defined and being set to 0.0 in labels with no predicted samples. Use `zero_division` parameter to control this behavior.\n",
      "  _warn_prf(average, modifier, msg_start, len(result))\n",
      "C:\\ProgramData\\Anaconda3\\lib\\site-packages\\sklearn\\metrics\\_classification.py:1248: UndefinedMetricWarning: Precision is ill-defined and being set to 0.0 in labels with no predicted samples. Use `zero_division` parameter to control this behavior.\n",
      "  _warn_prf(average, modifier, msg_start, len(result))\n",
      "C:\\ProgramData\\Anaconda3\\lib\\site-packages\\sklearn\\metrics\\_classification.py:1248: UndefinedMetricWarning: Precision is ill-defined and being set to 0.0 in labels with no predicted samples. Use `zero_division` parameter to control this behavior.\n",
      "  _warn_prf(average, modifier, msg_start, len(result))\n",
      "C:\\ProgramData\\Anaconda3\\lib\\site-packages\\sklearn\\metrics\\_classification.py:1248: UndefinedMetricWarning: Precision is ill-defined and being set to 0.0 in labels with no predicted samples. Use `zero_division` parameter to control this behavior.\n",
      "  _warn_prf(average, modifier, msg_start, len(result))\n",
      "C:\\ProgramData\\Anaconda3\\lib\\site-packages\\sklearn\\metrics\\_classification.py:1248: UndefinedMetricWarning: Precision is ill-defined and being set to 0.0 in labels with no predicted samples. Use `zero_division` parameter to control this behavior.\n",
      "  _warn_prf(average, modifier, msg_start, len(result))\n",
      "C:\\ProgramData\\Anaconda3\\lib\\site-packages\\sklearn\\metrics\\_classification.py:1248: UndefinedMetricWarning: Precision is ill-defined and being set to 0.0 in labels with no predicted samples. Use `zero_division` parameter to control this behavior.\n",
      "  _warn_prf(average, modifier, msg_start, len(result))\n",
      "C:\\ProgramData\\Anaconda3\\lib\\site-packages\\sklearn\\metrics\\_classification.py:1248: UndefinedMetricWarning: Precision is ill-defined and being set to 0.0 in labels with no predicted samples. Use `zero_division` parameter to control this behavior.\n",
      "  _warn_prf(average, modifier, msg_start, len(result))\n",
      "C:\\ProgramData\\Anaconda3\\lib\\site-packages\\sklearn\\metrics\\_classification.py:1248: UndefinedMetricWarning: Precision is ill-defined and being set to 0.0 in labels with no predicted samples. Use `zero_division` parameter to control this behavior.\n",
      "  _warn_prf(average, modifier, msg_start, len(result))\n",
      "C:\\ProgramData\\Anaconda3\\lib\\site-packages\\sklearn\\metrics\\_classification.py:1248: UndefinedMetricWarning: Precision is ill-defined and being set to 0.0 in labels with no predicted samples. Use `zero_division` parameter to control this behavior.\n",
      "  _warn_prf(average, modifier, msg_start, len(result))\n",
      "C:\\ProgramData\\Anaconda3\\lib\\site-packages\\sklearn\\metrics\\_classification.py:1248: UndefinedMetricWarning: Precision is ill-defined and being set to 0.0 in labels with no predicted samples. Use `zero_division` parameter to control this behavior.\n",
      "  _warn_prf(average, modifier, msg_start, len(result))\n",
      "C:\\ProgramData\\Anaconda3\\lib\\site-packages\\sklearn\\metrics\\_classification.py:1248: UndefinedMetricWarning: Precision is ill-defined and being set to 0.0 in labels with no predicted samples. Use `zero_division` parameter to control this behavior.\n",
      "  _warn_prf(average, modifier, msg_start, len(result))\n",
      "C:\\ProgramData\\Anaconda3\\lib\\site-packages\\sklearn\\metrics\\_classification.py:1248: UndefinedMetricWarning: Precision is ill-defined and being set to 0.0 in labels with no predicted samples. Use `zero_division` parameter to control this behavior.\n",
      "  _warn_prf(average, modifier, msg_start, len(result))\n",
      "C:\\ProgramData\\Anaconda3\\lib\\site-packages\\sklearn\\metrics\\_classification.py:1248: UndefinedMetricWarning: Precision is ill-defined and being set to 0.0 in labels with no predicted samples. Use `zero_division` parameter to control this behavior.\n",
      "  _warn_prf(average, modifier, msg_start, len(result))\n",
      "C:\\ProgramData\\Anaconda3\\lib\\site-packages\\sklearn\\metrics\\_classification.py:1248: UndefinedMetricWarning: Precision is ill-defined and being set to 0.0 in labels with no predicted samples. Use `zero_division` parameter to control this behavior.\n",
      "  _warn_prf(average, modifier, msg_start, len(result))\n",
      "C:\\ProgramData\\Anaconda3\\lib\\site-packages\\sklearn\\metrics\\_classification.py:1248: UndefinedMetricWarning: Precision is ill-defined and being set to 0.0 in labels with no predicted samples. Use `zero_division` parameter to control this behavior.\n",
      "  _warn_prf(average, modifier, msg_start, len(result))\n",
      "C:\\ProgramData\\Anaconda3\\lib\\site-packages\\sklearn\\metrics\\_classification.py:1248: UndefinedMetricWarning: Precision is ill-defined and being set to 0.0 in labels with no predicted samples. Use `zero_division` parameter to control this behavior.\n",
      "  _warn_prf(average, modifier, msg_start, len(result))\n"
     ]
    },
    {
     "data": {
      "text/plain": [
       "array([0.08513612, 0.10684524, 0.16395789, 0.14830598, 0.20255997,\n",
       "       0.15330261, 0.17664835, 0.19226795, 0.10431706, 0.17955205,\n",
       "       0.11376059, 0.09115591, 0.19749317, 0.16641065, 0.13513605,\n",
       "       0.17176871, 0.11853378, 0.13097403, 0.10802094, 0.0920241 ,\n",
       "       0.08990385, 0.10178361, 0.15064815, 0.12931839, 0.15497159,\n",
       "       0.15189951, 0.15984016, 0.17643942, 0.1451596 , 0.15426587])"
      ]
     },
     "execution_count": 109,
     "metadata": {},
     "output_type": "execute_result"
    }
   ],
   "source": [
    "precision = cross_val_score(rf_final, features_selected, labels, scoring='precision_macro', cv=cv)\n",
    "precision"
   ]
  },
  {
   "cell_type": "code",
   "execution_count": 110,
   "id": "8b66753f-114e-4b3b-8cde-f8e887305712",
   "metadata": {},
   "outputs": [
    {
     "name": "stdout",
     "output_type": "stream",
     "text": [
      "Mean: 0.141747\n",
      "SD: 0.033742\n",
      "Max: 0.202560\n",
      "Min: 0.085136\n"
     ]
    }
   ],
   "source": [
    "print(\"Mean: %f\" % mean(precision))\n",
    "print(\"SD: %f\" % std(precision))\n",
    "print(\"Max: %f\" % amax(precision))\n",
    "print(\"Min: %f\" % amin(precision))"
   ]
  },
  {
   "cell_type": "code",
   "execution_count": 111,
   "id": "ced561bf-a00a-4c3a-8cd2-1b35cc697b86",
   "metadata": {},
   "outputs": [
    {
     "data": {
      "text/plain": [
       "array([0.10603448, 0.12765457, 0.16797849, 0.15507519, 0.17526455,\n",
       "       0.16116237, 0.14733483, 0.15923263, 0.14649471, 0.14717476,\n",
       "       0.13571429, 0.14327485, 0.16113268, 0.19081267, 0.16648685,\n",
       "       0.16536755, 0.14085526, 0.14555445, 0.13092622, 0.14474268,\n",
       "       0.11839827, 0.10752924, 0.17314005, 0.1443609 , 0.17576544,\n",
       "       0.13333333, 0.11848073, 0.16130952, 0.14041614, 0.21165242])"
      ]
     },
     "execution_count": 111,
     "metadata": {},
     "output_type": "execute_result"
    }
   ],
   "source": [
    "recall = cross_val_score(rf_final, features_selected, labels, scoring='recall_macro', cv=cv)\n",
    "recall"
   ]
  },
  {
   "cell_type": "code",
   "execution_count": 112,
   "id": "81a2714f-6271-4b63-aa99-61bf372f301e",
   "metadata": {},
   "outputs": [
    {
     "name": "stdout",
     "output_type": "stream",
     "text": [
      "Mean: 0.150089\n",
      "SD: 0.023111\n",
      "Max: 0.211652\n",
      "Min: 0.106034\n"
     ]
    }
   ],
   "source": [
    "print(\"Mean: %f\" % mean(recall))\n",
    "print(\"SD: %f\" % std(recall))\n",
    "print(\"Max: %f\" % amax(recall))\n",
    "print(\"Min: %f\" % amin(recall))"
   ]
  },
  {
   "cell_type": "code",
   "execution_count": 113,
   "id": "07573ca3-0ddc-43f0-b570-6cff47967983",
   "metadata": {},
   "outputs": [
    {
     "data": {
      "text/plain": [
       "array([0.10264279, 0.09998522, 0.15022676, 0.14978007, 0.17529213,\n",
       "       0.12597403, 0.13861259, 0.16045648, 0.11494194, 0.14441372,\n",
       "       0.12501198, 0.09810643, 0.14906656, 0.16138603, 0.15131109,\n",
       "       0.13973589, 0.11298077, 0.14346906, 0.11590634, 0.09710119,\n",
       "       0.09450634, 0.10661242, 0.14423211, 0.10311832, 0.14337587,\n",
       "       0.12609153, 0.13488604, 0.14401639, 0.13088368, 0.15231884])"
      ]
     },
     "execution_count": 113,
     "metadata": {},
     "output_type": "execute_result"
    }
   ],
   "source": [
    "f1 = cross_val_score(rf_final, features_selected, labels, scoring='f1_macro', cv=cv)\n",
    "f1"
   ]
  },
  {
   "cell_type": "code",
   "execution_count": 114,
   "id": "a12d6ea3-cf60-4bb7-b623-94587eddab24",
   "metadata": {},
   "outputs": [
    {
     "name": "stdout",
     "output_type": "stream",
     "text": [
      "Mean: 0.131215\n",
      "SD: 0.021792\n",
      "Max: 0.175292\n",
      "Min: 0.094506\n"
     ]
    }
   ],
   "source": [
    "print(\"Mean: %f\" % mean(f1))\n",
    "print(\"SD: %f\" % std(f1))\n",
    "print(\"Max: %f\" % amax(f1))\n",
    "print(\"Min: %f\" % amin(f1))"
   ]
  },
  {
   "cell_type": "code",
   "execution_count": 120,
   "id": "7b947cd3-6510-414d-9bf1-e6b909e222bc",
   "metadata": {},
   "outputs": [
    {
     "data": {
      "text/plain": [
       "array([0.05960172, 0.06364107, 0.08692377, 0.08757679, 0.09259362,\n",
       "       0.08448191, 0.08386654, 0.09579627, 0.06800977, 0.0865292 ,\n",
       "       0.06656133, 0.06210956, 0.08230632, 0.10675277, 0.09686789,\n",
       "       0.08440057, 0.06842849, 0.08116265, 0.07141747, 0.05739921,\n",
       "       0.05407197, 0.06018346, 0.08573578, 0.06763285, 0.09450163,\n",
       "       0.07607483, 0.07444842, 0.07623919, 0.06885537, 0.10596258])"
      ]
     },
     "execution_count": 120,
     "metadata": {},
     "output_type": "execute_result"
    }
   ],
   "source": [
    "jaccard = cross_val_score(rf_final, features_selected, labels, scoring='jaccard_macro', cv=cv)\n",
    "jaccard"
   ]
  },
  {
   "cell_type": "code",
   "execution_count": 121,
   "id": "043cf6a7-44a9-4923-85b0-1c4a5bfdaee3",
   "metadata": {},
   "outputs": [
    {
     "name": "stdout",
     "output_type": "stream",
     "text": [
      "Mean: 0.078338\n",
      "SD: 0.014025\n",
      "Max: 0.106753\n",
      "Min: 0.054072\n"
     ]
    }
   ],
   "source": [
    "print(\"Mean: %f\" % mean(jaccard))\n",
    "print(\"SD: %f\" % std(jaccard))\n",
    "print(\"Max: %f\" % amax(jaccard))\n",
    "print(\"Min: %f\" % amin(jaccard))"
   ]
  },
  {
   "cell_type": "code",
   "execution_count": null,
   "id": "caca56ed-3cb1-4761-9b64-f119308ecfb5",
   "metadata": {},
   "outputs": [],
   "source": []
  },
  {
   "cell_type": "code",
   "execution_count": 163,
   "id": "8f06df14-5027-4369-b044-cad908c7415e",
   "metadata": {},
   "outputs": [],
   "source": [
    "feature_importances = []"
   ]
  },
  {
   "cell_type": "code",
   "execution_count": 164,
   "id": "1de53847-6fb6-4f2d-9b94-4d70b1a765fc",
   "metadata": {},
   "outputs": [],
   "source": [
    "feature_list_selected = list(X_selected.columns)"
   ]
  },
  {
   "cell_type": "code",
   "execution_count": 165,
   "id": "cc6c0948-175e-4ac1-a388-0dec894972e8",
   "metadata": {},
   "outputs": [],
   "source": [
    "for i in range(len(feature_list_selected)):\n",
    "    feature_importances.append([])"
   ]
  },
  {
   "cell_type": "code",
   "execution_count": 166,
   "id": "384fcc82-4ffb-400f-813e-a74c03273aad",
   "metadata": {},
   "outputs": [],
   "source": [
    "for train_index , test_index in cv.split(X_selected):\n",
    "    X_train , X_test = X_selected.iloc[train_index,:],X_selected.iloc[test_index,:]\n",
    "    y_train , y_test = labels[train_index] , labels[test_index]\n",
    "     \n",
    "    rf_final.fit(X_train,y_train)\n",
    "    pred_values = rf_final.predict(X_test)\n",
    "    \n",
    "    importances = list(rf_final.feature_importances_)\n",
    "     \n",
    "    for i in range(len(importances)):\n",
    "        feature_importances[i].append(importances[i])"
   ]
  },
  {
   "cell_type": "code",
   "execution_count": 167,
   "id": "b6830e8f-c29f-4422-8c2b-74db835ea359",
   "metadata": {},
   "outputs": [],
   "source": [
    "mean_feature_importances = []\n",
    "for importances in feature_importances:\n",
    "    mean_feature_importances.append(mean(importances))"
   ]
  },
  {
   "cell_type": "code",
   "execution_count": 168,
   "id": "41d708e5-2c35-4fcf-ba54-0c148561b3d8",
   "metadata": {},
   "outputs": [
    {
     "name": "stdout",
     "output_type": "stream",
     "text": [
      "Variable: TANCRATIOD           Importance: 0.5053\n",
      "Variable: TAVCD                Importance: 0.4947\n"
     ]
    }
   ],
   "source": [
    "# List of tuples with variable and importance\n",
    "feature_importances_tuples = [(feature, round(importance, 5)) for feature, importance in zip(feature_list_selected, mean_feature_importances)]\n",
    "# Sort the feature importances by most important first\n",
    "feature_importances_tuples = sorted(feature_importances_tuples, key = lambda x: x[1], reverse = True)\n",
    "# Print out the feature and importances \n",
    "[print('Variable: {:20} Importance: {}'.format(*pair)) for pair in feature_importances_tuples];"
   ]
  },
  {
   "cell_type": "code",
   "execution_count": 169,
   "id": "f73a32fd-c807-4451-98a6-81852e5aa6b5",
   "metadata": {},
   "outputs": [],
   "source": [
    "f = [feature for feature, importance in feature_importances_tuples]\n",
    "imp = [importance for feature, importance in feature_importances_tuples]"
   ]
  },
  {
   "cell_type": "code",
   "execution_count": 171,
   "id": "6c85598d-7463-4ed9-990a-e76c857e643a",
   "metadata": {},
   "outputs": [],
   "source": [
    "imp_coef = pd.Series(imp, index = f)\n",
    "imp_coef = imp_coef.iloc[::-1]"
   ]
  },
  {
   "cell_type": "code",
   "execution_count": 172,
   "id": "c96d820e-a791-4435-8278-5af247c60cea",
   "metadata": {},
   "outputs": [
    {
     "data": {
      "text/plain": [
       "TAVCD         0.4947\n",
       "TANCRATIOD    0.5053\n",
       "dtype: float64"
      ]
     },
     "execution_count": 172,
     "metadata": {},
     "output_type": "execute_result"
    }
   ],
   "source": [
    "imp_coef"
   ]
  },
  {
   "cell_type": "code",
   "execution_count": 174,
   "id": "8f735c6a-073e-4ac2-b4e9-f1e038d6e38c",
   "metadata": {},
   "outputs": [
    {
     "data": {
      "image/png": "[encoded data removed]",
      "text/plain": [
       "<Figure size 720x360 with 1 Axes>"
      ]
     },
     "metadata": {},
     "output_type": "display_data"
    }
   ],
   "source": [
    "matplotlib.rcParams['figure.figsize'] = (10.0, 5.0)\n",
    "ax = imp_coef.plot(kind = \"barh\")\n",
    "ax.xaxis.label.set_color('white')\n",
    "ax.yaxis.label.set_color('white')\n",
    "ax.patch.set_alpha(0)\n",
    "\n",
    "ax.tick_params(axis='x', colors='white')\n",
    "ax.tick_params(axis='y', colors='white')\n",
    "\n",
    "ax.spines['left'].set_color('white')\n",
    "ax.spines['top'].set_color('white')\n",
    "ax.spines['right'].set_color('white')\n",
    "ax.spines['bottom'].set_color('white')\n",
    "plt.gcf().subplots_adjust(left=0.25)\n",
    "fig = ax.get_figure()\n",
    "ax.set_facecolor((0.1, 0.1, 0.1))\n",
    "fig.patch.set_facecolor((0.1, 0.1, 0.1))\n",
    "plt.title(label=\"Random Forest Classification Selected Features\",\n",
    "          fontsize=20,\n",
    "          color=\"white\")\n",
    "plt.grid(c='gray')\n",
    "fig.savefig('../../images/rf_classification_features.png', transparent=False)"
   ]
  },
  {
   "cell_type": "code",
   "execution_count": null,
   "id": "3acf61c7-7eda-485f-a17c-5821edafa64f",
   "metadata": {},
   "outputs": [],
   "source": []
  },
  {
   "cell_type": "code",
   "execution_count": 175,
   "id": "b06dfd48-b059-44d3-998a-df64650b79f2",
   "metadata": {},
   "outputs": [],
   "source": [
    "train_features, test_features, train_labels, test_labels = train_test_split(features_selected, labels, test_size = 0.25, random_state = 42)"
   ]
  },
  {
   "cell_type": "code",
   "execution_count": 176,
   "id": "8d562657-3dab-415b-895c-cddfffe36202",
   "metadata": {},
   "outputs": [
    {
     "data": {
      "text/plain": [
       "RandomForestClassifier(max_depth=10, max_features='sqrt', min_samples_leaf=4,\n",
       "                       n_estimators=400)"
      ]
     },
     "execution_count": 176,
     "metadata": {},
     "output_type": "execute_result"
    }
   ],
   "source": [
    "rf_final.fit(train_features, train_labels)"
   ]
  },
  {
   "cell_type": "code",
   "execution_count": 177,
   "id": "55407c1a-9186-4489-a247-8af6f813996e",
   "metadata": {},
   "outputs": [],
   "source": [
    "predictions = rf_final.predict(test_features)"
   ]
  },
  {
   "cell_type": "code",
   "execution_count": 189,
   "id": "f9e927be-ef1f-4487-a085-93e7234d4dd6",
   "metadata": {},
   "outputs": [],
   "source": [
    "test_labels_real = np.array([(label/2) for label in test_labels])\n",
    "predictions_real = np.array([(prediction/2) for prediction in predictions])"
   ]
  },
  {
   "cell_type": "code",
   "execution_count": 190,
   "id": "65e31b3c-d107-4126-bfea-187ad12118d1",
   "metadata": {},
   "outputs": [
    {
     "data": {
      "image/png": "[encoded data removed]",
      "text/plain": [
       "<Figure size 720x720 with 1 Axes>"
      ]
     },
     "metadata": {},
     "output_type": "display_data"
    }
   ],
   "source": [
    "fig = plt.figure(figsize=(10,10))\n",
    "ax = fig.add_subplot(111)\n",
    "ax.scatter(test_labels_real, predictions_real,  color='white', alpha=0.3, s=100)\n",
    "m, b = np.polyfit(test_labels_real, predictions_real, 1)\n",
    "ax.plot(test_labels_real, m*test_labels_real+b, color='red', linewidth=3, label=\"Prediction regression line\")\n",
    "ax.legend()\n",
    "ax.plot(test_labels_real, test_labels_real, color='green', linewidth=3, label=\"Optimal regression line\")\n",
    "ax.legend()\n",
    "plt.xlabel(\"Actual\")\n",
    "plt.ylabel(\"Prediction\")\n",
    "\n",
    "ax.xaxis.label.set_color('white')\n",
    "ax.yaxis.label.set_color('white')\n",
    "\n",
    "ax.tick_params(axis='x', colors='white')\n",
    "ax.tick_params(axis='y', colors='white')\n",
    "\n",
    "ax.spines['left'].set_color('white')\n",
    "ax.spines['top'].set_color('white')\n",
    "ax.spines['right'].set_color('white')\n",
    "ax.spines['bottom'].set_color('white')\n",
    "\n",
    "ax.set_facecolor((0.1, 0.1, 0.1))\n",
    "fig.patch.set_facecolor((0.1, 0.1, 0.1))\n",
    "plt.title(label=\"Random Forest Classification (Prediction vs Actual)\",\n",
    "          fontsize=20,\n",
    "          color=\"white\")\n",
    "plt.grid(c='gray')\n",
    "plt.savefig('../../images/random_forest_classification.png', transparent=False)"
   ]
  },
  {
   "cell_type": "code",
   "execution_count": null,
   "id": "a50c1c17-b052-4499-bddc-4840d0b1b669",
   "metadata": {},
   "outputs": [],
   "source": []
  },
  {
   "cell_type": "code",
   "execution_count": null,
   "id": "8134f6be-035b-46ad-9955-ac89c424d600",
   "metadata": {},
   "outputs": [],
   "source": []
  },
  {
   "cell_type": "code",
   "execution_count": null,
   "id": "1a65d8f0-ba24-47a3-90a7-c9877c811135",
   "metadata": {},
   "outputs": [],
   "source": []
  },
  {
   "cell_type": "code",
   "execution_count": null,
   "id": "3169f7b6-d5af-4f13-aac2-1f6bce58ca78",
   "metadata": {},
   "outputs": [],
   "source": []
  }
 ],
 "metadata": {
  "kernelspec": {
   "display_name": "Python 3 (ipykernel)",
   "language": "python",
   "name": "python3"
  },
  "language_info": {
   "codemirror_mode": {
    "name": "ipython",
    "version": 3
   },
   "file_extension": ".py",
   "mimetype": "text/x-python",
   "name": "python",
   "nbconvert_exporter": "python",
   "pygments_lexer": "ipython3",
   "version": "3.9.7"
  }
 },
 "nbformat": 4,
 "nbformat_minor": 5
}
