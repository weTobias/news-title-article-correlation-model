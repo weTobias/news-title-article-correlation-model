{
 "cells": [
  {
   "cell_type": "code",
   "execution_count": 1,
   "id": "7de18544-e350-4431-a6c7-2db37a167e7b",
   "metadata": {},
   "outputs": [],
   "source": [
    "import pandas as pd"
   ]
  },
  {
   "cell_type": "code",
   "execution_count": 2,
   "id": "99ce8728-a6df-439f-ab40-e327c9d9ae00",
   "metadata": {},
   "outputs": [],
   "source": [
    "import numpy as np"
   ]
  },
  {
   "cell_type": "code",
   "execution_count": 3,
   "id": "c5d3e41b-0399-4a1a-a4cd-97d9de3b8422",
   "metadata": {},
   "outputs": [],
   "source": [
    "import matplotlib"
   ]
  },
  {
   "cell_type": "code",
   "execution_count": 4,
   "id": "d68ce35b-768f-4e3f-985e-f06348070366",
   "metadata": {},
   "outputs": [],
   "source": [
    "import matplotlib.pyplot as plt"
   ]
  },
  {
   "cell_type": "code",
   "execution_count": 5,
   "id": "2d4bf982-0a86-44c2-9401-41a4b9fe4563",
   "metadata": {},
   "outputs": [],
   "source": [
    "import seaborn as sns"
   ]
  },
  {
   "cell_type": "code",
   "execution_count": 6,
   "id": "39e39c10-574c-408d-9b6b-8fd9bba6d1a0",
   "metadata": {},
   "outputs": [],
   "source": [
    "import statsmodels.api as sm"
   ]
  },
  {
   "cell_type": "code",
   "execution_count": 7,
   "id": "af4b882c-5d5a-4e40-b4fb-fa1fc9a94a8d",
   "metadata": {},
   "outputs": [],
   "source": [
    "%matplotlib inline"
   ]
  },
  {
   "cell_type": "code",
   "execution_count": 8,
   "id": "e172ad68-ccfb-4358-a1fb-eaa1b62fc6c5",
   "metadata": {},
   "outputs": [],
   "source": [
    "from sklearn.model_selection import train_test_split"
   ]
  },
  {
   "cell_type": "code",
   "execution_count": 9,
   "id": "b301cb3b-5986-4c30-9519-b1d7bd19f2e6",
   "metadata": {},
   "outputs": [],
   "source": [
    "from sklearn.linear_model import LinearRegression"
   ]
  },
  {
   "cell_type": "code",
   "execution_count": 10,
   "id": "bec8586f-f810-4b59-a3d5-b80813229f62",
   "metadata": {},
   "outputs": [],
   "source": [
    "from sklearn.feature_selection import RFE"
   ]
  },
  {
   "cell_type": "code",
   "execution_count": 11,
   "id": "b043b245-b63b-4ffa-9dfa-83e9ee646dbc",
   "metadata": {},
   "outputs": [],
   "source": [
    "from sklearn.linear_model import RidgeCV, LassoCV, Ridge, Lasso"
   ]
  },
  {
   "cell_type": "code",
   "execution_count": 12,
   "id": "d2028ab3-2000-4312-997e-45f3824ae39e",
   "metadata": {},
   "outputs": [],
   "source": [
    "from sklearn.svm import LinearSVC"
   ]
  },
  {
   "cell_type": "code",
   "execution_count": 13,
   "id": "8a993044-0bbb-47d2-a2e7-3f4438ba7d86",
   "metadata": {},
   "outputs": [],
   "source": [
    "from sklearn.feature_selection import SelectFromModel"
   ]
  },
  {
   "cell_type": "code",
   "execution_count": 14,
   "id": "01653031-1cd6-4c1c-9239-872ed0b43ab4",
   "metadata": {},
   "outputs": [],
   "source": [
    "from sklearn import metrics"
   ]
  },
  {
   "cell_type": "code",
   "execution_count": 15,
   "id": "82fb880b-d538-4931-8c1d-71253756ab8a",
   "metadata": {},
   "outputs": [],
   "source": [
    "from sklearn.linear_model import Lasso\n",
    "from sklearn.linear_model import ElasticNet\n",
    "from sklearn.tree import DecisionTreeRegressor\n",
    "from sklearn.neighbors import KNeighborsRegressor\n",
    "from sklearn.ensemble import GradientBoostingRegressor\n",
    "from sklearn.pipeline import Pipeline\n",
    "from sklearn.preprocessing import StandardScaler\n",
    "from sklearn.model_selection import cross_val_score\n",
    "from sklearn.model_selection import KFold\n",
    "from sklearn.feature_selection import RFE"
   ]
  },
  {
   "cell_type": "code",
   "execution_count": 16,
   "id": "7c7f2465-acb0-4cb4-bc59-aada2507ad7f",
   "metadata": {},
   "outputs": [],
   "source": [
    "from sklearn.preprocessing import StandardScaler"
   ]
  },
  {
   "cell_type": "code",
   "execution_count": 17,
   "id": "444ac508-e066-469d-9593-3901e2518313",
   "metadata": {},
   "outputs": [],
   "source": [
    "import math"
   ]
  },
  {
   "cell_type": "code",
   "execution_count": 18,
   "id": "0aa7bed1-eca9-4492-8db2-f87a3fe66526",
   "metadata": {},
   "outputs": [],
   "source": [
    "from sklearn.ensemble import RandomForestRegressor"
   ]
  },
  {
   "cell_type": "code",
   "execution_count": 19,
   "id": "fee485eb-c813-47d2-98ca-66835f2ec33c",
   "metadata": {},
   "outputs": [],
   "source": [
    "from sklearn.metrics import r2_score"
   ]
  },
  {
   "cell_type": "code",
   "execution_count": 20,
   "id": "0876ba91-f643-4262-9446-561d858f38d7",
   "metadata": {},
   "outputs": [],
   "source": [
    "from sklearn.feature_selection import RFECV"
   ]
  },
  {
   "cell_type": "code",
   "execution_count": 21,
   "id": "3c037848-c9d9-464d-924a-94bfdc5fc1c8",
   "metadata": {},
   "outputs": [],
   "source": [
    "from sklearn.model_selection import RepeatedKFold"
   ]
  },
  {
   "cell_type": "code",
   "execution_count": 22,
   "id": "7cd4bae0-151a-4e20-8f42-06d67e79693e",
   "metadata": {},
   "outputs": [],
   "source": [
    "from numpy import mean\n",
    "from numpy import std\n",
    "from numpy import amin\n",
    "from numpy import amax"
   ]
  },
  {
   "cell_type": "code",
   "execution_count": 23,
   "id": "b93ca339-2504-4c3f-9ac8-1a97334d1554",
   "metadata": {},
   "outputs": [],
   "source": [
    "df = pd.read_csv('../../data/extracted_features_round4_training.csv', header=0)"
   ]
  },
  {
   "cell_type": "code",
   "execution_count": 24,
   "id": "9cb90bff-be5b-490b-9044-991f26c24c55",
   "metadata": {},
   "outputs": [],
   "source": [
    "df = df.drop(columns='Unnamed: 0')"
   ]
  },
  {
   "cell_type": "code",
   "execution_count": 25,
   "id": "06202534-1257-4606-84b3-327b0b135502",
   "metadata": {},
   "outputs": [],
   "source": [
    "#df = df[['CV', 'TABSSIMPSPACY', 'TAWSSIMSPACY', 'TAKWDIST', 'TABSSIMBERT', 'AKWPWMEAN',\n",
    "#       'TAWSSIMPSPACY', 'TKWAORATIO', 'TAKWSIMSPACY', 'TMIKWP', 'TABSSIMSPACY',\n",
    "#       'TAFSSIMSPACY', 'TAMIKWWSSIMSPACY', 'TKWAOWRATIO', 'TAFSSD']]"
   ]
  },
  {
   "cell_type": "code",
   "execution_count": 26,
   "id": "4dbf900d-6264-499f-9b75-9835ec2b3ea1",
   "metadata": {},
   "outputs": [],
   "source": [
    "scaler = StandardScaler()"
   ]
  },
  {
   "cell_type": "code",
   "execution_count": null,
   "id": "8b4c00ae-9610-44be-ad55-8c25e2f3c440",
   "metadata": {},
   "outputs": [],
   "source": []
  },
  {
   "cell_type": "code",
   "execution_count": 27,
   "id": "b2d98b24-534c-4918-b1c3-a4de630814fa",
   "metadata": {},
   "outputs": [],
   "source": [
    "X = df.drop(columns='CV')"
   ]
  },
  {
   "cell_type": "code",
   "execution_count": 28,
   "id": "1ab81c02-cd75-4390-8284-c4ea87f2ef6d",
   "metadata": {},
   "outputs": [],
   "source": [
    "X = pd.DataFrame(scaler.fit_transform(X),columns = X.columns,index = df.index)"
   ]
  },
  {
   "cell_type": "code",
   "execution_count": 29,
   "id": "9867e187-7f4f-4478-a8df-240e6c3343e6",
   "metadata": {},
   "outputs": [],
   "source": [
    "labels = np.array(df['CV'])"
   ]
  },
  {
   "cell_type": "code",
   "execution_count": 30,
   "id": "90ee8222-7990-4ccc-9292-79fde1cc9a5c",
   "metadata": {},
   "outputs": [
    {
     "data": {
      "text/plain": [
       "Index(['CV', 'TL', 'AL', 'TWC', 'AWC', 'TSC', 'ASC', 'TALRATIO', 'TAWCRATIO',\n",
       "       'TASCRATIO', 'TP', 'AP', 'TAPD', 'TAPMEAN', 'TS', 'AS', 'TASD',\n",
       "       'TASMEAN', 'TASCCRATIO', 'TASCCD', 'TKWC', 'AKWC', 'TAKWCRATIO',\n",
       "       'AMIKWP', 'TMIKWS', 'AMIKWS', 'AFSP', 'TAFSPMEAN', 'TAFSPD', 'AFSS',\n",
       "       'TAFSSMEAN', 'TAFSSD', 'TMIKWAORATIO', 'TKWAORATIO', 'TKWAOWRATIO',\n",
       "       'TKWPMEAN', 'AKWPMEAN', 'TAKWPMEAN', 'TAKWPD', 'TKWPWMEAN', 'AKWPWMEAN',\n",
       "       'TAKWPWMEAN', 'TAKWPWD', 'TAMIKWFP', 'TAMIKWDIST', 'TAKWDIST',\n",
       "       'TASIMSPACY', 'TABSSIMSPACY', 'TAWSSIMSPACY', 'TAASSIMSPACY',\n",
       "       'TAFSSIMSPACY', 'TABSSIMPSPACY', 'TAWSSIMPSPACY', 'TAGSSIMRATIOSPACY',\n",
       "       'TVC', 'AVC', 'TAVCD', 'TNC', 'ANC', 'TANCD', 'TABSSIMBERT',\n",
       "       'TAWSSIMBERT', 'TAASSIMSBERT', 'TAFSSIMBERT', 'TABSSIMPBERT',\n",
       "       'TAWSSIMPBERT', 'TAGSSIMRATIOBERT', 'TAMIKWASSIMSPACY',\n",
       "       'TAMIKWBSSIMSPACY', 'TAMIKWWSSIMSPACY', 'TMIKWP', 'TAMKWSSIMSPACY',\n",
       "       'TAMKWSP', 'TAMKWSPD', 'TAMKWSS', 'TAMKWSSD', 'TAMKWFP', 'TAKWSIMSPACY',\n",
       "       'TAKWSP', 'TAKWSPD', 'TAKWSS', 'TAKWSSD', 'TAGSSIMDISTSPACY', 'TSCC',\n",
       "       'ASCC', 'TKWCRATIO', 'AKWCRATIO', 'TAKWCRATIORATIO', 'TMIKWAO', 'TKWAO',\n",
       "       'TKWAOW', 'TVCRATIO', 'AVCRATIO', 'TAVCRATIOD', 'TNCRATIO', 'ANCRATIO',\n",
       "       'TANCRATIOD', 'TAGSSIMCSPACY', 'TAGSSIMCBERT', 'TAKWSSIMVARSPACY'],\n",
       "      dtype='object')"
      ]
     },
     "execution_count": 30,
     "metadata": {},
     "output_type": "execute_result"
    }
   ],
   "source": [
    "df.columns"
   ]
  },
  {
   "cell_type": "code",
   "execution_count": 31,
   "id": "8c1ca2a2-9808-48a4-9a47-df842b0fcd0b",
   "metadata": {},
   "outputs": [],
   "source": [
    "feature_list = list(X.columns)"
   ]
  },
  {
   "cell_type": "code",
   "execution_count": 32,
   "id": "15a52013-5de3-45c0-8b76-052bb8e10f1e",
   "metadata": {},
   "outputs": [],
   "source": [
    "features = np.array(X)"
   ]
  },
  {
   "cell_type": "code",
   "execution_count": 32,
   "id": "220bfb42-8eac-41cf-9700-b4933e11b829",
   "metadata": {},
   "outputs": [],
   "source": [
    "train_features, test_features, train_labels, test_labels = train_test_split(features, labels, test_size = 0.25, random_state = 42)"
   ]
  },
  {
   "cell_type": "code",
   "execution_count": 33,
   "id": "fd8f6ee2-ce26-40ee-b43e-cc0d7bbc1df0",
   "metadata": {},
   "outputs": [
    {
     "name": "stdout",
     "output_type": "stream",
     "text": [
      "Training Features Shape: (725, 99)\n",
      "Training Labels Shape: (725,)\n",
      "Testing Features Shape: (242, 99)\n",
      "Testing Labels Shape: (242,)\n"
     ]
    }
   ],
   "source": [
    "print('Training Features Shape:', train_features.shape)\n",
    "print('Training Labels Shape:', train_labels.shape)\n",
    "print('Testing Features Shape:', test_features.shape)\n",
    "print('Testing Labels Shape:', test_labels.shape)"
   ]
  },
  {
   "cell_type": "code",
   "execution_count": 33,
   "id": "35265c89-42b2-48e4-b92f-a1de123e1c48",
   "metadata": {},
   "outputs": [],
   "source": [
    "cv = RepeatedKFold(n_splits=10, n_repeats=3, random_state=42)"
   ]
  },
  {
   "cell_type": "code",
   "execution_count": 35,
   "id": "f810a004-2b7f-417b-8c22-ddb5a7b9c68d",
   "metadata": {},
   "outputs": [],
   "source": [
    "# Use the forest's predict method on the test data\n",
    "predictions = rf.predict(test_features)\n",
    "# Calculate the absolute errors\n",
    "errors = abs(predictions - test_labels)"
   ]
  },
  {
   "cell_type": "code",
   "execution_count": 36,
   "id": "21592629-d2f3-4e3a-ae8f-efc7d62366a5",
   "metadata": {},
   "outputs": [
    {
     "name": "stdout",
     "output_type": "stream",
     "text": [
      "Mean Absolute Error: 0.53 score points.\n"
     ]
    }
   ],
   "source": [
    "# Print out the mean absolute error (mae)\n",
    "print('Mean Absolute Error:', round(np.mean(errors), 2), 'score points.')"
   ]
  },
  {
   "cell_type": "code",
   "execution_count": 37,
   "id": "2975cd17-c83a-4106-b164-9ed0c331dfbe",
   "metadata": {},
   "outputs": [
    {
     "name": "stdout",
     "output_type": "stream",
     "text": [
      "Accuracy: 83.28 %.\n",
      "R2 score: -22.367085016960704\n"
     ]
    }
   ],
   "source": [
    "# Calculate mean absolute percentage error (MAPE)\n",
    "mape = 100 * (errors / test_labels)\n",
    "# Calculate and display accuracy\n",
    "accuracy = 100 - np.mean(mape)\n",
    "r2 = r2_score(predictions, test_labels)\n",
    "print('Accuracy:', round(accuracy, 2), '%.')\n",
    "print('R2 score:', r2)"
   ]
  },
  {
   "cell_type": "code",
   "execution_count": 38,
   "id": "6bb79e09-28c7-4508-9582-c84d3510a61f",
   "metadata": {},
   "outputs": [
    {
     "data": {
      "text/plain": [
       "<BarContainer object of 99 artists>"
      ]
     },
     "execution_count": 38,
     "metadata": {},
     "output_type": "execute_result"
    },
    {
     "data": {
      "image/png": "[encoded data removed]",
      "text/plain": [
       "<Figure size 432x288 with 1 Axes>"
      ]
     },
     "metadata": {
      "needs_background": "light"
     },
     "output_type": "display_data"
    }
   ],
   "source": [
    "feature_names = [f'{i}' for i in X.columns]  \n",
    "f_i = list(zip(feature_names,rf.feature_importances_))\n",
    "f_i.sort(key = lambda x : x[1])\n",
    "plt.barh([x[0] for x in f_i],[x[1] for x in f_i])"
   ]
  },
  {
   "cell_type": "code",
   "execution_count": 39,
   "id": "a83e5dce-e395-473c-afd1-1135c85f6580",
   "metadata": {},
   "outputs": [
    {
     "data": {
      "text/plain": [
       "RFECV(cv=5, estimator=RandomForestRegressor(n_estimators=1000, random_state=42),\n",
       "      scoring='neg_mean_squared_error')"
      ]
     },
     "execution_count": 39,
     "metadata": {},
     "output_type": "execute_result"
    }
   ],
   "source": [
    "default_random_forest_regressor = RandomForestRegressor()\n",
    "rfe = RFECV(rf,cv=5,scoring=\"mean_absolute_error\")\n",
    "\n",
    "rfe.fit(X,y)"
   ]
  },
  {
   "cell_type": "code",
   "execution_count": null,
   "id": "67cfade2-df9e-4a35-8c46-0c989c1c0f78",
   "metadata": {},
   "outputs": [],
   "source": []
  },
  {
   "cell_type": "code",
   "execution_count": 53,
   "id": "9bb09de5-cd48-4216-ac47-6327342d759f",
   "metadata": {},
   "outputs": [
    {
     "data": {
      "text/plain": [
       "RFECV(cv=RepeatedKFold(n_repeats=3, n_splits=10, random_state=42),\n",
       "      estimator=RandomForestRegressor(), scoring='neg_mean_absolute_error')"
      ]
     },
     "execution_count": 53,
     "metadata": {},
     "output_type": "execute_result"
    }
   ],
   "source": [
    "default_random_forest_regressor = RandomForestRegressor()\n",
    "rfe_new = RFECV(default_random_forest_regressor,cv=cv,scoring=\"neg_mean_absolute_error\")\n",
    "\n",
    "rfe_new.fit(X,labels)"
   ]
  },
  {
   "cell_type": "code",
   "execution_count": 54,
   "id": "f260fa8d-774d-4e1b-bb50-c3430ac19c16",
   "metadata": {},
   "outputs": [],
   "source": [
    "selected_features = np.array(feature_list)[rfe_new.get_support()]"
   ]
  },
  {
   "cell_type": "code",
   "execution_count": 55,
   "id": "0f2378b2-06b4-49a0-be51-41ded871692c",
   "metadata": {},
   "outputs": [
    {
     "data": {
      "text/plain": [
       "(35,)"
      ]
     },
     "execution_count": 55,
     "metadata": {},
     "output_type": "execute_result"
    }
   ],
   "source": [
    "selected_features.shape"
   ]
  },
  {
   "cell_type": "code",
   "execution_count": 62,
   "id": "e0c3ff87-4a38-4500-b27e-d95b69b56ada",
   "metadata": {},
   "outputs": [
    {
     "data": {
      "text/plain": [
       "array(['TL', 'TAWCRATIO', 'AS', 'TASMEAN', 'TASCCRATIO', 'TKWAOWRATIO',\n",
       "       'TAMIKWFP', 'TAMIKWDIST', 'TAKWDIST', 'TABSSIMSPACY',\n",
       "       'TAWSSIMSPACY', 'TAFSSIMSPACY', 'TABSSIMPSPACY', 'TAWSSIMPSPACY',\n",
       "       'TANCD', 'TABSSIMBERT', 'TAWSSIMBERT', 'TAASSIMSBERT',\n",
       "       'TAFSSIMBERT', 'TABSSIMPBERT', 'TAMIKWWSSIMSPACY', 'TAMKWSP',\n",
       "       'TAMKWSPD', 'TAMKWSS', 'TAKWSPD', 'TAKWSS', 'TAKWSSD', 'TSCC',\n",
       "       'ASCC', 'TKWCRATIO', 'TKWAOW', 'AVCRATIO', 'TAVCRATIOD',\n",
       "       'ANCRATIO', 'TAKWSSIMVARSPACY'], dtype='<U17')"
      ]
     },
     "execution_count": 62,
     "metadata": {},
     "output_type": "execute_result"
    }
   ],
   "source": [
    "selected_features"
   ]
  },
  {
   "cell_type": "code",
   "execution_count": 34,
   "id": "595e92a4-7081-4a11-b049-476977c2fe91",
   "metadata": {},
   "outputs": [],
   "source": [
    "X_selected = X[['TL', 'TAWCRATIO', 'AS', 'TASMEAN', 'TASCCRATIO', 'TKWAOWRATIO',\n",
    "       'TAMIKWFP', 'TAMIKWDIST', 'TAKWDIST', 'TABSSIMSPACY',\n",
    "       'TAWSSIMSPACY', 'TAFSSIMSPACY', 'TABSSIMPSPACY', 'TAWSSIMPSPACY',\n",
    "       'TANCD', 'TABSSIMBERT', 'TAWSSIMBERT', 'TAASSIMSBERT',\n",
    "       'TAFSSIMBERT', 'TABSSIMPBERT', 'TAMIKWWSSIMSPACY', 'TAMKWSP',\n",
    "       'TAMKWSPD', 'TAMKWSS', 'TAKWSPD', 'TAKWSS', 'TAKWSSD', 'TSCC',\n",
    "       'ASCC', 'TKWCRATIO', 'TKWAOW', 'AVCRATIO', 'TAVCRATIOD',\n",
    "       'ANCRATIO', 'TAKWSSIMVARSPACY']]"
   ]
  },
  {
   "cell_type": "code",
   "execution_count": 35,
   "id": "deea1f54-f20a-4dff-8409-cc8e4759bffe",
   "metadata": {},
   "outputs": [
    {
     "data": {
      "text/html": [
       "<div>\n",
       "<style scoped>\n",
       "    .dataframe tbody tr th:only-of-type {\n",
       "        vertical-align: middle;\n",
       "    }\n",
       "\n",
       "    .dataframe tbody tr th {\n",
       "        vertical-align: top;\n",
       "    }\n",
       "\n",
       "    .dataframe thead th {\n",
       "        text-align: right;\n",
       "    }\n",
       "</style>\n",
       "<table border=\"1\" class=\"dataframe\">\n",
       "  <thead>\n",
       "    <tr style=\"text-align: right;\">\n",
       "      <th></th>\n",
       "      <th>TL</th>\n",
       "      <th>AL</th>\n",
       "      <th>TWC</th>\n",
       "      <th>AWC</th>\n",
       "      <th>TSC</th>\n",
       "      <th>ASC</th>\n",
       "      <th>TALRATIO</th>\n",
       "      <th>TAWCRATIO</th>\n",
       "      <th>TASCRATIO</th>\n",
       "      <th>TP</th>\n",
       "      <th>...</th>\n",
       "      <th>TKWAOW</th>\n",
       "      <th>TVCRATIO</th>\n",
       "      <th>AVCRATIO</th>\n",
       "      <th>TAVCRATIOD</th>\n",
       "      <th>TNCRATIO</th>\n",
       "      <th>ANCRATIO</th>\n",
       "      <th>TANCRATIOD</th>\n",
       "      <th>TAGSSIMCSPACY</th>\n",
       "      <th>TAGSSIMCBERT</th>\n",
       "      <th>TAKWSSIMVARSPACY</th>\n",
       "    </tr>\n",
       "  </thead>\n",
       "  <tbody>\n",
       "    <tr>\n",
       "      <th>0</th>\n",
       "      <td>0.212485</td>\n",
       "      <td>-0.535143</td>\n",
       "      <td>0.526791</td>\n",
       "      <td>-0.443101</td>\n",
       "      <td>-0.150981</td>\n",
       "      <td>-0.255190</td>\n",
       "      <td>-0.166738</td>\n",
       "      <td>-0.183863</td>\n",
       "      <td>-0.392040</td>\n",
       "      <td>0.739379</td>\n",
       "      <td>...</td>\n",
       "      <td>-0.306065</td>\n",
       "      <td>0.544406</td>\n",
       "      <td>2.108058</td>\n",
       "      <td>0.170174</td>\n",
       "      <td>-0.971470</td>\n",
       "      <td>-1.008737</td>\n",
       "      <td>0.723823</td>\n",
       "      <td>-0.198257</td>\n",
       "      <td>-0.272947</td>\n",
       "      <td>0.153046</td>\n",
       "    </tr>\n",
       "    <tr>\n",
       "      <th>1</th>\n",
       "      <td>-0.020676</td>\n",
       "      <td>0.297460</td>\n",
       "      <td>-0.147474</td>\n",
       "      <td>0.239207</td>\n",
       "      <td>-0.150981</td>\n",
       "      <td>-0.109029</td>\n",
       "      <td>-0.389515</td>\n",
       "      <td>-0.366033</td>\n",
       "      <td>-0.427230</td>\n",
       "      <td>-0.196395</td>\n",
       "      <td>...</td>\n",
       "      <td>0.646310</td>\n",
       "      <td>2.104187</td>\n",
       "      <td>1.268332</td>\n",
       "      <td>-1.714792</td>\n",
       "      <td>1.094020</td>\n",
       "      <td>-0.938875</td>\n",
       "      <td>-1.421384</td>\n",
       "      <td>-0.198257</td>\n",
       "      <td>-0.272947</td>\n",
       "      <td>-0.423083</td>\n",
       "    </tr>\n",
       "    <tr>\n",
       "      <th>2</th>\n",
       "      <td>-1.011607</td>\n",
       "      <td>-0.854884</td>\n",
       "      <td>-0.821738</td>\n",
       "      <td>-0.836076</td>\n",
       "      <td>-0.150981</td>\n",
       "      <td>-0.693673</td>\n",
       "      <td>0.032131</td>\n",
       "      <td>0.022103</td>\n",
       "      <td>-0.105491</td>\n",
       "      <td>-0.196395</td>\n",
       "      <td>...</td>\n",
       "      <td>-0.785455</td>\n",
       "      <td>-0.016300</td>\n",
       "      <td>1.586900</td>\n",
       "      <td>0.563943</td>\n",
       "      <td>-1.525626</td>\n",
       "      <td>-1.328998</td>\n",
       "      <td>1.211266</td>\n",
       "      <td>-0.198257</td>\n",
       "      <td>-0.272947</td>\n",
       "      <td>2.057408</td>\n",
       "    </tr>\n",
       "    <tr>\n",
       "      <th>3</th>\n",
       "      <td>0.503935</td>\n",
       "      <td>-0.065113</td>\n",
       "      <td>1.875320</td>\n",
       "      <td>-0.009101</td>\n",
       "      <td>-0.150981</td>\n",
       "      <td>0.037132</td>\n",
       "      <td>-0.314702</td>\n",
       "      <td>-0.244910</td>\n",
       "      <td>-0.452823</td>\n",
       "      <td>-0.196395</td>\n",
       "      <td>...</td>\n",
       "      <td>1.501908</td>\n",
       "      <td>0.165929</td>\n",
       "      <td>1.337393</td>\n",
       "      <td>0.291508</td>\n",
       "      <td>-0.625123</td>\n",
       "      <td>-1.857309</td>\n",
       "      <td>0.112742</td>\n",
       "      <td>-0.198257</td>\n",
       "      <td>-0.272947</td>\n",
       "      <td>0.076737</td>\n",
       "    </tr>\n",
       "    <tr>\n",
       "      <th>4</th>\n",
       "      <td>0.154194</td>\n",
       "      <td>-0.838352</td>\n",
       "      <td>0.526791</td>\n",
       "      <td>-0.816643</td>\n",
       "      <td>-0.150981</td>\n",
       "      <td>-0.791114</td>\n",
       "      <td>0.222779</td>\n",
       "      <td>0.225584</td>\n",
       "      <td>0.098276</td>\n",
       "      <td>-0.196395</td>\n",
       "      <td>...</td>\n",
       "      <td>-0.562901</td>\n",
       "      <td>-0.380759</td>\n",
       "      <td>0.206472</td>\n",
       "      <td>0.460652</td>\n",
       "      <td>-0.925291</td>\n",
       "      <td>-0.316733</td>\n",
       "      <td>0.877600</td>\n",
       "      <td>-0.198257</td>\n",
       "      <td>-0.272947</td>\n",
       "      <td>1.803638</td>\n",
       "    </tr>\n",
       "    <tr>\n",
       "      <th>...</th>\n",
       "      <td>...</td>\n",
       "      <td>...</td>\n",
       "      <td>...</td>\n",
       "      <td>...</td>\n",
       "      <td>...</td>\n",
       "      <td>...</td>\n",
       "      <td>...</td>\n",
       "      <td>...</td>\n",
       "      <td>...</td>\n",
       "      <td>...</td>\n",
       "      <td>...</td>\n",
       "      <td>...</td>\n",
       "      <td>...</td>\n",
       "      <td>...</td>\n",
       "      <td>...</td>\n",
       "      <td>...</td>\n",
       "      <td>...</td>\n",
       "      <td>...</td>\n",
       "      <td>...</td>\n",
       "      <td>...</td>\n",
       "      <td>...</td>\n",
       "    </tr>\n",
       "    <tr>\n",
       "      <th>962</th>\n",
       "      <td>-0.720157</td>\n",
       "      <td>1.665094</td>\n",
       "      <td>-0.484606</td>\n",
       "      <td>1.625415</td>\n",
       "      <td>-0.150981</td>\n",
       "      <td>2.083388</td>\n",
       "      <td>-0.471610</td>\n",
       "      <td>-0.436092</td>\n",
       "      <td>-0.559193</td>\n",
       "      <td>-0.196395</td>\n",
       "      <td>...</td>\n",
       "      <td>0.382221</td>\n",
       "      <td>-0.281361</td>\n",
       "      <td>0.786650</td>\n",
       "      <td>0.559071</td>\n",
       "      <td>1.094020</td>\n",
       "      <td>-0.022363</td>\n",
       "      <td>-1.153589</td>\n",
       "      <td>-0.198257</td>\n",
       "      <td>-0.272947</td>\n",
       "      <td>-0.473307</td>\n",
       "    </tr>\n",
       "    <tr>\n",
       "      <th>963</th>\n",
       "      <td>1.786317</td>\n",
       "      <td>0.087055</td>\n",
       "      <td>0.526791</td>\n",
       "      <td>0.081585</td>\n",
       "      <td>-0.150981</td>\n",
       "      <td>0.183293</td>\n",
       "      <td>-0.285459</td>\n",
       "      <td>-0.320796</td>\n",
       "      <td>-0.472273</td>\n",
       "      <td>0.271492</td>\n",
       "      <td>...</td>\n",
       "      <td>0.007932</td>\n",
       "      <td>-0.599434</td>\n",
       "      <td>-0.389640</td>\n",
       "      <td>0.478737</td>\n",
       "      <td>0.875716</td>\n",
       "      <td>-0.355011</td>\n",
       "      <td>-1.021899</td>\n",
       "      <td>-0.198257</td>\n",
       "      <td>-0.272947</td>\n",
       "      <td>-0.249337</td>\n",
       "    </tr>\n",
       "    <tr>\n",
       "      <th>964</th>\n",
       "      <td>-1.885959</td>\n",
       "      <td>2.184344</td>\n",
       "      <td>-1.833135</td>\n",
       "      <td>2.167375</td>\n",
       "      <td>-0.150981</td>\n",
       "      <td>2.473151</td>\n",
       "      <td>-0.499362</td>\n",
       "      <td>-0.465849</td>\n",
       "      <td>-0.565384</td>\n",
       "      <td>-0.196395</td>\n",
       "      <td>...</td>\n",
       "      <td>-0.985792</td>\n",
       "      <td>-1.474135</td>\n",
       "      <td>-1.070417</td>\n",
       "      <td>1.138618</td>\n",
       "      <td>-1.525626</td>\n",
       "      <td>1.876030</td>\n",
       "      <td>2.147740</td>\n",
       "      <td>-0.198257</td>\n",
       "      <td>-0.272947</td>\n",
       "      <td>-0.432772</td>\n",
       "    </tr>\n",
       "    <tr>\n",
       "      <th>965</th>\n",
       "      <td>1.028546</td>\n",
       "      <td>2.635964</td>\n",
       "      <td>-0.147474</td>\n",
       "      <td>2.577623</td>\n",
       "      <td>-0.150981</td>\n",
       "      <td>2.375710</td>\n",
       "      <td>-0.461899</td>\n",
       "      <td>-0.445894</td>\n",
       "      <td>-0.563969</td>\n",
       "      <td>-0.196395</td>\n",
       "      <td>...</td>\n",
       "      <td>0.849829</td>\n",
       "      <td>-1.474135</td>\n",
       "      <td>1.122650</td>\n",
       "      <td>1.894936</td>\n",
       "      <td>0.275381</td>\n",
       "      <td>0.506896</td>\n",
       "      <td>-0.140621</td>\n",
       "      <td>-0.198257</td>\n",
       "      <td>-0.272947</td>\n",
       "      <td>-0.451826</td>\n",
       "    </tr>\n",
       "    <tr>\n",
       "      <th>966</th>\n",
       "      <td>-1.419638</td>\n",
       "      <td>0.820467</td>\n",
       "      <td>-1.158871</td>\n",
       "      <td>0.912878</td>\n",
       "      <td>-0.150981</td>\n",
       "      <td>0.573056</td>\n",
       "      <td>-0.465540</td>\n",
       "      <td>-0.433127</td>\n",
       "      <td>-0.506852</td>\n",
       "      <td>1.675153</td>\n",
       "      <td>...</td>\n",
       "      <td>0.201270</td>\n",
       "      <td>0.400224</td>\n",
       "      <td>1.003415</td>\n",
       "      <td>-0.063311</td>\n",
       "      <td>0.532667</td>\n",
       "      <td>-0.214921</td>\n",
       "      <td>-0.621287</td>\n",
       "      <td>-0.198257</td>\n",
       "      <td>-0.272947</td>\n",
       "      <td>-0.420005</td>\n",
       "    </tr>\n",
       "  </tbody>\n",
       "</table>\n",
       "<p>967 rows × 99 columns</p>\n",
       "</div>"
      ],
      "text/plain": [
       "           TL        AL       TWC       AWC       TSC       ASC  TALRATIO  \\\n",
       "0    0.212485 -0.535143  0.526791 -0.443101 -0.150981 -0.255190 -0.166738   \n",
       "1   -0.020676  0.297460 -0.147474  0.239207 -0.150981 -0.109029 -0.389515   \n",
       "2   -1.011607 -0.854884 -0.821738 -0.836076 -0.150981 -0.693673  0.032131   \n",
       "3    0.503935 -0.065113  1.875320 -0.009101 -0.150981  0.037132 -0.314702   \n",
       "4    0.154194 -0.838352  0.526791 -0.816643 -0.150981 -0.791114  0.222779   \n",
       "..        ...       ...       ...       ...       ...       ...       ...   \n",
       "962 -0.720157  1.665094 -0.484606  1.625415 -0.150981  2.083388 -0.471610   \n",
       "963  1.786317  0.087055  0.526791  0.081585 -0.150981  0.183293 -0.285459   \n",
       "964 -1.885959  2.184344 -1.833135  2.167375 -0.150981  2.473151 -0.499362   \n",
       "965  1.028546  2.635964 -0.147474  2.577623 -0.150981  2.375710 -0.461899   \n",
       "966 -1.419638  0.820467 -1.158871  0.912878 -0.150981  0.573056 -0.465540   \n",
       "\n",
       "     TAWCRATIO  TASCRATIO        TP  ...    TKWAOW  TVCRATIO  AVCRATIO  \\\n",
       "0    -0.183863  -0.392040  0.739379  ... -0.306065  0.544406  2.108058   \n",
       "1    -0.366033  -0.427230 -0.196395  ...  0.646310  2.104187  1.268332   \n",
       "2     0.022103  -0.105491 -0.196395  ... -0.785455 -0.016300  1.586900   \n",
       "3    -0.244910  -0.452823 -0.196395  ...  1.501908  0.165929  1.337393   \n",
       "4     0.225584   0.098276 -0.196395  ... -0.562901 -0.380759  0.206472   \n",
       "..         ...        ...       ...  ...       ...       ...       ...   \n",
       "962  -0.436092  -0.559193 -0.196395  ...  0.382221 -0.281361  0.786650   \n",
       "963  -0.320796  -0.472273  0.271492  ...  0.007932 -0.599434 -0.389640   \n",
       "964  -0.465849  -0.565384 -0.196395  ... -0.985792 -1.474135 -1.070417   \n",
       "965  -0.445894  -0.563969 -0.196395  ...  0.849829 -1.474135  1.122650   \n",
       "966  -0.433127  -0.506852  1.675153  ...  0.201270  0.400224  1.003415   \n",
       "\n",
       "     TAVCRATIOD  TNCRATIO  ANCRATIO  TANCRATIOD  TAGSSIMCSPACY  TAGSSIMCBERT  \\\n",
       "0      0.170174 -0.971470 -1.008737    0.723823      -0.198257     -0.272947   \n",
       "1     -1.714792  1.094020 -0.938875   -1.421384      -0.198257     -0.272947   \n",
       "2      0.563943 -1.525626 -1.328998    1.211266      -0.198257     -0.272947   \n",
       "3      0.291508 -0.625123 -1.857309    0.112742      -0.198257     -0.272947   \n",
       "4      0.460652 -0.925291 -0.316733    0.877600      -0.198257     -0.272947   \n",
       "..          ...       ...       ...         ...            ...           ...   \n",
       "962    0.559071  1.094020 -0.022363   -1.153589      -0.198257     -0.272947   \n",
       "963    0.478737  0.875716 -0.355011   -1.021899      -0.198257     -0.272947   \n",
       "964    1.138618 -1.525626  1.876030    2.147740      -0.198257     -0.272947   \n",
       "965    1.894936  0.275381  0.506896   -0.140621      -0.198257     -0.272947   \n",
       "966   -0.063311  0.532667 -0.214921   -0.621287      -0.198257     -0.272947   \n",
       "\n",
       "     TAKWSSIMVARSPACY  \n",
       "0            0.153046  \n",
       "1           -0.423083  \n",
       "2            2.057408  \n",
       "3            0.076737  \n",
       "4            1.803638  \n",
       "..                ...  \n",
       "962         -0.473307  \n",
       "963         -0.249337  \n",
       "964         -0.432772  \n",
       "965         -0.451826  \n",
       "966         -0.420005  \n",
       "\n",
       "[967 rows x 99 columns]"
      ]
     },
     "execution_count": 35,
     "metadata": {},
     "output_type": "execute_result"
    }
   ],
   "source": [
    "X"
   ]
  },
  {
   "cell_type": "code",
   "execution_count": 36,
   "id": "b005d479-b205-480e-aa0d-a0aaba6a9948",
   "metadata": {},
   "outputs": [],
   "source": [
    "features_selected = np.array(X_selected)"
   ]
  },
  {
   "cell_type": "code",
   "execution_count": 37,
   "id": "1ab403c5-3825-46d0-9c65-41e0bdfe7483",
   "metadata": {},
   "outputs": [],
   "source": [
    "train_features, test_features, train_labels, test_labels = train_test_split(features_selected, labels, test_size = 0.25, random_state = 42)"
   ]
  },
  {
   "cell_type": "code",
   "execution_count": null,
   "id": "abe8ac39-e2b2-42d7-94fc-8b17f16ffae7",
   "metadata": {},
   "outputs": [],
   "source": []
  },
  {
   "cell_type": "code",
   "execution_count": 38,
   "id": "d8dec8a6-af04-448d-8b42-7478dd643932",
   "metadata": {},
   "outputs": [],
   "source": [
    "from sklearn.model_selection import RandomizedSearchCV\n",
    "\n",
    "# Number of trees in random forest\n",
    "n_estimators = [int(x) for x in np.linspace(start = 200, stop = 2000, num = 10)]\n",
    "# Number of features to consider at every split\n",
    "max_features = ['auto', 'sqrt']\n",
    "# Maximum number of levels in tree\n",
    "max_depth = [int(x) for x in np.linspace(10, 110, num = 11)]\n",
    "max_depth.append(None)\n",
    "# Minimum number of samples required to split a node\n",
    "min_samples_split = [2, 5, 10]\n",
    "# Minimum number of samples required at each leaf node\n",
    "min_samples_leaf = [1, 2, 4]\n",
    "# Method of selecting samples for training each tree\n",
    "bootstrap = [True, False]\n",
    "\n",
    "# Create the random grid\n",
    "random_grid = {'n_estimators': n_estimators,\n",
    "               'max_features': max_features,\n",
    "               'max_depth': max_depth,\n",
    "               'min_samples_split': min_samples_split,\n",
    "               'min_samples_leaf': min_samples_leaf,\n",
    "               'bootstrap': bootstrap}"
   ]
  },
  {
   "cell_type": "code",
   "execution_count": 39,
   "id": "bc166418-cffc-4e9c-8e44-9d863ccf8ef1",
   "metadata": {},
   "outputs": [
    {
     "name": "stdout",
     "output_type": "stream",
     "text": [
      "Fitting 30 folds for each of 100 candidates, totalling 3000 fits\n"
     ]
    }
   ],
   "source": [
    "# Use the random grid to search for best hyperparameters\n",
    "# First create the base model to tune\n",
    "rf = RandomForestRegressor(random_state = 42)\n",
    "# Random search of parameters, using 3 fold cross validation, \n",
    "# search across 100 different combinations, and use all available cores\n",
    "rf_random = RandomizedSearchCV(estimator=rf, param_distributions=random_grid,\n",
    "                              n_iter = 100, scoring='neg_mean_absolute_error', \n",
    "                              cv = cv, verbose=2, random_state=42, n_jobs=-1,\n",
    "                              return_train_score=True)\n",
    "\n",
    "# Fit the random search model\n",
    "rf_random.fit(X_selected, labels);"
   ]
  },
  {
   "cell_type": "code",
   "execution_count": 40,
   "id": "ac54e6e0-c576-4f3d-86dc-733a561dcf35",
   "metadata": {},
   "outputs": [
    {
     "data": {
      "text/plain": [
       "{'n_estimators': 600,\n",
       " 'min_samples_split': 10,\n",
       " 'min_samples_leaf': 2,\n",
       " 'max_features': 'sqrt',\n",
       " 'max_depth': 60,\n",
       " 'bootstrap': True}"
      ]
     },
     "execution_count": 40,
     "metadata": {},
     "output_type": "execute_result"
    }
   ],
   "source": [
    "rf_random.best_params_"
   ]
  },
  {
   "cell_type": "code",
   "execution_count": 41,
   "id": "2ae388f9-f743-4e39-83c5-3cede2053e3e",
   "metadata": {},
   "outputs": [
    {
     "name": "stdout",
     "output_type": "stream",
     "text": [
      "MAE: -0.547288391323024.\n"
     ]
    }
   ],
   "source": [
    "\n",
    "base_model = RandomForestRegressor(random_state = 42)\n",
    "base_model.fit(X_selected, labels)\n",
    "base_mae = mean(cross_val_score(base_model, X_selected, labels, scoring='neg_mean_absolute_error', cv=cv))\n",
    "print('MAE: {}.'.format(base_mae))"
   ]
  },
  {
   "cell_type": "code",
   "execution_count": 42,
   "id": "cf60687c-f966-4b96-8ed4-184081c18f71",
   "metadata": {},
   "outputs": [
    {
     "name": "stdout",
     "output_type": "stream",
     "text": [
      "MAE: -0.5419207383460066.\n"
     ]
    }
   ],
   "source": [
    "\n",
    "best_random = rf_random.best_estimator_\n",
    "random_mae = mean(cross_val_score(best_random, X_selected, labels, scoring='neg_mean_absolute_error', cv=cv))\n",
    "print('MAE: {}.'.format(random_mae))"
   ]
  },
  {
   "cell_type": "code",
   "execution_count": 43,
   "id": "dac52a22-2c55-419d-8eb3-802618d98ce3",
   "metadata": {},
   "outputs": [
    {
     "name": "stdout",
     "output_type": "stream",
     "text": [
      "MAE decrease of 0.98%.\n"
     ]
    }
   ],
   "source": [
    "\n",
    "print('MAE decrease of {:0.2f}%.'.format( -100 * (random_mae - base_mae) / base_mae))"
   ]
  },
  {
   "cell_type": "code",
   "execution_count": 72,
   "id": "d886d37b-e58c-4d96-a886-c0bdef24854b",
   "metadata": {},
   "outputs": [],
   "source": [
    "from sklearn.model_selection import GridSearchCV\n",
    "\n",
    "# Create the parameter grid based on the results of random search \n",
    "param_grid = {\n",
    "    'bootstrap': [True],\n",
    "    'max_depth': [50, 60, 70, 80],\n",
    "    'max_features': ['sqrt'],\n",
    "    'min_samples_leaf': [1, 2, 3],\n",
    "    'min_samples_split': [8, 10, 12],\n",
    "    'n_estimators': [500, 600, 700, 800]\n",
    "}\n",
    "\n",
    "# Create a base model\n",
    "rf = RandomForestRegressor(random_state = 42)\n",
    "\n",
    "# Instantiate the grid search model\n",
    "grid_search = GridSearchCV(estimator = rf, param_grid = param_grid, scoring='neg_mean_absolute_error',\n",
    "                          cv = cv, n_jobs = -1, verbose = 2, return_train_score=True)"
   ]
  },
  {
   "cell_type": "code",
   "execution_count": 73,
   "id": "1da526d7-a688-44bd-a5ac-e76c381be5fa",
   "metadata": {},
   "outputs": [
    {
     "name": "stdout",
     "output_type": "stream",
     "text": [
      "Fitting 30 folds for each of 144 candidates, totalling 4320 fits\n"
     ]
    }
   ],
   "source": [
    "# Fit the grid search to the data\n",
    "grid_search.fit(X_selected, labels);"
   ]
  },
  {
   "cell_type": "code",
   "execution_count": 74,
   "id": "36c6b0fb-56e2-45fc-b0c5-7b3b8e891f3a",
   "metadata": {},
   "outputs": [
    {
     "data": {
      "text/plain": [
       "{'bootstrap': True,\n",
       " 'max_depth': 50,\n",
       " 'max_features': 'sqrt',\n",
       " 'min_samples_leaf': 3,\n",
       " 'min_samples_split': 10,\n",
       " 'n_estimators': 600}"
      ]
     },
     "execution_count": 74,
     "metadata": {},
     "output_type": "execute_result"
    }
   ],
   "source": [
    "grid_search.best_params_"
   ]
  },
  {
   "cell_type": "code",
   "execution_count": 75,
   "id": "1f510792-acf6-433f-826f-86f74b1954f3",
   "metadata": {},
   "outputs": [
    {
     "name": "stdout",
     "output_type": "stream",
     "text": [
      "MAE: -0.5419207383460066.\n"
     ]
    }
   ],
   "source": [
    "best_grid = grid_search.best_estimator_\n",
    "grid_mae = mean(cross_val_score(best_grid, X_selected, labels, scoring='neg_mean_absolute_error', cv=cv))\n",
    "print('MAE: {}.'.format(random_mae))"
   ]
  },
  {
   "cell_type": "code",
   "execution_count": 76,
   "id": "fb626c47-3096-4365-993c-9b629db4f346",
   "metadata": {},
   "outputs": [
    {
     "name": "stdout",
     "output_type": "stream",
     "text": [
      "MAE decrease of 1.01%.\n"
     ]
    }
   ],
   "source": [
    "print('MAE decrease of {:0.2f}%.'.format( -100 * (grid_mae - base_mae) / base_mae))"
   ]
  },
  {
   "cell_type": "code",
   "execution_count": null,
   "id": "67fbed7d-430a-4f4f-9b3d-438a718d2642",
   "metadata": {},
   "outputs": [],
   "source": []
  },
  {
   "cell_type": "code",
   "execution_count": 77,
   "id": "6801a6ad-77a6-48a6-ac66-492eff8f98b9",
   "metadata": {},
   "outputs": [],
   "source": [
    "rf_final = RandomForestRegressor(n_estimators = 600, min_samples_split = 10, min_samples_leaf = 3, max_features = 'sqrt', max_depth = 50, bootstrap = True)"
   ]
  },
  {
   "cell_type": "code",
   "execution_count": null,
   "id": "e593b706-3bd8-4d1c-9f0e-6dc0d9a1663f",
   "metadata": {},
   "outputs": [],
   "source": []
  },
  {
   "cell_type": "code",
   "execution_count": 78,
   "id": "6435f904-7307-4d38-a1c3-351fc19f8c53",
   "metadata": {},
   "outputs": [
    {
     "data": {
      "text/plain": [
       "array([ 0.00806648, -0.0225572 ,  0.07541703, -0.02284314,  0.03782331,\n",
       "        0.05142126,  0.0320865 , -0.0285375 ,  0.01021382, -0.04128986,\n",
       "       -0.02391118, -0.03090851,  0.04336929,  0.00805803,  0.0172369 ,\n",
       "        0.0044872 ,  0.01216432, -0.02736187,  0.01843896, -0.02027808,\n",
       "        0.02004502,  0.02269716, -0.02896247,  0.05169583,  0.00105887,\n",
       "       -0.02849939, -0.06042984, -0.03027435,  0.02603405,  0.00982721])"
      ]
     },
     "execution_count": 78,
     "metadata": {},
     "output_type": "execute_result"
    }
   ],
   "source": [
    "r2 = cross_val_score(rf_final, X_selected, labels, scoring='r2', cv=cv)\n",
    "r2"
   ]
  },
  {
   "cell_type": "code",
   "execution_count": 79,
   "id": "8a3656d9-1796-485d-ba4d-c8c4cdfa4cbc",
   "metadata": {},
   "outputs": [
    {
     "name": "stdout",
     "output_type": "stream",
     "text": [
      "Mean: 0.002810\n",
      "SD: 0.031779\n",
      "Max: 0.075417\n",
      "Min: -0.060430\n"
     ]
    }
   ],
   "source": [
    "print(\"Mean: %f\" % mean(r2))\n",
    "print(\"SD: %f\" % std(r2))\n",
    "print(\"Max: %f\" % amax(r2))\n",
    "print(\"Min: %f\" % amin(r2))"
   ]
  },
  {
   "cell_type": "code",
   "execution_count": 80,
   "id": "132e289d-076c-4991-bfcf-2fb0a4aedc87",
   "metadata": {},
   "outputs": [
    {
     "data": {
      "text/plain": [
       "array([-0.51854555, -0.55573252, -0.47799269, -0.60799892, -0.54864058,\n",
       "       -0.57541488, -0.51355836, -0.53190502, -0.52999065, -0.53848459,\n",
       "       -0.59534091, -0.61324451, -0.52599223, -0.51304908, -0.56282146,\n",
       "       -0.56669959, -0.51263553, -0.52852046, -0.50446146, -0.51834845,\n",
       "       -0.57216628, -0.55523582, -0.64228563, -0.45337165, -0.60645701,\n",
       "       -0.56191363, -0.46822286, -0.53991898, -0.51872456, -0.52631938])"
      ]
     },
     "execution_count": 80,
     "metadata": {},
     "output_type": "execute_result"
    }
   ],
   "source": [
    "mae = cross_val_score(rf_final, X_selected, labels, scoring='neg_mean_absolute_error', cv=cv)\n",
    "mae"
   ]
  },
  {
   "cell_type": "code",
   "execution_count": 81,
   "id": "bc24ac48-fc7b-471e-9c68-b9eeb98fa083",
   "metadata": {},
   "outputs": [
    {
     "name": "stdout",
     "output_type": "stream",
     "text": [
      "Mean: -0.542800\n",
      "SD: 0.042527\n",
      "Max: -0.453372\n",
      "Min: -0.642286\n"
     ]
    }
   ],
   "source": [
    "print(\"Mean: %f\" % mean(mae))\n",
    "print(\"SD: %f\" % std(mae))\n",
    "print(\"Max: %f\" % amax(mae))\n",
    "print(\"Min: %f\" % amin(mae))"
   ]
  },
  {
   "cell_type": "code",
   "execution_count": 82,
   "id": "b651e3bc-ffd6-4adc-860b-d065d2ff088b",
   "metadata": {},
   "outputs": [
    {
     "data": {
      "text/plain": [
       "array([-0.6774407 , -0.69140683, -0.603399  , -0.73513934, -0.67122055,\n",
       "       -0.68051619, -0.65638375, -0.64598869, -0.64514784, -0.65437344,\n",
       "       -0.75603922, -0.74161034, -0.64542582, -0.64447962, -0.7059057 ,\n",
       "       -0.68878046, -0.64410882, -0.64726608, -0.61716803, -0.61358207,\n",
       "       -0.7047387 , -0.68434921, -0.76879218, -0.57643233, -0.7369089 ,\n",
       "       -0.71013761, -0.56614052, -0.65741048, -0.65129305, -0.62116164])"
      ]
     },
     "execution_count": 82,
     "metadata": {},
     "output_type": "execute_result"
    }
   ],
   "source": [
    "rmse = cross_val_score(rf_final, X_selected, labels, scoring='neg_root_mean_squared_error', cv=cv)\n",
    "rmse"
   ]
  },
  {
   "cell_type": "code",
   "execution_count": 83,
   "id": "25c1720a-42b0-4a01-96c9-5c2bb8b98ca3",
   "metadata": {},
   "outputs": [
    {
     "name": "stdout",
     "output_type": "stream",
     "text": [
      "Mean: -0.668092\n",
      "SD: 0.049364\n",
      "Max: -0.566141\n",
      "Min: -0.768792\n"
     ]
    }
   ],
   "source": [
    "print(\"Mean: %f\" % mean(rmse))\n",
    "print(\"SD: %f\" % std(rmse))\n",
    "print(\"Max: %f\" % amax(rmse))\n",
    "print(\"Min: %f\" % amin(rmse))"
   ]
  },
  {
   "cell_type": "code",
   "execution_count": 84,
   "id": "06cb26a0-5ee8-4732-aca5-74bb223e5291",
   "metadata": {},
   "outputs": [],
   "source": [
    "feature_importances = []"
   ]
  },
  {
   "cell_type": "code",
   "execution_count": 85,
   "id": "00a2a4f3-f5da-487f-8a77-4e8ffdae167e",
   "metadata": {},
   "outputs": [],
   "source": [
    "feature_list_selected = list(X_selected.columns)"
   ]
  },
  {
   "cell_type": "code",
   "execution_count": 86,
   "id": "f5176ada-a989-4260-9226-644c1993a713",
   "metadata": {},
   "outputs": [],
   "source": [
    "for i in range(len(feature_list_selected)):\n",
    "    feature_importances.append([])"
   ]
  },
  {
   "cell_type": "code",
   "execution_count": 87,
   "id": "45f61e08-d462-4ee6-8bb9-084fa0796c46",
   "metadata": {},
   "outputs": [],
   "source": [
    "for train_index , test_index in cv.split(X_selected):\n",
    "    X_train , X_test = X_selected.iloc[train_index,:],X_selected.iloc[test_index,:]\n",
    "    y_train , y_test = labels[train_index] , labels[test_index]\n",
    "     \n",
    "    rf_final.fit(X_train,y_train)\n",
    "    pred_values = rf_final.predict(X_test)\n",
    "    \n",
    "    importances = list(rf_final.feature_importances_)\n",
    "     \n",
    "    for i in range(len(importances)):\n",
    "        feature_importances[i].append(importances[i])"
   ]
  },
  {
   "cell_type": "code",
   "execution_count": 88,
   "id": "843581ca-7db0-4095-b7fd-056d8f069a91",
   "metadata": {},
   "outputs": [],
   "source": [
    "mean_feature_importances = []\n",
    "for importances in feature_importances:\n",
    "    mean_feature_importances.append(mean(importances))"
   ]
  },
  {
   "cell_type": "code",
   "execution_count": 89,
   "id": "203e6764-fb1d-464f-a51c-cec379719268",
   "metadata": {},
   "outputs": [
    {
     "name": "stdout",
     "output_type": "stream",
     "text": [
      "Variable: TAWSSIMSPACY         Importance: 0.03883\n",
      "Variable: TAKWDIST             Importance: 0.03714\n",
      "Variable: TAFSSIMSPACY         Importance: 0.03276\n",
      "Variable: TAFSSIMBERT          Importance: 0.03218\n",
      "Variable: TKWAOWRATIO          Importance: 0.03189\n",
      "Variable: TABSSIMBERT          Importance: 0.03158\n",
      "Variable: TABSSIMSPACY         Importance: 0.03081\n",
      "Variable: TSCC                 Importance: 0.03035\n",
      "Variable: TASCCRATIO           Importance: 0.03029\n",
      "Variable: TAMIKWWSSIMSPACY     Importance: 0.03003\n",
      "Variable: ASCC                 Importance: 0.03003\n",
      "Variable: TAKWSSIMVARSPACY     Importance: 0.02998\n",
      "Variable: TASMEAN              Importance: 0.02975\n",
      "Variable: TANCD                Importance: 0.02936\n",
      "Variable: TAVCRATIOD           Importance: 0.02934\n",
      "Variable: TAKWSSD              Importance: 0.02921\n",
      "Variable: TAASSIMSBERT         Importance: 0.02862\n",
      "Variable: AS                   Importance: 0.02848\n",
      "Variable: TAMKWSS              Importance: 0.02786\n",
      "Variable: ANCRATIO             Importance: 0.02776\n",
      "Variable: TAKWSS               Importance: 0.02732\n",
      "Variable: TABSSIMPSPACY        Importance: 0.02717\n",
      "Variable: AVCRATIO             Importance: 0.02696\n",
      "Variable: TKWAOW               Importance: 0.02657\n",
      "Variable: TAWCRATIO            Importance: 0.02655\n",
      "Variable: TL                   Importance: 0.02617\n",
      "Variable: TAWSSIMPSPACY        Importance: 0.02599\n",
      "Variable: TAMIKWFP             Importance: 0.02597\n",
      "Variable: TAMKWSPD             Importance: 0.02551\n",
      "Variable: TAWSSIMBERT          Importance: 0.02528\n",
      "Variable: TAKWSPD              Importance: 0.02515\n",
      "Variable: TAMKWSP              Importance: 0.02478\n",
      "Variable: TKWCRATIO            Importance: 0.02417\n",
      "Variable: TAMIKWDIST           Importance: 0.02367\n",
      "Variable: TABSSIMPBERT         Importance: 0.02249\n"
     ]
    }
   ],
   "source": [
    "# List of tuples with variable and importance\n",
    "feature_importances_tuples = [(feature, round(importance, 5)) for feature, importance in zip(feature_list_selected, mean_feature_importances)]\n",
    "# Sort the feature importances by most important first\n",
    "feature_importances_tuples = sorted(feature_importances_tuples, key = lambda x: x[1], reverse = True)\n",
    "# Print out the feature and importances \n",
    "[print('Variable: {:20} Importance: {}'.format(*pair)) for pair in feature_importances_tuples];"
   ]
  },
  {
   "cell_type": "code",
   "execution_count": 90,
   "id": "493667ea-ab6b-44c5-a49a-745177edb7c2",
   "metadata": {},
   "outputs": [],
   "source": [
    "f = [feature for feature, importance in feature_importances_tuples]\n",
    "imp = [importance for feature, importance in feature_importances_tuples]"
   ]
  },
  {
   "cell_type": "code",
   "execution_count": 91,
   "id": "aa29d192-90f8-4715-be9b-255338efc5d4",
   "metadata": {},
   "outputs": [],
   "source": [
    "imp_coef = pd.Series(imp, index = f)\n",
    "imp_coef = imp_coef.iloc[::-1]"
   ]
  },
  {
   "cell_type": "code",
   "execution_count": 104,
   "id": "65ba7ed6-022a-40cb-9c80-88cfc743a81f",
   "metadata": {},
   "outputs": [
    {
     "data": {
      "text/plain": [
       "TABSSIMPBERT        0.02249\n",
       "TAMIKWDIST          0.02367\n",
       "TKWCRATIO           0.02417\n",
       "TAMKWSP             0.02478\n",
       "TAKWSPD             0.02515\n",
       "TAWSSIMBERT         0.02528\n",
       "TAMKWSPD            0.02551\n",
       "TAMIKWFP            0.02597\n",
       "TAWSSIMPSPACY       0.02599\n",
       "TL                  0.02617\n",
       "TAWCRATIO           0.02655\n",
       "TKWAOW              0.02657\n",
       "AVCRATIO            0.02696\n",
       "TABSSIMPSPACY       0.02717\n",
       "TAKWSS              0.02732\n",
       "ANCRATIO            0.02776\n",
       "TAMKWSS             0.02786\n",
       "AS                  0.02848\n",
       "TAASSIMSBERT        0.02862\n",
       "TAKWSSD             0.02921\n",
       "TAVCRATIOD          0.02934\n",
       "TANCD               0.02936\n",
       "TASMEAN             0.02975\n",
       "TAKWSSIMVARSPACY    0.02998\n",
       "ASCC                0.03003\n",
       "TAMIKWWSSIMSPACY    0.03003\n",
       "TASCCRATIO          0.03029\n",
       "TSCC                0.03035\n",
       "TABSSIMSPACY        0.03081\n",
       "TABSSIMBERT         0.03158\n",
       "TKWAOWRATIO         0.03189\n",
       "TAFSSIMBERT         0.03218\n",
       "TAFSSIMSPACY        0.03276\n",
       "TAKWDIST            0.03714\n",
       "TAWSSIMSPACY        0.03883\n",
       "dtype: float64"
      ]
     },
     "execution_count": 104,
     "metadata": {},
     "output_type": "execute_result"
    }
   ],
   "source": [
    "imp_coef"
   ]
  },
  {
   "cell_type": "code",
   "execution_count": 93,
   "id": "d2460ce3-7d26-4e9c-a5fb-fe9ea3e2ec46",
   "metadata": {},
   "outputs": [
    {
     "data": {
      "image/png": "[encoded data removed]",
      "text/plain": [
       "<Figure size 720x1080 with 1 Axes>"
      ]
     },
     "metadata": {},
     "output_type": "display_data"
    }
   ],
   "source": [
    "matplotlib.rcParams['figure.figsize'] = (10.0, 15.0)\n",
    "ax = imp_coef.plot(kind = \"barh\")\n",
    "ax.xaxis.label.set_color('white')\n",
    "ax.yaxis.label.set_color('white')\n",
    "ax.patch.set_alpha(0)\n",
    "\n",
    "ax.tick_params(axis='x', colors='white')\n",
    "ax.tick_params(axis='y', colors='white')\n",
    "\n",
    "ax.spines['left'].set_color('white')\n",
    "ax.spines['top'].set_color('white')\n",
    "ax.spines['right'].set_color('white')\n",
    "ax.spines['bottom'].set_color('white')\n",
    "plt.gcf().subplots_adjust(left=0.25)\n",
    "fig = ax.get_figure()\n",
    "ax.set_facecolor((0.1, 0.1, 0.1))\n",
    "fig.patch.set_facecolor((0.1, 0.1, 0.1))\n",
    "plt.title(label=\"Random Forest Regression Selected Features\",\n",
    "          fontsize=20,\n",
    "          color=\"white\")\n",
    "plt.grid(c='gray')\n",
    "fig.savefig('../../images/rf_regression_features.png', transparent=False)"
   ]
  },
  {
   "cell_type": "code",
   "execution_count": null,
   "id": "fff0212d-5172-4599-b314-8d048e63aa93",
   "metadata": {},
   "outputs": [],
   "source": []
  },
  {
   "cell_type": "code",
   "execution_count": 94,
   "id": "f8023e5c-0334-44d1-aa05-6f421a4e4b06",
   "metadata": {},
   "outputs": [],
   "source": [
    "train_features, test_features, train_labels, test_labels = train_test_split(features_selected, labels, test_size = 0.25, random_state = 42)"
   ]
  },
  {
   "cell_type": "code",
   "execution_count": 95,
   "id": "f05e38bb-c79c-4e04-8699-2c3eb63279ac",
   "metadata": {},
   "outputs": [
    {
     "data": {
      "text/plain": [
       "RandomForestRegressor(max_depth=50, max_features='sqrt', min_samples_leaf=3,\n",
       "                      min_samples_split=10, n_estimators=600)"
      ]
     },
     "execution_count": 95,
     "metadata": {},
     "output_type": "execute_result"
    }
   ],
   "source": [
    "rf_final.fit(train_features, train_labels)"
   ]
  },
  {
   "cell_type": "code",
   "execution_count": 96,
   "id": "16be78ae-487d-48e9-bb78-b3199b9f0b8d",
   "metadata": {},
   "outputs": [],
   "source": [
    "predictions = rf_final.predict(test_features)"
   ]
  },
  {
   "cell_type": "code",
   "execution_count": 97,
   "id": "f00bb6a4-daac-4e57-9b1b-af20f0b61639",
   "metadata": {},
   "outputs": [
    {
     "data": {
      "text/plain": [
       "array([2.5, 3.5, 3.5, 4. , 2.5, 3.5, 4. , 3.5, 2.5, 3.5, 3.5, 3.5, 3.5,\n",
       "       4. , 2. , 4.5, 4. , 4.5, 3. , 3. , 4. , 3.5, 4. , 4. , 4. , 4.5,\n",
       "       3.5, 2.5, 4. , 4. , 4. , 3. , 3.5, 4. , 3.5, 4. , 3.5, 4. , 3.5,\n",
       "       3.5, 3.5, 4. , 3.5, 4. , 3.5, 3.5, 4.5, 4. , 3. , 2.5, 4. , 4. ,\n",
       "       4.5, 3.5, 4.5, 4. , 2. , 4.5, 3.5, 3. , 4. , 4. , 3. , 4.5, 4. ,\n",
       "       4. , 5. , 1.5, 4.5, 3.5, 4.5, 3.5, 2.5, 2. , 4.5, 3.5, 4. , 4.5,\n",
       "       3. , 4.5, 4.5, 4. , 3. , 2. , 3.5, 4. , 4. , 3.5, 3. , 4. , 3.5,\n",
       "       3.5, 3. , 3.5, 3. , 3. , 3.5, 4. , 2.5, 4. , 4. , 4. , 4. , 4. ,\n",
       "       3.5, 3.5, 4.5, 3.5, 3.5, 3. , 4. , 4. , 4. , 3.5, 3.5, 3.5, 1.5,\n",
       "       4.5, 3. , 3. , 2.5, 4. , 4.5, 3. , 3.5, 4. , 3. , 4.5, 4. , 3.5,\n",
       "       4. , 4. , 3. , 3. , 4.5, 4. , 4. , 2.5, 3. , 4. , 4.5, 3.5, 4. ,\n",
       "       4. , 3. , 3. , 4. , 4.5, 5. , 5. , 3.5, 3. , 4. , 2. , 4. , 3.5,\n",
       "       2.5, 3.5, 3.5, 2.5, 4. , 3. , 3.5, 3.5, 4. , 3. , 3.5, 4. , 3. ,\n",
       "       3.5, 4.5, 2.5, 4. , 4. , 4. , 5. , 4. , 3. , 3.5, 4. , 4. , 4.5,\n",
       "       3. , 3.5, 3.5, 3.5, 4.5, 5. , 5. , 3.5, 5. , 3.5, 3. , 3. , 3.5,\n",
       "       3.5, 3.5, 3.5, 3. , 3. , 3.5, 3.5, 2.5, 4. , 4.5, 3.5, 3.5, 2.5,\n",
       "       4. , 4.5, 4. , 4. , 4. , 4.5, 3.5, 3. , 2. , 3.5, 4.5, 3.5, 4. ,\n",
       "       3.5, 3.5, 3.5, 4.5, 4.5, 3. , 3.5, 3.5, 3.5, 4. , 3. , 4.5, 3. ,\n",
       "       4. , 3.5, 4.5, 4. , 5. , 3.5, 3.5, 4. ])"
      ]
     },
     "execution_count": 97,
     "metadata": {},
     "output_type": "execute_result"
    }
   ],
   "source": [
    "test_labels"
   ]
  },
  {
   "cell_type": "code",
   "execution_count": 98,
   "id": "89d0ed9a-aa40-4522-95b6-e6e83ffec1b8",
   "metadata": {},
   "outputs": [
    {
     "data": {
      "text/plain": [
       "array([3.9667442 , 3.7383986 , 3.91975774, 3.96376741, 3.71890627,\n",
       "       3.78537061, 3.6702205 , 3.86051403, 3.65647385, 3.83291355,\n",
       "       3.47800079, 3.69406102, 3.70754592, 3.73319545, 3.62045482,\n",
       "       3.87304713, 3.58084111, 3.74616016, 3.72626898, 3.72562273,\n",
       "       3.83804929, 3.76534358, 3.7113087 , 3.9060388 , 3.67334163,\n",
       "       3.74882785, 3.66502238, 3.89435102, 3.79056213, 3.69771336,\n",
       "       3.75661954, 3.47643973, 3.76196438, 3.6186084 , 3.84064189,\n",
       "       3.84007316, 3.58326924, 3.54942876, 3.6929215 , 3.65697922,\n",
       "       3.75983722, 3.88383693, 3.63796645, 3.63631095, 3.60638806,\n",
       "       3.72201666, 3.8681716 , 3.51103451, 3.88090358, 3.7424928 ,\n",
       "       3.83987277, 3.88786776, 3.74034626, 3.67964591, 3.71026083,\n",
       "       3.43961231, 3.67988544, 3.77587671, 3.64649565, 3.74959198,\n",
       "       3.80629966, 3.7007606 , 3.75945508, 3.71232412, 3.69319245,\n",
       "       3.70677857, 3.9611992 , 3.56546416, 3.80376334, 3.89650295,\n",
       "       3.60897166, 3.61588102, 3.67827994, 3.64398505, 3.72196803,\n",
       "       3.79778738, 3.56033057, 3.90102307, 3.67210261, 3.82928447,\n",
       "       3.66002752, 3.70218276, 3.80534772, 3.82827862, 3.72741456,\n",
       "       3.69678199, 3.7206561 , 3.75774019, 3.53538322, 3.62953475,\n",
       "       3.64023479, 3.83161988, 3.73065639, 3.74619802, 3.64538693,\n",
       "       3.918608  , 3.58302592, 3.77614042, 3.73297631, 3.87856562,\n",
       "       3.35994534, 3.76014612, 3.60126829, 3.7262492 , 3.6252916 ,\n",
       "       3.79263037, 3.64994271, 3.63402972, 3.71509925, 3.82558517,\n",
       "       3.70729974, 3.55029698, 3.80113989, 3.76065332, 3.81273655,\n",
       "       3.94042867, 3.89472018, 3.76665216, 3.64354189, 3.70472835,\n",
       "       3.69216768, 3.53251784, 3.65688745, 3.74349287, 3.8128174 ,\n",
       "       3.79629487, 3.7838102 , 3.47709921, 3.67728594, 3.70626372,\n",
       "       3.60963132, 3.7673798 , 3.72765239, 3.78538656, 3.64260305,\n",
       "       3.73659126, 3.82510258, 3.67244677, 3.64783559, 3.79951506,\n",
       "       3.66060034, 3.87894998, 3.77038464, 3.63003418, 3.86750714,\n",
       "       3.60771851, 3.7829007 , 3.73186776, 3.51247557, 3.81866194,\n",
       "       3.78045622, 3.54677452, 3.62474172, 3.67731649, 3.4860255 ,\n",
       "       3.77448742, 3.92031651, 3.61380536, 3.58131365, 3.53997371,\n",
       "       3.7857199 , 3.7744485 , 3.76605528, 3.76007414, 3.8598106 ,\n",
       "       3.91550294, 3.78260561, 3.70657301, 3.65005381, 3.59507794,\n",
       "       4.07400704, 3.66787108, 3.81674031, 3.9147999 , 3.9670696 ,\n",
       "       3.77971544, 3.70346577, 3.6366417 , 3.61362165, 3.76372332,\n",
       "       3.59672007, 3.79991868, 3.76850905, 3.7906309 , 3.73282327,\n",
       "       3.79228663, 3.70074928, 3.82696147, 3.75768654, 3.77286168,\n",
       "       3.77848703, 3.78665275, 3.71150464, 3.44079839, 3.36214333,\n",
       "       3.72748651, 3.78954102, 3.83285467, 3.66596184, 3.52330746,\n",
       "       3.49929964, 3.69130795, 3.48468894, 3.91945188, 3.60874741,\n",
       "       3.6363445 , 3.81596561, 3.66213594, 3.81979059, 3.93771432,\n",
       "       3.55119262, 3.58754631, 3.82487286, 3.85409964, 3.68352548,\n",
       "       3.61273849, 3.81902402, 3.61112608, 3.76738424, 3.64996231,\n",
       "       3.77583654, 3.72258486, 3.72827603, 3.75049382, 3.84875901,\n",
       "       3.71213198, 3.83690162, 3.71293767, 3.69121255, 3.65911063,\n",
       "       3.73698134, 3.65938962, 3.72881768, 3.7160579 , 3.55244518,\n",
       "       3.67816004, 3.98100617, 3.72784049, 3.80554741, 3.74224134,\n",
       "       3.56251034, 3.73086854])"
      ]
     },
     "execution_count": 98,
     "metadata": {},
     "output_type": "execute_result"
    }
   ],
   "source": [
    "predictions"
   ]
  },
  {
   "cell_type": "code",
   "execution_count": 99,
   "id": "59ded143-618c-47ba-92e4-ab6c258834e5",
   "metadata": {},
   "outputs": [
    {
     "data": {
      "image/png": "[encoded data removed]",
      "text/plain": [
       "<Figure size 720x720 with 1 Axes>"
      ]
     },
     "metadata": {},
     "output_type": "display_data"
    }
   ],
   "source": [
    "fig = plt.figure(figsize=(10,10))\n",
    "ax = fig.add_subplot(111)\n",
    "ax.scatter(test_labels, predictions,  color='white', alpha=0.3, s=100)\n",
    "m, b = np.polyfit(test_labels, predictions, 1)\n",
    "ax.plot(test_labels, m*test_labels+b, color='red', linewidth=3, label=\"Prediction regression line\")\n",
    "ax.legend()\n",
    "ax.plot(test_labels, test_labels, color='green', linewidth=3, label=\"Optimal regression line\")\n",
    "ax.legend()\n",
    "plt.xlabel(\"Actual\")\n",
    "plt.ylabel(\"Prediction\")\n",
    "\n",
    "ax.xaxis.label.set_color('white')\n",
    "ax.yaxis.label.set_color('white')\n",
    "\n",
    "ax.tick_params(axis='x', colors='white')\n",
    "ax.tick_params(axis='y', colors='white')\n",
    "\n",
    "ax.spines['left'].set_color('white')\n",
    "ax.spines['top'].set_color('white')\n",
    "ax.spines['right'].set_color('white')\n",
    "ax.spines['bottom'].set_color('white')\n",
    "\n",
    "ax.set_facecolor((0.1, 0.1, 0.1))\n",
    "fig.patch.set_facecolor((0.1, 0.1, 0.1))\n",
    "plt.title(label=\"Random Forest Regression (Prediction vs Actual)\",\n",
    "          fontsize=20,\n",
    "          color=\"white\")\n",
    "plt.grid(c='gray')\n",
    "plt.savefig('../../images/random_forest_regression.png', transparent=False)"
   ]
  },
  {
   "cell_type": "code",
   "execution_count": null,
   "id": "a50c1c17-b052-4499-bddc-4840d0b1b669",
   "metadata": {},
   "outputs": [],
   "source": []
  },
  {
   "cell_type": "code",
   "execution_count": null,
   "id": "8134f6be-035b-46ad-9955-ac89c424d600",
   "metadata": {},
   "outputs": [],
   "source": []
  },
  {
   "cell_type": "code",
   "execution_count": null,
   "id": "1a65d8f0-ba24-47a3-90a7-c9877c811135",
   "metadata": {},
   "outputs": [],
   "source": []
  },
  {
   "cell_type": "code",
   "execution_count": null,
   "id": "3169f7b6-d5af-4f13-aac2-1f6bce58ca78",
   "metadata": {},
   "outputs": [],
   "source": []
  }
 ],
 "metadata": {
  "kernelspec": {
   "display_name": "Python 3 (ipykernel)",
   "language": "python",
   "name": "python3"
  },
  "language_info": {
   "codemirror_mode": {
    "name": "ipython",
    "version": 3
   },
   "file_extension": ".py",
   "mimetype": "text/x-python",
   "name": "python",
   "nbconvert_exporter": "python",
   "pygments_lexer": "ipython3",
   "version": "3.9.7"
  }
 },
 "nbformat": 4,
 "nbformat_minor": 5
}
